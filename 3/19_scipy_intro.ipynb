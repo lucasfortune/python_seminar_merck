{
 "cells": [
  {
   "cell_type": "markdown",
   "id": "788b111a-a092-474c-94a9-50deaf437c5a",
   "metadata": {},
   "source": [
    "# Python Basics 19\n",
    "## SciPy - Introduction\n",
    "***\n",
    "This notebook covers:\n",
    "- What is SciPy?\n",
    "- Integration with SciPy\n",
    "- Interpolation with SciPy\n",
    "***\n",
    "\n",
    "## Introduction\n",
    "\n",
    "`scipy` (for *Scientific Python*) is a Python library based on `numpy` that provides extended functions for scientific calculations. It offers efficient tools for optimization, linear algebra, integration, interpolation and other areas of technical and scientific data processing.<br>\n",
    "\n",
    "The main advantage of `scipy` is the collection of optimized algorithms that are often used in scientific cases. These are not only fast, but also well-tested and reliable.<br>\n",
    "\n",
    "## 1 Integration with SciPy\n",
    "\n",
    "The numerical integration is one of the core functions of SciPy. The module `scipy.integrate` offers various methods to calculate certain integrals:<br>\n",
    "\n",
    "```python\n",
    "# Import necessary modules\n",
    "from scipy import integrate\n",
    "import numpy as np\n",
    "\n",
    "# Defining an integration function\n",
    "def f(x):\n",
    "    return np.sin(x)**2\n",
    "\n",
    "# Calculating integral of 0 to pi\n",
    "result, error = integrate.quad(f, 0, np.pi)\n",
    "\n",
    "print(f\"Integral of sin²(x) of 0 to π = {result:.6f}\")\n",
    "print(f\"Estimated error: {error:.2e}\")\n",
    "```\n",
    "\n",
    "The function `quad` is the standard method for one-dimensional integration. It outputs the result as well as the error estimation. <br>\n",
    "\n",
    "#### 1.1 Excercise:\n",
    "> (a) Calculate the integral of the function f(x) = x * e^(-x) in the interval [0, ∞). <br>\n",
    ">\n",
    "> Note: Use `quad` with `np.inf` as upper boundary. <br>\n",
    ">\n",
    "> (b) Compare the numeric result with the analytical value (= 1)."
   ]
  },
  {
   "cell_type": "code",
   "execution_count": null,
   "id": "ed6dacdb-43ef-4ce2-85c5-5c48a524081a",
   "metadata": {},
   "outputs": [],
   "source": [
    "# Your Solution:\n",
    "\n",
    "\n",
    "\n"
   ]
  },
  {
   "cell_type": "markdown",
   "id": "410cfc66-c47b-4ee4-af93-ab67906e9fb7",
   "metadata": {},
   "source": [
    "#### Solution::"
   ]
  },
  {
   "cell_type": "code",
   "execution_count": null,
   "id": "836541f7-4d64-4133-92e1-42ef344fb5fd",
   "metadata": {},
   "outputs": [
    {
     "name": "stdout",
     "output_type": "stream",
     "text": [
      "Numerisches Ergebnis: 1.0000000000\n",
      "Absoluter Fehler zum analytischen Wert: 2.22e-16\n"
     ]
    }
   ],
   "source": [
    "from scipy import integrate\n",
    "import numpy as np\n",
    "\n",
    "# Defining the function\n",
    "def f(x):\n",
    "    return x * np.exp(-x)\n",
    "\n",
    "# Calculation of the integral\n",
    "result, error = integrate.quad(f, 0, np.inf)\n",
    "\n",
    "print(f\"Numeric result: {result:.10f}\")\n",
    "print(f\"Absolute error of the analytical value: {abs(1 - result):.2e}\")"
   ]
  },
  {
   "cell_type": "markdown",
   "id": "0752aa6f-1673-4161-a324-334e6f7c1f90",
   "metadata": {},
   "source": [
    "## 2 Interpolation with SciPy\n",
    "\n",
    "Interpolation is the process of estimating new data points between known data points. SciPy offers various interpolation methods in the `scipy.interpolate` module:\n",
    "\n",
    "```python\n",
    "from scipy import interpolate\n",
    "import numpy as np\n",
    "\n",
    "# Example data\n",
    "x = np.array([0, 1, 2, 3, 4, 5])\n",
    "y = np.array([0, 2, 4, 2, 1, 3])\n",
    "\n",
    "# Create a linear interpolation function\n",
    "f_linear = interpolate.interp1d(x, y)\n",
    "\n",
    "# Create a cubic interpolation function\n",
    "f_cubic = interpolate.interp1d(x, y, kind='cubic')\n",
    "\n",
    "# New x-values for interpolation\n",
    "x_new = np.linspace(0, 5, 100)\n",
    "\n",
    "# Calculate the interpolated values\n",
    "y_linear = f_linear(x_new)\n",
    "y_cubic = f_cubic(x_new)\n",
    "```\n",
    "\n",
    "#### 2.1 Tasks:\n",
    "\n",
    "> (a) Create a function that samples the sine function at the points x = 0, π/2, π, 3π/2, 2π.\n",
    ">\n",
    "> (b) Compare the linear and cubic interpolation of these points with the actual sine function.\n",
    ">\n",
    "> (c) Compute the maximum absolute error for both interpolation methods.\n"
   ]
  },
  {
   "cell_type": "code",
   "execution_count": null,
   "id": "8c37e75b-d2f8-4772-8d3f-be0f8a3f7b9d",
   "metadata": {},
   "outputs": [],
   "source": [
    "# Your Solution:\n",
    "\n",
    "\n",
    "\n"
   ]
  },
  {
   "cell_type": "markdown",
   "id": "c1622413-4e3a-45f9-af45-51b52312c096",
   "metadata": {},
   "source": [
    "#### Solution::"
   ]
  },
  {
   "cell_type": "code",
   "execution_count": null,
   "id": "0f51122c-391e-4333-89ad-aad33ac64b90",
   "metadata": {},
   "outputs": [
    {
     "name": "stdout",
     "output_type": "stream",
     "text": [
      "Maximaler Fehler (linear): 0.210509\n",
      "Maximaler Fehler (kubisch): 0.180722\n"
     ]
    }
   ],
   "source": [
    "import numpy as np\n",
    "from scipy import interpolate\n",
    "import matplotlib.pyplot as plt\n",
    "\n",
    "# Sampling points\n",
    "x_sample = np.array([0, np.pi/2, np.pi, 3*np.pi/2, 2*np.pi])\n",
    "y_sample = np.sin(x_sample)\n",
    "\n",
    "# Interpolation functions\n",
    "f_linear = interpolate.interp1d(x_sample, y_sample)\n",
    "f_cube = interpolate.interp1d(x_sample, y_sample, kind='cubic')\n",
    "\n",
    "# Fine-grained\n",
    "x_fine = np.linspace(0, 2*np.pi, 200)\n",
    "y_true = np.sin(x_fine)\n",
    "y_linear = f_linear(x_fine)\n",
    "y_cube = f_cube(x_fine)\n",
    "\n",
    "# Error calculation\n",
    "max_error_linear = np.max(np.abs(y_true - y_linear))\n",
    "max_error_cube= np.max(np.abs(y_true - y_cube))\n",
    "\n",
    "print(f\"Max Error (linear): {max_error_linear:.6f}\")\n",
    "print(f\"Max Error (kcubeubisch): {max_error_cube:.6f}\")"
   ]
  },
  {
   "cell_type": "markdown",
   "id": "79eb27e8-2446-4d8a-81be-184af554efa6",
   "metadata": {},
   "source": [
    "## Conclusion:\n",
    "\n",
    "SciPy is an indispensable tool for scientific computing in Python. Its main advantages are:\n",
    "\n",
    "* Efficient and accurate numerical algorithms\n",
    "* Wide range of mathematical functions\n",
    "* Good integration with NumPy and other scientific Python libraries\n",
    "* Extensive documentation and active community\n",
    "\n",
    "In the upcoming exercises, we will explore more functions of SciPy and apply them in practical use cases.\n"
   ]
  }
 ],
 "metadata": {
  "kernelspec": {
   "display_name": "Python 3 (ipykernel)",
   "language": "python",
   "name": "python3"
  },
  "language_info": {
   "codemirror_mode": {
    "name": "ipython",
    "version": 3
   },
   "file_extension": ".py",
   "mimetype": "text/x-python",
   "name": "python",
   "nbconvert_exporter": "python",
   "pygments_lexer": "ipython3",
   "version": "3.11.13"
  }
 },
 "nbformat": 4,
 "nbformat_minor": 5
}
