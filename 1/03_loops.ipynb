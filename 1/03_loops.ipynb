{
 "cells": [
  {
   "cell_type": "markdown",
   "id": "fb9adb4e-6536-4761-80e5-a54b5d98b0f0",
   "metadata": {},
   "source": [
    "# Python Basics 3\n",
    "## Loops\n",
    "***\n",
    "This notebook covers:\n",
    "- What types of loops exist?\n",
    "- How to use them correctly?\n",
    "***\n",
    "When creating an algorithm, it often happens that we need to repeat the same lines of code multiple times. For this, we use **loops**, which execute a series of operations as many times as necessary. <br>\n",
    "In Python, there are two types of loops: ```for``` and ```while``` loops."
   ]
  },
  {
   "cell_type": "markdown",
   "id": "fda29c67-ff87-4360-913f-290bca6d4b93",
   "metadata": {},
   "source": [
    "## 1 The while-Loop\n",
    "The ```while```-loop allows you to repeat a block of code as long as a certain condition is met. <br>\n",
    "Example: <br>\n",
    "To determine the index of the word ```\"found\"``` in a list of words, you can iterate through all indices of the list until you find the ```\"found\"``` string:\n",
    "```python\n",
    "# The word list in which we want to search for \"found\"\n",
    "sentence = ['The', 'while', 'loop', 'browses', 'all', 'the',\n",
    "            'elements', 'from', 'the', 'list', \"until\", 'it',\n",
    "            'has', 'found', 'what', 'it', 'seeks', '.']\n",
    "\n",
    "# The variable i stores the starting index\n",
    "i = 0\n",
    "\n",
    "# As long as the word at the current index is not \"found\"\n",
    "while sentence[i] != \"found\":\n",
    "    # We increase i by 1 to go to the next index\n",
    "    i += 1\n",
    "\n",
    "# The loop stops when we have found the right word\n",
    "print(\"The word 'found' is at index\", i)\n",
    ">>> The word 'found' is at index 13\n",
    "```\n",
    "The general structure of a ```while```-loop looks like this:\n",
    "```python\n",
    "while condition == True:\n",
    "    statement1\n",
    "    ...\n",
    "    statementN\n",
    "\n",
    "statement_after_loop\n",
    "```\n",
    "At each **iteration** of the ```while```-loop, the condition is checked. If the condition is true, the statement block is executed, otherwise the loop ends. <br>\n",
    "Lines outside the statement block do not belong to the loop and are only executed when the loop has ended. <br>\n",
    "If the condition is false from the beginning, the statement block is never executed. <br>\n",
    "If, on the other hand, the condition is always true, the statement block is executed infinitely. It is therefore important to ensure that the loop ends at some point."
   ]
  },
  {
   "cell_type": "markdown",
   "id": "a96e91ab-d965-44ab-b5b8-7e17ab8226d3",
   "metadata": {},
   "source": [
    "#### 1.1 Exercises:\n",
    "> (a) Initialize a variable ```i``` with the value ```1```. <br>\n",
    "> (b) Use ```i``` to print the first 10 natural numbers with a ```while```-loop.\n",
    "<div class=\"alert alert-block alert-success\">\n",
    "If you accidentally start an infinitely running loop, you must interrupt the Python kernel of your notebook. <br>\n",
    "Click on \"Kernel\" at the top of the page and then on \"Interrupt Kernel\"\n",
    "</div>"
   ]
  },
  {
   "cell_type": "code",
   "execution_count": 1,
   "id": "a8abc460-c98a-4d61-8a62-74597b633c4c",
   "metadata": {},
   "outputs": [],
   "source": [
    "# Your solution:\n",
    "\n",
    "    \n",
    "    \n"
   ]
  },
  {
   "cell_type": "markdown",
   "id": "71ab23ba-f29e-414e-831b-f95e19e16f2e",
   "metadata": {},
   "source": [
    "> (c) We have a list with the recorded times of athletes in a 100m sprint. The list is arranged in ascending order. Use a ```while```-loop to find out how many sprinters ran the 100m in under 10 seconds."
   ]
  },
  {
   "cell_type": "code",
   "execution_count": 2,
   "id": "28f1d207-3205-47ec-a8aa-c21529d213ca",
   "metadata": {},
   "outputs": [],
   "source": [
    "results = [9.81, 9.89, 9.91, 9.93, 9.94, 9.95, 9.96, 9.97, 9.98, 10.03, 10.04, 10.05, 10.06, 10.08, 10.11, 10.23]\n",
    "# Your solution:\n",
    "\n",
    "\n",
    "\n"
   ]
  },
  {
   "cell_type": "markdown",
   "id": "d78a4938-382a-4c64-b399-7664969ee3b3",
   "metadata": {},
   "source": [
    "#### Solution:"
   ]
  },
  {
   "cell_type": "code",
   "execution_count": 3,
   "id": "4858876a-9d3c-4bed-b5fa-1de9c3894039",
   "metadata": {},
   "outputs": [
    {
     "name": "stdout",
     "output_type": "stream",
     "text": [
      "1\n",
      "2\n",
      "3\n",
      "4\n",
      "5\n",
      "6\n",
      "7\n",
      "8\n",
      "9\n",
      "10\n",
      "9 sprinters ran the 100m in under 10 seconds.\n"
     ]
    }
   ],
   "source": [
    "# (a)\n",
    "i = 1\n",
    "# (b)\n",
    "# as long as (while) i is less than or equal to 10:\n",
    "while i <= 10:\n",
    "    # we print i \n",
    "    print(i)\n",
    "    # then we increase i by 1:\n",
    "    i += 1\n",
    "\n",
    "# (c)\n",
    "results = [9.81, 9.89, 9.91, 9.93, 9.94, 9.95, 9.96, 9.97, 9.98, 10.03, 10.04, 10.05, 10.06, 10.08, 10.11, 10.23]\n",
    "\n",
    "# The variable n should contain the number of sprinters \n",
    "# who ran the 100m in under 10 seconds.\n",
    "n = 0\n",
    "\n",
    "# The variable i iterates through the indices of the results list\n",
    "i = 0\n",
    "\n",
    "# As long as (while) i is less than the length of the list\n",
    "while i < len(results):\n",
    "    # if the sprinter's result is less than 10:\n",
    "    if results[i] < 10:\n",
    "        # we increase n by 1 \n",
    "        n += 1\n",
    "        \n",
    "    # then we increase i by 1\n",
    "    i += 1\n",
    "\n",
    "print(n, \"sprinters ran the 100m in under 10 seconds.\")"
   ]
  },
  {
   "cell_type": "markdown",
   "id": "6daed1bc-e9c5-445e-922d-ba3f94acd7b2",
   "metadata": {},
   "source": [
    "## 2 The for-Loop\n",
    "\n",
    "The ```for```-loop allows you to repeat a statement block in a controlled manner. With a ```while```-loop, it's often unclear how many times it will be executed. <br>\n",
    "The ```for```-loop, on the other hand, is very explicit about the variable that is changed on each iteration. Additionally, the number of loop iterations is always finite. <br>\n",
    "For example, we can use a ```for```-loop to display the letters in the word \"loop\" one after another:\n",
    "```python\n",
    "for letter in \"loop\":\n",
    "    print(letter)\n",
    ">>> l\n",
    ">>> o\n",
    ">>> o\n",
    ">>> p\n",
    "```\n",
    "The syntax of a ```for```-loop looks like this:\n",
    "```python\n",
    "for element in sequence:\n",
    "    statement1\n",
    "    ...\n",
    "    statementN\n",
    "    \n",
    "further_statement\n",
    "```\n",
    "The ```for```-loop executes the statement block for each ```element``` in the ```sequence```. <br>\n",
    "As with the ```while```-loop, lines outside the statement block do not belong to the loop and are only executed when the loop has ended. <br>\n",
    "The execution follows this order:\n",
    "\n",
    "- The variable ```element``` takes the value of the first element of the ```sequence```\n",
    "- The statement block is executed\n",
    "- The variable ```element``` takes the value of the second element of the ```sequence```\n",
    "- The statement block is executed\n",
    "- ...\n",
    "- The variable ```element``` takes the value of the **last** element of the ```sequence```\n",
    "- The statement block is executed and the loop ends\n",
    "- The ```further_statement``` is executed\n",
    "\n",
    "The ```sequence``` object can be any type of indexable object, such as a ```list```, a ```tuple```, a ```string```, etc. <br>\n",
    "In the ```for```-loop, you don't need to change the ```element``` variable yourself, Python takes care of it automatically. However, make sure you don't forget the keywords ```in``` and ```:``` as they are essential."
   ]
  },
  {
   "cell_type": "markdown",
   "id": "2f3bade0-d637-4e21-960e-8ecc5318bfef",
   "metadata": {},
   "source": [
    "#### 2.1 Exercises:\n",
    "> A teacher graded his students too strictly and wants to raise their grades so that the class average is above 10/20. <br>\n",
    "> The students' grades were stored in the following list:\n",
    "```python\n",
    "bad_grades = [0, 2, 3, 3, 3, 3, 4, 5, 5, 5, 6, 6, 6, 6, 6, 7, 7, 8, 8, 8, 8, 8, 8, 9, 10, 10, 10, 11, 12, 14]\n",
    "```\n",
    "> Use ```for```-loops to: <br>\n",
    "> (a) Calculate and print the class average. There are 30 students in the class. <br>\n",
    "> (b) Create a list ```good_grades``` in which the grades are increased by 4 points. Create an empty list for this and add the grades individually with the ```append``` method. <br>\n",
    "> (c) Check if the new average is above 10."
   ]
  },
  {
   "cell_type": "code",
   "execution_count": 4,
   "id": "cfdde8d3-bc84-490c-884c-100758ecf4d1",
   "metadata": {},
   "outputs": [],
   "source": [
    "bad_grades = [0, 2, 3, 3, 3, 3, 4, 5, 5, 5, 6, 6, 6, 6, 6, 7, 7, 8, 8, 8, 8, 8, 8, 9, 10, 10, 10, 11, 12, 14]\n",
    "# Your solution\n",
    "\n",
    "\n"
   ]
  },
  {
   "cell_type": "markdown",
   "id": "0499a1d3-97d4-49cb-bfd9-bd73430a4eea",
   "metadata": {},
   "source": [
    "> (d) Find the maximum and minimum of the list ```l = [2, 3, 8, 1, 4]``` with a ```for```-loop."
   ]
  },
  {
   "cell_type": "code",
   "execution_count": 5,
   "id": "6ffd9f83-de58-4019-bf51-9ed902b1350a",
   "metadata": {},
   "outputs": [],
   "source": [
    "# Your solution:\n",
    "\n",
    "\n"
   ]
  },
  {
   "cell_type": "markdown",
   "id": "b6fab697-c192-4c22-82b6-c728a51995b3",
   "metadata": {},
   "source": [
    "> Usually, using a loop means going through all elements of a data structure. This is where the ```break``` keyword comes into play, which allows you to terminate a loop and continue with the next statement. <br>\n",
    "> It can be used for ```for```- and ```while```-loops, for example, when a certain condition is checked, as shown in the following example:\n",
    "```python\n",
    "i=0\n",
    "while(i<15):\n",
    "    print(i)\n",
    "    if i==1:\n",
    "        break # As soon as the variable i reaches 1, we interrupt the loop\n",
    "    i+=1\n",
    "```\n",
    "> (e) Create the list ```l``` with the following elements: ```[2, 3, 4, 5, 6, 4]``` and print the text ```\"The number 4 is present\"``` as soon as the number 4 is detected. This text may only appear once in the output. Use a ```for```-loop and the ```break``` keyword for this."
   ]
  },
  {
   "cell_type": "code",
   "execution_count": 6,
   "id": "193f4cba-5ae1-4d53-b9e2-d0c05f0e21b2",
   "metadata": {},
   "outputs": [],
   "source": [
    "# Your solution:\n",
    "\n",
    "\n",
    "\n"
   ]
  },
  {
   "cell_type": "markdown",
   "id": "ad301c9f-3d67-4a8f-a15c-877b3b99d2d6",
   "metadata": {
    "jp-MarkdownHeadingCollapsed": true
   },
   "source": [
    "#### Solution:"
   ]
  },
  {
   "cell_type": "code",
   "execution_count": 7,
   "id": "7e136064-879f-4ab1-b5a0-b8b577647a40",
   "metadata": {},
   "outputs": [
    {
     "name": "stdout",
     "output_type": "stream",
     "text": [
      "Original average: 6.7\n"
     ]
    }
   ],
   "source": [
    "bad_grades = [0, 2, 3, 3, 3, 3, 4, 5, 5, 5, 6, 6, 6, 6, 6, 7, 7, 8, 8, 8, 8, 8, 8, 9, 10, 10, 10, 11, 12, 14]\n",
    "# (a)\n",
    "total = 0\n",
    "for grade in bad_grades:\n",
    "    total = total + grade\n",
    "average = total / 30\n",
    "print(\"Original average:\", average)"
   ]
  },
  {
   "cell_type": "code",
   "execution_count": 8,
   "id": "9d80e02e-be34-404b-b72b-7378e23e8277",
   "metadata": {},
   "outputs": [
    {
     "name": "stdout",
     "output_type": "stream",
     "text": [
      "[4, 6, 7, 7, 7, 7, 8, 9, 9, 9, 10, 10, 10, 10, 10, 11, 11, 12, 12, 12, 12, 12, 12, 13, 14, 14, 14, 15, 16, 18]\n"
     ]
    }
   ],
   "source": [
    "# (b)\n",
    "good_grades = []\n",
    "\n",
    "for grade in bad_grades:\n",
    "    good_grade = grade + 4 \n",
    "    good_grades.append(good_grade)\n",
    "    \n",
    "print(good_grades)"
   ]
  },
  {
   "cell_type": "code",
   "execution_count": 9,
   "id": "23ea0690-5e13-4602-9bea-5a9661f5f800",
   "metadata": {},
   "outputs": [
    {
     "name": "stdout",
     "output_type": "stream",
     "text": [
      "New average: 10.7\n"
     ]
    }
   ],
   "source": [
    "# (c)\n",
    "total = 0\n",
    "for grade in good_grades:\n",
    "    total += grade\n",
    "new_average = total / 30\n",
    "print(\"New average:\", new_average)"
   ]
  },
  {
   "cell_type": "code",
   "execution_count": 10,
   "id": "8c77b90b-38a7-45af-9154-2f12acc7992a",
   "metadata": {},
   "outputs": [
    {
     "name": "stdout",
     "output_type": "stream",
     "text": [
      "Maximum of the list: 8\n",
      "Minimum of the list: 1\n"
     ]
    }
   ],
   "source": [
    "# (d)\n",
    "l = [2, 3, 8, 1, 4]\n",
    "\n",
    "maximum = l[0]\n",
    "minimum = l[0]\n",
    "\n",
    "for i in l:\n",
    "    if i > maximum:\n",
    "        maximum = i\n",
    "    if i < minimum:\n",
    "        minimum = i\n",
    "print(\"Maximum of the list:\", maximum)\n",
    "print(\"Minimum of the list:\", minimum)"
   ]
  },
  {
   "cell_type": "markdown",
   "id": "99acd00c-1ad3-47f8-81eb-0cbdec61604a",
   "metadata": {},
   "source": [
    "> You could also use the ```min``` or ```max``` functions:\n",
    "```python\n",
    "l = [2, 3, 8, 1, 4]\n",
    "print(\"Maximum of the list:\", max(l))\n",
    ">>> 8\n",
    "print(\"Minimum of the list:\", min(l))\n",
    ">>> 1\n",
    "```"
   ]
  },
  {
   "cell_type": "code",
   "execution_count": 11,
   "id": "e7b228bc-10b8-44ad-ade3-58141eee9477",
   "metadata": {},
   "outputs": [
    {
     "name": "stdout",
     "output_type": "stream",
     "text": [
      "The number 4 is present\n"
     ]
    }
   ],
   "source": [
    "# (e) \n",
    "l = [2, 3, 4, 5, 6, 4]\n",
    "for i in l:\n",
    "    if i==4:\n",
    "        print(\"The number 4 is present\") \n",
    "        break"
   ]
  },
  {
   "cell_type": "markdown",
   "id": "782155ee-85cc-4a5b-9c65-85e231fcff7e",
   "metadata": {},
   "source": [
    "### for- or while-loop, which one should I use?\n",
    "Both ```for```-loops and ```while```-loops are used to repeat a block of code multiple times. Most of the time, both loops can be used for the same task, but depending on the type of iteration, they are best suited for different scenarios:\n",
    "- Use a ```for```-loop when you are iterating over a sequence or when you know the number of iterations.\n",
    "- Use a ```while```-loop when the number of iterations is unknown and depends on fulfilling a condition."
   ]
  },
  {
   "cell_type": "markdown",
   "id": "cd9a79cf-1e8c-4e26-9604-2b7a39380266",
   "metadata": {},
   "source": [
    "#### Exercises:\n",
    "> Solve both exercises with either a ```for```- or a ```while```-loop: <br>\n",
    "> (a) How many numbers in the list ```numbers = [24, 44, 46, 47, 66, 68, 74, 90, 94, 98]``` are divisible by 7? <br>\n",
    "> (b) Find the two smallest numbers that are greater than 0 and divisible by 2 and 3. <br>\n",
    "> **Tip**: A number ```x``` is divisible by a number ```y``` if ```x % y == 0```"
   ]
  },
  {
   "cell_type": "code",
   "execution_count": 12,
   "id": "c3d530c3-b830-455c-babb-e9704dbc3b7a",
   "metadata": {},
   "outputs": [],
   "source": [
    "# Your solution:\n",
    "\n",
    "\n",
    "\n"
   ]
  },
  {
   "cell_type": "markdown",
   "id": "137f27b5-17b0-4a66-b7ce-2f405ca699c1",
   "metadata": {},
   "source": [
    "#### Solution:"
   ]
  },
  {
   "cell_type": "code",
   "execution_count": 13,
   "id": "164ba8fb-4349-4189-8429-8f737f4b80bc",
   "metadata": {},
   "outputs": [
    {
     "name": "stdout",
     "output_type": "stream",
     "text": [
      "1\n",
      "1\n",
      "[6, 12]\n",
      "[6, 12]\n"
     ]
    }
   ],
   "source": [
    "# (a) with for-loop\n",
    "numbers = [24, 44, 46, 47, 66, 68, 74, 90, 94, 98]\n",
    "count = 0\n",
    "\n",
    "for number in numbers:\n",
    "    if number % 7 == 0:\n",
    "        count = count + 1\n",
    "\n",
    "print(count)\n",
    "\n",
    "# (a) with while-loop\n",
    "numbers = [24, 44, 46, 47, 66, 68, 74, 90, 94, 98]\n",
    "count = 0\n",
    "i = 0\n",
    "\n",
    "while i < len(numbers):\n",
    "    if numbers[i] % 7 == 0:\n",
    "        count = count + 1\n",
    "    i = i + 1\n",
    "\n",
    "print(count)\n",
    "\n",
    "\n",
    "# (b) with for-loop\n",
    "# The range must be chosen large enough so that the first two numbers can be found.\n",
    "range_of_numbers = [1, 2, 3, 4, 5, 6, 7, 8, 9, 10, 11, 12, 13, 14, 15, 16, 17, 18, 19, 20]\n",
    "numbers = []\n",
    "for i in range_of_numbers:  \n",
    "    if i % 2 == 0 and i % 3 == 0:\n",
    "        numbers.append(i)\n",
    "    if len(numbers) == 2:\n",
    "        break\n",
    "\n",
    "print(numbers)\n",
    "\n",
    "# (b) with while-loop\n",
    "numbers = []\n",
    "i = 1\n",
    "\n",
    "while len(numbers) < 2:\n",
    "    if i % 2 == 0 and i % 3 == 0:\n",
    "        numbers.append(i)\n",
    "    i = i + 1\n",
    "\n",
    "print(numbers)\n",
    "\n",
    "# Both methods work. \n",
    "# For (a) the for-loop seems a bit more intuitive and for (b) the while-loop"
   ]
  },
  {
   "cell_type": "markdown",
   "id": "1f28bacf-2efb-4e72-ab4a-1caeb95f43f2",
   "metadata": {},
   "source": [
    "## 3 The range Function\n",
    "The ```range``` function is often used with ```for```-loops:\n",
    "\n",
    "- It takes as arguments a **start**, an **end**, and a **step** value.\n",
    "- It returns a **sequence** of numbers from the start value to the end value (the start value is included, but the end value is excluded), where the step value determines the increment between two consecutive numbers.\n",
    "\n",
    "<img src=\"../imgs/Range.png\" style=\"height:200px\">\n",
    "By default, the start is 0 and the step is 1.\n",
    "This means:\n",
    "\n",
    "- range(5) returns the sequence of integers from 0 to 4\n",
    "- range(1, 10) returns the sequence of integers from 1 to 9\n",
    "- range(1, 10, 3) returns the sequence 1, 4, 7\n",
    "- range(10, -1, -1) returns the sequence of integers from 10 to 0. The sequence starts at 10 (start), ends at 0 (end) and goes from 10 to 0 (the step is negative)"
   ]
  },
  {
   "cell_type": "markdown",
   "id": "d18e09ad-9f12-4c97-966e-06d6bd018cd8",
   "metadata": {},
   "source": [
    "#### 3.1 Exercises:\n",
    "> (a) Calculate the sum of:\n",
    "> - all numbers between 1 and (including) 100\n",
    "> - all even numbers between 1 and (including) 100 <br>\n",
    "> with a ```for```-loop!"
   ]
  },
  {
   "cell_type": "code",
   "execution_count": null,
   "id": "5f53f806-889e-43fe-99b5-606d15e8078c",
   "metadata": {},
   "outputs": [],
   "source": [
    "# Your solution:\n",
    "\n",
    "\n",
    "\n"
   ]
  },
  {
   "cell_type": "markdown",
   "id": "61fa46fd-debc-464a-86aa-3d3f081fc0a5",
   "metadata": {},
   "source": [
    "> (b) The area of a field is 2000 square meters. Each year its area doubles. Calculate the area of the field after 10 years with a ```for```-loop."
   ]
  },
  {
   "cell_type": "code",
   "execution_count": 15,
   "id": "d9cd3d7d-a37b-4857-82eb-db7701b62675",
   "metadata": {},
   "outputs": [],
   "source": [
    "# Your solution:\n",
    "\n",
    "\n",
    "\n"
   ]
  },
  {
   "cell_type": "markdown",
   "id": "fcab4a54-521f-4613-af7c-71cfde7297c2",
   "metadata": {},
   "source": [
    "> (c) Answer exercise (b) again, but this time with a ```while```-loop."
   ]
  },
  {
   "cell_type": "code",
   "execution_count": 16,
   "id": "711fe42b-fcc2-4263-ac0c-dfe05c83ee12",
   "metadata": {},
   "outputs": [],
   "source": [
    "# Your solution:\n",
    "\n",
    "\n",
    "\n"
   ]
  },
  {
   "cell_type": "markdown",
   "id": "592e8c00-db64-430a-a8de-bc8d5aa84210",
   "metadata": {},
   "source": [
    "> The Fibonacci sequence is a sequence of integers where each term is the sum of the two preceding terms. <br>\n",
    "> To calculate the terms of the Fibonacci sequence, the first two terms are fixed: <br>\n",
    "$$\n",
    "\\begin{align}\n",
    "u_0 = 0 \\\\\n",
    "u_1 = 1\n",
    "\\end{align}\n",
    "$$\n",
    "> For $i \\geq 2$, the terms $u_i$ are calculated with the following formula:<br>\n",
    "> $$ u_i = u_{i-1} + u_{i-2}$$\n",
    ">\n",
    "> (d) Calculate and store the **first 100 terms** of the Fibonacci sequence in the list ```u``` using a ```for```-loop and the ```range``` function."
   ]
  },
  {
   "cell_type": "code",
   "execution_count": 17,
   "id": "0a2d777b-a155-49cc-9dbc-0b3154ff7821",
   "metadata": {},
   "outputs": [],
   "source": [
    "# The first two terms of the Fibonacci sequence:\n",
    "u = [0, 1]\n",
    "# Your solution:\n",
    "\n",
    "\n",
    "\n"
   ]
  },
  {
   "cell_type": "markdown",
   "id": "db830fc2-2d12-42e5-a85a-a1efa23822c4",
   "metadata": {},
   "source": [
    "> (e) Write a program that reverses the order of the word ```\"cargo\"``` using a ```for```-loop and the ```range``` function with the help of list indexing."
   ]
  },
  {
   "cell_type": "code",
   "execution_count": 18,
   "id": "b9c507d2-8663-4f88-ade1-5a3e023dc44b",
   "metadata": {},
   "outputs": [],
   "source": [
    "# Your solution:\n",
    "\n",
    "\n"
   ]
  },
  {
   "cell_type": "markdown",
   "id": "b386cc45-83de-4a17-ab6f-86d04c8b38e3",
   "metadata": {},
   "source": [
    "#### Solutions:"
   ]
  },
  {
   "cell_type": "code",
   "execution_count": 19,
   "id": "24c3608a-6877-4a81-907d-35b4d29de334",
   "metadata": {},
   "outputs": [
    {
     "name": "stdout",
     "output_type": "stream",
     "text": [
      "The sum of all numbers between 1 and 100 is: 5050\n",
      "The sum of all even numbers between 1 and 100 is: 2550\n"
     ]
    }
   ],
   "source": [
    "# (a)\n",
    "# Sum of all numbers\n",
    "sum_all = 0\n",
    "for i in range(1, 101):  # Start at 1, up to 100\n",
    "    sum_all = sum_all + i\n",
    "print(\"The sum of all numbers between 1 and 100 is:\", sum_all)\n",
    "\n",
    "# Sum of even numbers\n",
    "sum_even = 0\n",
    "for i in range(2, 101, 2):  # Start at 2, up to 100, in steps of 2\n",
    "    sum_even = sum_even + i\n",
    "print(\"The sum of all even numbers between 1 and 100 is:\", sum_even)\n",
    "\n",
    "# Alternative without for-loop:\n",
    "sum_all = sum(range(1, 101))\n",
    "sum_even = sum(range(2, 101, 2))"
   ]
  },
  {
   "cell_type": "code",
   "execution_count": 20,
   "id": "8baeb79e-a883-49ec-a97e-c1189777c99b",
   "metadata": {},
   "outputs": [
    {
     "name": "stdout",
     "output_type": "stream",
     "text": [
      "2048000\n"
     ]
    }
   ],
   "source": [
    "# (b)\n",
    "area = 2000\n",
    "for year in range(0, 10):\n",
    "    area = area * 2\n",
    "print(area)"
   ]
  },
  {
   "cell_type": "code",
   "execution_count": 21,
   "id": "6aed1119-a9d0-4d6f-a783-307f586de8af",
   "metadata": {},
   "outputs": [
    {
     "name": "stdout",
     "output_type": "stream",
     "text": [
      "2048000\n",
      "The reversed word is: ograc\n"
     ]
    }
   ],
   "source": [
    "# (c)\n",
    "year = 0\n",
    "area = 2000\n",
    "while(year != 10):\n",
    "    year += 1\n",
    "    area = area * 2\n",
    "print(area)\n",
    "\n",
    "# (d)\n",
    "# The first two terms of the Fibonacci sequence\n",
    "u = [0, 1]\n",
    "\n",
    "# For i from 2 to 100\n",
    "for i in range(2, 100): \n",
    "    # We calculate u_i with u[i-1] and u[i-2]\n",
    "    u_i = u[i-1] + u[i-2]\n",
    "    \n",
    "    # We add u_i to the end of list u\n",
    "    u.append(u_i)\n",
    "\n",
    "# (e)\n",
    "word = \"cargo\"\n",
    "reversed_word = \"\"\n",
    "for letter in range(len(word)-1, -1, -1):\n",
    "    reversed_word += word[letter]\n",
    "print(\"The reversed word is:\", reversed_word)"
   ]
  },
  {
   "cell_type": "markdown",
   "id": "c7467409-00e0-46f3-8a9b-53791b173129",
   "metadata": {},
   "source": [
    "A simpler option is to use **slicing** to reverse the order of a word with the expression ```[::-1]```.\n",
    "\n",
    "- The first ```:``` indicates that the slicing includes all elements from beginning to end.\n",
    "- The second : indicates the same, namely that the slice will consist of all elements of the index from beginning to end.\n",
    "- The number -1 specifies the step value and means that the list is traversed from end to beginning (in reverse direction).\n",
    "```python\n",
    "word = 'cargo'\n",
    "print(word[::-1])\n",
    ">>> ograc\n",
    "```"
   ]
  },
  {
   "cell_type": "markdown",
   "id": "47a2b77a-91a7-4c8b-b634-17a14bcbcdad",
   "metadata": {},
   "source": [
    "## 4 Nested Loops\n",
    "Loops can be nested within each other. For example, with a list of lists, you can iterate through all their elements with two nested loops. <br>\n",
    "The syntax looks like this:\n",
    "```python\n",
    "# For each list in the list of lists\n",
    "for list_item in list_of_lists:\n",
    "    # For each element in the list\n",
    "    for element in list_item:\n",
    "        ...\n",
    "        ...\n",
    "```\n",
    "**Each statement block must be very carefully indented.** As with ```if``` statements, indentation delimits the beginning and end of code blocks."
   ]
  },
  {
   "cell_type": "markdown",
   "id": "288374c0-ee60-4796-a76c-c1719e1c669a",
   "metadata": {},
   "source": [
    "#### 4.1 Exercises:\n",
    "> a) Calculate how often the letter 'e' appears in the following text. For this you can:\n",
    "> \n",
    "> - Use a loop to iterate through each word in the text\n",
    "> - Use another loop to iterate through each letter in the word and count how often the letter 'e' appears"
   ]
  },
  {
   "cell_type": "code",
   "execution_count": 22,
   "id": "f4d0d8a6-f4de-48fd-8910-f0561828cf2a",
   "metadata": {},
   "outputs": [],
   "source": [
    "text = ['The', '21', 'World', 'Cup', 'tournaments', 'have', 'been', 'won', 'by', 'eight',\n",
    "        'national', 'teams.', 'Brazil', 'have', 'won', 'five', 'times', ',', 'and',\n",
    "        'they', 'are', 'the', 'only', 'team', 'to', 'have', 'played', 'in', 'every',\n",
    "        'tournament', '.', 'The', 'other', 'World', 'Cup', 'winners', 'are', 'Germany',\n",
    "        'and', 'Italy', ',', 'with', 'four', 'titles', 'each', ';', 'Argentina', ',',\n",
    "        'France', ',', 'and', 'inaugural', 'winner', 'Uruguay,', 'with', 'two', 'titles',\n",
    "        'each', ';and', 'England', 'and', 'Spain', ',', 'with', 'one', 'title', 'each', '.']\n",
    "\n",
    "# Your solution:\n",
    "\n",
    "\n",
    "\n"
   ]
  },
  {
   "cell_type": "markdown",
   "id": "a6e480cf-2f5f-4d46-aae7-0f759153d5dc",
   "metadata": {},
   "source": [
    "> (b) Count how often the letter 'i' appears in the list with the following elements: ```['iconoclastic cargo', 'unbelievable imagination']```. Use nested ```for```-loops and list indexing for strings."
   ]
  },
  {
   "cell_type": "code",
   "execution_count": 23,
   "id": "b2a3a473-8cb5-4060-8edc-a0b55aab7f19",
   "metadata": {},
   "outputs": [],
   "source": [
    "# Your solution:\n",
    "\n",
    "\n",
    "\n"
   ]
  },
  {
   "cell_type": "markdown",
   "id": "aaa72bd2-ac98-4cac-8510-a800d1856120",
   "metadata": {},
   "source": [
    "#### Solutions:"
   ]
  },
  {
   "cell_type": "code",
   "execution_count": 24,
   "id": "b7d97848-9109-4c01-95af-603fc5d515d6",
   "metadata": {},
   "outputs": [
    {
     "name": "stdout",
     "output_type": "stream",
     "text": [
      "The letter 'e' appears 34 times in the text.\n",
      "The letter 'i' appears 6 times\n"
     ]
    }
   ],
   "source": [
    "# (a)\n",
    "text = ['The', '21', 'World', 'Cup', 'tournaments', 'have', 'been', 'won', 'by', 'eight',\n",
    "        'national', 'teams.', 'Brazil', 'have', 'won', 'five', 'times', ',', 'and',\n",
    "        'they', 'are', 'the', 'only', 'team', 'to', 'have', 'played', 'in', 'every',\n",
    "        'tournament', '.', 'The', 'other', 'World', 'Cup', 'winners', 'are', 'Germany',\n",
    "        'and', 'Italy', ',', 'with', 'four', 'titles', 'each', ';', 'Argentina', ',',\n",
    "        'France', ',', 'and', 'inaugural', 'winner', 'Uruguay,', 'with', 'two', 'titles',\n",
    "        'each', ';and', 'England', 'and', 'Spain', ',', 'with', 'one', 'title', 'each', '.']\n",
    "\n",
    "# We store the number of 'e' in the variable n\n",
    "n = 0\n",
    "\n",
    "# For each word in the text\n",
    "for word in text:\n",
    "    # For each letter in the word\n",
    "    for letter in word:\n",
    "        # If the letter is an 'e'\n",
    "        if letter == 'e':\n",
    "            # We increase n by 1\n",
    "            n += 1\n",
    "\n",
    "print(\"The letter 'e' appears\", n, \"times in the text.\")\n",
    "\n",
    "#(b)\n",
    "a = ['iconoclastic cargo', 'unbelievable imagination']\n",
    "count = 0\n",
    "\n",
    "for expression in a:\n",
    "    for letter in range(0, len(expression)):\n",
    "        if expression[letter] == 'i':\n",
    "            count += 1\n",
    "\n",
    "print(\"The letter 'i' appears\", count, \"times\")"
   ]
  },
  {
   "cell_type": "markdown",
   "id": "0ac80ce4-4590-40e3-878d-d77bed8a34b0",
   "metadata": {},
   "source": [
    "## 5 List Comprehension\n",
    "List comprehension is an extremely interesting concept in Python that serves the central goal of code simplification and productivity enhancement. <br>\n",
    "Using the syntax of the ```for```-loop, it allows a very **compact and elegant definition of a list** of values.<br>\n",
    "Let's say we want to store the first 10 square numbers in a list. For this we could create an empty list as before and use a ```for```-loop:\n",
    "```python\n",
    "my_list = []\n",
    "\n",
    "# For i from 0 to 9\n",
    "for i in range(10):\n",
    "    my_list.append(i**2)\n",
    "```\n",
    "Python allows us to shorten this syntax thanks to list comprehension:\n",
    "```python\n",
    "my_list = [i**2 for i in range(10)]\n",
    "```\n",
    "These two ways of writing are **absolutely equivalent**. <br>\n",
    "In an earlier exercise, we wanted to increase all grades by 4 points. With list comprehension we could have simply written:\n",
    "```python\n",
    "good_grades = [grade + 4 for grade in bad_grades]\n",
    "```\n"
   ]
  },
  {
   "cell_type": "markdown",
   "id": "433061a8-2192-427e-b85f-c821ea8000fa",
   "metadata": {},
   "source": [
    "#### 5.1 Exercises:\n",
    "> (a) Store the first 10 powers of 3 in a list called ```powers_three```."
   ]
  },
  {
   "cell_type": "code",
   "execution_count": 25,
   "id": "6ba0f2fc-53d2-4942-bd76-bdfe77446e02",
   "metadata": {},
   "outputs": [],
   "source": [
    "# Your solution:\n",
    "\n",
    "\n",
    "\n"
   ]
  },
  {
   "cell_type": "markdown",
   "id": "711f8730-bfd9-4d32-8305-fbfd669390f8",
   "metadata": {},
   "source": [
    "> (b) A list ```numbers_list``` is given. Create a new list called ```double_list``` that contains double each element from ```numbers_list```.<br>\n",
    "> (c) Create from ```numbers_list``` a list called ```even_list``` that indicates ```\"even\"``` for each number in ```numbers_list``` if the number is even, and ```\"odd\"``` if not. The parity can be tested with the modulo operator %. <br>\n",
    "> As a reminder, the syntax for **conditional assignments**:\n",
    ">```python\n",
    "># A student must repeat if their grade average is below 10\n",
    ">repeating = True if average < 10 else False\n",
    ">```\n"
   ]
  },
  {
   "cell_type": "code",
   "execution_count": 26,
   "id": "668a7d11-f1cb-43ba-8541-2f62de4820e9",
   "metadata": {},
   "outputs": [],
   "source": [
    "numbers_list = [10, 12, 7, 3, 26, 2, 19]\n",
    "# Your solution:\n",
    "\n",
    "\n",
    "\n"
   ]
  },
  {
   "cell_type": "markdown",
   "id": "ebbd9c5e-fe8f-4087-86ef-092dc209e256",
   "metadata": {},
   "source": [
    "> (d) Extract with a ```list comprehension``` from a list of words a sublist with palindromes, i.e., words that can be read the same forwards and backwards (example: racecar, noon). The word list consists of: ```\"level\", \"hello\", \"noon\", \"summer\", \"deed\"```."
   ]
  },
  {
   "cell_type": "code",
   "execution_count": 27,
   "id": "627fa0cf-502d-4f1a-84a2-08b6ca34e671",
   "metadata": {},
   "outputs": [],
   "source": [
    "# Your solution:\n",
    "\n",
    "\n",
    "\n"
   ]
  },
  {
   "cell_type": "markdown",
   "id": "327863a7-f3e6-4812-9fcf-036e2fecd2fe",
   "metadata": {},
   "source": [
    "#### Solutions:"
   ]
  },
  {
   "cell_type": "code",
   "execution_count": 28,
   "id": "b648b92b-9d5d-40bc-b392-cf899e5ee76a",
   "metadata": {},
   "outputs": [
    {
     "name": "stdout",
     "output_type": "stream",
     "text": [
      "['even', 'even', 'odd', 'odd', 'even', 'even', 'odd']\n",
      "Palindromes: ['level', 'noon', 'deed']\n"
     ]
    }
   ],
   "source": [
    "# (a)\n",
    "powers_three = [3**k for k in range(10)]\n",
    "\n",
    "# (b)\n",
    "numbers_list = [10, 12, 7, 3, 26, 2, 19]\n",
    "double_list = [number * 2 for number in numbers_list]\n",
    "\n",
    "# (c)\n",
    "numbers_list = [10, 12, 7, 3, 26, 2, 19]\n",
    "even_list = [\"even\" if number % 2 == 0 else \"odd\" for number in numbers_list]\n",
    "print(even_list)\n",
    "\n",
    "# (d) \n",
    "l = [\"level\", \"hello\", \"noon\", \"summer\", \"deed\"]\n",
    "palindromes = [word for word in l if word == word[::-1]]\n",
    "print(\"Palindromes:\", palindromes)"
   ]
  },
  {
   "cell_type": "markdown",
   "id": "1241208d-8f9c-42d9-b9ec-862d8287a063",
   "metadata": {},
   "source": [
    "## 6 The enumerate Function\n",
    "Sometimes it's useful to access the index of an element in a sequence. For this we can use the ```enumerate``` function in the for-loop:\n",
    "```python\n",
    "for index, element in enumerate(sequence):\n",
    "    ...\n",
    "    ...\n",
    "```\n",
    "For example, if we want to display the different positions of the word ```\"the\"``` in a text:\n",
    "```python\n",
    "text = [\"the\", \"word\", \"the\", \"is\", \"the\", \"word\", \"of\", \"which\", \"we\", \"search\", \"the\", \"position\"]\n",
    "\n",
    "# For each word in the text\n",
    "for position, word in enumerate(text):\n",
    "    # If the word is \"the\"\n",
    "    if word == \"the\":\n",
    "        # We display its position\n",
    "        print(position)\n",
    ">>> 0\n",
    ">>> 2\n",
    ">>> 4\n",
    ">>> 10\n",
    "```\n"
   ]
  },
  {
   "cell_type": "markdown",
   "id": "5cf0ba22-4f7f-405e-add4-fd34b51120a5",
   "metadata": {},
   "source": [
    "#### 6.1 Exercises:\n",
    "> (a) Determine the index of the maximum of the list ```L``` using the ```enumerate``` function. To find this maximum, you simply need to store the largest element seen so far during iteration through the list. <br>\n",
    "> (b) Display the index and value of the maximum of the list."
   ]
  },
  {
   "cell_type": "code",
   "execution_count": 29,
   "id": "6ba6b203-5e85-41b4-b7e6-07b578f919a1",
   "metadata": {},
   "outputs": [],
   "source": [
    "L = [22, 65, 75, 93, 64, 47, 91, 53, 86, 53, 88, 17, 94, 39]\n",
    "# Your solution:\n",
    "\n",
    "\n",
    "\n"
   ]
  },
  {
   "cell_type": "markdown",
   "id": "a139f208-9c16-444e-ad66-6af5e7da81b6",
   "metadata": {
    "jp-MarkdownHeadingCollapsed": true
   },
   "source": [
    "#### Solution:"
   ]
  },
  {
   "cell_type": "code",
   "execution_count": 30,
   "id": "9686ecdc-01c3-42e1-9f56-b58dcc8f3996",
   "metadata": {},
   "outputs": [
    {
     "name": "stdout",
     "output_type": "stream",
     "text": [
      "The maximum of the list is at index 12\n"
     ]
    }
   ],
   "source": [
    "L = [22, 65, 75, 93, 64, 47, 91, 53, 86, 53, 88, 17, 94, 39]\n",
    "\n",
    "maximum = 0\n",
    "max_index = 0\n",
    "\n",
    "# For each element in list L\n",
    "for index, element in enumerate(L):\n",
    "    # If the element is greater than those seen so far\n",
    "    if element > maximum:\n",
    "        # We overwrite the maximum with its value\n",
    "        maximum = element\n",
    "        max_index = index\n",
    "\n",
    "print(\"The maximum of the list is at index\", max_index)"
   ]
  },
  {
   "cell_type": "markdown",
   "id": "f13570f7-9385-4248-a5cb-333f07e2313f",
   "metadata": {},
   "source": [
    "## 7 The zip Function\n",
    "The zip function allows you to iterate through multiple sequences of the same length simultaneously in a single for-loop. <br>\n",
    "The syntax looks like this:\n",
    "```python\n",
    "# At each iteration we take one element from the first and one element from the second sequence\n",
    "for element1, element2 in zip(sequence1, sequence2):\n",
    "    ...\n",
    "    ...\n",
    "```\n",
    "This syntax can be extended to any number of sequences."
   ]
  },
  {
   "cell_type": "markdown",
   "id": "f3145e6a-d1a8-42c4-a95d-307787d85510",
   "metadata": {},
   "source": [
    "#### 7.1 Exercises:\n",
    "> We have 2 lists that contain the income and expenses of people for one month respectively. The people have the same index in both lists. <br>\n",
    "> (a) Create a list of savings that people made in this month by calculating the difference between income and expenses for each person."
   ]
  },
  {
   "cell_type": "code",
   "execution_count": 31,
   "id": "d5929be5-b761-4c8f-b4d0-17b84976b37a",
   "metadata": {},
   "outputs": [],
   "source": [
    "income = [1200, 2000, 1500, 0, 1000, 4500, 1200, 500, 1350, 2200, 1650, 1300, 2300]\n",
    "expenses = [1000, 1700, 2000, 700, 1200, 3500, 200, 500, 1000, 3500, 1350, 1050, 1850]\n",
    "# Your solution:\n",
    "\n",
    "\n",
    "\n"
   ]
  },
  {
   "cell_type": "markdown",
   "id": "c05bebfa-0979-494e-b315-5389794f6de7",
   "metadata": {
    "jp-MarkdownHeadingCollapsed": true
   },
   "source": [
    "#### Solution:"
   ]
  },
  {
   "cell_type": "code",
   "execution_count": 32,
   "id": "f21b576c-559a-461b-a34b-c69cf739882d",
   "metadata": {},
   "outputs": [
    {
     "name": "stdout",
     "output_type": "stream",
     "text": [
      "[200, 300, -500, -700, -200, 1000, 1000, 0, 350, -1300, 300, 250, 450]\n"
     ]
    }
   ],
   "source": [
    "income = [1200, 2000, 1500, 0, 1000, 4500, 1200, 500, 1350, 2200, 1650, 1300, 2300]\n",
    "expenses = [1000, 1700, 2000, 700, 1200, 3500, 200, 500, 1000, 3500, 1350, 1050, 1850]\n",
    "\n",
    "savings = []\n",
    "\n",
    "for income_value, expense in zip(income, expenses):\n",
    "    saving = income_value - expense\n",
    "    savings.append(saving)\n",
    "    \n",
    "print(savings)"
   ]
  },
  {
   "cell_type": "markdown",
   "id": "720d9ff4-76e7-402b-aa1c-cd5f2735c780",
   "metadata": {},
   "source": [
    "## Summary and Review\n",
    "***\n",
    "Loops are essential programming tools. They allow you to repeat instructions in a controlled manner. <br>\n",
    "In this tutorial you learned how to:\n",
    "\n",
    "- Define a ```while```-loop that executes as long as its condition is met\n",
    "- Define a ```for```-loop with which you can iterate through sequences\n",
    "- Use the ```range``` function to iterate through lists of integers\n",
    "- Use the ```break``` keyword to terminate a loop under a certain condition\n",
    "- Use slicing ```::-1``` to reverse the order of a sequence\n",
    "- Use the ```enumerate``` function to iterate through both the **indices** and **values** of a sequence\n",
    "- Use the ```zip``` function to iterate through multiple lists in a single ```for```-loop"
   ]
  }
 ],
 "metadata": {
  "kernelspec": {
   "display_name": "Python 3 (ipykernel)",
   "language": "python",
   "name": "python3"
  },
  "language_info": {
   "codemirror_mode": {
    "name": "ipython",
    "version": 3
   },
   "file_extension": ".py",
   "mimetype": "text/x-python",
   "name": "python",
   "nbconvert_exporter": "python",
   "pygments_lexer": "ipython3",
   "version": "3.11.13"
  }
 },
 "nbformat": 4,
 "nbformat_minor": 5
}
