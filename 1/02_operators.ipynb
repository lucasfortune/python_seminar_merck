{
 "cells": [
  {
   "cell_type": "markdown",
   "id": "77c7f108-bf00-46b8-9aba-ca5cb6e827eb",
   "metadata": {},
   "source": [
    "# Python Basics 2\n",
    "## Operators and Conditions\n",
    "***\n",
    "This notebook covers:\n",
    "- What are operators and which ones exist?\n",
    "- What are control structures or conditions and how do you use them?\n",
    "***"
   ]
  },
  {
   "cell_type": "markdown",
   "id": "70709553-0f65-488d-991a-0930d118d9de",
   "metadata": {},
   "source": [
    "## Introduction\n",
    "As we briefly saw in the last lesson, operators like ```+``` or ```=``` are used to perform operations with variables and their values. These operators belong to the large family of Python operators. In this lesson, we will learn how to work with the following categories of operators:\n",
    "\n",
    "\n",
    "- Arithmetic operators\n",
    "- Assignment operators\n",
    "- Comparison operators\n",
    "- Membership operators\n",
    "- Logical operators\n",
    "\n",
    "\n",
    "Subsequently, we will see how to use these operators to control code execution with the statements ```if```, ```else``` and ```elif```. <br>\n"
   ]
  },
  {
   "cell_type": "markdown",
   "id": "d3da0d4a-b24d-4b31-8f0c-8cca449e2909",
   "metadata": {},
   "source": [
    "## 1 Operators\n",
    "***\n",
    "### 1.1 Arithmetic Operators\n",
    "The **arithmetic operators** that we can apply to **numeric** variables are:\n",
    "\n",
    "| Symbol | Operation | Example |\n",
    "|:----:|:------------:|:-----------------------|\n",
    "| `+` | Addition | `6+4` gives `10` |\n",
    "| `-` | Subtraction | `6-4` gives `2` |\n",
    "| `*` | Multiplication | `6*4` gives `24` |\n",
    "| `/` | Real division | `6/4` gives `1.5` |\n",
    "| `//` | Integer division | `6.0//4` gives `1` |\n",
    "| `**` | Exponentiation | `6**4` gives `1296` |\n",
    "| `%` | Modulo | `6%4` gives `2` |\n",
    "\n",
    "Integer division ```//``` indicates how many times the number on the right side fits completely into the number on the left side. For example, ```7//2``` equals ```3```, because ```2``` fits into ```7``` three times. <br>\n",
    "The **modulo** operator % calculates the remainder of integer division between 2 numbers. For example, ```7%2``` equals ```1```, because ```7``` is divisible by ```2``` three times with ```1``` remaining. <br>\n",
    "The **%** operator is used to determine whether a number is even or odd. If a number ```n``` is even, then ```n%2``` equals ```0```. If ```n``` is odd, then ```n%2``` equals ```1```."
   ]
  },
  {
   "cell_type": "markdown",
   "id": "8954ad84-0c0c-4886-a1b0-17ab9e4239f9",
   "metadata": {},
   "source": [
    "#### 1.1.1 Exercise:\n",
    "> (a) Create the variable ```distance``` and assign it the value ```750``` (distance between Paris and Marseille in km). <br>\n",
    "> (b) Create the variable ```speed``` and assign it the value ```4.8``` (average speed of a pedestrian in km/h). <br>\n",
    "> (c) Create a new variable ```time``` that contains the value of ```distance``` divided by ```speed```. The variable ```time``` should give us the time in hours that a pedestrian would need to walk from Paris to Marseille without a break. <br>\n",
    "> (d) How many days and hours would it take to walk from Paris to Marseille without a break? Give the answer in the form ```\"It would take __ days and __ hours to walk from Paris to Marseille.\"```"
   ]
  },
  {
   "cell_type": "code",
   "execution_count": 1,
   "id": "6ded465d-11e8-47f9-8da4-ab27bff76654",
   "metadata": {},
   "outputs": [],
   "source": [
    "# Your solution:\n",
    "\n"
   ]
  },
  {
   "cell_type": "markdown",
   "id": "9d897117-ad7f-43ec-a5af-6a9445d0ea5b",
   "metadata": {
    "jp-MarkdownHeadingCollapsed": true
   },
   "source": [
    "#### Solution:"
   ]
  },
  {
   "cell_type": "code",
   "execution_count": 2,
   "id": "4d3579dc-3713-4dbd-a604-c6c93fbba4e1",
   "metadata": {},
   "outputs": [
    {
     "name": "stdout",
     "output_type": "stream",
     "text": [
      "It would take 6 days and 12 hours to walk from Paris to Marseille.\n"
     ]
    }
   ],
   "source": [
    "# (a)\n",
    "distance = 750\n",
    "\n",
    "# (b)\n",
    "speed = 4.8\n",
    "\n",
    "# (c)\n",
    "time = distance/speed\n",
    "\n",
    "# (d)\n",
    "days = time // 24\n",
    "hours_remaining = time % 24\n",
    "\n",
    "print(\"It would take\", int(days), \"days and\", int(hours_remaining), \"hours to walk from Paris to Marseille.\")"
   ]
  },
  {
   "cell_type": "markdown",
   "id": "029dbbf5-56cc-4dbb-bf8a-43dbd13d0b2b",
   "metadata": {},
   "source": [
    "### 1.2 Assignment Operators\n",
    "For all arithmetic operations, such as addition or multiplication, we can perform the operation and variable assignment simultaneously using operators like ```+=``` or ```*=```.\n",
    "\n",
    "| Symbol | Operation |\n",
    "|:------:|:--------------:|\n",
    "| `+=` | Addition |\n",
    "| `-=` | Subtraction |\n",
    "| `*=` | Multiplication |\n",
    "| `/=` | Real division |\n",
    "| `//=` | Integer division |\n",
    "| `**=` | Exponentiation |\n",
    "| `%=` | Modulo |\n",
    "\n",
    "```x += 3``` is **equivalent** to ```x = x + 3```. Similarly, ```z **= 2``` is the same as ```z = z**2```."
   ]
  },
  {
   "cell_type": "markdown",
   "id": "83a84596-57a0-44a5-b985-b3a8f6021615",
   "metadata": {},
   "source": [
    "#### 1.2.1 Exercise\n",
    "> (a) A magician claims that if you take a prime number that is not 2 or 3, and perform the following operations:\n",
    "> - square this number,\n",
    "> - add 17 to it,\n",
    "> - then divide by 12,\n",
    "> \n",
    "> you always get a remainder of 6. Is he right? <br>"
   ]
  },
  {
   "cell_type": "code",
   "execution_count": 3,
   "id": "6240f5a8-720b-477f-92f6-f91b864a5125",
   "metadata": {},
   "outputs": [],
   "source": [
    "primes = [5, 7, 11, 13, 17, 19, 23, 29, 31, 37]\n",
    "# Your solution:\n",
    "\n",
    "\n",
    "\n"
   ]
  },
  {
   "cell_type": "markdown",
   "id": "496ba83c-f862-439c-be26-769c092a184d",
   "metadata": {
    "jp-MarkdownHeadingCollapsed": true
   },
   "source": [
    "#### Solution:"
   ]
  },
  {
   "cell_type": "code",
   "execution_count": 4,
   "id": "39b374cd-d117-46c8-bd37-a8e233225cf8",
   "metadata": {},
   "outputs": [
    {
     "name": "stdout",
     "output_type": "stream",
     "text": [
      "6\n"
     ]
    }
   ],
   "source": [
    "primes = [5, 7, 11, 13, 17, 19, 23, 29, 31, 37]\n",
    "x = primes[0]\n",
    "\n",
    "# We square x:\n",
    "x **= 2\n",
    "\n",
    "# we add 17 to x\n",
    "x += 17\n",
    "\n",
    "# we divide by 12 and keep the remainder:\n",
    "x %= 12\n",
    "\n",
    "print(x)\n",
    "# The magician is right."
   ]
  },
  {
   "cell_type": "markdown",
   "id": "9bdb7fc4-fbfc-424f-b890-3139de0c3158",
   "metadata": {},
   "source": [
    "### 1.3 Comparison Operators\n",
    "\n",
    "Comparison operators allow us to compare the values of two variables. Comparison operations return the boolean value **`True`** if the expression is true, or **`False`** if it proves to be false. For example:\n",
    "\n",
    "```python\n",
    "x, y = 3, 5\n",
    "\n",
    "# Is x less than y?\n",
    "print(x < y)\n",
    ">>> True\n",
    "```\n",
    "\n",
    "The comparison operators in Python are:\n",
    "\n",
    "| Expression | Example | Meaning |\n",
    "|:---------|:---------|:----------|\n",
    "| `<`      | `x < y`  | Is `x` **less than** `y`? |\n",
    "| `<=`     | `x <= y` | Is `x` **less than or equal to** `y`? |\n",
    "| `>`      | `x > y`  | Is `x` **greater than** `y`? |\n",
    "| `>=`     | `x >= y` | Is `x` **greater than or equal to** `y`? |\n",
    "| `==`     | `x == y` | Is `x` **equal to** `y`? |\n",
    "| `!=`     | `x != y` | Is `x` **not equal to** `y`? |\n",
    "\n",
    "Example:\n",
    " ```python\n",
    " x, y = 3, 5\n",
    "\n",
    " # Is x equal to y?\n",
    " print(x == y)\n",
    " >>> False\n",
    " ```\n",
    "\n",
    "<div class=\"alert alert-block alert-success\">\n",
    " <b>Attention, don't confuse:</b> x == y & x = y. The first operator is used for <b>comparisons</b>, while the second is used for <b>assigning values to variables</b>.\n",
    "</div>"
   ]
  },
  {
   "cell_type": "markdown",
   "id": "af182100-c98a-4271-b9e5-18462e51a0f4",
   "metadata": {},
   "source": [
    "### 1.3.1 Exercise:\n",
    "> (a) Determine in a single line of code with a boolean value whether the number $3^7 + 2^{14}$ is divisible by 7. <br>\n",
    "> (b) Then determine whether the number $3^{2n + 1} + 2^{4n + 2}$ for n = 4, 5 and 10 is divisible by 7."
   ]
  },
  {
   "cell_type": "code",
   "execution_count": 5,
   "id": "9e631354-863c-473d-a3ef-fe1479dec1eb",
   "metadata": {},
   "outputs": [],
   "source": [
    "# Your solution:\n",
    "\n",
    "\n",
    "\n"
   ]
  },
  {
   "cell_type": "markdown",
   "id": "5bd68703-cb3e-4261-b87c-848abe8d8344",
   "metadata": {
    "jp-MarkdownHeadingCollapsed": true
   },
   "source": [
    "#### Solution:"
   ]
  },
  {
   "cell_type": "code",
   "execution_count": 6,
   "id": "ac162302-ab95-482b-88cb-1d7e1d271792",
   "metadata": {},
   "outputs": [
    {
     "name": "stdout",
     "output_type": "stream",
     "text": [
      "True\n",
      "True\n",
      "True\n",
      "True\n"
     ]
    }
   ],
   "source": [
    "# (a)\n",
    "print((3**7 + 2**14) % 7 == 0)\n",
    "\n",
    "# (b)\n",
    "n = 4\n",
    "x = 3**(2*n + 1) + 2**(4*n + 2)\n",
    "print(x % 7 == 0)\n",
    "\n",
    "n = 5\n",
    "x = 3**(2*n + 1) + 2**(4*n + 2)\n",
    "print(x%7 == 0)\n",
    "\n",
    "n = 10\n",
    "x = 3**(2*n + 1) + 2**(4*n + 2)\n",
    "print(x%7 == 0)"
   ]
  },
  {
   "cell_type": "markdown",
   "id": "ff840cc6-8e50-4be1-be1f-7fffeacf1de2",
   "metadata": {},
   "source": [
    "### 1.4 Membership Operators\n",
    "Membership operators are used to check whether a value appears in a sequence, such as a list or tuple, or not. <br>\n",
    "The operator ```in``` determines whether a value appears in a sequence, the operator ```not in``` determines whether a value does not appear:\n",
    "```python\n",
    "a_list = [1, 3, 102, 32, 11, -12, 33]\n",
    "x = 14\n",
    "\n",
    "# Is the value of x one of the values in a_list?\n",
    "print(x in a_list)\n",
    ">>> False\n",
    "\n",
    "# Is the value of x NOT one of the values in a_list?\n",
    "print(x not in a_list)\n",
    ">>> True\n",
    "```\n",
    "The variable ```excerpt``` in the following cell contains an excerpt from the Wikipedia article about the FIFA World Cup as a **list** of words.<br>\n",
    "#### 1.4.1 Exercises:\n",
    "> (a) Run the following cell to initialize the variable ```excerpt```."
   ]
  },
  {
   "cell_type": "code",
   "execution_count": 7,
   "id": "3cc2cb1d-56e4-405f-9367-8523ae7d9eaf",
   "metadata": {},
   "outputs": [],
   "source": [
    "excerpt = ['The', '21', 'World', 'Cup', 'tournaments', 'have', 'been', 'won', 'by', 'eight',\n",
    "           'national', 'teams.', 'Brazil', 'have', 'won', 'five', 'times', ',', 'and',\n",
    "           'they', 'are', 'the', 'only', 'team', 'to', 'have', 'played', 'in', 'every',\n",
    "           'tournament', '.', 'The', 'other', 'World', 'Cup', 'winners', 'are', 'Germany',\n",
    "           'and', 'Italy', ',', 'with', 'four', 'titles', 'each', ';', 'Argentina', ',',\n",
    "           'France', ',', 'and', 'inaugural', 'winner', 'Uruguay,', 'with', 'two', 'titles',\n",
    "           'each', ';and', 'England', 'and', 'Spain', ',', 'with', 'one', 'title', 'each', '.']"
   ]
  },
  {
   "cell_type": "markdown",
   "id": "04457790-ab6b-4d49-a5dd-ce85c7381452",
   "metadata": {},
   "source": [
    "> (b) Determine in a single line of code whether the country Germany (\"Germany\") is mentioned in this excerpt.<br>\n",
    "> (c) Unfortunately, losers are quickly forgotten, even when their performance was historic. Check whether the country Croatia (\"Croatia\") is **not** mentioned in the excerpt."
   ]
  },
  {
   "cell_type": "code",
   "execution_count": 8,
   "id": "c17ce7e3-df4a-4fcf-b964-1ec8b36e9eb6",
   "metadata": {},
   "outputs": [],
   "source": [
    "# Your solution:\n",
    "\n",
    "\n",
    "\n"
   ]
  },
  {
   "cell_type": "markdown",
   "id": "e6d14c5b-bb0c-47d4-acd0-c789ff72812f",
   "metadata": {
    "jp-MarkdownHeadingCollapsed": true
   },
   "source": [
    "#### Solution:"
   ]
  },
  {
   "cell_type": "code",
   "execution_count": 9,
   "id": "96f50a03-c416-4a34-a214-8f9cdf44acf1",
   "metadata": {},
   "outputs": [
    {
     "name": "stdout",
     "output_type": "stream",
     "text": [
      "True\n",
      "True\n"
     ]
    }
   ],
   "source": [
    "# Is Germany mentioned?\n",
    "print(\"Germany\" in excerpt)\n",
    "\n",
    "# Is Croatia NOT mentioned?\n",
    "print(\"Croatia\" not in excerpt)"
   ]
  },
  {
   "cell_type": "markdown",
   "id": "24deda9e-c425-454a-9632-06f60c357dd6",
   "metadata": {},
   "source": [
    "### 1.5 Logical Operators\n",
    "Logical operators allow us to perform boolean arithmetic. Typically, with multiple boolean expressions, logical operators are used to determine whether:\n",
    "- **All** expressions are true.\n",
    "- **At least one** of the expressions is true.\n",
    "\n",
    "```python\n",
    "x, y = 3, 5\n",
    "\n",
    "# Is 3 less than 5? True\n",
    "expression1 = (x < y)\n",
    "\n",
    "# Is 5 divisible by 3? False\n",
    "expression2 = (y % x == 0)\n",
    "\n",
    "# Are both expressions true?\n",
    "print(expression1 and expression2)\n",
    ">>> False\n",
    "\n",
    "# Is at least one of the expressions true?\n",
    "print(expression1 or expression2)\n",
    ">>> True\n",
    "```\n",
    "\n",
    "The operator ```not``` returns the negation of a boolean expression:\n",
    "\n",
    "```python\n",
    "x, y = 3, 5\n",
    "\n",
    "expression = (y % x == 0)\n",
    "\n",
    "# Is y divisible by x?\n",
    "print(expression)\n",
    ">>> False\n",
    "\n",
    "# Is y NOT divisible by x?\n",
    "print(not expression)\n",
    ">>> True\n",
    "```\n",
    "\n",
    "The logical operators are summarized below:\n",
    "\n",
    "Operator | Example  | Meaning\n",
    "---------|-----------|------------\n",
    "and      | P and Q   | Are P and Q both true?\n",
    "or       | P or Q    | Is at least one of the expressions P and Q true?\n",
    "not      | not P     | The negation of expression P\n",
    "\n"
   ]
  },
  {
   "cell_type": "markdown",
   "id": "9ed81442-3eeb-4c9a-952c-08f7143aefa8",
   "metadata": {},
   "source": [
    "#### 1.5.1 Exercises:\n",
    "> The government has decided to grant some civil servants a bonus of €300, depending on salary and years of service. As with all other government measures, it's hard to understand who it applies to. <br>\n",
    "> According to your understanding, a person can receive the bonus if:\n",
    "> - **Criterion 1**: They have been employed for **less** than **5 years** **and** their salary is **under €1500**.\n",
    "> - **Criterion 2**: They have been employed for **between 5 and 10 years** **and** their salary is **between €1500 and €2300**.\n",
    "> - **Criterion 3**: They have been employed for **more than 10 years** **and** their salary is **under €1500 or over €2300**. This means that a person with more than 10 years of service and a salary between €1500 and €2300 cannot receive the bonus. <br>\n",
    "> Sarah has been employed for **12 years** and earns **€2400**. <br>\n",
    "> (a) Check using logical operators whether Sarah can receive the bonus.\n",
    "> - Create two variables for this: ```years_employed``` and ```salary```.\n",
    "> - Additionally create 3 variables that define the criteria based on the two previous variables.\n",
    "\n",
    "<div class=\"alert alert-block alert-success\">\n",
    "<b>Tip: </b>To test whether a value x is between two values a and b, you can either:\n",
    "    <ul>\n",
    "        <li>Make two comparisons in two expressions and use a logical AND: x > a and x < b</li>\n",
    "        <li>Make two comparisons in a single expression: a < x < b</li>\n",
    "    </ul>\n",
    "</div>"
   ]
  },
  {
   "cell_type": "code",
   "execution_count": 10,
   "id": "09d989cb-a90e-407c-85af-75c40a4c87bc",
   "metadata": {},
   "outputs": [],
   "source": [
    "# Your solution\n",
    "\n",
    "\n",
    "\n"
   ]
  },
  {
   "cell_type": "markdown",
   "id": "f9784e77-4508-49c4-a7d0-5b1c72333c39",
   "metadata": {
    "jp-MarkdownHeadingCollapsed": true
   },
   "source": [
    "#### Solution:"
   ]
  },
  {
   "cell_type": "code",
   "execution_count": 11,
   "id": "3a324e6f-6a75-49ea-9371-b7ab8f24e30a",
   "metadata": {},
   "outputs": [
    {
     "name": "stdout",
     "output_type": "stream",
     "text": [
      "Does Sarah get the bonus? True\n"
     ]
    }
   ],
   "source": [
    "# Sarah\n",
    "years_employed = 12\n",
    "salary = 2400\n",
    "\n",
    "# Has Sarah been employed for less than 5 years and earns less than €1500?\n",
    "criterion1 = years_employed < 5 and salary < 1500\n",
    "\n",
    "# Has Sarah been employed for between 5 and 10 years and earns between €1500 and €2300?\n",
    "criterion2 = (5 <= years_employed <= 10) and (1500 <= salary <= 2300)\n",
    "\n",
    "# Has Sarah been employed for more than 10 years and earns less than €1500 or more than €2300?\n",
    "criterion3 = (years_employed > 10) and (1500 > salary or salary > 2300)\n",
    "\n",
    "# Does Sarah get the bonus?\n",
    "print(\"Does Sarah get the bonus?\", criterion1 or criterion2 or criterion3)"
   ]
  },
  {
   "cell_type": "markdown",
   "id": "f65314b3-314d-49ca-adaf-bf1508072e29",
   "metadata": {},
   "source": [
    "## 2 Control Structures: Conditions\n",
    "***\n",
    "Control structures are used to execute a block of statements under certain conditions. The two most important control structures are:\n",
    "- ```if```\n",
    "- ```else```\n",
    "These are frequently used to determine how a program should execute code. <br>\n",
    "If you take the example from the previous exercise and want to automatically transfer the government bonus to eligible civil servants, this should only happen for civil servants who are actually entitled to the bonus. <br>\n",
    "Assuming the variable ```eligible``` is a Boolean variable (i.e., with the value True or False) that tells us whether a civil servant is eligible, and the variable ```balance``` corresponds to the amount of money in their bank account. <br>\n",
    "To add the bonus to the balance of eligible civil servants, we can execute the following code:\n",
    "```python\n",
    "# Is the civil servant eligible for the bonus?\n",
    "if eligible == True:\n",
    "    # If yes, we increase the balance by €300\n",
    "    balance += 300\n",
    "```\n",
    "After numerous complaints, the government also decides to pay a bonus of **€50** to employees who were **not** eligible for the €300 bonus. <br>\n",
    "To credit the sympathy bonus to the accounts of non-eligible civil servants, we add an ```else``` statement to our program. The condition after the ```else``` statement is only executed if ```eligible``` equals ```False```:\n",
    "```python\n",
    "# Is the civil servant eligible for the bonus?\n",
    "if eligible == True:\n",
    "    # If yes, we increase the balance by €300\n",
    "    balance += 300\n",
    "else:\n",
    "    # If not, we increase the balance by only €50\n",
    "    balance += 50\n",
    "```\n",
    "The character ```:``` after an ```if``` or ```else``` statement allows you to start a code block. To determine the beginning and end of a block, the statements that should be executed in a block **must** be **indented** (shifted by one tab or 4 spaces). <br>\n",
    "Another example: <br>\n",
    "An unscrupulous teacher wants to automatically generate student evaluations based on their grade. For this, he can test several conditions sequentially with ```elif``` statements (combination of else and if):\n",
    "```python\n",
    "if grade < 5:\n",
    "    print(\"Very poor work.\")\n",
    "elif grade < 10:\n",
    "    print(\"Could be better.\")\n",
    "elif grade < 15:\n",
    "    print(\"Good work. I encourage you to keep it up.\")\n",
    "else:\n",
    "    print(\"Excellent work. Congratulations.\")\n",
    "```\n"
   ]
  },
  {
   "cell_type": "markdown",
   "id": "351c727a-fae5-441b-9402-cd91147005ef",
   "metadata": {},
   "source": [
    "#### 2.1 Exercises:\n",
    "> (a) Rewrite the following code using only one if statement, one elif statement, and one else statement.\n",
    "```python\n",
    "if number >= 0:\n",
    "    if number == 0:\n",
    "        print(\"This number is 0.\")\n",
    "    else:\n",
    "        print(\"This number is positive.\")\n",
    "else:\n",
    "    print(\"This number is negative.\")\n",
    "```"
   ]
  },
  {
   "cell_type": "code",
   "execution_count": 12,
   "id": "d7ab15d3-5ca7-4db6-90b1-412c5a1dcd9a",
   "metadata": {},
   "outputs": [],
   "source": [
    "number = -2\n",
    "# Your Solution:\n",
    "\n",
    "\n",
    "\n"
   ]
  },
  {
   "cell_type": "markdown",
   "id": "64362d8d-2899-40f5-922c-fd082cbce8c0",
   "metadata": {},
   "source": [
    "> (b) Is the syntax of the following code correct? If not, suggest a correction.\n",
    "\n",
    "```python\n",
    "if size < 160:\n",
    "    print(\"This person is short.\")\n",
    "else if 160 <= size < 180:\n",
    "    print(\"This person is medium height.\")\n",
    "else 180 <= size < 200:\n",
    "    print(\"This person is very tall\")\n",
    "else:\n",
    "    print(\"This person is very, very tall\")\n",
    "```"
   ]
  },
  {
   "cell_type": "code",
   "execution_count": 13,
   "id": "dc664537-425a-4653-88f7-cb13120dc573",
   "metadata": {},
   "outputs": [],
   "source": [
    "size = 205\n",
    "# Your solution:\n",
    "\n",
    "\n",
    "\n"
   ]
  },
  {
   "cell_type": "markdown",
   "id": "51dc453b-a387-441d-b242-cf0d4e0f41c7",
   "metadata": {
    "jp-MarkdownHeadingCollapsed": true
   },
   "source": [
    "#### Solution:"
   ]
  },
  {
   "cell_type": "code",
   "execution_count": 14,
   "id": "1babdfc1-dc1b-45c1-80a2-7af891240763",
   "metadata": {},
   "outputs": [
    {
     "name": "stdout",
     "output_type": "stream",
     "text": [
      "This number is negative.\n",
      "This person is very, very tall\n"
     ]
    }
   ],
   "source": [
    "# (a)\n",
    "number = -2\n",
    "\n",
    "if number == 0:\n",
    "    print(\"This number is 0.\")\n",
    "elif number > 0:\n",
    "    print(\"This number is positive.\")\n",
    "else:\n",
    "    print(\"This number is negative.\")\n",
    "\n",
    "# (b)\n",
    "size = 205\n",
    "\n",
    "if size < 160:\n",
    "    print(\"This person is short.\")\n",
    "elif 160 <= size < 180:\n",
    "    print(\"This person is medium height.\")\n",
    "elif 180 <= size < 200:\n",
    "    print(\"This person is very tall\")\n",
    "else:\n",
    "    print(\"This person is very, very tall\")"
   ]
  },
  {
   "cell_type": "markdown",
   "id": "631f1c57-cdd7-48d9-a135-b27e5841b46b",
   "metadata": {},
   "source": [
    "## Bonus: Conditional Assignments\n",
    "Our teacher now wants to automatically determine whether a student repeats the year or is promoted to the next class. Depending on a student's grade average, the Boolean variable ```repeating``` must take the value ```True``` if the average is below 10, and ```False``` otherwise. <br>\n",
    "As we have already seen, we could use ```if``` and ```else``` statements:\n",
    "```python\n",
    "if average < 10:\n",
    "    repeating = True\n",
    "else:\n",
    "    repeating = False\n",
    "```\n",
    "Python allows us to perform this operation in one line thanks to a compact and elegant syntax:\n",
    "```python\n",
    "repeating = True if average < 10 else False\n",
    "```\n",
    "This notation is **completely equivalent** in its result to the previous one."
   ]
  },
  {
   "cell_type": "markdown",
   "id": "9a2cf69c-b968-4248-a54b-fee84f5e8f20",
   "metadata": {},
   "source": [
    "## Summary and Review\n",
    "***\n",
    "You can use the following **arithmetic operators** for numeric variables:\n",
    "\n",
    "| Symbol | Operation       | Example                |\n",
    "|--------|-----------------|-------------------------|\n",
    "| +      | Addition        | 6 + 4 gives 10         |\n",
    "| -      | Subtraction     | 6 - 4 gives 2          |\n",
    "| *      | Multiplication  | 6 * 4 gives 24         |\n",
    "| /      | Real division   | 6 / 4 gives 1.5        |\n",
    "| //     | Integer division| 6.0 // 4 gives 1       |\n",
    "| **     | Exponentiation  | 6 ** 4 gives 1296      |\n",
    "| %      | Modulo          | 6 % 4 gives 2          |\n",
    "\n",
    "For all arithmetic operations, there is a way to perform the operation and variable assignment simultaneously with the following **assignment operators**:\n",
    "\n",
    "Symbol | Operation\n",
    "-------|---------------\n",
    "+=     | Addition\n",
    "-=     | Subtraction\n",
    "*=     | Multiplication\n",
    "/=     | Real division\n",
    "//=    | Integer division\n",
    "**=    | Exponentiation\n",
    "%=     | Modulo\n",
    "\n",
    "> **Example**: ```x += 10``` is equivalent to ```x = x + 10```\n",
    "\n",
    "**Comparison operators** in Python are:\n",
    "\n",
    "Expression | Example | Meaning\n",
    "---------|----------|------------\n",
    "`<`        | x < y    | Is x less than y?\n",
    "`<=`       | x <= y   | Is x less than or equal to y?\n",
    "`>`         | x > y    | Is x greater than y?\n",
    "`>=`       | x >= y   | Is x greater than or equal to y?\n",
    "`==`       | x == y   | Is x equal to y?\n",
    "`!=`       | x != y   | Is x not equal to y?\n",
    "\n",
    "These operators are mainly used to create **control structures** with the statements ```if```, ```else``` and ```elif```:\n",
    "```python\n",
    "if size < 160:\n",
    "    print(\"This person is short.\")\n",
    "elif 160 <= size < 180:\n",
    "    print(\"This person is medium height.\")\n",
    "elif 180 <= size < 200:\n",
    "    print(\"This person is very tall.\")\n",
    "else:\n",
    "    print(\"This person is very, very tall.\")\n",
    "```\n",
    "\n",
    "**Logical operators** allow us to create more complex conditions:\n",
    "\n",
    "Operator | Example | Meaning\n",
    "---------|----------|------------\n",
    "and      | P and Q  | Are P and Q both true?\n",
    "or       | P or Q   | Is at least one of the expressions P and Q true?\n",
    "not      | not P    | The negation of expression P\n",
    "\n",
    "```python\n",
    "if (years_employed > 10) and (1500 < salary or salary > 2300):\n",
    "    print(\"This person is eligible for the bonus.\")\n",
    "```"
   ]
  }
 ],
 "metadata": {
  "kernelspec": {
   "display_name": "Python 3 (ipykernel)",
   "language": "python",
   "name": "python3"
  },
  "language_info": {
   "codemirror_mode": {
    "name": "ipython",
    "version": 3
   },
   "file_extension": ".py",
   "mimetype": "text/x-python",
   "name": "python",
   "nbconvert_exporter": "python",
   "pygments_lexer": "ipython3",
   "version": "3.11.13"
  }
 },
 "nbformat": 4,
 "nbformat_minor": 5
}
