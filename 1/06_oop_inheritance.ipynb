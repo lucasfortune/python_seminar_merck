{
 "cells": [
  {
   "cell_type": "markdown",
   "id": "36351368",
   "metadata": {},
   "source": [
    "# Python Basics 6\n",
    "## Object-Oriented Programming 02\n",
    "***\n",
    "This notebook covers:\n",
    "- Inheritance\n",
    "- Predefined Classes\n",
    "- Built-in Methods\n",
    "***"
   ]
  },
  {
   "cell_type": "markdown",
   "id": "fc300030",
   "metadata": {},
   "source": [
    "## 1 Inheritance\n",
    "*Inheritance* is used to create a *subclass* from an existing class. We say that this new class *inherits* from the first one, because it will automatically have the same attributes and methods.\n",
    "\n",
    "Furthermore, it is possible to override attributes or methods of the parent class or add new ones that are specific to this subclass.\n",
    "\n",
    "In the first part of this module, we defined the ```Vehicle``` class as follows:\n",
    "```python\n",
    "class Vehicle:\n",
    "    def __init__(self, a, b = []):\n",
    "        self.seats = a\n",
    "        self.passengers = b\n",
    "    def print_passengers(self):\n",
    "        for i in range(len(self.passengers)):\n",
    "            print(self.passengers[i])\n",
    "    def add(self, name):\n",
    "            self.passengers.append(name)\n",
    "```\n",
    "\n",
    "We can define a class ```Motorcycle``` that inherits from the ```Vehicle``` class as follows:\n",
    "\n",
    "```python\n",
    "class Motorcycle(Vehicle):\n",
    "    def __init__(self, b, c):\n",
    "        self.seats = 2\n",
    "        self.passengers = b\n",
    "        self.brand = c\n",
    "```\n",
    "```python\n",
    "motorcycle = Motorcycle(['Maria', 'Julie'], 'Yamaha')\n",
    "```\n",
    "\n",
    "By overriding the ```__init__``` method, each ```Motorcycle``` object automatically gets 2 seats and a new ```brand``` attribute.\n",
    "\n",
    "#### 1.1 Exercises:\n",
    "> (a) Run the following cell to convince yourself."
   ]
  },
  {
   "cell_type": "code",
   "execution_count": null,
   "id": "b8f05526",
   "metadata": {},
   "outputs": [],
   "source": [
    "class Vehicle: # Defining the Vehicle Class\n",
    "    def __init__(self, a, b = []):\n",
    "        self.seats = a       # Number of seats in the vehicle\n",
    "        self.passengers = b  # List of passenger names\n",
    "    \n",
    "    def print_passengers(self): # Displays the names of the passengers\n",
    "        for i in range(len(self.passengers)):\n",
    "            print(self.passengers[i])\n",
    "    \n",
    "    def add(self,name): # Adds a new passenger to the passenger list\n",
    "            self.passengers.append(name)\n",
    "    \n",
    "class Motorcycle(Vehicle):\n",
    "    def __init__(self, b, c):\n",
    "        self.seats = 2      # The number of seats is 2 by default and is not changed by the arguments \n",
    "        self.passengers = b \n",
    "        self.brand = c\n",
    "\n",
    "moto1 = Motorcycle(['Julie','Marie'], 'Yamaha')\n",
    "moto1.add('Charles')\n",
    "moto1.print_passengers()"
   ]
  },
  {
   "cell_type": "markdown",
   "id": "7512c4c0",
   "metadata": {},
   "source": [
    "> (b) Define in the ```Motorcycle``` class an ```add``` method that adds a name passed as an argument to the passenger list while checking if seats are still available. If no more seats are available on the ```Motorcycle```, it should display *The vehicle is full*. If seats are still available, the method should add the name to the list and display the number of remaining seats."
   ]
  },
  {
   "cell_type": "code",
   "execution_count": null,
   "id": "023cd89b",
   "metadata": {},
   "outputs": [],
   "source": [
    "# Your solution:\n",
    "\n",
    "\n",
    "\n"
   ]
  },
  {
   "cell_type": "markdown",
   "id": "cd32426b",
   "metadata": {
    "jp-MarkdownHeadingCollapsed": true
   },
   "source": [
    "#### Solution:"
   ]
  },
  {
   "cell_type": "code",
   "execution_count": null,
   "id": "56fddc8d",
   "metadata": {},
   "outputs": [],
   "source": [
    "class Motorcycle(Vehicle):\n",
    "    def __init__(self, b, c):\n",
    "        self.seats = 2\n",
    "        self.passengers = b\n",
    "        self.brand = c\n",
    "        \n",
    "    def add(self, name):\n",
    "        if(len(self.passengers) <  self.seats):\n",
    "            self.passengers.append(name)\n",
    "            print('There are still', self.seats - len(self.passengers), 'seats available.')\n",
    "        else:\n",
    "            print(\"The vehicle is full.\")"
   ]
  },
  {
   "cell_type": "markdown",
   "id": "5b78f6a6",
   "metadata": {},
   "source": [
    "#### \n",
    "We execute the following statements:\n",
    "```python\n",
    "car2 = Vehicle(3, ['Laura', 'Thomas', 'Ralph'])\n",
    "moto2 = Motorcycle(['George', 'Charles'], 'Honda')\n",
    "car2.add('Benjamin')\n",
    "moto2.add('Diana')\n",
    "```\n",
    "\n",
    "Additionally, we remember that the classes ```Vehicle``` and ```Motorcycle``` are defined as follows:\n",
    "```python\n",
    "class Vehicle:\n",
    "        def __init__(self, a, b = []):\n",
    "            self.seats = a\n",
    "            self.passengers = b\n",
    "            \n",
    "        def print_passengers(self):\n",
    "            for i in range(len(self.passengers)):\n",
    "                print(self.passengers[i])\n",
    " \n",
    "        def add(self, name):\n",
    "            self.passengers.append(name)\n",
    "```\n",
    "\n",
    "```python\n",
    "class Motorcycle(Vehicle):\n",
    "    def __init__(self, b, c):\n",
    "        self.seats = 2\n",
    "        self.passengers = b\n",
    "        self.brand = c\n",
    "        \n",
    "    def add(self, name):\n",
    "        if(len(self.passengers) < self.seats):\n",
    "            self.passengers.append(name)\n",
    "            print('There are still', self.seats - len(self.passengers), 'seats available.')\n",
    "        else:\n",
    "            print(\"The vehicle is full.\")\n",
    "```\n",
    "\n",
    "> What does the method ```moto2.print_passengers()``` display?:\n",
    "> * A: ```George Charles Diana```\n",
    "> * B: ```George Charles```\n",
    "> * C: ```The vehicle is full.```"
   ]
  },
  {
   "cell_type": "code",
   "execution_count": null,
   "id": "f59a4774",
   "metadata": {},
   "outputs": [],
   "source": [
    "# Your solution:\n",
    "\n",
    "\n",
    "\n"
   ]
  },
  {
   "cell_type": "markdown",
   "id": "d37f2b28",
   "metadata": {},
   "source": [
    "#### Solution:"
   ]
  },
  {
   "cell_type": "markdown",
   "id": "7a384289",
   "metadata": {},
   "source": [
    "Answer **A** is correct: ```George Charles Diana```"
   ]
  },
  {
   "cell_type": "markdown",
   "id": "11e4a17c",
   "metadata": {},
   "source": [
    "#### \n",
    "> Why is the statement ```car3 = Vehicle(4)``` written correctly, but the statement ```moto3 = Motorcycle(6)``` returns an error?\n",
    "> * A: A ```Motorcycle``` object cannot have 6 seats.\n",
    "> * B: The constructor of the ```Vehicle``` class only takes one argument.\n",
    "> * C: An argument is missing when initializing the ```moto3``` instance."
   ]
  },
  {
   "cell_type": "markdown",
   "id": "551adda9",
   "metadata": {
    "jp-MarkdownHeadingCollapsed": true
   },
   "source": [
    "#### Solution:"
   ]
  },
  {
   "cell_type": "markdown",
   "id": "8a5f3350",
   "metadata": {},
   "source": [
    "> Answer **C** is correct: An argument is missing when initializing the ```moto3``` instance. In the ```Vehicle``` class one argument is predefined, but in ```Motorcycle``` none is. So you need two arguments to initialize an object."
   ]
  },
  {
   "cell_type": "markdown",
   "id": "321f68c7",
   "metadata": {},
   "source": [
    "#### \n",
    "#### Exercises:\n",
    "> (c) Create a class ```Convoy``` that has 2 attributes: The first attribute named ```vehicle_list``` is a list of ```Vehicle``` objects and the second attribute ```length``` is the total number of vehicles in the ```Convoy```. A convoy is automatically initialized with a ```Vehicle``` that has 4 seats and no passengers. <br>\n",
    "> \n",
    "> (d) Define in the ```Convoy``` class a method ```add_vehicle``` that adds an object of type ```Vehicle``` at the end of the convoy's vehicle list. Don't forget to update the length of the convoy. <br>"
   ]
  },
  {
   "cell_type": "code",
   "execution_count": null,
   "id": "4635b29a",
   "metadata": {},
   "outputs": [],
   "source": [
    "# Your solution:\n",
    "\n",
    "\n",
    "\n"
   ]
  },
  {
   "cell_type": "markdown",
   "id": "ef15b838",
   "metadata": {
    "jp-MarkdownHeadingCollapsed": true
   },
   "source": [
    "#### Solution:"
   ]
  },
  {
   "cell_type": "code",
   "execution_count": null,
   "id": "a0360ba0",
   "metadata": {},
   "outputs": [],
   "source": [
    "\n",
    "class Convoy:\n",
    "    def __init__(self):\n",
    "        self.vehicle_list = []               \n",
    "        self.vehicle_list.append(Vehicle(4)) # vehicle_list is initialized as a list with one vehicle (Vehicle)\n",
    "        self.length = 1                      # The length attribute is initialized with 1\n",
    "    \n",
    "    def add_vehicle(self, vehicle):\n",
    "        self.vehicle_list.append(vehicle)    # a Vehicle is added at the end of the vehicle_list\n",
    "        self.length = self.length + 1        # The length of the Convoy is updated\n"
   ]
  },
  {
   "cell_type": "markdown",
   "id": "3102ac25",
   "metadata": {},
   "source": [
    "#### \n",
    "> (e) Initialize a ```convoy1``` object of the ```Convoy``` class. <br>\n",
    "> \n",
    "> (f) Add the passenger ```\"Albert\"``` to the first vehicle of ```convoy1```. <br>\n",
    "> \n",
    "> (g) Add a motorcycle of brand ```\"Honda\"``` to ```convoy1```, which is driven by ```\"Ralph\"```. <br>"
   ]
  },
  {
   "cell_type": "code",
   "execution_count": null,
   "id": "08dd8cb8",
   "metadata": {},
   "outputs": [],
   "source": [
    "# Your solution:\n",
    "\n",
    "\n",
    "\n"
   ]
  },
  {
   "cell_type": "markdown",
   "id": "bf7cf16a",
   "metadata": {
    "jp-MarkdownHeadingCollapsed": true
   },
   "source": [
    "#### Solution:"
   ]
  },
  {
   "cell_type": "code",
   "execution_count": null,
   "id": "b9d93994",
   "metadata": {},
   "outputs": [],
   "source": [
    "convoy1 = Convoy()                                     # convoy is instantiated\n",
    "\n",
    "convoy1.vehicle_list[0].add('Albert')                  # \"Albert\" is added to the first verhicle of the convoy\n",
    "\n",
    "convoy1.add_vehicle(Motorcycle(['Ralph'] , 'Honda')) # Please note:\n",
    "                                                       # the first argument of the Motorcycle Class is a list."
   ]
  },
  {
   "cell_type": "markdown",
   "id": "b5646be7",
   "metadata": {},
   "source": [
    "#### \n",
    "> (h) Write a small script that displays all passengers in ```convoy1```."
   ]
  },
  {
   "cell_type": "code",
   "execution_count": null,
   "id": "b76d68b7",
   "metadata": {},
   "outputs": [],
   "source": [
    "# Your solution:\n",
    "\n",
    "\n",
    "\n"
   ]
  },
  {
   "cell_type": "markdown",
   "id": "d044b76f",
   "metadata": {
    "jp-MarkdownHeadingCollapsed": true
   },
   "source": [
    "#### Solution:"
   ]
  },
  {
   "cell_type": "code",
   "execution_count": null,
   "id": "bc27db95",
   "metadata": {},
   "outputs": [],
   "source": [
    "for vehicle in convoy1.vehicle_list: # For each vehicle in the list:\n",
    "    vehicle.print_passengers()       # we use the 'print_passengers' function of the 'Vehicle' class"
   ]
  },
  {
   "cell_type": "markdown",
   "id": "9a9066c9",
   "metadata": {},
   "source": [
    "# 2 Predefined Classes\n",
    "In Python, many predefined classes such as the ```list```, ```tuple``` or ```str``` classes are regularly used to make the developer's tasks easier. Like all other classes, they have their own attributes and methods that are available to the user.\n",
    "<br><br>\n",
    "One of the great advantages of object-oriented programming is the ability to create classes and share them with other developers. This is done through packages like ```numpy```, ```pandas``` or ```scikit-learn```. All these packages are actually classes created by other developers in the Python community to provide us with tools that facilitate the development of our own algorithms.\n",
    "<br><br>\n",
    "We will first discuss one of the most important predefined object classes, the ```list``` class, to learn how to use it to its full extent.\n",
    "<br>\n",
    "Then we will briefly introduce the ```DataFrame``` class from the ```pandas``` package and learn to identify and use its methods.\n",
    "\n",
    "## 2.1 The list Class\n",
    "\n",
    "#### 2.1.1 Exercises:\n",
    "> (a) Use the command ```dir(list)``` to display all attributes and methods of the ```list``` class. <br>"
   ]
  },
  {
   "cell_type": "code",
   "execution_count": null,
   "id": "adead188",
   "metadata": {},
   "outputs": [],
   "source": [
    "# Your solution:\n",
    "\n",
    "\n",
    "\n"
   ]
  },
  {
   "cell_type": "markdown",
   "id": "9d22a7d6",
   "metadata": {},
   "source": [
    "#### \n",
    "> (b) Use the command ```help(list)``` to display the *documentation* of the ```list``` class. This documentation is useful for understanding how to use the methods of a class. <br>"
   ]
  },
  {
   "cell_type": "code",
   "execution_count": null,
   "id": "4fa0f58f",
   "metadata": {},
   "outputs": [],
   "source": [
    "# Your solution:\n",
    "\n",
    "\n",
    "\n"
   ]
  },
  {
   "cell_type": "markdown",
   "id": "fc0a52c7",
   "metadata": {},
   "source": [
    "#### \n",
    "<div class=\"alert alert-info\">\n",
    "<i class=\"fa fa-info-circle\"></i>\n",
    "The <code style=\"background-color: transparent; color: inherit\">dir</code> and <code style=\"background-color: transparent; color: inherit\">help</code> commands are the first commands you should execute when you don't understand how to use a method of a class or when you can't remember the name of a method.\n",
    "</div>\n",
    "\n",
    "> (c) Find a method using the ```dir``` or ```help``` commands that reverses the order of the elements of the list ```list_1```. <br>"
   ]
  },
  {
   "cell_type": "code",
   "execution_count": null,
   "id": "b5d11511",
   "metadata": {},
   "outputs": [],
   "source": [
    "list_1 = [1, 2, 3, 4, 5, 6, 7, 8, 9]\n",
    "# Your solution:\n",
    "\n",
    "\n",
    "\n"
   ]
  },
  {
   "cell_type": "markdown",
   "id": "aceefcad",
   "metadata": {
    "jp-MarkdownHeadingCollapsed": true
   },
   "source": [
    "#### Solution:"
   ]
  },
  {
   "cell_type": "code",
   "execution_count": null,
   "id": "4eb976cc",
   "metadata": {},
   "outputs": [],
   "source": [
    "list_1 = [1, 2, 3, 4, 5, 6, 7, 8, 9]\n",
    "\n",
    "list_1.reverse() # the 'reverse' method reverses the order of the list that calls it.\n",
    "                 # Note that this method does not output the list, but modifies it!\n",
    "\n",
    "print(list_1)"
   ]
  },
  {
   "cell_type": "markdown",
   "id": "3f4ee8c8",
   "metadata": {},
   "source": [
    "#### \n",
    "> (d) Find a method using the ```dir``` and ```help``` commands that inserts the value ```10``` at the fifth position of the list ```list_2```. <br>"
   ]
  },
  {
   "cell_type": "code",
   "execution_count": null,
   "id": "f722c397",
   "metadata": {},
   "outputs": [],
   "source": [
    "list_2 = [1, 2, 3, 4, 5, 6, 7, 8, 9]\n",
    "# Your solution:\n",
    "\n",
    "\n",
    "\n"
   ]
  },
  {
   "cell_type": "markdown",
   "id": "6c9962fd",
   "metadata": {
    "jp-MarkdownHeadingCollapsed": true
   },
   "source": [
    "#### Solution:"
   ]
  },
  {
   "cell_type": "code",
   "execution_count": null,
   "id": "673eb02c",
   "metadata": {},
   "outputs": [],
   "source": [
    "list_2 = [1, 2, 3, 4, 5, 6, 7, 8, 9]\n",
    "\n",
    "list_2.insert(4, 10) # inserts the value 10 at index 4 (fifth position in Python).\n",
    "\n",
    "print(list_2)"
   ]
  },
  {
   "cell_type": "markdown",
   "id": "c378b189",
   "metadata": {},
   "source": [
    "#### \n",
    "> (e) Find a method using the ```dir``` and ```help``` commands that sorts the list ```list_3```."
   ]
  },
  {
   "cell_type": "code",
   "execution_count": null,
   "id": "3754f3a2",
   "metadata": {},
   "outputs": [],
   "source": [
    "list_3 = [5, 2, 4, 9, 6, 7, 8, 3, 10, 1]\n",
    "# Your solution:\n",
    "\n",
    "\n",
    "\n"
   ]
  },
  {
   "cell_type": "markdown",
   "id": "17aea322",
   "metadata": {
    "jp-MarkdownHeadingCollapsed": true
   },
   "source": [
    "#### Solution:"
   ]
  },
  {
   "cell_type": "code",
   "execution_count": null,
   "id": "63631574",
   "metadata": {},
   "outputs": [],
   "source": [
    "list_3 = [5, 2, 4, 9, 6, 7, 8, 3, 10, 1]\n",
    "\n",
    "list_3.sort() # Arranges the elements of a list in ascending order\n",
    "              # Note that this method does not output the list, but modifies it!\n",
    "\n",
    "print(list_3)"
   ]
  },
  {
   "cell_type": "markdown",
   "id": "b108674f",
   "metadata": {},
   "source": [
    "## 2.2 The DataFrame Class\n",
    "The ```pandas``` package contains a class called ```DataFrame```, whose usefulness makes it the most used package by data scientists for data manipulation.\n",
    "\n",
    "To use the ```pandas``` package, you must first import it. Then to instantiate a ```DataFrame```, you must call its constructor defined in the ```pandas``` package.\n",
    "\n",
    "#### 2.2.1 Exercises:\n",
    "> (a) Import the ```pandas``` package under the alias ```pd```. <br>\n",
    "> \n",
    "> (b) Instantiate an empty ```DataFrame``` using the constructor contained in the ```pandas``` package. This ```DataFrame``` should be named ```df```. <br>"
   ]
  },
  {
   "cell_type": "code",
   "execution_count": null,
   "id": "e2af12bc",
   "metadata": {},
   "outputs": [],
   "source": [
    "# Your solution:\n",
    "\n",
    "\n",
    "\n"
   ]
  },
  {
   "cell_type": "markdown",
   "id": "2b96d188",
   "metadata": {
    "jp-MarkdownHeadingCollapsed": true
   },
   "source": [
    "#### Solution:"
   ]
  },
  {
   "cell_type": "code",
   "execution_count": null,
   "id": "c7d671e0",
   "metadata": {},
   "outputs": [],
   "source": [
    "import pandas as pd\n",
    "\n",
    "df = pd.DataFrame()"
   ]
  },
  {
   "cell_type": "markdown",
   "id": "47cc5845",
   "metadata": {},
   "source": [
    "#### \n",
    "If you execute the statements ```dir(df)``` or ```dir(pd.DataFrame)```, you will see that the ```DataFrame``` class has many methods and attributes. It is very difficult to remember them all, which is why the ```dir``` and ```help``` commands are so useful.\n",
    "\n",
    "However, due to the length of the documentation, it is not practical to directly use the commands ```dir(df)``` or ```help(df)```. To have direct access to the documentation of a specific method, you can instead use the ```help``` function with the argument ```object.method```.\n",
    "\n",
    "> (c) Create using the command ```help(pd.DataFrame)``` a ```DataFrame``` named ```df1``` using the list ```list_4```. <br>"
   ]
  },
  {
   "cell_type": "code",
   "execution_count": null,
   "id": "5496008d",
   "metadata": {},
   "outputs": [],
   "source": [
    "list_4 = [1, 5, 45, 42, None, 123, 4213, None, 213]\n",
    "# Your solution:\n",
    "\n",
    "\n",
    "\n"
   ]
  },
  {
   "cell_type": "markdown",
   "id": "13dcbc88",
   "metadata": {
    "jp-MarkdownHeadingCollapsed": true
   },
   "source": [
    "#### Solution:"
   ]
  },
  {
   "cell_type": "code",
   "execution_count": null,
   "id": "7a8a51d4",
   "metadata": {},
   "outputs": [],
   "source": [
    "list_4 = [1, 5, 45, 42, None, 123, 4213, None, 213]\n",
    "\n",
    "df1 = pd.DataFrame(data = list_4)\n",
    "\n",
    "df1"
   ]
  },
  {
   "cell_type": "markdown",
   "id": "a0295e6d",
   "metadata": {},
   "source": [
    "#### \n",
    "If you display the ```DataFrame``` ```df1```, you can see that some of its values are assigned ```NaN```, which stands for *Not a Number*. In practice, this occurs very frequently when we import a raw database. The ```DataFrame``` class contains a very simple method to get rid of these missing values: the ```dropna``` method.\n",
    "\n",
    "<div class=\"alert alert-danger\">\n",
    "<i class='fa fa-exclamation-triangle'></i>\n",
    "Unlike the methods of the <code style=\"background-color: transparent; color: inherit\">list</code> class, the methods of the <code style=\"background-color: transparent; color: inherit\">DataFrame</code> class do not modify the instance that calls the method. These methods return a new <code style=\"background-color: transparent; color: inherit\">DataFrame</code> to which the method is applied. You must systematically save this new <code style=\"background-color: transparent; color: inherit\">DataFrame</code> to keep the result of the method.\n",
    "</div>\n",
    "\n",
    "> (d) Create using the ```dropna``` method of the ```DataFrame``` class a new ```DataFrame``` named ```df2``` that contains no missing values. <br>"
   ]
  },
  {
   "cell_type": "code",
   "execution_count": null,
   "id": "83c9a74a",
   "metadata": {},
   "outputs": [],
   "source": [
    "# Your solution:\n",
    "\n",
    "\n"
   ]
  },
  {
   "cell_type": "markdown",
   "id": "db09c3f5",
   "metadata": {
    "jp-MarkdownHeadingCollapsed": true
   },
   "source": [
    "#### Solution:"
   ]
  },
  {
   "cell_type": "code",
   "execution_count": null,
   "id": "082bcfba",
   "metadata": {},
   "outputs": [],
   "source": [
    "df2 = df1.dropna()\n",
    "\n",
    "df2"
   ]
  },
  {
   "cell_type": "markdown",
   "id": "e40e9b9e",
   "metadata": {},
   "source": [
    "#### \n",
    "Another frequently used method of the ```DataFrame``` class is the ```apply``` method. This method allows you to apply a function passed as an argument to all entries of the ```DataFrame``` that calls the method.\n",
    "\n",
    "> (e) Define a function called ```divide2``` that returns the division of a number passed as an argument by 2. <br>\n",
    "> \n",
    "> (f) Create a ```DataFrame``` called ```df3``` that contains the values of ```df2``` divided by 2. <br>"
   ]
  },
  {
   "cell_type": "code",
   "execution_count": null,
   "id": "7f570be9",
   "metadata": {},
   "outputs": [],
   "source": [
    "# Your solution:\n",
    "\n",
    "\n",
    "\n"
   ]
  },
  {
   "cell_type": "markdown",
   "id": "629f9353",
   "metadata": {
    "jp-MarkdownHeadingCollapsed": true
   },
   "source": [
    "#### Solution:"
   ]
  },
  {
   "cell_type": "code",
   "execution_count": null,
   "id": "51402a73",
   "metadata": {},
   "outputs": [],
   "source": [
    "def divide2(x):   \n",
    "    return x/2\n",
    "\n",
    "df3 = df2.apply(divide2)  # applies the function divide2 to all entries of the DataFrame\n",
    "\n",
    "df3"
   ]
  },
  {
   "cell_type": "markdown",
   "id": "e8271734",
   "metadata": {},
   "source": [
    "#### \n",
    "\n",
    "The ```DataFrame``` class has many methods like ```apply``` or ```dropna``` that you will explore in more detail during your learning journey. Since the ```list``` class is too simple for the needs of data scientists, these methods make the ```DataFrame``` class the standard for data manipulation. We will learn more about the ```pandas``` module tomorrow.\n",
    "\n",
    "All packages you will use in your training will be treated as objects, meaning you must first initialize an object of the class (```DataFrame```, ```Scikit Model```, ```Python Plot```, ...) and then call the methods **defined in the class**.\n",
    "<br><br>\n",
    "The ```dir``` and ```help``` commands will help you when dealing with these classes. Remember to use them regularly!"
   ]
  },
  {
   "cell_type": "markdown",
   "id": "898c847f",
   "metadata": {},
   "source": [
    "## 3 Built-in Methods\n",
    "All classes defined in Python have methods whose names are already defined. The first example of such a method that we have seen is the ```__init__``` method, which allows us to initialize an object, but it is not the only one.\n",
    "\n",
    "Built-in methods give the class the ability to interact with predefined Python functions like ```print```, ```len```, ```help``` and basic operators. These methods usually have the affixes ```__``` at the beginning and end of their names, which allows us to easily identify them.\n",
    "\n",
    "Using the command ```dir(object)``` we can get an overview of some predefined methods that are common to all Python objects."
   ]
  },
  {
   "cell_type": "code",
   "execution_count": null,
   "id": "a9742033",
   "metadata": {},
   "outputs": [],
   "source": [
    "dir(object)"
   ]
  },
  {
   "cell_type": "markdown",
   "id": "ea6689ee",
   "metadata": {},
   "source": [
    "## 3.1 The str Method\n",
    "One of the most practical methods is the ```__str__``` method, which is automatically called when the user applies the ```print``` command to an object. This method returns a string that represents the object passed to it.\n",
    "\n",
    "All classes in Python to which we can apply the ```print``` function have this method in their definition.\n",
    "> Try it out: Define a variable (anything, a list, a string, an integer, whatever you want) and then call the ```__str__``` method with the variable:\n",
    "\n",
    "```python\n",
    "my_list = [1, 2, 3, 4, 5]\n",
    "print(my_list.__str__())\n",
    "\n",
    "my_number = 42\n",
    "print(my_number.__str__())\n",
    "\n",
    "my_string = \"Hello World\"\n",
    "print(my_string.__str__())\n",
    "```"
   ]
  },
  {
   "cell_type": "code",
   "execution_count": null,
   "id": "f18c7b54",
   "metadata": {},
   "outputs": [],
   "source": [
    "# Your solution:\n",
    "\n",
    "\n",
    "\n"
   ]
  },
  {
   "cell_type": "markdown",
   "id": "e7db6c64",
   "metadata": {
    "jp-MarkdownHeadingCollapsed": true
   },
   "source": [
    "#### Solution:"
   ]
  },
  {
   "cell_type": "code",
   "execution_count": null,
   "id": "f83fa14b",
   "metadata": {},
   "outputs": [],
   "source": [
    "# for a list:\n",
    "\n",
    "tab = [1, 2 , 3, 4, 5, 6]\n",
    "tab.__str__()"
   ]
  },
  {
   "cell_type": "markdown",
   "id": "45185ef2",
   "metadata": {},
   "source": [
    "####  \n",
    "When we define our own classes, it is better to define a ```__str__``` method instead of a method like ```display```, as we did before. This allows all future users to directly use the ```print``` function to display the object in the console.\n",
    "\n",
    "We will use the ```Complex``` class that we defined in the first module of the introduction to object-oriented programming:\n",
    "<br><br>\n",
    "```python\n",
    "class Complex:\n",
    "    def __init__(self, a, b):\n",
    "       self.part_re = a\n",
    "       self.part_im = b\n",
    "```\n",
    "```python\n",
    "    def display(self):\n",
    "       if(self.part_im < 0):\n",
    "            print(self.part_re,'-', -self.part_im,'i')\n",
    "       if(self.part_im == 0):\n",
    "            print(self.part_re)\n",
    "       if(self.part_im > 0):\n",
    "            print(self.part_re, '+',self.part_im,'i')\n",
    "```\n",
    "\n",
    "#### 3.1.1 Exercises:\n",
    "> (a) Define in the ```Complex``` class the ```__str__``` method, which **must return a string** that corresponds to the algebraic representation $a+bi$ of a complex number. This method will replace the ```display``` method. <br>\n",
    "> \n",
    "> <div class=\"alert alert-info\">\n",
    "> <i class=\"fa fa-info-circle\"></i>\n",
    "> To get the string representation of a number, you can call its <code style=\"background-color: transparent; color: inherit\">__str__</code> method.\n",
    "> </div>\n",
    "> \n",
    "> (b) Instantiate a ```Complex``` object that corresponds to the number $6 - 3i$, and then display it in the console using the ```print``` function. <br>"
   ]
  },
  {
   "cell_type": "code",
   "execution_count": null,
   "id": "d811fced",
   "metadata": {},
   "outputs": [],
   "source": [
    "# Your solution:\n",
    "\n",
    "\n",
    "\n"
   ]
  },
  {
   "cell_type": "markdown",
   "id": "6e70d091",
   "metadata": {
    "jp-MarkdownHeadingCollapsed": true
   },
   "source": [
    "#### Solution:"
   ]
  },
  {
   "cell_type": "code",
   "execution_count": null,
   "id": "86e98f0f",
   "metadata": {},
   "outputs": [],
   "source": [
    "class Complex:\n",
    "    def __init__(self, a = 0, b = 0):\n",
    "        self.part_re = a\n",
    "        self.part_im = b\n",
    "    \n",
    "    def __str__(self):\n",
    "        if(self.part_im < 0):\n",
    "            return self.part_re.__str__() + self.part_im.__str__() + 'i'  # returns 'a' '-b' 'i'\n",
    "        \n",
    "        if(self.part_im == 0):\n",
    "            return self.part_re.__str__()    # returns 'a'\n",
    "        \n",
    "        if(self.part_im > 0):\n",
    "            return self.part_re.__str__() + '+' + self.part_im.__str__() + 'i' # returns 'a' '+' 'b' + 'i'\n",
    "        \n",
    "z = Complex(6, -3)\n",
    "print(z)"
   ]
  },
  {
   "cell_type": "markdown",
   "id": "181b2ea6",
   "metadata": {},
   "source": [
    "## 3.2 Comparison Methods\n",
    "Like with the ```int``` or ```float``` classes, we want to be able to compare objects of the ```Complex``` class with each other, i.e., be able to use the comparison operators (```>```, ```<```, ```==```, ```!=```, ...).\n",
    "\n",
    "For this purpose, the Python developers have provided the following methods:\n",
    "* *```__le__```* / *```__ge__```*: *less than or equal* / *greater than or equal*\n",
    "\n",
    "* *```__lt__```* / *```__gt__```*: *less than* / *greater than*\n",
    "\n",
    "* *```__eq__```* / *```__ne__```*: *equal* / *not equal*\n",
    "\n",
    "These methods are automatically called when the comparison operators are used and return a boolean value (```True``` or ```False```)."
   ]
  },
  {
   "cell_type": "code",
   "execution_count": null,
   "id": "e57ccfdb",
   "metadata": {},
   "outputs": [],
   "source": [
    "x = 5\n",
    "\n",
    "print(x > 3)  # True\n",
    "\n",
    "print(x.__gt__(3)) # True   \n",
    "                           # These two types of syntax are strictly equivalent\n",
    "print(x < 3) # False\n",
    "\n",
    "print(x.__lt__(3)) # False"
   ]
  },
  {
   "cell_type": "markdown",
   "id": "5289bec2",
   "metadata": {},
   "source": [
    "#### 3.2.1 Exercises:\n",
    "\n",
    "For the ```Complex``` class, we will perform the comparison using the magnitude, which is calculated by the formula $|a + bi| = \\sqrt{a² + b²}$.\n",
    "\n",
    "\n",
    "> (a) Define for the ```Complex``` class a ```mod``` method that returns the magnitude of the ```Complex``` that calls the method. You can use the ```sqrt``` function from the ```numpy``` package to calculate a square root. <br>\n",
    "> \n",
    "> (b) Define in the ```Complex``` class the methods ```__lt__``` and ```__gt__``` (strictly less than and strictly greater than). These methods must return a boolean value. <br>\n",
    "> \n",
    "> (c) Perform the two comparisons defined above with the complex numbers $3 + 4i$ and $2 - 5i$."
   ]
  },
  {
   "cell_type": "code",
   "execution_count": null,
   "id": "548b30a5",
   "metadata": {},
   "outputs": [],
   "source": [
    "# Your solution:\n",
    "\n",
    "\n",
    "\n"
   ]
  },
  {
   "cell_type": "markdown",
   "id": "60ad28a2",
   "metadata": {
    "jp-MarkdownHeadingCollapsed": true
   },
   "source": [
    "#### Solution:"
   ]
  },
  {
   "cell_type": "code",
   "execution_count": null,
   "id": "1fb4374c",
   "metadata": {},
   "outputs": [],
   "source": [
    "import numpy as np\n",
    "\n",
    "class Complex:\n",
    "    def __init__(self, a = 0, b = 0):\n",
    "        self.part_re = a\n",
    "        self.part_im = b\n",
    "    \n",
    "    def __str__(self):\n",
    "        if(self.part_im < 0):\n",
    "            return self.part_re.__str__() + self.part_im.__str__() + 'i'  # returns 'a' '-b' 'i' \n",
    "        \n",
    "        if(self.part_im == 0):\n",
    "            return self.part_re.__str__()    # returns 'a'\n",
    "        \n",
    "        if(self.part_im > 0):\n",
    "            return self.part_re.__str__() + '+' + self.part_im.__str__() + 'i' # returns 'a' '+' 'b' + 'i' \n",
    "        \n",
    "    def mod(self):\n",
    "        return np.sqrt( self.part_re ** 2 + self.part_im ** 2)  # returns the value (sqrt(a² + b²))\n",
    "    \n",
    "    def __lt__(self, other):    \n",
    "        if(self.mod() < other.mod()):   # returns True if: |self| < |other|\n",
    "            return True\n",
    "        else:\n",
    "            return False\n",
    "        \n",
    "    def __gt__(self, other):\n",
    "        if(self.mod() > other.mod()):   # returns True if: |self| > |other|\n",
    "            return True\n",
    "        else:\n",
    "            return False\n",
    "        \n",
    "        \n",
    "z1 = Complex(3, 4)\n",
    "z2 = Complex(2, 5)\n",
    "print(z1 > z2)\n",
    "print(z1 < z2)"
   ]
  }
 ],
 "metadata": {
  "kernelspec": {
   "display_name": "Python 3 (ipykernel)",
   "language": "python",
   "name": "python3"
  },
  "language_info": {
   "codemirror_mode": {
    "name": "ipython",
    "version": 3
   },
   "file_extension": ".py",
   "mimetype": "text/x-python",
   "name": "python",
   "nbconvert_exporter": "python",
   "pygments_lexer": "ipython3",
   "version": "3.11.13"
  }
 },
 "nbformat": 4,
 "nbformat_minor": 5
}
