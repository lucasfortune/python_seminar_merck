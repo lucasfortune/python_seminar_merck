{
 "cells": [
  {
   "cell_type": "markdown",
   "id": "7385595d",
   "metadata": {},
   "source": [
    "# Python Basics 5\n",
    "## Object-Oriented Programming 01\n",
    "***\n",
    "This notebook covers:\n",
    "- Classes\n",
    "- Documentation of Classes\n",
    "- Modules\n",
    "***"
   ]
  },
  {
   "cell_type": "markdown",
   "id": "838d439e",
   "metadata": {},
   "source": [
    "### Introduction and Prerequisites\n",
    "In Python and many other programming languages, *object-oriented programming* consists of creating *classes* of *objects* that contain specific information and tools for their manipulation.\n",
    "<br><br>\n",
    "All the tools we use for data science (*DataFrames, scikit-learn models, matplotlib*, ...) are built this way. Understanding the mechanics of Python objects and knowing how to use them is essential to be able to use all the features of these very useful tools.\n",
    "<br><br>\n",
    "Furthermore, object-oriented programming gives the developer the flexibility to adapt an object to their needs, thanks to *inheritance*, which we will look at in the second OOP notebook. This technique is frequently used to develop packages like **scikit-learn**, which allow a user to easily develop and evaluate the models they need.\n",
    "<br><br>\n",
    "To approach these modules under the best possible conditions, it is important to have completed the *Introduction to Python Programming* module.\n",
    "\n",
    "### 1 Introduction to Classes\n",
    "In Python, a class is defined as follows: <br>\n",
    "```python\n",
    "class Vehicle: # Definition of the Vehicle class\n",
    "    def __init__(self, a, b = []):\n",
    "        self.seats = a                 # Number of seats in the vehicle\n",
    "        self.passengers = b            # List with passenger names\n",
    "        \n",
    "    def print_passengers(self):\n",
    "        for i in range(len(self.passengers)):\n",
    "            print(self.passengers[i])\n",
    "```\n",
    "```py\n",
    "car1 = Vehicle(4, ['Maria', 'Julie']) # Instantiation of an object of the Vehicle class\n",
    "```\n",
    "\n",
    "The above code corresponds to the definition of a class called ```Vehicle```, which contains 2 pieces of information: the number of seats of the ```Vehicle``` in the variable **```seats```** and the names of the passengers aboard the ```Vehicle``` in the variable **```passengers```**.\n",
    "\n",
    "This class contains a ```print_passengers``` *method*, which displays the names of the passengers aboard in the console.\n",
    "\n",
    "The statement ```car1 = Vehicle(4, ['Maria', 'Julie'])``` corresponds to the *instantiation* of the ```Vehicle``` class.\n",
    "\n",
    "#### Important Notes and Definitions\n",
    "* ```Vehicle``` is a *class* of objects.\n",
    "\n",
    "* ```car1``` is an *instance* of the ```Vehicle``` class.\n",
    "\n",
    "* ```seats``` and ```passengers``` are called **attributes** of the ```Vehicle``` class.\n",
    "\n",
    "* The functions defined in the ```Vehicle``` class such as ```print_passengers``` and ```__init__``` are called **methods** of the ```Vehicle``` class.\n",
    "\n",
    "* The ```__init__``` method takes as arguments the variables that will define the attributes of an instance when it is created.<br>\n",
    "\n",
    "<div class=\"alert alert-info\">\n",
    "<i class=\"fa fa-info-circle\"></i>\n",
    "The <code style=\"background-color: transparent; color: inherit\">__init__</code> method is automatically called when instantiating any class.\n",
    "</div><div class=\"alert alert-danger\">\n",
    "<i class='fa fa-exclamation-triangle'></i>\n",
    "All methods defined within a class have the <code style=\"background-color: transparent; color: inherit\">self</code> argument as the first parameter. This parameter is used to specify the instance that called the method.\n",
    "<br></div>\n",
    "\n",
    "\n",
    "#### 1.1 Exercises:\n",
    "Based on the syntax of the ```Vehicle``` class defined above:\n",
    "\n",
    "\n",
    "> (a) Define a new class ```Complex``` with 2 attributes:\n",
    "> * **```part_re```**, which contains the real part of a complex number\n",
    "> * **```part_im```**, which contains the imaginary part of a complex number <br>\n",
    "\n",
    "> (b) Define in the ```Complex``` class a ```display``` method that outputs a ```Complex``` in its algebraic form *a ± bi*. This method should adapt to the sign of the imaginary part (The method should be able to display ```4 - 2i```, ```6 + 2i```, ```5```, ...). <br>\n",
    "\n",
    "> (c) Instantiate two ```Complex``` objects corresponding to the complex numbers $4 + 5i$ and $3 - 2i$, and output them to the console."
   ]
  },
  {
   "cell_type": "code",
   "execution_count": 7,
   "id": "df0a6174",
   "metadata": {},
   "outputs": [],
   "source": [
    "# Your solution:\n",
    "\n",
    "\n",
    "\n"
   ]
  },
  {
   "cell_type": "markdown",
   "id": "f7842a3a",
   "metadata": {
    "jp-MarkdownHeadingCollapsed": true
   },
   "source": [
    "#### Solution:"
   ]
  },
  {
   "cell_type": "code",
   "execution_count": 8,
   "id": "774c39a8",
   "metadata": {},
   "outputs": [
    {
     "name": "stdout",
     "output_type": "stream",
     "text": [
      "4 + 5 i\n",
      "3 - 2 i\n"
     ]
    }
   ],
   "source": [
    "class Complex:\n",
    "    def __init__(self, re, im):\n",
    "        self.part_re = re\n",
    "        self.part_im = im\n",
    "        \n",
    "    def display(self):\n",
    "        if self.part_im < 0:\n",
    "            print(self.part_re, '-', -self.part_im, 'i')\n",
    "        elif self.part_im == 0:\n",
    "            print(self.part_re)\n",
    "        else:\n",
    "            print(self.part_re, '+', self.part_im, 'i')\n",
    "            \n",
    "Complex(4, 5).display()\n",
    "Complex(3, -2).display()"
   ]
  },
  {
   "cell_type": "markdown",
   "id": "fb2a4147-a8d2-4555-8b10-f415cd200112",
   "metadata": {},
   "source": [
    "#### \n",
    "Once an object of a class is instantiated, it is possible to access its attributes and methods with the commands ```.attribute``` and ```.method()```, as shown below:"
   ]
  },
  {
   "cell_type": "code",
   "execution_count": 9,
   "id": "508da0f1-a018-47ad-8bc3-fd5cde5b828a",
   "metadata": {},
   "outputs": [],
   "source": [
    "# Run this cell to initialize the class\n",
    "class Vehicle:\n",
    "    def __init__(self, a, b=[]):\n",
    "        self.seats = a\n",
    "        self.passengers = b\n",
    "    def print_passengers(self):\n",
    "        for i in range(len(self.passengers)):\n",
    "            print(self.passengers[i])"
   ]
  },
  {
   "cell_type": "code",
   "execution_count": 10,
   "id": "90277d1a",
   "metadata": {},
   "outputs": [
    {
     "name": "stdout",
     "output_type": "stream",
     "text": [
      "4\n",
      "James\n",
      "Charles\n",
      "Hannah\n"
     ]
    }
   ],
   "source": [
    "# Run the cell. You can modify the instantiation so that the changes are applied.\n",
    "car2 = Vehicle(4,['James', 'Charles', 'Hannah'])\n",
    "\n",
    "print(car2.seats)          # Display of the 'seats' attribute\n",
    "car2.print_passengers()    # Call to the print_passengers method"
   ]
  },
  {
   "cell_type": "markdown",
   "id": "e794d4bb",
   "metadata": {},
   "source": [
    "The flexibility of classes in object-oriented programming allows the developer to extend a class by adding new attributes and methods. All instances of this class can then call these methods.\n",
    "For example, we can define a new ```add``` method in the ```Vehicle``` class that adds a person to the passenger list:\n",
    "```python\n",
    "class Vehicle:\n",
    "    def __init__(self, a, b = []):\n",
    "        self.seats = a\n",
    "        self.passengers = b\n",
    " \n",
    "    def print_passengers(self):\n",
    "        for i in range(len(self.passengers)):\n",
    "            print(self.passengers[i])\n",
    "    def add(self, name):            #New method\n",
    "        self.passengers.append(name)\n",
    "```\n",
    "<div class=\"alert alert-success\">\n",
    "<i class=\"fa fa-question-circle\"></i>\n",
    "In Python, a list is an instance of the built-in <code style=\"background-color: transparent; color: inherit\">list</code> class. Therefore, calling the <code style=\"background-color: transparent; color: inherit\">append</code> method is done in the same way as calling a method from the <code style=\"background-color: transparent; color: inherit\">Vehicle</code> or <code style=\"background-color: transparent; color: inherit\">Complex</code> classes.\n",
    "</div><br>\n",
    "\n",
    "#### Exercises:\n",
    "> (d) Define in the ```Complex``` class an ```add``` method that takes a ```Complex``` object as an argument and adds it to the instance that calls the method. The result of this sum will be stored in the attributes of the calling ```Complex```. <br>\n",
    "> (e) Test the new ```add``` method on two instances of the ```Complex``` class and display their sum."
   ]
  },
  {
   "cell_type": "code",
   "execution_count": 11,
   "id": "a01dcb08",
   "metadata": {},
   "outputs": [],
   "source": [
    "# Your solution:\n",
    "\n",
    "\n",
    "\n"
   ]
  },
  {
   "cell_type": "markdown",
   "id": "ebea0adc",
   "metadata": {
    "jp-MarkdownHeadingCollapsed": true
   },
   "source": [
    "##### Solution:"
   ]
  },
  {
   "cell_type": "code",
   "execution_count": 12,
   "id": "fb240063",
   "metadata": {},
   "outputs": [
    {
     "name": "stdout",
     "output_type": "stream",
     "text": [
      "3 + 2 i\n"
     ]
    }
   ],
   "source": [
    "class Complex:\n",
    "    def __init__(self, a, b):\n",
    "        self.part_re = a\n",
    "        self.part_im = b\n",
    "        \n",
    "    def display(self):\n",
    "        if(self.part_im < 0):\n",
    "            print(self.part_re,'-', -self.part_im,'i')\n",
    "        if(self.part_im == 0):\n",
    "            print(self.part_re)\n",
    "        if(self.part_im > 0):\n",
    "            print(self.part_re, '+',self.part_im,'i')\n",
    "            \n",
    "    def add(self, C):\n",
    "        self.part_re = self.part_re + C.part_re\n",
    "        self.part_im = self.part_im + C.part_im\n",
    "        \n",
    "C1 = Complex(4, -1)\n",
    "C2 = Complex(-1, 3)\n",
    "\n",
    "C1.add(C2)\n",
    "C1.display()"
   ]
  },
  {
   "cell_type": "markdown",
   "id": "228712d0",
   "metadata": {},
   "source": [
    "## 2 Classes and Documentation\n",
    "To be usable by others, a class must always be **well documented**.\n",
    "\n",
    "As with functions, writing documentation for a class begins and ends with three quotation marks ```\"\"\"```:\n",
    "\n",
    "```python\n",
    "class Car:\n",
    "    \"\"\"\n",
    "    The Car class allows you to create a car.\n",
    "    \n",
    "    Parameters:\n",
    "    ----------\n",
    "    color: String: Color of the car.\n",
    "    model: String: Model of the car.\n",
    "    horsepower: Integer: Engine power of the car.\n",
    "    \n",
    "    Example\n",
    "    -------\n",
    "    aventador = Car(color = \"orange\", model = \"Aventador\", horsepower = 700)\n",
    "    \"\"\"\n",
    "    def __init__(self, color, model, horsepower):\n",
    "        self.color = color\n",
    "        self.model = model\n",
    "        self.horsepower = horsepower\n",
    "\n",
    "    def change_color(self, new_color):\n",
    "        \"\"\"\n",
    "        Changes the color of a car.\n",
    "\n",
    "        Parameters:\n",
    "        ----------\n",
    "        new_color: String: New color of the car.\n",
    "        \"\"\"\n",
    "        self.color = new_color\n",
    "```\n",
    "\n",
    "If another user now needs help using this class, they can use the **```help```** function to display its documentation:\n",
    "\n",
    "```python\n",
    "help(Car)\n",
    "```\n",
    "```\n",
    "class Car(builtins.object)\n",
    " |  Car(color, model, horsepower)\n",
    " |  \n",
    " |  The Car class allows you to create a car.\n",
    " |  \n",
    " |  Parameters:\n",
    " |  ----------\n",
    " |  color: String: Color of the car.\n",
    " |  model: String: Model of the car.\n",
    " |  horsepower: Integer: Engine power of the car.\n",
    " |  \n",
    " |  Example\n",
    " |  -------\n",
    " |  aventador = Car(color = \"orange\", model = \"Aventador\", horsepower = 700)\n",
    " |  \n",
    " |  Methods defined here:\n",
    " |  \n",
    " |  __init__(self, color, model, horsepower)\n",
    " |      Initialize self. See help(type(self)) for accurate signature.\n",
    " |  \n",
    " |  change_color(self, new_color)\n",
    " |      Changes the color of a car.\n",
    " |      \n",
    " |      Parameters:\n",
    " |      ----------\n",
    " |      new_color: String: New color of the car.\n",
    "```\n",
    "\n",
    "The purpose of documentation is to **be read and understood by other users**. It also allows us to understand the usage of a method we have defined.\n",
    "\n",
    "Documentation is the **first** resource one should consult to understand how to handle a class. All classes you will use in your training have **comprehensive documentation**. However, they can be difficult to understand with little experience.\n",
    "\n",
    "#### 2.1 Exercises:\n",
    "We have the list ```u = [1, 9, -3, 3, -5, 4, -4, 7, 3, 4, 5, 0, 8, 7, -1, -3, 7, 6, 0, 2]```\n",
    "\n",
    "\n",
    "> (a) Find using the **```help```** function a method of the list class that allows us to sort the list ```u```, and then display ```u``` in ascending order. <br>\n",
    "> \n",
    "> (b) Find a method to remove **all** elements from the list ```u```."
   ]
  },
  {
   "cell_type": "code",
   "execution_count": 13,
   "id": "59326076",
   "metadata": {},
   "outputs": [],
   "source": [
    "# Your solution:\n",
    "\n",
    "\n",
    "\n"
   ]
  },
  {
   "cell_type": "markdown",
   "id": "429fcaf5",
   "metadata": {
    "jp-MarkdownHeadingCollapsed": true
   },
   "source": [
    "#### Solution:"
   ]
  },
  {
   "cell_type": "code",
   "execution_count": 14,
   "id": "ce1a325c",
   "metadata": {},
   "outputs": [
    {
     "name": "stdout",
     "output_type": "stream",
     "text": [
      " u : [1, 9, -3, 3, -5, 4, -4, 7, 3, 4, 5, 0, 8, 7, -1, -3, 7, 6, 0, 2]\n",
      "\n",
      " u sorted:\n",
      " [-5, -4, -3, -3, -1, 0, 0, 1, 2, 3, 3, 4, 4, 5, 6, 7, 7, 7, 8, 9]\n",
      "\n",
      " u empty: \n",
      " []\n"
     ]
    }
   ],
   "source": [
    "u = [1, 9, -3, 3, -5, 4, -4, 7, 3, 4, 5, 0, 8, 7, -1, -3, 7, 6, 0, 2]\n",
    "print(\" u :\", u)\n",
    "\n",
    "# We sort u in ascending order\n",
    "u.sort()\n",
    "print(\"\\n u sorted:\\n\", u)\n",
    "\n",
    "#We remove all elements of u\n",
    "u.clear()\n",
    "print(\"\\n u empty: \\n\", u)"
   ]
  },
  {
   "cell_type": "markdown",
   "id": "d1d4f23a",
   "metadata": {},
   "source": [
    "## 3 Modules\n",
    "A module (also known as a *package* or *library*) is a Python file that contains definitions of classes and functions.\n",
    "\n",
    "Modules allow you to reuse functions that have already been written without having to copy them.\n",
    "\n",
    "Modules are easily shareable and specialize in very specific tasks such as:\n",
    "> * Database management (```pandas```)\n",
    ">\n",
    ">\n",
    "> * Optimized calculations (```numpy```)\n",
    ">\n",
    ">\n",
    "> * Graph creation (```matplotlib```)\n",
    ">\n",
    ">\n",
    "> * Machine learning (```scikit-learn```)\n",
    "\n",
    "A large part of this seminar is based on modules written by other developers. These modules are among the greatest strengths of the Python language.\n",
    "\n",
    "To import a module, you must use the **```import```** keyword:\n",
    "\n",
    "```python\n",
    "# We import the entire Numpy library\n",
    "import numpy\n",
    "```\n",
    "\n",
    "To use a function from this module, it must be accessed through the module:\n",
    "\n",
    "```python\n",
    "x = 0\n",
    "\n",
    "# The 'cos' function from numpy allows you to calculate the cosine of a number\n",
    "print(numpy.cos(x))\n",
    ">>> 1.0\n",
    "```\n",
    "\n",
    "It is not very practical to have to write ```numpy``` every time we want to use a function from this module. For this, we can **abbreviate** its name with the **```as```** keyword:\n",
    "\n",
    "```python\n",
    "# We import numpy and abbreviate its name with 'np'\n",
    "import numpy as np\n",
    "\n",
    "x = 0\n",
    "print(np.cos(x))\n",
    ">>> 1.0\n",
    "```\n",
    "\n",
    "We say that ```np``` is the **alias** of ```numpy```.\n",
    "\n",
    "This practice is very frequently used and is the main way to import modules. During your training, you will see the following imports and aliases:\n",
    "\n",
    "```python\n",
    "import numpy as np\n",
    "import pandas as pd\n",
    "import matplotlib.pyplot as plt\n",
    "```\n",
    "\n",
    "If you don't want to import the entire module, it is possible to import only **some** functions or classes from the module with the **```from```** keyword:\n",
    "\n",
    "```python\n",
    "# We import only the cos, sin and exp functions from the numpy module\n",
    "from numpy import cos, sin, exp\n",
    "```\n",
    "\n",
    "#### 3.1 Exercises:\n",
    "> (a) Import the **```fetch_california_housing```** function from the **```sklearn.datasets```** module. <br>\n",
    "> \n",
    "> (b) Store in a variable called **```california_dataset```** the output of the ```fetch_california_housing``` function when called **without arguments**. What is the type of this variable? <br>"
   ]
  },
  {
   "cell_type": "code",
   "execution_count": 15,
   "id": "2add11da",
   "metadata": {},
   "outputs": [],
   "source": [
    "# Your solution:\n",
    "\n",
    "\n",
    "\n"
   ]
  },
  {
   "cell_type": "markdown",
   "id": "b040db73",
   "metadata": {},
   "source": [
    "#### Solution:"
   ]
  },
  {
   "cell_type": "code",
   "execution_count": null,
   "id": "22c57fee",
   "metadata": {},
   "outputs": [],
   "source": [
    "# We import the fetch_california_housing function from the sklearn.datasets module\n",
    "from sklearn.datasets import fetch_california_housing\n",
    "\n",
    "# We execute the fetch_california_housing function and\n",
    "# store its output in the california_dataset variable\n",
    "california_dataset = fetch_california_housing()\n",
    "\n",
    "print(type(california_dataset))\n",
    "#print(california_dataset)\n"
   ]
  },
  {
   "cell_type": "markdown",
   "id": "60f008ac",
   "metadata": {},
   "source": [
    "#### \n",
    "\n",
    "The variable `california_dataset` is a **Dictionary**. Remember that a dictionary is a data structure where data is indexed by **keys**. To access a value from a dictionary, you just need to enter the corresponding key in square brackets:\n",
    "\n",
    "```python\n",
    "a_dictionary['key']\n",
    "```\n",
    "\n",
    "The ```california_dataset``` dictionary contains 4 keys:\n",
    " * ```'data'```: The California Housing dataset. It contains properties of real estate in California.\n",
    "\n",
    "\n",
    " * ```'target'```: The prices of these properties. The goal of the dataset is to determine the sale price of a property based on its characteristics.\n",
    "\n",
    "\n",
    " * ```'feature_names'```: The names given to the properties of the real estate.\n",
    "\n",
    "\n",
    " * ```'DESCR'```: A text that describes the dataset and its variables.\n",
    "\n",
    "> (c) Store in a variable called **```X```** the value associated with the key **```'data'```** of the ```california_dataset``` dictionary. <br>\n",
    ">\n",
    "> (d) Store in a variable called **```feature_names```** the value associated with the key **```'feature_names'```** of the ```california_dataset``` dictionary. <br>"
   ]
  },
  {
   "cell_type": "code",
   "execution_count": null,
   "id": "58aeab21",
   "metadata": {},
   "outputs": [],
   "source": [
    "# Your solution:\n",
    "\n",
    "\n",
    "\n"
   ]
  },
  {
   "cell_type": "markdown",
   "id": "b38bb810",
   "metadata": {
    "jp-MarkdownHeadingCollapsed": true
   },
   "source": [
    "#### Solution:"
   ]
  },
  {
   "cell_type": "code",
   "execution_count": null,
   "id": "f18b4065",
   "metadata": {},
   "outputs": [],
   "source": [
    "X = california_dataset['data']\n",
    "print(X)\n",
    "feature_names = california_dataset['feature_names']\n",
    "print(feature_names)"
   ]
  },
  {
   "cell_type": "markdown",
   "id": "485f5471",
   "metadata": {},
   "source": [
    "#### \n",
    "\n",
    "We will now instantiate an object of the **```DataFrame```** class from the pandas module, which is very useful for visualizing and processing datasets.\n",
    "\n",
    "> (e) Import the ```pandas``` module under the alias **```pd```**. <br>\n",
    "\n",
    "> (f) Instantiate an object of the ```DataFrame``` class with the constructor ```pd.DataFrame()```. The object should be called **```df```** and the constructor arguments should be **```data = X, columns = feature_names```**. <br>\n",
    "\n",
    "> (g) Display the first 10 rows of the ```DataFrame``` ```df``` by calling its **```head```** method with the argument **```n = 10```**."
   ]
  },
  {
   "cell_type": "code",
   "execution_count": null,
   "id": "15db703d",
   "metadata": {},
   "outputs": [],
   "source": [
    "# Your solution:\n",
    "\n",
    "\n",
    "\n"
   ]
  },
  {
   "cell_type": "markdown",
   "id": "f7105798",
   "metadata": {
    "jp-MarkdownHeadingCollapsed": true
   },
   "source": [
    "#### Solution:"
   ]
  },
  {
   "cell_type": "code",
   "execution_count": null,
   "id": "ac29b709",
   "metadata": {},
   "outputs": [],
   "source": [
    "# We import the pandas module under the alias pd\n",
    "import pandas as pd\n",
    "\n",
    "# Instantiate a DataFrame object with its constructor\n",
    "df = pd.DataFrame(data = X, columns = feature_names)\n",
    "\n",
    "# Display the first 10 lines of the DataFrame using the head method\n",
    "df.head(5)\n"
   ]
  },
  {
   "cell_type": "markdown",
   "id": "afb27446",
   "metadata": {},
   "source": [
    "You have just imported and displayed your first dataset using the ```sklearn.datasets``` and ```pandas``` modules.\n",
    "\n",
    "As you will see throughout your training, the ```DataFrame``` class from ```pandas``` is more efficient than the list or dictionary class for handling tabular data. It is one of the fundamental tools for data analysis with Python."
   ]
  }
 ],
 "metadata": {
  "kernelspec": {
   "display_name": "Python 3 (ipykernel)",
   "language": "python",
   "name": "python3"
  },
  "language_info": {
   "codemirror_mode": {
    "name": "ipython",
    "version": 3
   },
   "file_extension": ".py",
   "mimetype": "text/x-python",
   "name": "python",
   "nbconvert_exporter": "python",
   "pygments_lexer": "ipython3",
   "version": "3.11.13"
  }
 },
 "nbformat": 4,
 "nbformat_minor": 5
}
