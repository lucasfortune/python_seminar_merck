{
 "cells": [
  {
   "cell_type": "markdown",
   "id": "ea19ab10-1c33-49ad-9d49-33b759aa94bb",
   "metadata": {},
   "source": [
    "# Python Basics 1\n",
    "## Variables and Data Structures\n",
    "***\n",
    "This notebook covers:\n",
    "- What are variables and what types are there?\n",
    "- How do you create a variable and how do you overwrite it?\n",
    "- In what structures can variables be processed in Python?\n",
    "***"
   ]
  },
  {
   "cell_type": "markdown",
   "id": "2ab1cc55-5588-4192-949e-c9f07ce751c4",
   "metadata": {},
   "source": [
    "## 1 Variables\n",
    "\n",
    "Variables are **placeholders** for data (numbers, text, etc.) that can change over the course of a program.\n",
    "In Python, variables are created and defined simultaneously using the `=` operator:\n",
    "\n",
    "```python\n",
    "my_variable = value\n",
    "```\n",
    "\n",
    "The name of the variable we created is `my_variable`, and we assigned it the value `value` using the `=`-operator.\n",
    "\n",
    "Variables can hold different types of values:\n",
    "\n",
    "```python\n",
    "# An integer, called int:\n",
    "my_variable = 9\n",
    "\n",
    "# A floating-point number, called float:\n",
    "my_variable = 3.14683327\n",
    "\n",
    "# A Boolean, true or false:\n",
    "my_variable = True\n",
    "my_variable = False\n",
    "\n",
    "# A text, called string:\n",
    "my_variable = \"Hello\"\n",
    "```\n",
    "\n",
    "<div class=\"alert alert-block alert-info\">\n",
    "<b>Info:</b> # indicates a comment in the code. Everything following a hash on the same line is ignored by the Python interpreter.\n",
    "</div>\n",
    "\n",
    "Variables can be directly modified using mathematical operators:\n",
    "\n",
    "```python\n",
    "my_variable = 7\n",
    "double_variable = my_variable + my_variable\n",
    "```\n",
    "\n",
    "Each time `=` is used after a variable, its value is **overwritten**.\n",
    "To **display** the value of a variable, use the `print()` function:\n",
    "\n",
    "```python\n",
    "# A variable is created:\n",
    "my_variable = 7\n",
    "# the original value is overwritten\n",
    "my_variable = 8.5\n",
    "# a new variable is created using the first one and a mathematical operator:\n",
    "double_variable = my_variable + my_variable\n",
    "\n",
    "# the values of both variables are displayed:\n",
    "print(my_variable)\n",
    "print(double_variable)\n",
    ">>> 8.5\n",
    ">>> 17\n",
    "```\n",
    "\n",
    "To display the data type of a variable, use the `type()` function:\n",
    "\n",
    "```python\n",
    "# A few different variables are created:\n",
    "x = 9\n",
    "y = 1.367\n",
    "z = \"Hello World\"\n",
    "xyz = True\n",
    "\n",
    "# We display the data types of the variables:\n",
    "print(type(x))\n",
    ">>> int\n",
    "\n",
    "print(type(y))\n",
    ">>> float\n",
    "\n",
    "print(type(z))\n",
    ">>> string\n",
    "\n",
    "print(type(xyz))\n",
    ">>> bool\n",
    "```\n",
    "\n",
    "Variables can have simple names like `x` or `y`, or more descriptive names that explain what the variable represents, such as: `customer_transactions_2020-2024` or `standard_deviation_dataset28_3_august_24`.\n",
    "There are a few **rules** for naming variables:\n",
    "\n",
    "* A variable name must begin with a **letter**, not a **number**.\n",
    "* Variable names may only contain **alphanumeric characters** and **underscores (\\_)**\n",
    "* Variables are **case sensitive**. You must be consistent with uppercase and lowercase letters.\n"
   ]
  },
  {
   "cell_type": "markdown",
   "id": "d02fb3d7-0b18-47bf-ac4a-435ff1e2fcc6",
   "metadata": {},
   "source": [
    "### 1.1 Exercise:\n",
    "\n",
    "> (a) Create a new variable and assign it any value of type `float`. <br>\n",
    "> (b) Create another new variable whose value is three times the value of the first variable. <br>\n",
    "> (c) Display the values of both variables.\n"
   ]
  },
  {
   "cell_type": "code",
   "execution_count": 1,
   "id": "a0288f02-eb16-449c-b6eb-5c0f9df89b2e",
   "metadata": {},
   "outputs": [],
   "source": [
    "# Your Solution:\n",
    "\n",
    "\n"
   ]
  },
  {
   "cell_type": "markdown",
   "id": "6340dd07-b325-4c71-815c-e1f89e70dda8",
   "metadata": {
    "jp-MarkdownHeadingCollapsed": true
   },
   "source": [
    "#### Solution:"
   ]
  },
  {
   "cell_type": "code",
   "execution_count": 2,
   "id": "5b4d71c2-4527-453c-83fe-0558d0fcc8a2",
   "metadata": {},
   "outputs": [
    {
     "name": "stdout",
     "output_type": "stream",
     "text": [
      "2.565\n",
      "7.695\n"
     ]
    }
   ],
   "source": [
    "variable = 2.565\n",
    "new_variable = 3 * variable\n",
    "# Also correct:\n",
    "new_variable = variable + variable + variable\n",
    "print(variable)\n",
    "print(new_variable)"
   ]
  },
  {
   "cell_type": "markdown",
   "id": "6a518277-0588-4c99-9209-b5730c0d071c",
   "metadata": {},
   "source": [
    "## 2 Data Structures\n",
    "\n",
    "Variables and values in Python can be organized, stored, and manipulated in various forms of data structures.\n"
   ]
  },
  {
   "cell_type": "markdown",
   "id": "2596d7d2",
   "metadata": {},
   "source": [
    "### 2.1 Lists\n"
   ]
  },
  {
   "cell_type": "markdown",
   "id": "be9f747c-5003-4fbd-b20b-e121463daaa8",
   "metadata": {},
   "source": [
    "\n",
    "#### Index\n",
    "\n",
    "A list can contain multiple values. Its syntax is as follows:\n",
    "\n",
    "```python\n",
    "a_list = [4, 2, 9, 1]\n",
    "```\n",
    "\n",
    "* The list `a_list` contains four **items**: `4`, `2`, `9`, and `1`.\n",
    "* Square brackets `[]` define the beginning and end of the list.\n",
    "* List items are separated by **commas**.\n",
    "\n",
    "To access individual elements of a list, you must specify the **index** (i.e., the position in the list) inside the square brackets.\n",
    "\n",
    "<div class=\"alert alert-block alert-success\">\n",
    "Indexes in Python always start at 0. So the <b>first</b> item in the list has index 0, the second has index 1, the third has index 2, and so on.\n",
    "</div>\n",
    "\n",
    "```python\n",
    "# print the first element of the list:\n",
    "print(a_list[0])\n",
    ">>> 4\n",
    "\n",
    "# print the second element of the list:\n",
    "print(a_list[1])\n",
    ">>> 2\n",
    "```\n",
    "\n",
    "You can also use the index to overwrite the value of an item in the list:\n",
    "\n",
    "```python\n",
    "a_list[3] = 42\n",
    "\n",
    "print(a_list)\n",
    ">>> [4, 2, 9, 42]\n",
    "```\n",
    "\n",
    "It’s also possible to index list elements in reverse, known as negative indexing:\n",
    "\n",
    "```python\n",
    "a_list = [4, 2, 9, 1]\n",
    "\n",
    "print(a_list[-1])\n",
    ">>> 1\n",
    "\n",
    "a_list[-2] = 84\n",
    "\n",
    "print(a_list)\n",
    ">>> [4, 2, 84, 1]\n",
    "```\n",
    "\n",
    "<div class=\"alert alert-block alert-success\">\n",
    "Negative indexes in Python always start at -1. So the <b>last</b> item of the list has index -1, the second-to-last has index -2, the third-to-last -3, and so on.\n",
    "</div>\n",
    "\n",
    "A variable of type `string` can also be treated as a list of characters. Therefore, indexing can be used to access individual letters of a string:\n",
    "\n",
    "```python\n",
    "text = \"Freezer\"\n",
    "\n",
    "print(text[7])\n",
    ">>> s\n",
    "```\n",
    "\n"
   ]
  },
  {
   "cell_type": "markdown",
   "id": "d42c99a5-b196-4be5-ab03-d5c38f855f3f",
   "metadata": {},
   "source": [
    "##### 2.1.1 Exercise:\n",
    "> (a) Create a list with 5 items of type `int`. <br>\n",
    "> (b) Use list indexing to create a second list that contains the items of the first list, but sorted in ascending order. <br>\n",
    "> (c) Display both lists. <br>"
   ]
  },
  {
   "cell_type": "code",
   "execution_count": 3,
   "id": "977318fe-814f-468c-8ab0-5e9e168e8eeb",
   "metadata": {},
   "outputs": [],
   "source": [
    "# Your Solution\n",
    "\n",
    "\n"
   ]
  },
  {
   "cell_type": "markdown",
   "id": "d94c21db-e9e1-48db-a884-76430e0edaad",
   "metadata": {
    "jp-MarkdownHeadingCollapsed": true
   },
   "source": [
    "##### Solution:"
   ]
  },
  {
   "cell_type": "code",
   "execution_count": 4,
   "id": "2fea84a4-2b4c-48a4-b32f-7b460cb61a72",
   "metadata": {},
   "outputs": [
    {
     "name": "stdout",
     "output_type": "stream",
     "text": [
      "[4, 2, 9, 1, 42]\n",
      "[1, 2, 4, 9, 42]\n"
     ]
    }
   ],
   "source": [
    "lst = [4, 2, 9, 1, 42]\n",
    "new_lst = [lst[3], lst[1], lst[0], lst[2], lst[4]]\n",
    "\n",
    "\n",
    "\n",
    "print(lst)\n",
    "print(new_lst)"
   ]
  },
  {
   "cell_type": "markdown",
   "id": "0016a0c8-c807-46d0-a3b4-6ca8d2f201ba",
   "metadata": {},
   "source": [
    "#### Slicing\n",
    "\n",
    "Slicing is another form of indexing. It is used to divide a list into parts by specifying the start and end index of a sublist.\n",
    "\n",
    "```python\n",
    "a_list = [1, 5, 8, 3, 2, 103, 11]\n",
    "\n",
    "# the first 4 items of the list:\n",
    "first_four = a_list[0:4]\n",
    "\n",
    "print(first_four)\n",
    ">>> [1, 5, 8, 3]\n",
    "```\n",
    "\n",
    "The list `first_four` contains the items of the list `a_list` with indexes `0`, `1`, `2`, and `3`.\n",
    "\n",
    "<div class=\"alert alert-block alert-success\">\n",
    "The item with the last index specified in the sublist is <b>not</b> included.\n",
    "</div>\n",
    "\n",
    "In large lists, it may sometimes be hard to count how many items they contain. To determine the length of a list, use the `len` function:\n",
    "\n",
    "```python\n",
    "a_list = [1, 5, 8, 3, 2, 103, 11]\n",
    "\n",
    "# length of the list\n",
    "len(a_list)\n",
    ">>> 7\n",
    "```\n"
   ]
  },
  {
   "cell_type": "markdown",
   "id": "8c605297-940b-4bc2-87a7-3b2e07be801d",
   "metadata": {},
   "source": [
    "##### 2.1.2 Exercise:\n",
    "> (a) Display the first ten items of `long_list`. <br>"
   ]
  },
  {
   "cell_type": "code",
   "execution_count": 5,
   "id": "35da51e0-83b8-43f2-82a4-8cfc43085f8c",
   "metadata": {},
   "outputs": [],
   "source": [
    "long_list = [-16, 6, -4, -18, 18, 20, 21, -6, 19, 25, 11,\n",
    "                    2, 9, 7, -16, 16, 4, -15, 11, 7, 17, 18, 4,\n",
    "                    25, 17, 28, -6, 17, 1, 14, -20, -15, 20, -15,\n",
    "                    -8, 8, -19, -11, -20, -16, 3, 3, -10, -5, 10,\n",
    "                    24, -1, 1, -10, 6, 10, -6, -14, 25, 8, -11,\n",
    "                    -17, -9, 0, 21, 3, 14, 7, 10, 25, 24, -18, -11,\n",
    "                    2, 29, 17, -6, 6, -11, 2, -18, 20, -15, -11,\n",
    "                    15, -10, 8, -15, 25, -15, 10, 28, -12, 11, 14,\n",
    "                    27, -1, 10, -2, -15, -10, 19, 26, 3, 27]\n",
    "\n",
    "# Your Solution\n",
    "\n",
    "\n",
    "\n"
   ]
  },
  {
   "cell_type": "markdown",
   "id": "c6104de5-099b-447a-812d-9a5eb6e0a00c",
   "metadata": {
    "jp-MarkdownHeadingCollapsed": true
   },
   "source": [
    "##### Solution:"
   ]
  },
  {
   "cell_type": "code",
   "execution_count": 6,
   "id": "8380a058-cdc4-47bd-9a44-7db433ebf12e",
   "metadata": {},
   "outputs": [
    {
     "name": "stdout",
     "output_type": "stream",
     "text": [
      "[-16, 6, -4, -18, 18, 20, 21, -6, 19, 25]\n"
     ]
    }
   ],
   "source": [
    "print(long_list[0:10])"
   ]
  },
  {
   "cell_type": "markdown",
   "id": "dbfa6bf7-92a7-4698-b70f-8dbd193ee491",
   "metadata": {},
   "source": [
    "#### More List Methods\n",
    "***\n"
   ]
  },
  {
   "cell_type": "markdown",
   "id": "6875cb44",
   "metadata": {},
   "source": [
    "##### pop\n",
    "So far we have learned how to edit list elements. Wit hthe following methods we will learn how to remove or add list elements: <br>\n",
    "For this we use the `insert` and the `pop` **methods**. <br>\n",
    "\n",
    "The `pop` method of the list class is used to remove elements at specific indices. It also displays the value of the removed element:\n",
    "\n",
    "```python\n",
    "my_list = [1, 5, \"Hello\", -1.4, \"how\", 103, \"are\", \"you\"]\n",
    "\n",
    "# The element with index 4 is removed and displayed\n",
    "element = my_list.pop(4)\n",
    "print(element)\n",
    ">>> how\n",
    "\n",
    "print(my_list)\n",
    ">>> [1, 5, 'Hello', -1.4, 103, 'are', 'you']\n",
    "```\n",
    "\n",
    "The syntax of a method is composed of the **object**, the <b>method</b>, and optionally a <b>parameter</b>. In this case `my_list`is the object, `pop()` the method, and the parameter showing the index is `4`.\n",
    "\n",
    "\n",
    "<div class=\"alert alert-block alert-success\">\n",
    "<ul>\n",
    "    <li>The object that calls the method must exist already.</li>\n",
    "    <li>The name of the method needs to be followed by parentheses, which contain the parameters of the method.</li>\n",
    "    <li>The name of the object and the name of the method are separated by a period.</li>\n",
    "</ul>\n",
    "</div>\n"
   ]
  },
  {
   "cell_type": "markdown",
   "id": "050b0852-c1af-4d5b-b61e-5610e8c9ae72",
   "metadata": {},
   "source": [
    "##### 2.1.3 Exercise:\n",
    "> (a) Remove the elements `\"Hello\"`, `\"how\"`, `\"are\"`, and `\"you\"` from the list `my_list` using the `pop` method. **Note:** The indices of the elements change when elements are deleted. <br>\n",
    "> (b) Print the list.\n"
   ]
  },
  {
   "cell_type": "code",
   "execution_count": 7,
   "id": "5c918509-60fc-48e8-80a8-cdebcf39356a",
   "metadata": {},
   "outputs": [],
   "source": [
    "my_list = [1, 5, \"Hello\", -1.4, \"how\", 103, \"are\", \"you\"]\n",
    "# Your Solution:\n",
    "\n",
    "\n",
    "\n"
   ]
  },
  {
   "cell_type": "markdown",
   "id": "8f5c0c31-78c0-4c45-b8cb-8fbae28a92af",
   "metadata": {
    "jp-MarkdownHeadingCollapsed": true
   },
   "source": [
    "##### Solution:"
   ]
  },
  {
   "cell_type": "code",
   "execution_count": 8,
   "id": "05aba383-6bd3-4545-885a-ab8010ba2660",
   "metadata": {},
   "outputs": [
    {
     "name": "stdout",
     "output_type": "stream",
     "text": [
      "[1, 5, -1.4, 103]\n"
     ]
    }
   ],
   "source": [
    "my_list = [1, 5, \"Hello\", -1.4, \"how\", 103, \"are\", \"you\"]\n",
    "\n",
    "# remove \"Hello\" (Index 2)\n",
    "my_list.pop(2)\n",
    "\n",
    "# remove \"how\" (Index 3)\n",
    "my_list.pop(3)\n",
    "\n",
    "# remove \"are\" (Index -2)\n",
    "my_list.pop(-2)\n",
    "\n",
    "# remove \"you\" (Index -1)\n",
    "my_list.pop(-1)\n",
    "\n",
    "\n",
    "# Display the list\n",
    "print(my_list)"
   ]
  },
  {
   "cell_type": "markdown",
   "id": "7884337c-8e60-4c9b-927c-e0cb377201e6",
   "metadata": {},
   "source": [
    "##### insert\n",
    "To add an element to a list at a specific index, you use the `insert` method. This method requires two arguments: the **index** where the element should be inserted and the **value** of the new element:\n",
    "```python\n",
    "# Add the value \"Hello\" to the list at index 2:\n",
    "my_list.insert(2, \"Hello\")\n",
    "```"
   ]
  },
  {
   "cell_type": "markdown",
   "id": "36dc5a8d-39e6-4196-afb9-dde9bf8287d2",
   "metadata": {},
   "source": [
    "##### 2.1.4 Exercise:\n",
    "> (a) Remove all numbers from the list ```my_list``` using the ```pop``` method. <br>\n",
    "> (b) Add the elements ```\"Hallo\"```, ```\"wie\"```, ```\"geht's\"``` and ```\"dir\"``` to the list to create the following list: \n",
    "```[\"Hello\", \"Hallo\", \"how\", \"wie\", \"are\", \"geht's\", \"you\", \"dir\"]``` <br>\n",
    "> (c) Display the list"
   ]
  },
  {
   "cell_type": "code",
   "execution_count": 9,
   "id": "4ba58f36-d776-4bf5-af33-8d6801ae381c",
   "metadata": {},
   "outputs": [],
   "source": [
    "my_list = [1, 5, \"Hello\", -1.4, \"how\", 103, \"are\", \"you\"]\n",
    "# Your Solution:\n",
    "\n",
    "\n",
    "\n"
   ]
  },
  {
   "cell_type": "markdown",
   "id": "c8e202db-346a-405e-b4e7-cd530ad84c3d",
   "metadata": {
    "jp-MarkdownHeadingCollapsed": true
   },
   "source": [
    "#### Solution:"
   ]
  },
  {
   "cell_type": "code",
   "execution_count": 10,
   "id": "f1fe7bf2-00e0-431a-93ba-56edbedd5ed0",
   "metadata": {},
   "outputs": [
    {
     "name": "stdout",
     "output_type": "stream",
     "text": [
      "['Hello', 'Hallo', 'how', 'wie', 'are', \"geht's\", 'you', 'dir']\n"
     ]
    }
   ],
   "source": [
    "my_list = [1, 5, \"Hello\", -1.4, \"how\", 103, \"are\", \"you\"]\n",
    "\n",
    "# Remove all numbers\n",
    "my_list.pop(0)\n",
    "my_list.pop(0)\n",
    "my_list.pop(1)\n",
    "my_list.pop(-3)\n",
    "\n",
    "# Insert the elements \"Hallo\", \"wie\", \"geht's\", \"dir\"\n",
    "my_list.insert(1, \"Hallo\")\n",
    "my_list.insert(3, \"wie\")\n",
    "my_list.insert(5, \"geht's\")\n",
    "my_list.insert(7, \"dir\")\n",
    "\n",
    "# Display\n",
    "print(my_list)"
   ]
  },
  {
   "cell_type": "markdown",
   "id": "1958cdf9-8dd1-4428-ab8b-daf0275ef05e",
   "metadata": {},
   "source": [
    "#### append\n",
    "\n",
    "To add a new element at the end of a list, you use the ```append``` method:\n",
    "```python\n",
    "# Add the integer 12 at the end of the list:\n",
    "a_list.append(12)\n",
    "\n",
    "# Output\n",
    "print(a_list)\n",
    ">>> [1, 5, 8, 3, 2, 103, 11, 12]\n",
    "```"
   ]
  },
  {
   "cell_type": "markdown",
   "id": "1e5f1e18-646a-4edf-941e-2296ede26629",
   "metadata": {},
   "source": [
    "#### 2.1.5 Exercise\n",
    "> (a) Display the length of the list ```my_list``` <br>\n",
    "> (b) Add the items ```-2```, ```0``` and ```1``` at the end of the list. <br>\n",
    "> (c) Display ```my_list```."
   ]
  },
  {
   "cell_type": "code",
   "execution_count": 11,
   "id": "fd63e290-8ecf-4551-a494-824997924ba9",
   "metadata": {},
   "outputs": [],
   "source": [
    "my_list = [-3, -1, 2, 3, 4]\n",
    "# Your Solution\n",
    "\n",
    "\n",
    "\n"
   ]
  },
  {
   "cell_type": "markdown",
   "id": "1a1427e2-8fa8-48d9-bfc8-7e7aaf2a7993",
   "metadata": {
    "jp-MarkdownHeadingCollapsed": true
   },
   "source": [
    "#### Solution:\n"
   ]
  },
  {
   "cell_type": "code",
   "execution_count": 12,
   "id": "053ec87e-dcb7-4285-8157-5c16f76f895f",
   "metadata": {},
   "outputs": [
    {
     "name": "stdout",
     "output_type": "stream",
     "text": [
      "5\n",
      "[-3, -1, 2, 3, 4, -2, 0, 1]\n"
     ]
    }
   ],
   "source": [
    "print(len(my_list))\n",
    "\n",
    "# -2 added\n",
    "my_list.append(-2)\n",
    "\n",
    "# 0 added\n",
    "my_list.append(0)\n",
    "\n",
    "# 1 added\n",
    "my_list.append(1)\n",
    "\n",
    "print(my_list)"
   ]
  },
  {
   "cell_type": "markdown",
   "id": "f233bc10-cb47-497f-af68-79a8815c0a7b",
   "metadata": {},
   "source": [
    "#### extend\n",
    "To connect two lists together, you use the ```extend``` method. The parameter of the ```extend``` method is the list that should be added to the list that calls the method:\n",
    "```python\n",
    "\n",
    "list_1 = [\"Hello\", \"how\", \"are\", \"you\", \"?\"]\n",
    "list_2 = [\"Fine\", \"and\", \"you\", \"?\"]\n",
    "\n",
    "# Merging the elements of list_2 with list_1\n",
    "list_1.extend(list_2)\n",
    "\n",
    "# Display of list_1\n",
    "print(list_1)\n",
    ">>>[\"Hello\", \"how\", \"are\", \"you\", \"?\", \"Fine\", \"and\", \"you\", \"?\"]\n",
    "```\n",
    "\n",
    "#### sort\n",
    "To order the elements of a list in ascending or descending order, you use the ```sort``` method. <br>\n",
    "By default, the ```sort``` method orders the elements of a list in ascending order. Using the method's parameter, you can reverse the order with ```reverse = True```:\n",
    "```python\n",
    "l = [4,-3,7]\n",
    "# in ascending order:\n",
    "l.sort()\n",
    "print(l)\n",
    ">>> [-3, 4, 7]\n",
    "# in descending order:\n",
    "l.sort(reverse = True)\n",
    "print(l)\n",
    ">>> [7, 4, -3]\n",
    "```"
   ]
  },
  {
   "cell_type": "markdown",
   "id": "63c4eb4d-0d18-4ad8-8d2d-eaefdd55d8f1",
   "metadata": {},
   "source": [
    "#### 2.1.6 Exercise\n",
    "> (a) Sort the list ```string_list``` with the ```sort``` method. <br>\n",
    "> (b) Display the sorted list. <br> \n",
    "> (c) Can you recognize how elements of type ```string``` are sorted?"
   ]
  },
  {
   "cell_type": "code",
   "execution_count": 13,
   "id": "e0e16d6f-351f-4af2-b2e3-7a24945fc27e",
   "metadata": {},
   "outputs": [],
   "source": [
    "string_list = [\"Hello\", \"how\", \"are\", \"you\", \"?\", \"Fine\", \"and\", \"you\", \"?\"]\n",
    "# Your Solution:\n",
    "\n",
    "\n",
    "\n"
   ]
  },
  {
   "cell_type": "markdown",
   "id": "f98c22e4-427a-4ccc-9a63-b7df759f709f",
   "metadata": {
    "jp-MarkdownHeadingCollapsed": true
   },
   "source": [
    "#### Solution:"
   ]
  },
  {
   "cell_type": "markdown",
   "id": "afdc603c-92bc-4160-b027-4cd9f54e22e1",
   "metadata": {},
   "source": [
    "```python\n",
    "string_list = [\"Hello\", \"how\", \"are\", \"you\", \"?\", \"Fine\", \"and\", \"you\", \"?\"]\n",
    "\n",
    "string_list.sort()\n",
    "print(string_list)\n",
    ">>> ['?', '?', 'Fine', 'Hello', 'and', 'are', 'how', 'you', 'you']\n",
    "```\n",
    "Elements of type ```string``` are sorted alphabetically. First, punctuation marks are listed, then all elements that begin with capital letters in alphabetical order, and finally all elements that begin with lowercase letters in alphabetical order."
   ]
  },
  {
   "cell_type": "markdown",
   "id": "80ce2576-6972-4011-8faf-8b00344e9785",
   "metadata": {},
   "source": [
    "### 2.2 Tuple\n",
    "Tuples are a data structure similar to lists:\n",
    "\n",
    "```python\n",
    "# Creating a tuple\n",
    "a_tuple = (\"Hello\", -1, 133)\n",
    "a_tuple = \"Hello\", -1, 133    # These notations are equivalent\n",
    "# Display the first element of the tuple\n",
    "print(a_tuple[0])\n",
    ">>> Hello\n",
    "# Display the last element of the tuple\n",
    "print(a_tuple[-1])\n",
    ">>> 133\n",
    "```\n",
    "\n",
    "- Tuples can be defined **with** or **without** parentheses.\n",
    "- The indexing of tuples is **identical** to that of lists.\n",
    "A very important property of tuples is that they are **immutable**, meaning they cannot be changed through indexing. <br>\n",
    "The strength of tuples may not be immediately obvious. One of the great strengths of this class is the so-called tuple assignment, which allows you to assign values to multiple variables simultaneously:\n",
    "\n",
    "```python\n",
    "a_tuple = \"Hello\", -1, 133\n",
    "print(a_tuple)\n",
    "# Tuple assignment\n",
    "x, y, z = a_tuple\n",
    "print(x)\n",
    ">>> \"Hello\"\n",
    "print(y)\n",
    ">>> -1\n",
    "print(z)\n",
    ">>> 133\n",
    "```\n",
    "\n",
    "The variables ```x```, ```y``` and ```z``` were created simultaneously and assigned values. For tuple assignment to work correctly, there must be **exactly as many** variables for assignment as there are **elements in the tuple**. <br>\n",
    "Tuple assignment provides an elegant syntactic solution to the problem of value swapping: We have two variables a and b and want to exchange their values, i.e., a should take the value of b and b should take the value of a. <br>\n",
    "In more classical programming languages, we would have to create a temporary variable that contains one of the values of a or b:\n",
    "\n",
    "```python\n",
    "# We store the value of a in a temporary variable\n",
    "tmp = a\n",
    "# We overwrite a with the value of b\n",
    "a = b\n",
    "# We overwrite b with the value of the temporary variable\n",
    "b = tmp\n",
    "```\n",
    "\n",
    "Thanks to tuple assignment, this operation can be performed in a single line of code:\n",
    "\n",
    "```python\n",
    "# Exchange of values between a and b\n",
    "a, b = b, a\n",
    "```"
   ]
  },
  {
   "cell_type": "markdown",
   "id": "9925b7ea-7b32-4014-8ea3-19d46f5d6f40",
   "metadata": {},
   "source": [
    "### 2.2.1 Exercise:\n",
    "> (a) Create a tuple with the name ```coordinates``` that contains the x-, y- and z-coordinates of a point in space: ```2, -3, 5```<br>\n",
    "> (b) Assign the three values of the tuple to the variables x, y and z using tuple assignment. <br>\n",
    "> (c) Display the individual values of the tuple. <br>"
   ]
  },
  {
   "cell_type": "code",
   "execution_count": 14,
   "id": "6c4c7651-83d0-41ca-9bcf-85e857ff3fd8",
   "metadata": {},
   "outputs": [],
   "source": [
    "# Your Solution:\n",
    "\n",
    "\n",
    "\n"
   ]
  },
  {
   "cell_type": "markdown",
   "id": "4daa6456-a93e-4019-89cf-134784f409ec",
   "metadata": {
    "jp-MarkdownHeadingCollapsed": true
   },
   "source": [
    "### Solution:"
   ]
  },
  {
   "cell_type": "code",
   "execution_count": 15,
   "id": "1c51a6d4-a226-4407-885e-ca632d1e1273",
   "metadata": {},
   "outputs": [
    {
     "name": "stdout",
     "output_type": "stream",
     "text": [
      "x: 2\n",
      "y: -3\n",
      "z: 5\n"
     ]
    }
   ],
   "source": [
    "# (a) create Tupel\n",
    "coordinates = (2, -3, 5)\n",
    "\n",
    "# (b) assign Tupel\n",
    "x, y, z = coordinates\n",
    "\n",
    "# Display\n",
    "print(\"x:\", x)\n",
    "print(\"y:\", y)\n",
    "print(\"z:\", z)"
   ]
  },
  {
   "cell_type": "markdown",
   "id": "4c2340a0-fc4c-4fc8-b308-a02abdeaf9b0",
   "metadata": {},
   "source": [
    "### 2.3 Dictionaries\n",
    "Lists and tuples are data structures whose elements are indexed by integers in ordered sequence. <br>\n",
    "Dictionaries are a special data structure because their elements can be freely indexed by numbers, strings and even tuples.<br>\n",
    "Dictionaries are very useful for storing information:\n",
    "```python\n",
    "# Definition of a dictionary\n",
    "a_dict = {\"age\": 25,\n",
    "          \"height\": 183,\n",
    "          \"gender\": \"F\",\n",
    "          \"first_name\": \"Vanessa\"}\n",
    "\n",
    "# Output through indexing with strings:\n",
    "print(a_dict[\"age\"])\n",
    ">>> 25\n",
    "\n",
    "print(a_dict[\"first_name\"])\n",
    ">>> Vanessa\n",
    "```\n",
    "- The definition of a dictionary is done with **curly braces**.\n",
    "- Each element of the dictionary is a **Key: Value pair**.\n",
    "- Dictionary information is accessed by using the **keys** as **index** in square brackets.\n",
    "\n",
    "We can summarize the information contained in this dictionary in the following table:\n",
    "\n",
    "| Key          | Value        |\n",
    "| ------------ | ----------- |\n",
    "| `\"age\"`      | `25`        |\n",
    "| `\"height\"`   | `183`       |\n",
    "| `\"gender\"`   | `\"F\"`       |\n",
    "| `\"first_name\"`| `\"Vanessa\"` |\n",
    "\n",
    "The syntax for creating and indexing dictionaries is used very frequently when handling databases."
   ]
  },
  {
   "cell_type": "markdown",
   "id": "0d1cee58-7749-4177-a18c-f05308b28767",
   "metadata": {},
   "source": [
    "#### 2.3.1 Exercise:\n",
    "> (a) Create a dictionary with the name ```identity_card``` with the following Key-Value pairs:\n",
    "\n",
    "> | Key     | Value          |\n",
    "> | ------------- | ------------- |\n",
    "> | `\"first_name\"`   | `\"Paul\"`      |\n",
    "> | `\"last_name\"`  | `\"Schmidt\"`  |\n",
    "> | `\"issued\"`| `1978`        |\n",
    "> \n",
    "> (b) Overwrite the value assigned to the key ```\"first_name\"``` with the value \"Rebecca\" and output the new dictionary ```identity_card```."
   ]
  },
  {
   "cell_type": "code",
   "execution_count": 16,
   "id": "ea712ea3-355e-4fd2-bd15-1a127a631b0c",
   "metadata": {},
   "outputs": [],
   "source": [
    "# Your solution:\n",
    "\n",
    "\n",
    "\n"
   ]
  },
  {
   "cell_type": "markdown",
   "id": "a4efaf66-b6e7-426f-b8a3-7c3e807f93c5",
   "metadata": {
    "jp-MarkdownHeadingCollapsed": true
   },
   "source": [
    "#### Solution:"
   ]
  },
  {
   "cell_type": "code",
   "execution_count": 17,
   "id": "6b8d7c5b-68ea-431c-a385-054f45ad2b97",
   "metadata": {},
   "outputs": [
    {
     "name": "stdout",
     "output_type": "stream",
     "text": [
      "{'first_name': 'Paul', 'last_name': 'Schmidt', 'issued': 1978}\n",
      "{'first_name': 'Rebecca', 'last_name': 'Schmidt', 'issued': 1978}\n"
     ]
    }
   ],
   "source": [
    "# (a) Definition of the dictionary\n",
    "identity_card = {\"first_name\": \"Paul\",\n",
    "                \"last_name\": \"Schmidt\",\n",
    "                \"issued\": 1978}\n",
    "print(identity_card)\n",
    "\n",
    "# (b) Overwriting a field in the dictionary\n",
    "identity_card[\"first_name\"] = \"Rebecca\"\n",
    "print(identity_card)\n"
   ]
  },
  {
   "cell_type": "markdown",
   "id": "03b6e512-4448-4053-9e81-e28a3d4a0e1e",
   "metadata": {},
   "source": [
    "#### \n",
    "It is possible to add **new** keys to a dictionary by simply assigning a value to a new key:\n",
    "```python\n",
    "# Adding a new key to the dictionary\n",
    "a_dict[\"new_key\"] = a_value\n",
    "```\n",
    "As with lists, it is possible to delete an element with the ```pop``` method. Instead of specifying the index to be deleted, you must enter the key:\n",
    "```python\n",
    "# Deleting the key \"a_key\"\n",
    "a_dict.pop(\"a_key\")\n",
    "```"
   ]
  },
  {
   "cell_type": "markdown",
   "id": "4ec37155-3787-4d47-8ea9-e8c80495c978",
   "metadata": {},
   "source": [
    "#### 2.3.2 Exercise:\n",
    "> (a) Add a new key ```expiry``` to the dictionary ```identity_card```, assign it the value ```1993```, and output the new dictionary."
   ]
  },
  {
   "cell_type": "code",
   "execution_count": 18,
   "id": "28f1cf21-3786-49b1-8c75-d4f58af0212a",
   "metadata": {},
   "outputs": [],
   "source": [
    "# Your Solution:\n",
    "\n",
    "\n",
    "\n"
   ]
  },
  {
   "cell_type": "markdown",
   "id": "e687c546-bbf8-49ae-b4d5-2919acb57dc8",
   "metadata": {
    "jp-MarkdownHeadingCollapsed": true
   },
   "source": [
    "#### Solution:"
   ]
  },
  {
   "cell_type": "code",
   "execution_count": 19,
   "id": "6af93da3-51e6-4f66-b0fe-60b23e63f5e9",
   "metadata": {},
   "outputs": [
    {
     "name": "stdout",
     "output_type": "stream",
     "text": [
      "{'first_name': 'Rebecca', 'last_name': 'Schmidt', 'issued': 1978, 'expiry': 1993}\n"
     ]
    }
   ],
   "source": [
    "# Adding a new key to the dictionary\n",
    "identity_card[\"expiry\"] = 1993\n",
    "print(identity_card)"
   ]
  },
  {
   "cell_type": "markdown",
   "id": "6f373c50-33ea-49ab-834a-242a77ded860",
   "metadata": {},
   "source": [
    "### Conclusion\n",
    "Lists, tuples and dictionaries are indexable **variables** that can contain many different elements. <br>\n",
    "In this introductory notebook, we learned how to manipulate them, and the syntax used will be the same for all indexable objects we will use later, such as **databases**. <br>\n",
    "\n",
    "- Access to the elements of an indexable variable is done through square brackets ```[]```, by entering: <br>\n",
    "\n",
    "    - For lists and tuples: the **position index** of a value. The indices of a list or tuple always start at 0. It is also possible to access multiple indices through **slicing**.\n",
    "    - For **dictionaries**: the **key**.\n",
    "\n",
    "Each indexable type has its specific symbol for its creation:\n",
    "- For a list we use square brackets: ```[]```\n",
    "- For a tuple the round brackets: ```()``` (or nothing)\n",
    "- For a dictionary the curly brackets: ```{}```\n",
    "\n",
    "\n",
    "All these types are actually **classes** of objects. It is possible to interact with these classes through their **methods** with more possibilities. <br>\n",
    "We have learned some methods of the list class to access additional functions:\n",
    "\n",
    "| Method      | Parameter         | Description |\n",
    "| ----------- | ----------------- | ------------ |\n",
    "| **pop**     | index             | Removes and returns the element at the specified index |\n",
    "| **remove**  | value             | Deletes an element from the list based on its value |\n",
    "| **insert**  | index, value      | Inserts a new element at the specified position in the list |\n",
    "| **append**  | value             | Adds the value to the end of the list |\n",
    "| **extend**  | list              | Connects the calling list with the list in the argument |\n",
    "| **sort**    | value             | Sorts the list in the order specified by the argument value |"
   ]
  }
 ],
 "metadata": {
  "kernelspec": {
   "display_name": "Python 3 (ipykernel)",
   "language": "python",
   "name": "python3"
  },
  "language_info": {
   "codemirror_mode": {
    "name": "ipython",
    "version": 3
   },
   "file_extension": ".py",
   "mimetype": "text/x-python",
   "name": "python",
   "nbconvert_exporter": "python",
   "pygments_lexer": "ipython3",
   "version": "3.11.13"
  }
 },
 "nbformat": 4,
 "nbformat_minor": 5
}
