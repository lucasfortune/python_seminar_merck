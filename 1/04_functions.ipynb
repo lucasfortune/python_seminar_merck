{
 "cells": [
  {
   "cell_type": "markdown",
   "id": "249ec6cf-5896-48bd-b688-ab060423e1a2",
   "metadata": {},
   "source": [
    "# Python Basics 4\n",
    "## Functions\n",
    "***\n",
    "This notebook covers:\n",
    "- What is a function and how and when do you use it?\n",
    "- How to properly document functions?\n",
    "***"
   ]
  },
  {
   "cell_type": "markdown",
   "id": "71b47f28-5cb8-4704-a95e-af0879fd8bb5",
   "metadata": {},
   "source": [
    "## 1 Functions\n",
    "A **function** in Python is a reusable block of code that performs a specific operation. <br>\n",
    "We have already seen examples of built-in Python functions, such as:\n",
    "\n",
    "- The ```print``` function: Used to display an object.\n",
    "- The ```range``` function: Used to iterate through a series of integers.\n",
    "\n",
    "We don't know the exact code inside these functions, but we can still predict their result. This is because their result depends **exclusively** on their **parameters** (or arguments) that are passed to them as input. <br>\n",
    "The syntax for defining a function looks like this:\n",
    "```python\n",
    "def my_function(parameter):\n",
    "    # Statement block\n",
    "    ...\n",
    "    ...\n",
    "    ...\n",
    "    # The result of the function is given by the variable a_value\n",
    "    return a_value\n",
    "```\n",
    "The keyword ```return``` defines the **result** of the function. This keyword also **terminates the execution** of the function as soon as the Python interpreter reaches it. Everything that follows in the function definition is not executed.\n",
    "```python\n",
    "# We define a function that determines whether a number is even or odd\n",
    "def is_even(number):\n",
    "    # Is the number even?\n",
    "    if number % 2 == 0:\n",
    "        return True\n",
    "    else:\n",
    "        return False\n",
    "```\n",
    "This function takes as **argument** a **number**, which is stored in a temporary **variable** called ```number```. When the function finishes executing, the variable ```number``` is **deleted**. <br>\n",
    "Once a function is defined, we can evaluate it by specifying the values of its parameters:\n",
    "```python\n",
    "print(is_even(number = 3))\n",
    ">>> False\n",
    "\n",
    "print(is_even(number = 100))\n",
    ">>> True\n",
    "\n",
    "print(is_even(number = -2))\n",
    ">>> True\n",
    "```\n",
    "It is also possible to evaluate a function without specifying the names of its parameters:\n",
    "```python\n",
    "print(is_even(-4))\n",
    ">>> True\n",
    "```\n",
    "#### 1.1 Exercises:\n",
    "> (a) Implement a function called ```double``` that takes a number as an argument and returns its double (in other words, the input number multiplied by 2). <br>\n",
    "> (b) Use this function to calculate the double of 4."
   ]
  },
  {
   "cell_type": "code",
   "execution_count": 13,
   "id": "94b24206-26a0-4b7d-9b10-cf90ad2fb8ef",
   "metadata": {},
   "outputs": [],
   "source": [
    "# Your solution:\n",
    "\n",
    "\n"
   ]
  },
  {
   "cell_type": "markdown",
   "id": "771429ac-5910-4a41-9e0c-6d4d5171c6c2",
   "metadata": {
    "jp-MarkdownHeadingCollapsed": true
   },
   "source": [
    "#### Solution:"
   ]
  },
  {
   "cell_type": "code",
   "execution_count": 2,
   "id": "18f400bf-e3a7-444c-9cfc-df04e45c4fe3",
   "metadata": {},
   "outputs": [
    {
     "data": {
      "text/plain": [
       "8"
      ]
     },
     "execution_count": 2,
     "metadata": {},
     "output_type": "execute_result"
    }
   ],
   "source": [
    "# (a)\n",
    "def double(number):\n",
    "    return number * 2\n",
    "\n",
    "# (b) \n",
    "double(4)"
   ]
  },
  {
   "cell_type": "markdown",
   "id": "05800be1-4d9f-46cf-9d31-579a6252d2a2",
   "metadata": {},
   "source": [
    "#### \n",
    "> (c) Implement a function called ```add``` that takes a **list** of numbers as an argument and calculates the **sum** of all numbers in the list using a loop. <br>\n",
    "> (d) Apply the function to the list ```[2, 3, 1]```."
   ]
  },
  {
   "cell_type": "code",
   "execution_count": 3,
   "id": "5bc6a4b0-7c30-4de3-ba53-6b8da8b1f9c0",
   "metadata": {},
   "outputs": [],
   "source": [
    "# Your solution\n",
    "\n",
    "\n",
    "\n"
   ]
  },
  {
   "cell_type": "markdown",
   "id": "91fda68a-7f62-4abd-ac75-b13c86b75c12",
   "metadata": {
    "jp-MarkdownHeadingCollapsed": true
   },
   "source": [
    "#### Solution:"
   ]
  },
  {
   "cell_type": "code",
   "execution_count": 4,
   "id": "1cc13e85-5592-40f0-9154-550f30eb318c",
   "metadata": {},
   "outputs": [
    {
     "name": "stdout",
     "output_type": "stream",
     "text": [
      "6\n"
     ]
    }
   ],
   "source": [
    "# (c)\n",
    "def add(list_of_numbers):\n",
    "    s = 0  # Initialize the sum variable (initially 0)\n",
    "    for element in list_of_numbers:  # Iterate over each element of the list\n",
    "        s += element  # Add the respective element to s\n",
    "    return s  # Return the final sum\n",
    "\n",
    "# (d)\n",
    "test_list = [2, 3, 1]\n",
    "print(add(test_list))  # Print the result of the 'add' function for the list"
   ]
  },
  {
   "cell_type": "markdown",
   "id": "b59416fb-ab8b-4e5f-8d78-f464d99505ac",
   "metadata": {},
   "source": [
    "#### \n",
    "> (e) Write a function called **```list_product```** that takes a **list** of numbers as an argument and then calculates the **product** of all numbers in the list using a loop. In other words, ```list_product``` returns the result of multiplying all elements of the list. <br>\n",
    "\n",
    "> (f) Apply this function to the list ```[1, 0.12, -54, 12, 0.33, 12]```. The result should be ```-307.9296```. <br>"
   ]
  },
  {
   "cell_type": "code",
   "execution_count": 5,
   "id": "bc65066d-afa3-4d29-8428-b0b6f496588a",
   "metadata": {},
   "outputs": [],
   "source": [
    "test_list = [1, 0.12, -54, 12, 0.33, 12]\n",
    "# Your solution:\n",
    "\n",
    "\n",
    "\n"
   ]
  },
  {
   "cell_type": "markdown",
   "id": "6929b486-a32b-4a5f-83e3-6e213eea3312",
   "metadata": {
    "jp-MarkdownHeadingCollapsed": true
   },
   "source": [
    "#### Solution"
   ]
  },
  {
   "cell_type": "code",
   "execution_count": 6,
   "id": "7998fbfc-4dc6-4043-b7d6-ffccba9d29f5",
   "metadata": {},
   "outputs": [
    {
     "name": "stdout",
     "output_type": "stream",
     "text": [
      "-307.9296\n"
     ]
    }
   ],
   "source": [
    "# (e)\n",
    "def list_product(list_of_numbers):\n",
    "    # We initialize the product to 1\n",
    "    product = 1\n",
    "    \n",
    "    # For each number in the list\n",
    "    for number in list_of_numbers:\n",
    "        # we multiply the product by the number\n",
    "        product *= number\n",
    "        \n",
    "    return product\n",
    "\n",
    "# (f)\n",
    "test_list = [1, 0.12, -54, 12, 0.33, 12]\n",
    "print(list_product(test_list))"
   ]
  },
  {
   "cell_type": "markdown",
   "id": "5f48d894-e817-4d60-a1e6-6f299e806373",
   "metadata": {},
   "source": [
    "#### \n",
    "> (g) Implement a function called ```change_rate``` that takes the initial value and the final value as arguments and returns the rate of change between the two values. The formula for the rate of change is: <br>\n",
    "> $$ \\text{Change Rate} = \\frac{ \\text{Final Value} - \\text{Initial Value} }{ \\text{Initial Value} } \\times 100  $$ <br>\n",
    ">\n",
    "> (h) Evaluate this function with an initial value of ```2000``` and a final value of ```1000```. The result should be ```-50.0```. <br>"
   ]
  },
  {
   "cell_type": "code",
   "execution_count": 7,
   "id": "fa376c73-1054-4fb4-bf2c-90eec31434b8",
   "metadata": {},
   "outputs": [],
   "source": [
    "# Your solution:\n",
    "\n",
    "\n",
    "\n"
   ]
  },
  {
   "cell_type": "markdown",
   "id": "13873a63-c898-4628-a307-e124e38d5d3c",
   "metadata": {
    "jp-MarkdownHeadingCollapsed": true
   },
   "source": [
    "#### Solution:"
   ]
  },
  {
   "cell_type": "code",
   "execution_count": 8,
   "id": "516d8f75-9261-4e77-a8e7-d4fbc2e3fa07",
   "metadata": {},
   "outputs": [
    {
     "name": "stdout",
     "output_type": "stream",
     "text": [
      "-50.0\n"
     ]
    }
   ],
   "source": [
    "# (g)\n",
    "def change_rate(initial_value, final_value):\n",
    "    # Calculate the rate of change\n",
    "    rate = ((final_value - initial_value) / initial_value) * 100\n",
    "    return rate  # Return the rate of change\n",
    "\n",
    "# (h)\n",
    "print(change_rate(2000, 1000))"
   ]
  },
  {
   "cell_type": "markdown",
   "id": "64308a9e-0295-4eba-80f7-a96161ec77aa",
   "metadata": {},
   "source": [
    "#### \n",
    "> (i) Implement a function called ```f``` that takes an integer **n** as input and returns the value of the square of n ($n^2$). <br>\n",
    "\n",
    "> (j) Show the result of function ```f``` with **n=2** and then **n=15**. <br>"
   ]
  },
  {
   "cell_type": "code",
   "execution_count": 9,
   "id": "03aa31a1-3e05-4e5e-8642-4c93acb0a438",
   "metadata": {},
   "outputs": [],
   "source": [
    "# Your solution:\n",
    "\n",
    "\n",
    "\n"
   ]
  },
  {
   "cell_type": "markdown",
   "id": "04bfcb71-041c-4b5c-b206-8014640014d2",
   "metadata": {
    "jp-MarkdownHeadingCollapsed": true
   },
   "source": [
    "#### Solution:"
   ]
  },
  {
   "cell_type": "code",
   "execution_count": 10,
   "id": "373e01a2-44d4-4f18-acbe-93f373a9cc4a",
   "metadata": {},
   "outputs": [
    {
     "name": "stdout",
     "output_type": "stream",
     "text": [
      "4\n",
      "225\n"
     ]
    }
   ],
   "source": [
    "# (i)\n",
    "def f(n):\n",
    "    square = n**2\n",
    "    return square\n",
    "\n",
    "\n",
    "# (j)\n",
    "print(f(2))\n",
    "print(f(15))"
   ]
  },
  {
   "cell_type": "markdown",
   "id": "c66c09a7-b18a-45e4-a7bc-88096a27537b",
   "metadata": {},
   "source": [
    "#### \n",
    "> The advantage of a function is that you can store its result in a variable and use it later in the code (for example, within another function).\n",
    ">```python\n",
    "># Function f as defined previously\n",
    ">def f(n):\n",
    ">   square = n**2\n",
    ">   return square\n",
    ">``` \n",
    "<br>\n",
    "\n",
    "> (k) Implement a function called **```g```** that reuses the function **```f```** and takes an integer **n** as input and returns the value of $n^2 + 2$. <br>\n"
   ]
  },
  {
   "cell_type": "code",
   "execution_count": 11,
   "id": "c9f87e98-8b86-4feb-86d9-c2885c9a9af5",
   "metadata": {},
   "outputs": [],
   "source": [
    "# Your solution:\n",
    "\n",
    "\n",
    "\n"
   ]
  },
  {
   "cell_type": "markdown",
   "id": "84135bff-e803-4070-8f5a-74a7e9b5e4b3",
   "metadata": {
    "jp-MarkdownHeadingCollapsed": true
   },
   "source": [
    "#### Solution:"
   ]
  },
  {
   "cell_type": "code",
   "execution_count": 12,
   "id": "eb634408-febf-4658-acca-c08dbf06718c",
   "metadata": {},
   "outputs": [],
   "source": [
    "# (k)\n",
    "def g(n):\n",
    "    calculation = f(n) # 'calculation' takes the value of f(n) which is n^2\n",
    "    calculation += 2  # we add 2 to 'calculation'\n",
    "    return calculation"
   ]
  },
  {
   "cell_type": "markdown",
   "id": "d13c3d4d-f316-4118-ac39-24d60269ea61",
   "metadata": {},
   "source": [
    "#### \n",
    "> (l) Write a function called **```uniques```** that takes a list as an argument and returns a new list with the unique values of that list. <br>\n",
    ">\n",
    "> The term **\"unique values\"** does not mean values that appear only once in the list, but the different **values** that are present.\n",
    ">\n",
    "> Therefore, ```uniques([1, 1, 2, 2, 2, 3, 3, \"Hello\"])``` should return **```[1, 2, 3, \"Hello\"]```**.\n",
    ">\n",
    "> This terminology is very commonly used, even though it doesn't have the same meaning as in everyday language.\n",
    ">\n",
    "> You can check if a value is part of a list by using the membership operator **```in```**:\n",
    ">```python\n",
    ">3 in [3, 1, 2]\n",
    ">>>> True\n",
    ">\n",
    ">-1 in [3, 1, 2]\n",
    ">>>> False\n",
    ">```"
   ]
  },
  {
   "cell_type": "code",
   "execution_count": 13,
   "id": "8560a825-4545-4144-8864-96013f4129c4",
   "metadata": {},
   "outputs": [],
   "source": [
    "# Your solution:\n",
    "\n",
    "\n"
   ]
  },
  {
   "cell_type": "markdown",
   "id": "3f777877-4096-415c-901d-29e5f3a2fc7b",
   "metadata": {
    "jp-MarkdownHeadingCollapsed": true
   },
   "source": [
    "#### Solution:"
   ]
  },
  {
   "cell_type": "code",
   "execution_count": 14,
   "id": "48bb51bd-2f0f-4cb5-9a38-1477bc4d20db",
   "metadata": {},
   "outputs": [
    {
     "name": "stdout",
     "output_type": "stream",
     "text": [
      "[1, 2, 3, 'Hello']\n"
     ]
    }
   ],
   "source": [
    "# (l)\n",
    "def uniques(list_of_elements):\n",
    "    # We initialize the list of unique values\n",
    "    unique_values = []\n",
    "    \n",
    "    # For each item in the list\n",
    "    for element in list_of_elements:\n",
    "        # If the element is not in the list of unique values\n",
    "        if element not in unique_values:\n",
    "            # it goes on the list\n",
    "            unique_values.append(element)\n",
    "    \n",
    "    return unique_values\n",
    "\n",
    "print(uniques([1, 1, 2, 2, 2, 3, 3, \"Hello\"]))"
   ]
  },
  {
   "cell_type": "markdown",
   "id": "850d4294-cbd6-4b68-b833-12c3bf69b230",
   "metadata": {},
   "source": [
    "#### \n",
    "> (m) Define a function called ```common_list``` that takes two **lists** ```l1``` and ```l2``` as input and returns the **list of common elements** of both lists. <br>\n",
    ">\n",
    "> (n) Show the result of the function ```common_list``` with ```l1 = [2,3,4,8,11,7]``` and ```l2 = [2,9,10,7]```."
   ]
  },
  {
   "cell_type": "code",
   "execution_count": 15,
   "id": "3ed3d8eb-69ce-4865-a48a-f8d7a1102759",
   "metadata": {},
   "outputs": [],
   "source": [
    "# Your solution:\n",
    "\n",
    "\n",
    "\n"
   ]
  },
  {
   "cell_type": "markdown",
   "id": "ca96e877-0cdc-4575-b94b-ee0f21a9014c",
   "metadata": {
    "jp-MarkdownHeadingCollapsed": true
   },
   "source": [
    "#### Solution:"
   ]
  },
  {
   "cell_type": "code",
   "execution_count": 16,
   "id": "f1025d6a-933c-45a2-be1c-33fec3d6039b",
   "metadata": {},
   "outputs": [
    {
     "name": "stdout",
     "output_type": "stream",
     "text": [
      "Elements common to the two lists: [2, 7]\n"
     ]
    }
   ],
   "source": [
    "# (m)\n",
    "def common_list(l1,l2):\n",
    "    l3=[]\n",
    "    for element in l1: # Iterate over list l1.\n",
    "        if element in l2: # check if an element from l1 is in l2\n",
    "            l3.append(element) # If yes, we add it to list l3.\n",
    "    return l3\n",
    "\n",
    "# (n)\n",
    "l1 = [2,3,4,8,11,7]\n",
    "l2 = [2,9,10,7]\n",
    "print(\"Elements common to the two lists:\",common_list(l1,l2))"
   ]
  },
  {
   "cell_type": "markdown",
   "id": "ef9141c3-c9a7-423f-a108-7b07120f3365",
   "metadata": {},
   "source": [
    "#### \n",
    "> (o) Create a function **```power4```** that takes a number ```x``` as an argument and returns the first 4 powers of this number (i.e., $x^1, x^2, x^3, x^4$). <br>\n",
    ">\n",
    "> (p) Test this function with ```x = 8``` and store the results in 4 variables ```x_1```, ```x_2```, ```x_3``` and ```x_4```. <br>\n",
    ">\n",
    "> (q) Create a function ```power_diff``` that takes 4 numbers ```x_1```, ```x_2```, ```x_3``` and ```x_4``` as arguments and returns:\n",
    "> * The difference between ```x_2``` and ```x_1```\n",
    "> * The difference between ```x_3``` and ```x_2```\n",
    "> * The difference between ```x_4``` and ```x_3``` <br>\n",
    ">\n",
    "> (r) Test this function with the previously obtained values ```x_1```, ```x_2```, ```x_3``` and ```x_4```."
   ]
  },
  {
   "cell_type": "code",
   "execution_count": 17,
   "id": "f8a8d04c-2f52-478c-a897-070462d79f4b",
   "metadata": {},
   "outputs": [],
   "source": [
    "# Your solution:\n",
    "\n",
    "\n",
    "\n"
   ]
  },
  {
   "cell_type": "markdown",
   "id": "f9d236f8-003f-4d62-8d66-4f03dbb99dc4",
   "metadata": {
    "jp-MarkdownHeadingCollapsed": true
   },
   "source": [
    "#### Solution:"
   ]
  },
  {
   "cell_type": "code",
   "execution_count": 18,
   "id": "22b0ef5d-118d-4a04-85f1-8aba2be237be",
   "metadata": {},
   "outputs": [
    {
     "name": "stdout",
     "output_type": "stream",
     "text": [
      "56 448 3584\n"
     ]
    }
   ],
   "source": [
    "# (o)\n",
    "def power4(x):\n",
    "    return x**1, x**2, x**3, x**4\n",
    "\n",
    "# (p)\n",
    "x_1, x_2, x_3, x_4 = power4(x = 8)\n",
    "\n",
    "# (q)\n",
    "def power_diff(x_1, x_2, x_3, x_4):\n",
    "    diff1 = x_2 - x_1\n",
    "    diff2 = x_3 - x_2\n",
    "    diff3 = x_4 - x_3\n",
    "    \n",
    "    return diff1, diff2, diff3\n",
    "\n",
    "# (r)\n",
    "diff1, diff2, diff3 = power_diff(x_1, x_2, x_3, x_4)\n",
    "\n",
    "print(diff1, diff2, diff3)"
   ]
  },
  {
   "cell_type": "markdown",
   "id": "fe0b25a6-18ea-4322-8838-41259e3c2d24",
   "metadata": {},
   "source": [
    "## 2. Function Documentation\n",
    "\n",
    " To share a function with other users, it is common to write a brief **description** that explains **how** the function should be used.\n",
    "\n",
    " This description is called the **documentation** of a function and corresponds to a user manual.\n",
    "\n",
    " The documentation should be written at the beginning of the function definition:\n",
    "\n",
    "```python\n",
    " def sort_list(a_list, order = \"ascending\"):\n",
    "     \"\"\"\n",
    "     This function sorts a list in the order specified by the 'order' argument.\n",
    "    \n",
    "     Parameters:\n",
    "     -----------\n",
    "     list: The list to be sorted.\n",
    "    \n",
    "     order: Must have the value \"ascending\" if we want to sort the list in ascending order.\n",
    "            Must have the value \"descending\" otherwise.\n",
    "    \n",
    "     Returns:\n",
    "     --------\n",
    "     The same list, but sorted.\n",
    "     \"\"\"\n",
    "     # Instructions\n",
    "     ...\n",
    "     ...\n",
    "     ...\n",
    "     return sorted_list\n",
    " ```\n",
    "\n",
    " Triple quotes **```\"\"\"```** define **the beginning and end** of the documentation.\n",
    "\n",
    " You can display the documentation of a function using the Python function **```help```**.\n",
    "\n",
    "#### 2.1 Exercises:\n",
    "> (a) Display the documentation of the Python function **```len```**. A \"Container\" is any object that can be iterated over, such as a list, a tuple, a string, etc. <br>\n",
    "\n",
    "> (b) Write a function **```total_len```** that takes a list of lists as an argument and determines the total number of elements in this list. Write a brief **documentation** that describes its usage. <br>\n",
    "\n",
    "> (c) Test this function with the list:\n",
    ">```python\n",
    ">test_list = [[1, 23, 1201, 21, 213, 2],\n",
    ">             [2311, 12, 3, 4],\n",
    ">             [11, 32, 1, 1, 2, 3, 3],\n",
    ">             [1, 1, 1, 1, 1, 1, 1, 1, 1, 1, 1, 1, 1, 1]]\n",
    ">```\n",
    ">The function ```total_len``` should return ```31```."
   ]
  },
  {
   "cell_type": "code",
   "execution_count": 16,
   "id": "a0294a4b-631c-4add-b2fc-f3617a314f38",
   "metadata": {},
   "outputs": [],
   "source": [
    "# Your solution:\n",
    "\n"
   ]
  },
  {
   "cell_type": "markdown",
   "id": "4c9640b3-08f2-4f25-b786-9da1abf1626e",
   "metadata": {
    "jp-MarkdownHeadingCollapsed": true
   },
   "source": [
    "#### Solution:"
   ]
  },
  {
   "cell_type": "code",
   "execution_count": 26,
   "id": "fcbecff8-882e-411f-ae63-151cc913c609",
   "metadata": {},
   "outputs": [
    {
     "name": "stdout",
     "output_type": "stream",
     "text": [
      "Help on built-in function len in module builtins:\n",
      "\n",
      "len(obj, /)\n",
      "    Return the number of items in a container.\n",
      "\n",
      "The list test_list contains 31 elements.\n"
     ]
    }
   ],
   "source": [
    "help(len)\n",
    "# The len function returns the number of elements in a container\n",
    "\n",
    "def total_len(list_of_lists):\n",
    "    \"\"\"\n",
    "    This function counts the total number of items in a list of lists.\n",
    "    \n",
    "    Parameters:\n",
    "    -----------\n",
    "    list_of_lists: A list of lists.\n",
    "    \n",
    "    Returns:\n",
    "    --------\n",
    "    n_elements: the total number of elements in list_of_lists.\n",
    "    \"\"\"\n",
    "    # We initialize the number of elements initially to 0\n",
    "    n_elements = 0\n",
    "    \n",
    "    # For each list in the list of lists\n",
    "    for a_list in list_of_lists:\n",
    "        # We count the number of elements in the list\n",
    "        n_elements += len(a_list)\n",
    "        \n",
    "    return n_elements\n",
    "\n",
    "test_list = [[1, 23, 1201, 21, 213, 2],\n",
    "             [2311, 12, 3, 4],\n",
    "             [11, 32, 1, 1, 2, 3, 3],\n",
    "             [1, 1, 1, 1, 1, 1, 1, 1, 1, 1, 1, 1, 1, 1]]\n",
    "\n",
    "print(\"The list test_list contains\", total_len(test_list), \"elements.\")"
   ]
  },
  {
   "cell_type": "code",
   "execution_count": 22,
   "id": "fc538576-924b-4172-a690-10bf6baa158f",
   "metadata": {},
   "outputs": [
    {
     "name": "stdout",
     "output_type": "stream",
     "text": [
      "120\n"
     ]
    }
   ],
   "source": [
    "# (a)\n",
    "def factorial(n):\n",
    "    if n < 0: \n",
    "        return \"Negative number.\" # stops the function if the number is negative\n",
    "    \n",
    "    # The simple case if n == 0\n",
    "    if n == 0:\n",
    "        return 1\n",
    "    else :\n",
    "        # We use the recursion n! = n * (n-1)!\n",
    "        return n*factorial(n-1)\n",
    "\n",
    "# (b)\n",
    "print(factorial(n=5))"
   ]
  },
  {
   "cell_type": "markdown",
   "id": "c7cb4dff-f5e3-4a20-9478-af6c5fe49450",
   "metadata": {},
   "source": [
    "## 3. Bonus Exercises\n",
    "> (a) Implement a recursive function called ```fibonacci``` that assigns to a number **n** the value of the term of the Fibonacci sequence ```F(n)```. To define this function, the following elements must be considered:\n",
    "> * F(0) = 0\n",
    "> * F(1) = 1\n",
    "> * F(n) = F(n-1) + F(n-2) for n > 1 <br>\n",
    ">\n",
    "> (b) Evaluate this function with n=10 (```F(10) = 55```). <br>\n"
   ]
  },
  {
   "cell_type": "code",
   "execution_count": 23,
   "id": "51b326c0-40e8-4eda-a344-14b3a285f3ff",
   "metadata": {},
   "outputs": [],
   "source": [
    "# Your solution:\n",
    "\n",
    "\n"
   ]
  },
  {
   "cell_type": "markdown",
   "id": "ffbddc21-0791-4328-8035-6b1615ef33ed",
   "metadata": {},
   "source": [
    "> (c) Implement a function called ```solve``` that can solve the following system:\n",
    ">```python\n",
    ">{\n",
    ">    x + y + z = 2       \n",
    ">    x - y - z = 0\n",
    ">    2x + yz   = 0\n",
    ">}\n",
    ">```\n",
    ">\n",
    "> **Each unknown has an integer value between -1 and 2.** The system also has two solutions, but the goal of the function is to return a single solution. The function has no arguments and must use nested ```for``` loops and the ```break``` keyword to return a solution of the system in tuple form."
   ]
  },
  {
   "cell_type": "code",
   "execution_count": 24,
   "id": "72404af0-d62d-4bda-b166-a22828131da2",
   "metadata": {},
   "outputs": [],
   "source": [
    "# Your solution:\n",
    "\n",
    "\n",
    "\n"
   ]
  },
  {
   "cell_type": "markdown",
   "id": "b93dac4f-6fdf-4d0c-9364-9fa92b4c4513",
   "metadata": {
    "jp-MarkdownHeadingCollapsed": true
   },
   "source": [
    "#### Solution:"
   ]
  },
  {
   "cell_type": "code",
   "execution_count": 25,
   "id": "bc5f6f6c-711b-4ece-9d80-baead5f2b2c7",
   "metadata": {},
   "outputs": [
    {
     "name": "stdout",
     "output_type": "stream",
     "text": [
      "55\n",
      "Solution found: (1, -1, 2)\n"
     ]
    }
   ],
   "source": [
    "# (a)\n",
    "def fibonacci(n):\n",
    "    if n == 0:\n",
    "        return 0    # F(0) = 0\n",
    "    elif n == 1:\n",
    "        return 1    # F(1) = 1 \n",
    "    else:\n",
    "        return fibonacci(n-1) + fibonacci(n-2)  # F(n) = F(n-1) + F(n-2)\n",
    "\n",
    "# (b)\n",
    "print(fibonacci(10))\n",
    "\n",
    "# (c)\n",
    "def solve():\n",
    "    solution_found = False  # Boolean variable indicating whether the solution has been found\n",
    "    # Go through the possible values of x, y and z in nested for-loops (values between -1 and 2)\n",
    "    for x in range(-1,3):\n",
    "        for y in range(-1,3):\n",
    "            for z in range(-1,3):\n",
    "                if x + y + z == 2 and x - y - z == 0 and 2*x + y*z == 0: # condition implying that the solution has been found\n",
    "                    solution_found = True \n",
    "                    break                   # we exit the third for-loop (z), since the solution has been found\n",
    "            if solution_found:               \n",
    "                break                       # we exit the second for-loop (y), since the solution has been found\n",
    "        if solution_found:\n",
    "            break                           # we exit the first for-loop (x), since the solution has been found\n",
    "    return x,y,z\n",
    "\n",
    "print(\"Solution found:\",solve())"
   ]
  }
 ],
 "metadata": {
  "kernelspec": {
   "display_name": "Python 3 (ipykernel)",
   "language": "python",
   "name": "python3"
  },
  "language_info": {
   "codemirror_mode": {
    "name": "ipython",
    "version": 3
   },
   "file_extension": ".py",
   "mimetype": "text/x-python",
   "name": "python",
   "nbconvert_exporter": "python",
   "pygments_lexer": "ipython3",
   "version": "3.11.13"
  }
 },
 "nbformat": 4,
 "nbformat_minor": 5
}
