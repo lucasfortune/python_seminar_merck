{
 "cells": [
  {
   "cell_type": "markdown",
   "id": "03316d20-0dd1-4ca1-b73e-05b3e1674722",
   "metadata": {},
   "source": [
    "# Python Datenvisualisierung 2\n",
    "## Plotly 3\n",
    "***\n",
    "In diesem Notebook wird behandelt:\n",
    "- Subplots und Mehrfachvisualisierungen\n",
    "    - Gemeinsame Achsen\n",
    "    - Faceplots\n",
    "***"
   ]
  },
  {
   "cell_type": "markdown",
   "id": "04a518bc-9c56-4ab2-9057-cd4d2118aaf5",
   "metadata": {},
   "source": [
    "In diesem Kapitel lernst du, wie du mehrere Grafiken in einer Visualisierung kombinieren kannst. Subplots (Teildiagramme) sind besonders nützlich, um verschiedene Aspekte deiner Daten nebeneinander darzustellen oder um komplexe Dashboards zu erstellen.\n",
    "\n",
    "## 1 Grundlegende Subplots erstellen\n",
    "\n",
    "### Was sind Subplots?\n",
    "\n",
    "Subplots sind Anordnungen mehrerer Diagramme in einem einzigen Anzeigebereich. Sie ermöglichen es dir, verschiedene Visualisierungen nebeneinander zu platzieren, um sie direkt vergleichen zu können oder um zusammengehörige Informationen gemeinsam zu präsentieren.\n",
    "\n",
    "### Wie erstellt man Subplots in Plotly?\n",
    "\n",
    "In Plotly gibt es zwei Hauptwege, um Subplots zu erstellen:\n",
    "\n",
    "1. **make_subplots-Funktion**: Eine flexible Methode aus dem `plotly.subplots`-Modul\n",
    "2. **Facet-Plots in Plotly Express**: Eine einfachere Methode für bestimmte Anwendungsfälle\n",
    "\n",
    "### Beispiel 1: Einfache Subplots mit make_subplots"
   ]
  },
  {
   "cell_type": "code",
   "execution_count": 1,
   "id": "777ac0da-085e-418e-8cb8-fc88873ebfa4",
   "metadata": {},
   "outputs": [
    {
     "data": {
      "application/vnd.plotly.v1+json": {
       "config": {
        "plotlyServerURL": "https://plot.ly"
       },
       "data": [
        {
         "mode": "lines",
         "name": "sin(x)",
         "type": "scatter",
         "x": {
          "bdata": "AAAAAAAAAAAxb2dIzNu5PzFvZ0jM28k/ZZNNNtlk0z8xb2dIzNvZP3+lQK1fKeA/ZZNNNtlk4z9LgVq/UqDmPzFvZ0jM2+k/F1100UUX7T9/pUCtXynwP3Icx3Ecx/E/ZZNNNtlk8z9YCtT6lQL1P0uBWr9SoPY/Pvjggw8++D8xb2dIzNv5PyTm7QyJefs/F1100UUX/T8K1PqVArX+P3+lQK1fKQBA+OCDDz74AEByHMdxHMcBQOtXCtT6lQJAZZNNNtlkA0DezpCYtzMEQFgK1PqVAgVA0UUXXXTRBUBLgVq/UqAGQMS8nSExbwdAPvjggw8+CEC3MyTm7QwJQDFvZ0jM2wlAq6qqqqqqCkAk5u0MiXkLQJ4hMW9nSAxAF1100UUXDUCRmLczJOYNQArU+pUCtQ5AhA8++OCDD0B/pUCtXykQQDtDYt7OkBBA+OCDDz74EEC1fqVArV8RQHIcx3EcxxFALrrooosuEkDrVwrU+pUSQKj1KwVq/RJAZZNNNtlkE0AiMW9nSMwTQN7OkJi3MxRAm2yyySabFEBYCtT6lQIVQBWo9SsFahVA0UUXXXTRFUCO4ziO4zgWQEuBWr9SoBZACB988MEHF0DEvJ0hMW8XQIFav1Kg1hdAPvjggw8+GED7lQK1fqUYQLczJObtDBlAdNFFF110GUAxb2dIzNsZQO4MiXk7QxpAq6qqqqqqGkBnSMzbGRIbQCTm7QyJeRtA4YMPPvjgG0CeITFvZ0gcQFq/UqDWrxxAF1100UUXHUDU+pUCtX4dQJGYtzMk5h1ATTbZZJNNHkAK1PqVArUeQMdxHMdxHB9AhA8++OCDH0BArV8pUOsfQH+lQK1fKSBAXXTRRRddIEA7Q2LezpAgQBoS83aGxCBA+OCDDz74IEDXrxSo9SshQLV+pUCtXyFAk0022WSTIUByHMdxHMchQFDrVwrU+iFALrrooosuIkANiXk7Q2IiQOtXCtT6lSJAyiabbLLJIkCo9SsFav0iQIbEvJ0hMSNAZZNNNtlkI0BDYt7OkJgjQCIxb2dIzCNAAAAAAAAAJEA=",
          "dtype": "f8"
         },
         "xaxis": "x",
         "y": {
          "bdata": "AAAAAAAAAABWWTD1i9C5P1FTX5rcrsk/gsOxNjYZ0z9VYwJ3JinZPxcA895s994/joZ7TnE64j/qrfXjmcnkP2ssuWGCIuc/Iswnjgo/6T+RI+TArxnrP1BTS0Sbrew/3oUw9q727T8Xi+UGkPHuP/kGhbqvm+8/OPqkFVLz7z8TWwZkkvfvP5TacY1lqO8/kSusMpoG7z8wOzaS1hPuPz2qWDqU0uw/jV22kxlG6z8pMUFVcXLpP4gS3/dfXOc/1MdGRVcJ5T/m1IwiaH/iP8q16nZlit8/8e22b6rD2T9j8JxQsrnTPwFWfWl/+Mo/+7miP25uvD8ew57TVQ2FP7c2U+b2Mbe/NJcb8IdkyL+cMtDaNXjSv4gGHUH0jdi/BM5I1Z1j3r8dASM//PThv5J0Xo5MieS/fMX9lQTo5r9AD0Xy9Arpv5gfWUKK7Oq/hEBctduH7L9UjGrat9jtv9nTBZKv2+6/Gw5iBB+O778QwS6FNO7vv7NU4lL1+u+/vLAjJUC0778fSaaDzRrvv6PqleQtMO6/ehV7l8X27L+nYD+HxnHrv2I/nOMnpem/D922x5uV57/CVOv4gkjlv1eewt3ew+K/ZCe00UEO4L8DKjT9e13av93iNNGlWdS/wgS4cmdBzL8fFrKmiwu/v2He8+4MDZW/u4zZNsGStD+7ZD9aihnHP7P36Je11tE/W/DDABjy1z9jyIBZ/M7dP8e6gdUKr+E/qWzMAXFI5D//7Lop6KzmP7yvSOox1ug/Al+5UKq+6j+T7POSVmHsP14AZw7yue0/UWGMa/nE7j/0lfnIs3/vP+x2ENY56O8/b1zFynr97z+a4IMvP7/vP+dX8G0pLu8/1DgMKbRL7j8lnQ9hLhrtP0+yCm21nOs/N08I2izX6T+2POhENM7nPxy7bUkbh+U/z6j/pdMH4z+wXUa44VbgP6UpR/aW9to/VbjOZAz51D8WLl/Qi4nNP2bQXAjp08A//1m7LN2Snz/o7+kO/fKxv37G6czszcW/VIdizLk00b98w03tlVXXvzzw4HCMOd2/Uk/z9Z5o4b8=",
          "dtype": "f8"
         },
         "yaxis": "y"
        },
        {
         "mode": "lines",
         "name": "cos(x)",
         "type": "scatter",
         "x": {
          "bdata": "AAAAAAAAAAAxb2dIzNu5PzFvZ0jM28k/ZZNNNtlk0z8xb2dIzNvZP3+lQK1fKeA/ZZNNNtlk4z9LgVq/UqDmPzFvZ0jM2+k/F1100UUX7T9/pUCtXynwP3Icx3Ecx/E/ZZNNNtlk8z9YCtT6lQL1P0uBWr9SoPY/Pvjggw8++D8xb2dIzNv5PyTm7QyJefs/F1100UUX/T8K1PqVArX+P3+lQK1fKQBA+OCDDz74AEByHMdxHMcBQOtXCtT6lQJAZZNNNtlkA0DezpCYtzMEQFgK1PqVAgVA0UUXXXTRBUBLgVq/UqAGQMS8nSExbwdAPvjggw8+CEC3MyTm7QwJQDFvZ0jM2wlAq6qqqqqqCkAk5u0MiXkLQJ4hMW9nSAxAF1100UUXDUCRmLczJOYNQArU+pUCtQ5AhA8++OCDD0B/pUCtXykQQDtDYt7OkBBA+OCDDz74EEC1fqVArV8RQHIcx3EcxxFALrrooosuEkDrVwrU+pUSQKj1KwVq/RJAZZNNNtlkE0AiMW9nSMwTQN7OkJi3MxRAm2yyySabFEBYCtT6lQIVQBWo9SsFahVA0UUXXXTRFUCO4ziO4zgWQEuBWr9SoBZACB988MEHF0DEvJ0hMW8XQIFav1Kg1hdAPvjggw8+GED7lQK1fqUYQLczJObtDBlAdNFFF110GUAxb2dIzNsZQO4MiXk7QxpAq6qqqqqqGkBnSMzbGRIbQCTm7QyJeRtA4YMPPvjgG0CeITFvZ0gcQFq/UqDWrxxAF1100UUXHUDU+pUCtX4dQJGYtzMk5h1ATTbZZJNNHkAK1PqVArUeQMdxHMdxHB9AhA8++OCDH0BArV8pUOsfQH+lQK1fKSBAXXTRRRddIEA7Q2LezpAgQBoS83aGxCBA+OCDDz74IEDXrxSo9SshQLV+pUCtXyFAk0022WSTIUByHMdxHMchQFDrVwrU+iFALrrooosuIkANiXk7Q2IiQOtXCtT6lSJAyiabbLLJIkCo9SsFav0iQIbEvJ0hMSNAZZNNNtlkI0BDYt7OkJgjQCIxb2dIzCNAAAAAAAAAJEA=",
          "dtype": "f8"
         },
         "xaxis": "x2",
         "y": {
          "bdata": "AAAAAAAA8D9stRluPtbvP/RmmLFmWe8/yNmrmb6K7j90bjl5YWztPzbnWqc6Aew/j8z94P1M6j92c4WfHVToPyaJpn2/G+Y/HRvGyK6p4z/FGOphTQThPwuuYysGZdw/P1edLVd31j+/pAmUBk/QP2iwSFdM+MM/7bevprZ5rD9YkKJzFDinv17aVrxRq8K/yDeLfeVXz79b+k5oVtnVvxmrjs+0zdu/rIhO3MG84L/ZPI8i+2bjv2WKJcqR3uW/xHL7hxUd6L/miO4Dqxzqv7oIvSEb2Ou//JJWneBK7b8KVQvXM3Huvxmpz7AUSO+/xNrVYlLN77/eiQ4zkf/vvwtJpABO3u+/bCgymt9p77+KFDjbdaPuv/xDHJMWje2/BTrPPZgp7L+SFtmbmnzqvyQrJD19iui/W5kzF1RY5r+HI49E2uvjv6b++Q9jS+G/urT55JL73L+St69evBTXvzfBGnmp8dC/pYFip7xExb+nyBvUSd2wv99gn3XR9aE/DwVx2NVdwT+otT/F5BDOP6zH8VS+OtU/GTxc6aI12z+D75puwnTgP50A1B/BI+M/I3FapMyg5T+LsJ5zZuXnPyn1T1Oj6+k/rRO9yTqu6z/bvXbnlCjtPwarN0TWVu4/Lo/JD+o17z+6zqEcisPvP7BzOc9E/u8/9UWj4oDl7z82sIr4fnnvPyeNh/BYu+4/+g5/CP+s7T9bjJHNMlHsP3YFyep/q+o/e8ZN6DLA6D92IkfzTZTmPxjSr8t7LeQ/a6g6+gCS4T/04MDpVpHdP3FYjrmBsdc/PNe1B9eT0T9M9n2umZDGP/wzgItDfbM/Ct4dLyRmmb9yg/qw4Q/AvyRGstcTycy/ubDKPZOb1L/MSuOV1Jzav76WZQtRLOC/VVMgkgLg4r8S1we4cWLlv2gZDOQRree/jfWqIui56b9ryVnBmoPrv1i8GUV/Be2/IOTFl6Y77r/r3VNM5yLvvxPBO9/luO+/YY1+3Rr8778NpTzi1uvvv/o5cmBEiO+/UxkvNGfS7r8I82r8Gcztv4T5X0QJeOy/H2sMiazZ6r8=",
          "dtype": "f8"
         },
         "yaxis": "y2"
        },
        {
         "mode": "lines",
         "name": "sin(x)*e^(-0.2x)",
         "type": "scatter",
         "x": {
          "bdata": "AAAAAAAAAAAxb2dIzNu5PzFvZ0jM28k/ZZNNNtlk0z8xb2dIzNvZP3+lQK1fKeA/ZZNNNtlk4z9LgVq/UqDmPzFvZ0jM2+k/F1100UUX7T9/pUCtXynwP3Icx3Ecx/E/ZZNNNtlk8z9YCtT6lQL1P0uBWr9SoPY/Pvjggw8++D8xb2dIzNv5PyTm7QyJefs/F1100UUX/T8K1PqVArX+P3+lQK1fKQBA+OCDDz74AEByHMdxHMcBQOtXCtT6lQJAZZNNNtlkA0DezpCYtzMEQFgK1PqVAgVA0UUXXXTRBUBLgVq/UqAGQMS8nSExbwdAPvjggw8+CEC3MyTm7QwJQDFvZ0jM2wlAq6qqqqqqCkAk5u0MiXkLQJ4hMW9nSAxAF1100UUXDUCRmLczJOYNQArU+pUCtQ5AhA8++OCDD0B/pUCtXykQQDtDYt7OkBBA+OCDDz74EEC1fqVArV8RQHIcx3EcxxFALrrooosuEkDrVwrU+pUSQKj1KwVq/RJAZZNNNtlkE0AiMW9nSMwTQN7OkJi3MxRAm2yyySabFEBYCtT6lQIVQBWo9SsFahVA0UUXXXTRFUCO4ziO4zgWQEuBWr9SoBZACB988MEHF0DEvJ0hMW8XQIFav1Kg1hdAPvjggw8+GED7lQK1fqUYQLczJObtDBlAdNFFF110GUAxb2dIzNsZQO4MiXk7QxpAq6qqqqqqGkBnSMzbGRIbQCTm7QyJeRtA4YMPPvjgG0CeITFvZ0gcQFq/UqDWrxxAF1100UUXHUDU+pUCtX4dQJGYtzMk5h1ATTbZZJNNHkAK1PqVArUeQMdxHMdxHB9AhA8++OCDH0BArV8pUOsfQH+lQK1fKSBAXXTRRRddIEA7Q2LezpAgQBoS83aGxCBA+OCDDz74IEDXrxSo9SshQLV+pUCtXyFAk0022WSTIUByHMdxHMchQFDrVwrU+iFALrrooosuIkANiXk7Q2IiQOtXCtT6lSJAyiabbLLJIkCo9SsFav0iQIbEvJ0hMSNAZZNNNtlkI0BDYt7OkJgjQCIxb2dIzCNAAAAAAAAAJEA=",
          "dtype": "f8"
         },
         "xaxis": "x3",
         "y": {
          "bdata": "AAAAAAAAAACkSHtWYUy5P0hCloGBqsg/JF5KTbL50T8eSxvUIDXXPyHzcwjK/ds/dqxF6r8l4D9yqxIN1wviP+EYKPutruM/ET06WZQM5T9SQVZLoiTmP1m+H+2y9uY/z32D+1yD5z+RjLTV6cvnPyvsMv5K0uc/XnT7Rg6Z5z917NXVUCPnP9OuAS+xdOY/hE5EdUCR5T/pE5wOc33kP+xWltwQPuM/A4WNNiXY4T8ZzeLS7lDgP7FuV5WfW90/Ms+Zwnvo2T/pWURuZlPWP7Q/VRc/p9I/9bAAw2jdzT/PS9w0U2jGP5KjM094Br4/SBebCbQErz9jzBdnIIJ2PyHZt1i8Tai/hq8zJhkMub/Mpkhj/ZXCv8lW+7cJN8i/mzsGlpxezb9zX+uy5wHRv8u6uEq4D9O/QMNetgLW1L/1wPif41LWv0XtRRtOhde/hpht8wVt2L9Sg1QHmArZv8IEiNxQX9m/a57ukzFt2b9aqgVu4zbZv7HIdw6qv9i/PhtIsFQL2L8oOa18Lh7Xv0eGBzfu/NW/1womcKWs1L8xD1FyrzLTv4TCWRaglNG/DXiEYGWwz78QevR/cgbMv5UXaiAYN8i/juYb1fNNxL/9qSwKclbAv8oaNChjt7i/87e5W9LQsL9yAphiPBuiv3cRhA5hEHi/GZC3+CsMlz8vN3QIQVypP28V/4hZMbM/wwMULYA/uT+YJfDjG82+P+ZEUyo/6ME/F/ikeuUgxD+luhXBfA3GP1CHQb/pq8c/KF67e/b6yD8xE2hmTPrJP5qV92Vsqso/7arO+KQMyz8LSCSXBiPLP5tA6oZW8Mo/N6NPVAB4yj9GIUQjBr7JP4JTYQ/wxsg/6A4E0LqXxz+6RzLWxTXGPxWALxnBpsQ/wfZhxZrwwj+zU27/bBnBP5z0f9bXTr4/4qA3SKhBuj9rgcqfsxe2P54q6ugw3bE/e/xNyQ48qz/SuHkRZMuiP6Unff+U/JQ/1tffn3FLcz9I++hmr3+FvxUjfsMVmJm/FP86wOHKo7/+7y64KE6qv23pp724JLC/AyrCvRrZsr8=",
          "dtype": "f8"
         },
         "yaxis": "y3"
        },
        {
         "mode": "lines",
         "name": "cos(x)*e^(-0.2x)",
         "type": "scatter",
         "x": {
          "bdata": "AAAAAAAAAAAxb2dIzNu5PzFvZ0jM28k/ZZNNNtlk0z8xb2dIzNvZP3+lQK1fKeA/ZZNNNtlk4z9LgVq/UqDmPzFvZ0jM2+k/F1100UUX7T9/pUCtXynwP3Icx3Ecx/E/ZZNNNtlk8z9YCtT6lQL1P0uBWr9SoPY/Pvjggw8++D8xb2dIzNv5PyTm7QyJefs/F1100UUX/T8K1PqVArX+P3+lQK1fKQBA+OCDDz74AEByHMdxHMcBQOtXCtT6lQJAZZNNNtlkA0DezpCYtzMEQFgK1PqVAgVA0UUXXXTRBUBLgVq/UqAGQMS8nSExbwdAPvjggw8+CEC3MyTm7QwJQDFvZ0jM2wlAq6qqqqqqCkAk5u0MiXkLQJ4hMW9nSAxAF1100UUXDUCRmLczJOYNQArU+pUCtQ5AhA8++OCDD0B/pUCtXykQQDtDYt7OkBBA+OCDDz74EEC1fqVArV8RQHIcx3EcxxFALrrooosuEkDrVwrU+pUSQKj1KwVq/RJAZZNNNtlkE0AiMW9nSMwTQN7OkJi3MxRAm2yyySabFEBYCtT6lQIVQBWo9SsFahVA0UUXXXTRFUCO4ziO4zgWQEuBWr9SoBZACB988MEHF0DEvJ0hMW8XQIFav1Kg1hdAPvjggw8+GED7lQK1fqUYQLczJObtDBlAdNFFF110GUAxb2dIzNsZQO4MiXk7QxpAq6qqqqqqGkBnSMzbGRIbQCTm7QyJeRtA4YMPPvjgG0CeITFvZ0gcQFq/UqDWrxxAF1100UUXHUDU+pUCtX4dQJGYtzMk5h1ATTbZZJNNHkAK1PqVArUeQMdxHMdxHB9AhA8++OCDH0BArV8pUOsfQH+lQK1fKSBAXXTRRRddIEA7Q2LezpAgQBoS83aGxCBA+OCDDz74IEDXrxSo9SshQLV+pUCtXyFAk0022WSTIUByHMdxHMchQFDrVwrU+iFALrrooosuIkANiXk7Q2IiQOtXCtT6lSJAyiabbLLJIkCo9SsFav0iQIbEvJ0hMSNAZZNNNtlkI0BDYt7OkJgjQCIxb2dIzCNAAAAAAAAAJEA=",
          "dtype": "f8"
         },
         "xaxis": "x4",
         "y": {
          "bdata": "AAAAAAAA8D8gXCGWPjPvP1QHPxmbG+4/vP4fefS+7D/UnrmzpSPrPw+l3wNwUOk/Lj0t3WRM5z8Sm7nxzx7lP2eKqnshz+I/uia2Adlk4D9DZ1+U4c7bP34wwFiUvNY/gkRu1zWh0T8wS5gPbxXJP7hE50HCGb4/c50TPAMIpT/knqDYW86gvy3jE8Y6fLq/FXc6TcPJxb809NrW08TNv96wdxvnj9K/w732T7zm1b/nX/4rduHYv6Lf3JPNe9u/6StJKqey3b+o0XC1D4Tfv1dkbcqad+C/sHmhuy/64L8CgIJCcErhvy6GLhyFaeG/biJWEA5Z4b+1nYboGBvhv1BNa54XsuC/qX8a49Ug4L/J/slD3NTev2FzREJ8JN2/kJU0xrY3279TSf7QDhbZvxX0x+lHx9a//fyn6E5T1L/wwys/I8LRvy+LXOuBN86/G+nCIRfQyL9dgvUcdF3Dv0vQw4wQ3bu/Ld7cfEMjsb+doeySbaKav8NtPblAzIs/Y4I+/WdXqj9XzxbjjFi2P+eg0nny7L4/xz4J7w1swz/U9y491gXHPz+r6tXgPco/MzR+onwPzT/SH3aTOHfPPwRQBA5wudA/8nGbQ7qA0T+yDS2skRHSP747VfecbNI/cPwxVAuT0j84xjbji4bSPwPzZypESdI/RB9tr8Xd0T8QpcbbAkfRPyAo5k9DiNA/RDbvky9Kzz+AW6aJm0LNP/vnu+XFAcs/KMoob/GPyD/OkzqCj/XFP4xwOMMnO8M//0kfjEBpwD9p0H6ZkBC7P3ZKoR8AQbU/MAgZSp3nrj+DrmVbpXCjP0i405lgdJA/hzxNauQDdb8FqznrSAyav4gd58jB36a/0rUxY1YMsL8OuXBBXU+0v5nQIQIqMbi/Vrepy0Kru7/7j/VCg7i+v66bjlmOqsC/zw9XU0m/wb+vjtsP2pnCv2P5cNFIOsO/ls4jKDihw79i9hcl3c/Dv2DoRlf2x8O/oVTitcGLw7+bhwue8R3Dv0Q6hwqhgcK/nlmcLEe6wb+om2WNqsvAvxwKG72nc7+/m69vQQESvb8=",
          "dtype": "f8"
         },
         "yaxis": "y4"
        }
       ],
       "layout": {
        "annotations": [
         {
          "font": {
           "size": 16
          },
          "showarrow": false,
          "text": "Sinus",
          "x": 0.225,
          "xanchor": "center",
          "xref": "paper",
          "y": 1,
          "yanchor": "bottom",
          "yref": "paper"
         },
         {
          "font": {
           "size": 16
          },
          "showarrow": false,
          "text": "Kosinus",
          "x": 0.775,
          "xanchor": "center",
          "xref": "paper",
          "y": 1,
          "yanchor": "bottom",
          "yref": "paper"
         },
         {
          "font": {
           "size": 16
          },
          "showarrow": false,
          "text": "Gedämpfter Sinus",
          "x": 0.225,
          "xanchor": "center",
          "xref": "paper",
          "y": 0.375,
          "yanchor": "bottom",
          "yref": "paper"
         },
         {
          "font": {
           "size": 16
          },
          "showarrow": false,
          "text": "Gedämpfter Kosinus",
          "x": 0.775,
          "xanchor": "center",
          "xref": "paper",
          "y": 0.375,
          "yanchor": "bottom",
          "yref": "paper"
         }
        ],
        "height": 700,
        "showlegend": false,
        "template": {
         "data": {
          "bar": [
           {
            "error_x": {
             "color": "#2a3f5f"
            },
            "error_y": {
             "color": "#2a3f5f"
            },
            "marker": {
             "line": {
              "color": "#E5ECF6",
              "width": 0.5
             },
             "pattern": {
              "fillmode": "overlay",
              "size": 10,
              "solidity": 0.2
             }
            },
            "type": "bar"
           }
          ],
          "barpolar": [
           {
            "marker": {
             "line": {
              "color": "#E5ECF6",
              "width": 0.5
             },
             "pattern": {
              "fillmode": "overlay",
              "size": 10,
              "solidity": 0.2
             }
            },
            "type": "barpolar"
           }
          ],
          "carpet": [
           {
            "aaxis": {
             "endlinecolor": "#2a3f5f",
             "gridcolor": "white",
             "linecolor": "white",
             "minorgridcolor": "white",
             "startlinecolor": "#2a3f5f"
            },
            "baxis": {
             "endlinecolor": "#2a3f5f",
             "gridcolor": "white",
             "linecolor": "white",
             "minorgridcolor": "white",
             "startlinecolor": "#2a3f5f"
            },
            "type": "carpet"
           }
          ],
          "choropleth": [
           {
            "colorbar": {
             "outlinewidth": 0,
             "ticks": ""
            },
            "type": "choropleth"
           }
          ],
          "contour": [
           {
            "colorbar": {
             "outlinewidth": 0,
             "ticks": ""
            },
            "colorscale": [
             [
              0,
              "#0d0887"
             ],
             [
              0.1111111111111111,
              "#46039f"
             ],
             [
              0.2222222222222222,
              "#7201a8"
             ],
             [
              0.3333333333333333,
              "#9c179e"
             ],
             [
              0.4444444444444444,
              "#bd3786"
             ],
             [
              0.5555555555555556,
              "#d8576b"
             ],
             [
              0.6666666666666666,
              "#ed7953"
             ],
             [
              0.7777777777777778,
              "#fb9f3a"
             ],
             [
              0.8888888888888888,
              "#fdca26"
             ],
             [
              1,
              "#f0f921"
             ]
            ],
            "type": "contour"
           }
          ],
          "contourcarpet": [
           {
            "colorbar": {
             "outlinewidth": 0,
             "ticks": ""
            },
            "type": "contourcarpet"
           }
          ],
          "heatmap": [
           {
            "colorbar": {
             "outlinewidth": 0,
             "ticks": ""
            },
            "colorscale": [
             [
              0,
              "#0d0887"
             ],
             [
              0.1111111111111111,
              "#46039f"
             ],
             [
              0.2222222222222222,
              "#7201a8"
             ],
             [
              0.3333333333333333,
              "#9c179e"
             ],
             [
              0.4444444444444444,
              "#bd3786"
             ],
             [
              0.5555555555555556,
              "#d8576b"
             ],
             [
              0.6666666666666666,
              "#ed7953"
             ],
             [
              0.7777777777777778,
              "#fb9f3a"
             ],
             [
              0.8888888888888888,
              "#fdca26"
             ],
             [
              1,
              "#f0f921"
             ]
            ],
            "type": "heatmap"
           }
          ],
          "histogram": [
           {
            "marker": {
             "pattern": {
              "fillmode": "overlay",
              "size": 10,
              "solidity": 0.2
             }
            },
            "type": "histogram"
           }
          ],
          "histogram2d": [
           {
            "colorbar": {
             "outlinewidth": 0,
             "ticks": ""
            },
            "colorscale": [
             [
              0,
              "#0d0887"
             ],
             [
              0.1111111111111111,
              "#46039f"
             ],
             [
              0.2222222222222222,
              "#7201a8"
             ],
             [
              0.3333333333333333,
              "#9c179e"
             ],
             [
              0.4444444444444444,
              "#bd3786"
             ],
             [
              0.5555555555555556,
              "#d8576b"
             ],
             [
              0.6666666666666666,
              "#ed7953"
             ],
             [
              0.7777777777777778,
              "#fb9f3a"
             ],
             [
              0.8888888888888888,
              "#fdca26"
             ],
             [
              1,
              "#f0f921"
             ]
            ],
            "type": "histogram2d"
           }
          ],
          "histogram2dcontour": [
           {
            "colorbar": {
             "outlinewidth": 0,
             "ticks": ""
            },
            "colorscale": [
             [
              0,
              "#0d0887"
             ],
             [
              0.1111111111111111,
              "#46039f"
             ],
             [
              0.2222222222222222,
              "#7201a8"
             ],
             [
              0.3333333333333333,
              "#9c179e"
             ],
             [
              0.4444444444444444,
              "#bd3786"
             ],
             [
              0.5555555555555556,
              "#d8576b"
             ],
             [
              0.6666666666666666,
              "#ed7953"
             ],
             [
              0.7777777777777778,
              "#fb9f3a"
             ],
             [
              0.8888888888888888,
              "#fdca26"
             ],
             [
              1,
              "#f0f921"
             ]
            ],
            "type": "histogram2dcontour"
           }
          ],
          "mesh3d": [
           {
            "colorbar": {
             "outlinewidth": 0,
             "ticks": ""
            },
            "type": "mesh3d"
           }
          ],
          "parcoords": [
           {
            "line": {
             "colorbar": {
              "outlinewidth": 0,
              "ticks": ""
             }
            },
            "type": "parcoords"
           }
          ],
          "pie": [
           {
            "automargin": true,
            "type": "pie"
           }
          ],
          "scatter": [
           {
            "fillpattern": {
             "fillmode": "overlay",
             "size": 10,
             "solidity": 0.2
            },
            "type": "scatter"
           }
          ],
          "scatter3d": [
           {
            "line": {
             "colorbar": {
              "outlinewidth": 0,
              "ticks": ""
             }
            },
            "marker": {
             "colorbar": {
              "outlinewidth": 0,
              "ticks": ""
             }
            },
            "type": "scatter3d"
           }
          ],
          "scattercarpet": [
           {
            "marker": {
             "colorbar": {
              "outlinewidth": 0,
              "ticks": ""
             }
            },
            "type": "scattercarpet"
           }
          ],
          "scattergeo": [
           {
            "marker": {
             "colorbar": {
              "outlinewidth": 0,
              "ticks": ""
             }
            },
            "type": "scattergeo"
           }
          ],
          "scattergl": [
           {
            "marker": {
             "colorbar": {
              "outlinewidth": 0,
              "ticks": ""
             }
            },
            "type": "scattergl"
           }
          ],
          "scattermap": [
           {
            "marker": {
             "colorbar": {
              "outlinewidth": 0,
              "ticks": ""
             }
            },
            "type": "scattermap"
           }
          ],
          "scattermapbox": [
           {
            "marker": {
             "colorbar": {
              "outlinewidth": 0,
              "ticks": ""
             }
            },
            "type": "scattermapbox"
           }
          ],
          "scatterpolar": [
           {
            "marker": {
             "colorbar": {
              "outlinewidth": 0,
              "ticks": ""
             }
            },
            "type": "scatterpolar"
           }
          ],
          "scatterpolargl": [
           {
            "marker": {
             "colorbar": {
              "outlinewidth": 0,
              "ticks": ""
             }
            },
            "type": "scatterpolargl"
           }
          ],
          "scatterternary": [
           {
            "marker": {
             "colorbar": {
              "outlinewidth": 0,
              "ticks": ""
             }
            },
            "type": "scatterternary"
           }
          ],
          "surface": [
           {
            "colorbar": {
             "outlinewidth": 0,
             "ticks": ""
            },
            "colorscale": [
             [
              0,
              "#0d0887"
             ],
             [
              0.1111111111111111,
              "#46039f"
             ],
             [
              0.2222222222222222,
              "#7201a8"
             ],
             [
              0.3333333333333333,
              "#9c179e"
             ],
             [
              0.4444444444444444,
              "#bd3786"
             ],
             [
              0.5555555555555556,
              "#d8576b"
             ],
             [
              0.6666666666666666,
              "#ed7953"
             ],
             [
              0.7777777777777778,
              "#fb9f3a"
             ],
             [
              0.8888888888888888,
              "#fdca26"
             ],
             [
              1,
              "#f0f921"
             ]
            ],
            "type": "surface"
           }
          ],
          "table": [
           {
            "cells": {
             "fill": {
              "color": "#EBF0F8"
             },
             "line": {
              "color": "white"
             }
            },
            "header": {
             "fill": {
              "color": "#C8D4E3"
             },
             "line": {
              "color": "white"
             }
            },
            "type": "table"
           }
          ]
         },
         "layout": {
          "annotationdefaults": {
           "arrowcolor": "#2a3f5f",
           "arrowhead": 0,
           "arrowwidth": 1
          },
          "autotypenumbers": "strict",
          "coloraxis": {
           "colorbar": {
            "outlinewidth": 0,
            "ticks": ""
           }
          },
          "colorscale": {
           "diverging": [
            [
             0,
             "#8e0152"
            ],
            [
             0.1,
             "#c51b7d"
            ],
            [
             0.2,
             "#de77ae"
            ],
            [
             0.3,
             "#f1b6da"
            ],
            [
             0.4,
             "#fde0ef"
            ],
            [
             0.5,
             "#f7f7f7"
            ],
            [
             0.6,
             "#e6f5d0"
            ],
            [
             0.7,
             "#b8e186"
            ],
            [
             0.8,
             "#7fbc41"
            ],
            [
             0.9,
             "#4d9221"
            ],
            [
             1,
             "#276419"
            ]
           ],
           "sequential": [
            [
             0,
             "#0d0887"
            ],
            [
             0.1111111111111111,
             "#46039f"
            ],
            [
             0.2222222222222222,
             "#7201a8"
            ],
            [
             0.3333333333333333,
             "#9c179e"
            ],
            [
             0.4444444444444444,
             "#bd3786"
            ],
            [
             0.5555555555555556,
             "#d8576b"
            ],
            [
             0.6666666666666666,
             "#ed7953"
            ],
            [
             0.7777777777777778,
             "#fb9f3a"
            ],
            [
             0.8888888888888888,
             "#fdca26"
            ],
            [
             1,
             "#f0f921"
            ]
           ],
           "sequentialminus": [
            [
             0,
             "#0d0887"
            ],
            [
             0.1111111111111111,
             "#46039f"
            ],
            [
             0.2222222222222222,
             "#7201a8"
            ],
            [
             0.3333333333333333,
             "#9c179e"
            ],
            [
             0.4444444444444444,
             "#bd3786"
            ],
            [
             0.5555555555555556,
             "#d8576b"
            ],
            [
             0.6666666666666666,
             "#ed7953"
            ],
            [
             0.7777777777777778,
             "#fb9f3a"
            ],
            [
             0.8888888888888888,
             "#fdca26"
            ],
            [
             1,
             "#f0f921"
            ]
           ]
          },
          "colorway": [
           "#636efa",
           "#EF553B",
           "#00cc96",
           "#ab63fa",
           "#FFA15A",
           "#19d3f3",
           "#FF6692",
           "#B6E880",
           "#FF97FF",
           "#FECB52"
          ],
          "font": {
           "color": "#2a3f5f"
          },
          "geo": {
           "bgcolor": "white",
           "lakecolor": "white",
           "landcolor": "#E5ECF6",
           "showlakes": true,
           "showland": true,
           "subunitcolor": "white"
          },
          "hoverlabel": {
           "align": "left"
          },
          "hovermode": "closest",
          "mapbox": {
           "style": "light"
          },
          "paper_bgcolor": "white",
          "plot_bgcolor": "#E5ECF6",
          "polar": {
           "angularaxis": {
            "gridcolor": "white",
            "linecolor": "white",
            "ticks": ""
           },
           "bgcolor": "#E5ECF6",
           "radialaxis": {
            "gridcolor": "white",
            "linecolor": "white",
            "ticks": ""
           }
          },
          "scene": {
           "xaxis": {
            "backgroundcolor": "#E5ECF6",
            "gridcolor": "white",
            "gridwidth": 2,
            "linecolor": "white",
            "showbackground": true,
            "ticks": "",
            "zerolinecolor": "white"
           },
           "yaxis": {
            "backgroundcolor": "#E5ECF6",
            "gridcolor": "white",
            "gridwidth": 2,
            "linecolor": "white",
            "showbackground": true,
            "ticks": "",
            "zerolinecolor": "white"
           },
           "zaxis": {
            "backgroundcolor": "#E5ECF6",
            "gridcolor": "white",
            "gridwidth": 2,
            "linecolor": "white",
            "showbackground": true,
            "ticks": "",
            "zerolinecolor": "white"
           }
          },
          "shapedefaults": {
           "line": {
            "color": "#2a3f5f"
           }
          },
          "ternary": {
           "aaxis": {
            "gridcolor": "white",
            "linecolor": "white",
            "ticks": ""
           },
           "baxis": {
            "gridcolor": "white",
            "linecolor": "white",
            "ticks": ""
           },
           "bgcolor": "#E5ECF6",
           "caxis": {
            "gridcolor": "white",
            "linecolor": "white",
            "ticks": ""
           }
          },
          "title": {
           "x": 0.05
          },
          "xaxis": {
           "automargin": true,
           "gridcolor": "white",
           "linecolor": "white",
           "ticks": "",
           "title": {
            "standoff": 15
           },
           "zerolinecolor": "white",
           "zerolinewidth": 2
          },
          "yaxis": {
           "automargin": true,
           "gridcolor": "white",
           "linecolor": "white",
           "ticks": "",
           "title": {
            "standoff": 15
           },
           "zerolinecolor": "white",
           "zerolinewidth": 2
          }
         }
        },
        "title": {
         "text": "Trigonometrische Funktionen als Subplots"
        },
        "xaxis": {
         "anchor": "y",
         "domain": [
          0,
          0.45
         ]
        },
        "xaxis2": {
         "anchor": "y2",
         "domain": [
          0.55,
          1
         ]
        },
        "xaxis3": {
         "anchor": "y3",
         "domain": [
          0,
          0.45
         ]
        },
        "xaxis4": {
         "anchor": "y4",
         "domain": [
          0.55,
          1
         ]
        },
        "yaxis": {
         "anchor": "x",
         "domain": [
          0.625,
          1
         ]
        },
        "yaxis2": {
         "anchor": "x2",
         "domain": [
          0.625,
          1
         ]
        },
        "yaxis3": {
         "anchor": "x3",
         "domain": [
          0,
          0.375
         ]
        },
        "yaxis4": {
         "anchor": "x4",
         "domain": [
          0,
          0.375
         ]
        }
       }
      },
      "image/png": "[encoded data removed]"
     },
     "metadata": {},
     "output_type": "display_data"
    }
   ],
   "source": [
    "import plotly.graph_objects as go\n",
    "from plotly.subplots import make_subplots\n",
    "import numpy as np\n",
    "import pandas as pd\n",
    "\n",
    "# Daten generieren\n",
    "x = np.linspace(0, 10, 100)\n",
    "y1 = np.sin(x)\n",
    "y2 = np.cos(x)\n",
    "y3 = np.sin(x) * np.exp(-0.2*x)\n",
    "y4 = np.cos(x) * np.exp(-0.2*x)\n",
    "\n",
    "# 2x2 Subplot-Grid erstellen\n",
    "fig = make_subplots(\n",
    "    rows=2, cols=2,\n",
    "    subplot_titles=(\"Sinus\", \"Kosinus\", \"Gedämpfter Sinus\", \"Gedämpfter Kosinus\")\n",
    ")\n",
    "\n",
    "# Traces zu den entsprechenden Subplots hinzufügen\n",
    "fig.add_trace(\n",
    "    go.Scatter(x=x, y=y1, mode='lines', name='sin(x)'),\n",
    "    row=1, col=1\n",
    ")\n",
    "\n",
    "fig.add_trace(\n",
    "    go.Scatter(x=x, y=y2, mode='lines', name='cos(x)'),\n",
    "    row=1, col=2\n",
    ")\n",
    "\n",
    "fig.add_trace(\n",
    "    go.Scatter(x=x, y=y3, mode='lines', name='sin(x)*e^(-0.2x)'),\n",
    "    row=2, col=1\n",
    ")\n",
    "\n",
    "fig.add_trace(\n",
    "    go.Scatter(x=x, y=y4, mode='lines', name='cos(x)*e^(-0.2x)'),\n",
    "    row=2, col=2\n",
    ")\n",
    "\n",
    "# Layout anpassen\n",
    "fig.update_layout(\n",
    "    height=700,\n",
    "    title_text=\"Trigonometrische Funktionen als Subplots\",\n",
    "    showlegend=False\n",
    ")\n",
    "\n",
    "fig.show()"
   ]
  },
  {
   "cell_type": "markdown",
   "id": "c8df4f7d-1401-4b5b-915e-eb5263b389bb",
   "metadata": {},
   "source": [
    "**Erklärung:**\n",
    "- Mit `make_subplots` erstellst du ein Raster von Plots mit angegebenen Zeilen und Spalten\n",
    "- `subplot_titles` setzt Titel für jeden einzelnen Subplot\n",
    "- Mit `add_trace` fügst du Visualisierungen zu spezifischen Positionen (Zeile, Spalte) hinzu\n",
    "- Das resultierende Diagramm zeigt vier verschiedene Funktionen in separaten Teildiagrammen\n",
    "\n",
    "### Beispiel 2: Anpassung der Subplot-Größen"
   ]
  },
  {
   "cell_type": "code",
   "execution_count": 2,
   "id": "9efc3ace-6251-42ce-ad96-58af3dd13991",
   "metadata": {},
   "outputs": [
    {
     "data": {
      "application/vnd.plotly.v1+json": {
       "config": {
        "plotlyServerURL": "https://plot.ly"
       },
       "data": [
        {
         "marker": {
          "color": "royalblue"
         },
         "type": "bar",
         "x": [
          "A",
          "B",
          "C",
          "D",
          "E"
         ],
         "xaxis": "x",
         "y": {
          "bdata": "PRhRRh4=",
          "dtype": "i1"
         },
         "yaxis": "y"
        },
        {
         "domain": {
          "x": [
           0.64,
           1
          ],
          "y": [
           0.7,
           1
          ]
         },
         "hole": 0.3,
         "labels": [
          "A",
          "B",
          "C",
          "D",
          "E"
         ],
         "type": "pie",
         "values": {
          "bdata": "PRhRRh4=",
          "dtype": "i1"
         }
        },
        {
         "mode": "lines+markers",
         "type": "scatter",
         "x": {
          "bdata": "AAAAAAAAAAAxb2dIzNu5PzFvZ0jM28k/ZZNNNtlk0z8xb2dIzNvZP3+lQK1fKeA/ZZNNNtlk4z9LgVq/UqDmPzFvZ0jM2+k/F1100UUX7T9/pUCtXynwP3Icx3Ecx/E/ZZNNNtlk8z9YCtT6lQL1P0uBWr9SoPY/Pvjggw8++D8xb2dIzNv5PyTm7QyJefs/F1100UUX/T8K1PqVArX+P3+lQK1fKQBA+OCDDz74AEByHMdxHMcBQOtXCtT6lQJAZZNNNtlkA0DezpCYtzMEQFgK1PqVAgVA0UUXXXTRBUBLgVq/UqAGQMS8nSExbwdAPvjggw8+CEC3MyTm7QwJQDFvZ0jM2wlAq6qqqqqqCkAk5u0MiXkLQJ4hMW9nSAxAF1100UUXDUCRmLczJOYNQArU+pUCtQ5AhA8++OCDD0B/pUCtXykQQDtDYt7OkBBA+OCDDz74EEC1fqVArV8RQHIcx3EcxxFALrrooosuEkDrVwrU+pUSQKj1KwVq/RJAZZNNNtlkE0AiMW9nSMwTQN7OkJi3MxRAm2yyySabFEBYCtT6lQIVQBWo9SsFahVA0UUXXXTRFUCO4ziO4zgWQEuBWr9SoBZACB988MEHF0DEvJ0hMW8XQIFav1Kg1hdAPvjggw8+GED7lQK1fqUYQLczJObtDBlAdNFFF110GUAxb2dIzNsZQO4MiXk7QxpAq6qqqqqqGkBnSMzbGRIbQCTm7QyJeRtA4YMPPvjgG0CeITFvZ0gcQFq/UqDWrxxAF1100UUXHUDU+pUCtX4dQJGYtzMk5h1ATTbZZJNNHkAK1PqVArUeQMdxHMdxHB9AhA8++OCDH0BArV8pUOsfQH+lQK1fKSBAXXTRRRddIEA7Q2LezpAgQBoS83aGxCBA+OCDDz74IEDXrxSo9SshQLV+pUCtXyFAk0022WSTIUByHMdxHMchQFDrVwrU+iFALrrooosuIkANiXk7Q2IiQOtXCtT6lSJAyiabbLLJIkCo9SsFav0iQIbEvJ0hMSNAZZNNNtlkI0BDYt7OkJgjQCIxb2dIzCNAAAAAAAAAJEA=",
          "dtype": "f8"
         },
         "xaxis": "x2",
         "y": {
          "bdata": "AIWssjD6l7/kk+ZTG9KzP3g+FirQ8tY/GVVIq5MC2D8Ubami9ifWPzIeBIYtOOE/YniLks++4D9SiDRIE0zjP0GMQ4y56Oc//Form64f4z+Nj+dDopTlP+Bmbgb74Oo/X0J24fi46j+Z3hl4/vLvP2BTKkfVs+w/qlwHiFxu6z9DFZObHVTyP8IWnNRw7+4/o2KO4+s97z/pzGY4r4TpP5/3XeWeFOs/bvrmuveg6z/yzBd8jMPlP6BdpY0lkOg/pQ4nNUwd4z+RPZqFc5DhP9xPYmuPsNs/10GtGzjP4j8tYyQrlaPTPy5lIVou3bo/rqKqzoe+yD8wHpAIQZ+8v/mHVu8n2bG/ThJhMf282L82iuN1T/javzid3apqS9e/3hQHgLap2b/2f5i2mWjhv8quQMIJ6OS/FJuOm67e578ONDV7Kcbtv5yWA4g8Ou2/qC8RqTYB7r9AMgxBuXbqv1+dkpcxwu2/yCL/qjOZ8r/ar48vt+Tuv4g3Mnc1m/C/bw4nfWTv8L/TF/KytyXtvxK4MZ+V4+q/3QXL/t376b/8FfQyQyHuv3kBomx2ouq/bkypzTyG5r/CsLVUWCniv3WjxPxoTOS/i7AdVFmm4L+lxD9BDbngv9jecj2DAdy/FXwAY+vawb94aAZRrGWNP8Xs0a3AbJy/GS1FBMEhxz+VhUejjLrLP1Mea4N9a8s/tgduTjRC2j8FESrSc9PjP2t/rZGxkeE/s5dxkDJK6T8Y9M+Wn5XcP89r/lx/d+s/Y4SdaPkF6z/jEw8wZGzrP+WulK8dBe4/8MH2AcJo6D/WbExAv8vuP+g+oeJihvA/8ESR0RVc8j+VWgoLrhbuP3lMJQjYl+w/xHnjFKqw7D9N9QQPCgTwP5Ui2YcFquw/uJ+oFTIl6D+2EmZArHLpP3OIrOyh1uU/CiLyOVch5j8V4JcHhS/cP2MBL3+/3dg/BttzUJ520j+s1cz8zJu1P6Bzpbk8nsQ/qnqouSInrT8lSQIaetGxv/RnNcCezsi/8PyaUKtD2r8hhOpcxQbav6Qo41MNa9+/3u3estj5478=",
          "dtype": "f8"
         },
         "yaxis": "y2"
        }
       ],
       "layout": {
        "annotations": [
         {
          "font": {
           "size": 16
          },
          "showarrow": false,
          "text": "Balkendiagramm",
          "x": 0.27,
          "xanchor": "center",
          "xref": "paper",
          "y": 1,
          "yanchor": "bottom",
          "yref": "paper"
         },
         {
          "font": {
           "size": 16
          },
          "showarrow": false,
          "text": "Kreisdiagramm",
          "x": 0.8200000000000001,
          "xanchor": "center",
          "xref": "paper",
          "y": 1,
          "yanchor": "bottom",
          "yref": "paper"
         },
         {
          "font": {
           "size": 16
          },
          "showarrow": false,
          "text": "Liniendiagramm",
          "x": 0.5,
          "xanchor": "center",
          "xref": "paper",
          "y": 0.44999999999999996,
          "yanchor": "bottom",
          "yref": "paper"
         }
        ],
        "height": 700,
        "showlegend": false,
        "template": {
         "data": {
          "bar": [
           {
            "error_x": {
             "color": "#2a3f5f"
            },
            "error_y": {
             "color": "#2a3f5f"
            },
            "marker": {
             "line": {
              "color": "#E5ECF6",
              "width": 0.5
             },
             "pattern": {
              "fillmode": "overlay",
              "size": 10,
              "solidity": 0.2
             }
            },
            "type": "bar"
           }
          ],
          "barpolar": [
           {
            "marker": {
             "line": {
              "color": "#E5ECF6",
              "width": 0.5
             },
             "pattern": {
              "fillmode": "overlay",
              "size": 10,
              "solidity": 0.2
             }
            },
            "type": "barpolar"
           }
          ],
          "carpet": [
           {
            "aaxis": {
             "endlinecolor": "#2a3f5f",
             "gridcolor": "white",
             "linecolor": "white",
             "minorgridcolor": "white",
             "startlinecolor": "#2a3f5f"
            },
            "baxis": {
             "endlinecolor": "#2a3f5f",
             "gridcolor": "white",
             "linecolor": "white",
             "minorgridcolor": "white",
             "startlinecolor": "#2a3f5f"
            },
            "type": "carpet"
           }
          ],
          "choropleth": [
           {
            "colorbar": {
             "outlinewidth": 0,
             "ticks": ""
            },
            "type": "choropleth"
           }
          ],
          "contour": [
           {
            "colorbar": {
             "outlinewidth": 0,
             "ticks": ""
            },
            "colorscale": [
             [
              0,
              "#0d0887"
             ],
             [
              0.1111111111111111,
              "#46039f"
             ],
             [
              0.2222222222222222,
              "#7201a8"
             ],
             [
              0.3333333333333333,
              "#9c179e"
             ],
             [
              0.4444444444444444,
              "#bd3786"
             ],
             [
              0.5555555555555556,
              "#d8576b"
             ],
             [
              0.6666666666666666,
              "#ed7953"
             ],
             [
              0.7777777777777778,
              "#fb9f3a"
             ],
             [
              0.8888888888888888,
              "#fdca26"
             ],
             [
              1,
              "#f0f921"
             ]
            ],
            "type": "contour"
           }
          ],
          "contourcarpet": [
           {
            "colorbar": {
             "outlinewidth": 0,
             "ticks": ""
            },
            "type": "contourcarpet"
           }
          ],
          "heatmap": [
           {
            "colorbar": {
             "outlinewidth": 0,
             "ticks": ""
            },
            "colorscale": [
             [
              0,
              "#0d0887"
             ],
             [
              0.1111111111111111,
              "#46039f"
             ],
             [
              0.2222222222222222,
              "#7201a8"
             ],
             [
              0.3333333333333333,
              "#9c179e"
             ],
             [
              0.4444444444444444,
              "#bd3786"
             ],
             [
              0.5555555555555556,
              "#d8576b"
             ],
             [
              0.6666666666666666,
              "#ed7953"
             ],
             [
              0.7777777777777778,
              "#fb9f3a"
             ],
             [
              0.8888888888888888,
              "#fdca26"
             ],
             [
              1,
              "#f0f921"
             ]
            ],
            "type": "heatmap"
           }
          ],
          "histogram": [
           {
            "marker": {
             "pattern": {
              "fillmode": "overlay",
              "size": 10,
              "solidity": 0.2
             }
            },
            "type": "histogram"
           }
          ],
          "histogram2d": [
           {
            "colorbar": {
             "outlinewidth": 0,
             "ticks": ""
            },
            "colorscale": [
             [
              0,
              "#0d0887"
             ],
             [
              0.1111111111111111,
              "#46039f"
             ],
             [
              0.2222222222222222,
              "#7201a8"
             ],
             [
              0.3333333333333333,
              "#9c179e"
             ],
             [
              0.4444444444444444,
              "#bd3786"
             ],
             [
              0.5555555555555556,
              "#d8576b"
             ],
             [
              0.6666666666666666,
              "#ed7953"
             ],
             [
              0.7777777777777778,
              "#fb9f3a"
             ],
             [
              0.8888888888888888,
              "#fdca26"
             ],
             [
              1,
              "#f0f921"
             ]
            ],
            "type": "histogram2d"
           }
          ],
          "histogram2dcontour": [
           {
            "colorbar": {
             "outlinewidth": 0,
             "ticks": ""
            },
            "colorscale": [
             [
              0,
              "#0d0887"
             ],
             [
              0.1111111111111111,
              "#46039f"
             ],
             [
              0.2222222222222222,
              "#7201a8"
             ],
             [
              0.3333333333333333,
              "#9c179e"
             ],
             [
              0.4444444444444444,
              "#bd3786"
             ],
             [
              0.5555555555555556,
              "#d8576b"
             ],
             [
              0.6666666666666666,
              "#ed7953"
             ],
             [
              0.7777777777777778,
              "#fb9f3a"
             ],
             [
              0.8888888888888888,
              "#fdca26"
             ],
             [
              1,
              "#f0f921"
             ]
            ],
            "type": "histogram2dcontour"
           }
          ],
          "mesh3d": [
           {
            "colorbar": {
             "outlinewidth": 0,
             "ticks": ""
            },
            "type": "mesh3d"
           }
          ],
          "parcoords": [
           {
            "line": {
             "colorbar": {
              "outlinewidth": 0,
              "ticks": ""
             }
            },
            "type": "parcoords"
           }
          ],
          "pie": [
           {
            "automargin": true,
            "type": "pie"
           }
          ],
          "scatter": [
           {
            "fillpattern": {
             "fillmode": "overlay",
             "size": 10,
             "solidity": 0.2
            },
            "type": "scatter"
           }
          ],
          "scatter3d": [
           {
            "line": {
             "colorbar": {
              "outlinewidth": 0,
              "ticks": ""
             }
            },
            "marker": {
             "colorbar": {
              "outlinewidth": 0,
              "ticks": ""
             }
            },
            "type": "scatter3d"
           }
          ],
          "scattercarpet": [
           {
            "marker": {
             "colorbar": {
              "outlinewidth": 0,
              "ticks": ""
             }
            },
            "type": "scattercarpet"
           }
          ],
          "scattergeo": [
           {
            "marker": {
             "colorbar": {
              "outlinewidth": 0,
              "ticks": ""
             }
            },
            "type": "scattergeo"
           }
          ],
          "scattergl": [
           {
            "marker": {
             "colorbar": {
              "outlinewidth": 0,
              "ticks": ""
             }
            },
            "type": "scattergl"
           }
          ],
          "scattermap": [
           {
            "marker": {
             "colorbar": {
              "outlinewidth": 0,
              "ticks": ""
             }
            },
            "type": "scattermap"
           }
          ],
          "scattermapbox": [
           {
            "marker": {
             "colorbar": {
              "outlinewidth": 0,
              "ticks": ""
             }
            },
            "type": "scattermapbox"
           }
          ],
          "scatterpolar": [
           {
            "marker": {
             "colorbar": {
              "outlinewidth": 0,
              "ticks": ""
             }
            },
            "type": "scatterpolar"
           }
          ],
          "scatterpolargl": [
           {
            "marker": {
             "colorbar": {
              "outlinewidth": 0,
              "ticks": ""
             }
            },
            "type": "scatterpolargl"
           }
          ],
          "scatterternary": [
           {
            "marker": {
             "colorbar": {
              "outlinewidth": 0,
              "ticks": ""
             }
            },
            "type": "scatterternary"
           }
          ],
          "surface": [
           {
            "colorbar": {
             "outlinewidth": 0,
             "ticks": ""
            },
            "colorscale": [
             [
              0,
              "#0d0887"
             ],
             [
              0.1111111111111111,
              "#46039f"
             ],
             [
              0.2222222222222222,
              "#7201a8"
             ],
             [
              0.3333333333333333,
              "#9c179e"
             ],
             [
              0.4444444444444444,
              "#bd3786"
             ],
             [
              0.5555555555555556,
              "#d8576b"
             ],
             [
              0.6666666666666666,
              "#ed7953"
             ],
             [
              0.7777777777777778,
              "#fb9f3a"
             ],
             [
              0.8888888888888888,
              "#fdca26"
             ],
             [
              1,
              "#f0f921"
             ]
            ],
            "type": "surface"
           }
          ],
          "table": [
           {
            "cells": {
             "fill": {
              "color": "#EBF0F8"
             },
             "line": {
              "color": "white"
             }
            },
            "header": {
             "fill": {
              "color": "#C8D4E3"
             },
             "line": {
              "color": "white"
             }
            },
            "type": "table"
           }
          ]
         },
         "layout": {
          "annotationdefaults": {
           "arrowcolor": "#2a3f5f",
           "arrowhead": 0,
           "arrowwidth": 1
          },
          "autotypenumbers": "strict",
          "coloraxis": {
           "colorbar": {
            "outlinewidth": 0,
            "ticks": ""
           }
          },
          "colorscale": {
           "diverging": [
            [
             0,
             "#8e0152"
            ],
            [
             0.1,
             "#c51b7d"
            ],
            [
             0.2,
             "#de77ae"
            ],
            [
             0.3,
             "#f1b6da"
            ],
            [
             0.4,
             "#fde0ef"
            ],
            [
             0.5,
             "#f7f7f7"
            ],
            [
             0.6,
             "#e6f5d0"
            ],
            [
             0.7,
             "#b8e186"
            ],
            [
             0.8,
             "#7fbc41"
            ],
            [
             0.9,
             "#4d9221"
            ],
            [
             1,
             "#276419"
            ]
           ],
           "sequential": [
            [
             0,
             "#0d0887"
            ],
            [
             0.1111111111111111,
             "#46039f"
            ],
            [
             0.2222222222222222,
             "#7201a8"
            ],
            [
             0.3333333333333333,
             "#9c179e"
            ],
            [
             0.4444444444444444,
             "#bd3786"
            ],
            [
             0.5555555555555556,
             "#d8576b"
            ],
            [
             0.6666666666666666,
             "#ed7953"
            ],
            [
             0.7777777777777778,
             "#fb9f3a"
            ],
            [
             0.8888888888888888,
             "#fdca26"
            ],
            [
             1,
             "#f0f921"
            ]
           ],
           "sequentialminus": [
            [
             0,
             "#0d0887"
            ],
            [
             0.1111111111111111,
             "#46039f"
            ],
            [
             0.2222222222222222,
             "#7201a8"
            ],
            [
             0.3333333333333333,
             "#9c179e"
            ],
            [
             0.4444444444444444,
             "#bd3786"
            ],
            [
             0.5555555555555556,
             "#d8576b"
            ],
            [
             0.6666666666666666,
             "#ed7953"
            ],
            [
             0.7777777777777778,
             "#fb9f3a"
            ],
            [
             0.8888888888888888,
             "#fdca26"
            ],
            [
             1,
             "#f0f921"
            ]
           ]
          },
          "colorway": [
           "#636efa",
           "#EF553B",
           "#00cc96",
           "#ab63fa",
           "#FFA15A",
           "#19d3f3",
           "#FF6692",
           "#B6E880",
           "#FF97FF",
           "#FECB52"
          ],
          "font": {
           "color": "#2a3f5f"
          },
          "geo": {
           "bgcolor": "white",
           "lakecolor": "white",
           "landcolor": "#E5ECF6",
           "showlakes": true,
           "showland": true,
           "subunitcolor": "white"
          },
          "hoverlabel": {
           "align": "left"
          },
          "hovermode": "closest",
          "mapbox": {
           "style": "light"
          },
          "paper_bgcolor": "white",
          "plot_bgcolor": "#E5ECF6",
          "polar": {
           "angularaxis": {
            "gridcolor": "white",
            "linecolor": "white",
            "ticks": ""
           },
           "bgcolor": "#E5ECF6",
           "radialaxis": {
            "gridcolor": "white",
            "linecolor": "white",
            "ticks": ""
           }
          },
          "scene": {
           "xaxis": {
            "backgroundcolor": "#E5ECF6",
            "gridcolor": "white",
            "gridwidth": 2,
            "linecolor": "white",
            "showbackground": true,
            "ticks": "",
            "zerolinecolor": "white"
           },
           "yaxis": {
            "backgroundcolor": "#E5ECF6",
            "gridcolor": "white",
            "gridwidth": 2,
            "linecolor": "white",
            "showbackground": true,
            "ticks": "",
            "zerolinecolor": "white"
           },
           "zaxis": {
            "backgroundcolor": "#E5ECF6",
            "gridcolor": "white",
            "gridwidth": 2,
            "linecolor": "white",
            "showbackground": true,
            "ticks": "",
            "zerolinecolor": "white"
           }
          },
          "shapedefaults": {
           "line": {
            "color": "#2a3f5f"
           }
          },
          "ternary": {
           "aaxis": {
            "gridcolor": "white",
            "linecolor": "white",
            "ticks": ""
           },
           "baxis": {
            "gridcolor": "white",
            "linecolor": "white",
            "ticks": ""
           },
           "bgcolor": "#E5ECF6",
           "caxis": {
            "gridcolor": "white",
            "linecolor": "white",
            "ticks": ""
           }
          },
          "title": {
           "x": 0.05
          },
          "xaxis": {
           "automargin": true,
           "gridcolor": "white",
           "linecolor": "white",
           "ticks": "",
           "title": {
            "standoff": 15
           },
           "zerolinecolor": "white",
           "zerolinewidth": 2
          },
          "yaxis": {
           "automargin": true,
           "gridcolor": "white",
           "linecolor": "white",
           "ticks": "",
           "title": {
            "standoff": 15
           },
           "zerolinecolor": "white",
           "zerolinewidth": 2
          }
         }
        },
        "title": {
         "text": "Verschiedene Diagrammtypen in angepasstem Layout"
        },
        "xaxis": {
         "anchor": "y",
         "domain": [
          0,
          0.54
         ]
        },
        "xaxis2": {
         "anchor": "y2",
         "domain": [
          0,
          1
         ]
        },
        "yaxis": {
         "anchor": "x",
         "domain": [
          0.7,
          1
         ]
        },
        "yaxis2": {
         "anchor": "x2",
         "domain": [
          0,
          0.44999999999999996
         ]
        }
       }
      },
      "image/png": "[encoded data removed]"
     },
     "metadata": {},
     "output_type": "display_data"
    }
   ],
   "source": [
    "# Daten generieren\n",
    "np.random.seed(42)\n",
    "kategorien = ['A', 'B', 'C', 'D', 'E']\n",
    "werte = np.random.randint(10, 100, size=len(kategorien))\n",
    "\n",
    "# Subplots mit angepassten Größen erstellen\n",
    "fig = make_subplots(\n",
    "    rows=2, cols=2,\n",
    "    subplot_titles=(\"Balkendiagramm\", \"Kreisdiagramm\", \"Liniendiagramm\", \"Streudiagramm\"),\n",
    "    specs=[\n",
    "        [{\"type\": \"xy\"}, {\"type\": \"domain\"}],  # Erste Zeile: Standard XY-Plot und Domain-Plot (für Pie)\n",
    "        [{\"colspan\": 2}, None]                  # Zweite Zeile: Ein Plot über die gesamte Breite\n",
    "    ],\n",
    "    column_widths=[0.6, 0.4],  # Unterschiedliche Spaltenbreiten\n",
    "    row_heights=[0.4, 0.6]     # Unterschiedliche Zeilenhöhen\n",
    ")\n",
    "\n",
    "# Balkendiagramm hinzufügen\n",
    "fig.add_trace(\n",
    "    go.Bar(x=kategorien, y=werte, marker_color='royalblue'),\n",
    "    row=1, col=1\n",
    ")\n",
    "\n",
    "# Kreisdiagramm hinzufügen (nutzt 'domain' type)\n",
    "fig.add_trace(\n",
    "    go.Pie(labels=kategorien, values=werte, hole=0.3),\n",
    "    row=1, col=2\n",
    ")\n",
    "\n",
    "# Liniendiagramm über die ganze Breite hinzufügen\n",
    "x = np.linspace(0, 10, 100)\n",
    "y = np.sin(x) + np.random.normal(0, 0.1, 100)\n",
    "fig.add_trace(\n",
    "    go.Scatter(x=x, y=y, mode='lines+markers'),\n",
    "    row=2, col=1  # Wird über die gesamte Breite angezeigt wegen colspan\n",
    ")\n",
    "\n",
    "# Layout anpassen\n",
    "fig.update_layout(\n",
    "    height=700, \n",
    "    title_text=\"Verschiedene Diagrammtypen in angepasstem Layout\",\n",
    "    showlegend=False\n",
    ")\n",
    "\n",
    "fig.show()"
   ]
  },
  {
   "cell_type": "markdown",
   "id": "283afc57-10db-4694-bd44-4e763614cd01",
   "metadata": {},
   "source": [
    "**Erklärung:**\n",
    "- Mit `specs` kannst du die Eigenschaften jedes Subplot-Bereichs definieren\n",
    "- `{\"colspan\": 2}` lässt einen Plot über mehrere Spalten hinweg erstrecken\n",
    "- `{\"type\": \"domain\"}` ermöglicht kreisförmige Diagrammtypen wie Pie-Charts\n",
    "- `column_widths` und `row_heights` steuern die relativen Größen der Zeilen und Spalten\n",
    "\n",
    "## 2 Gemeinsame Achsen und Sekundärachsen\n",
    "\n",
    "### Beispiel 1: Subplots mit gemeinsamen Achsen"
   ]
  },
  {
   "cell_type": "code",
   "execution_count": 3,
   "id": "8032da3d-e7dc-44ba-a07f-5b3f8b1315f8",
   "metadata": {},
   "outputs": [
    {
     "data": {
      "application/vnd.plotly.v1+json": {
       "config": {
        "plotlyServerURL": "https://plot.ly"
       },
       "data": [
        {
         "marker": {
          "color": "blue",
          "opacity": 0.7
         },
         "mode": "markers",
         "name": "Alle Daten",
         "type": "scatter",
         "x": {
          "bdata": "fDCpKCrK3z8qBd4FpbLBv2heJFDdueQ/K6oBjlRe+D9AplffvPjNvzvbcCYz+M2/CHRAqHRE+T/z1/BG047oP4ueeUveC96/fS1q4aZc4T9wG8Guoqjdv+fvFiuEzt2/cPmepZ74zj++Ne6+y5z+vxLk7nBDmfu/YzyhakL+4b95UaNnjjTwvx+GFtigHNQ/+wOLgYgO7b/IExTEy5j2v0ENnx9Mc/c/2Zhm4TzmzL/GNbFGh0mxP2InDcHEy/a/KPrKUZVr4b81BjE/bGW8PxX1zj14avK/6N19s28L2D/SOz2hbjjjv6DS80Icq9K/p/2pOS5B479X9hhz7qL9P4KDsNZupIu/RMyHS2Ls8L83Lh+1SVLqPxx64lmTiPO/tWnv0gq8yj/DMFAPz1r/v/9asANAQPW/QDr0vL8yyT++nUiqhKHnPwwupFVl78U/XzGyNiCbvb/hr1BvSEXTvwa4sKwGqPe/J6aouPYI57/ZriIKG3vdv2LC1/746fA/iEEAkdf91T9OFQ2YaTX8vzhYbbDKvdQ/QA8qJjCl2L9NOahTWKnlv/nsCSfakuM/1Pz0Wvl+8D8enOD2C83tP1MVD7Xe2uq/zylztCLK07+KTA+JazPVPwBoGGqqN+8/VWYobMqq3r8Tbn1grMPHvzBuPE2Ms/G/9PWajqkj87+w1UonNgDqP/3Ng74os/U/+iMrXUFvsr9qgA6DeA7wP0KkKG0LJdc/rwoBL9Kk5L+P6aQIGyHXPyBgEDvMm/g/URmlZMpXor8w1znJxwj5P19fz+s89QTAv1gZewZN6j8prkt3t0i2P8ft4LnvItO/OIpGXqJ9tz/iHOwPFc3/v8FsDls1Hsy/04nor+7a1j8349E5dKX3PzA8v2yrleC/S3Lu+S3f6b+hdpfJZA7gv5AGx2H5Su0/gMUgGEIK1T/02ryry/PgvwNc6tKvbOA/OiugAxPauD9TvHjHI//uP3hIyAw4d+a/l5Lxpmr41L8apYzLTBjZvxD0dqaOave/IzBrdqLz0j8UgR0sIbXQPxk6yBDZ8XQ/lk70gPMGzr8=",
          "dtype": "f8"
         },
         "xaxis": "x",
         "y": {
          "bdata": "BCaNylul9r90hh9c2uvavws0Ft4I79W/fDE0YUGs6b/Ac3WcAqXEvzMc/B/429k/GwJ+RNEt/j+RJ1zWkFjGP5Z7TqK0e9A/WFWJNeMOs7/tciNySbP+vzhGxw90Jpu/rRjbe37Wrj+4CNpHuLQDQOSGYbpIn8i/cjBhOY1M0z8IMle3vcWhv88R8r3nsvK/XG9XkwBJ8j9WfwXd1Q/oP9CD1DoiUOk//I03uLMZ7b80xIdy2HH2PxrkSGH7bfa/S4cph4jH4j9pi2GZDYYBQGn2PTx5su+/syyOahwf4r/knA16wIK5P29cmPl4HOC/2oM4dYTP+L/WI4LWV42xP6z3zS0y//C/LYVNoFZP3j+R4yVf7Gvtv8jtxwSIzPg/3zBiNWkQ6b/G09nnp5zUv6+9akJVCOo/EVsOyJ6x879VNCM6aB3NP9OKTYUO6vQ/uPAUV0C4+b9xtRAQFaLHP83DhXHrodA/EYwxZrEE6T/Ywx/UjMrzvwa+Dx2XIPW/c+xXzL6z4D81ybwAzAHTP96CByoTCNA/cAZjHDUs1j8B1nQ0w8Llv50+1zh9us0/Kj4LDLPB0j9/yEiB99vmv987sV822v0/4GTFUEdT3j9piIFBlA/zvwzmpLZ8AuU/U2I0nZcw779TSQgNzC/pPyEIkoSbifI/3Du3kAdD6r/tPhst+tPuP3e1ZrEAa9o/56rQG1FO6j/5fjyZQ1n+P92Zh7bgaM+/8kr3TZse6L+U+RH35nbsvwxYtSseG+q/uTZmCPC8s79CabMXb9XVP3p/jlNNtdE/chRNAUl46j/EwjZjvKCKPwoy0PKsQfc/auDaNiPw0L9MuFAN6MIFQKFsmod3BeQ/fngKr9Vt6799RAssYCLxv2JDLPvT4N4/GH5stW2azL8Ogm6QF9nmPy3tMXaGSd4/qoMQZuqksr9D/LEj7xjrv/pkh3HQPPi/HGITc7OT3L8ogL5xnmfrPyehqH5sZ8s/3tQeyYvu87+mMWnmyirGP1UCIToKqdg/we3ZY49I7L9MGk6nQ63DP+ihInyIza0/47UXOZtJ8r8=",
          "dtype": "f8"
         },
         "yaxis": "y"
        },
        {
         "marker": {
          "color": "red",
          "opacity": 0.7
         },
         "mode": "markers",
         "name": "Gruppe A",
         "type": "scatter",
         "x": {
          "bdata": "aF4kUN255D8rqgGOVF74P0CmV9+8+M2/i555S94L3r8S5O5wQ5n7v2M8oWpC/uG/+wOLgYgO7b/IExTEy5j2v0ENnx9Mc/c/goOw1m6ki7+1ae/SCrzKPwwupFVl78U/YsLX/vjp8D+IQQCR1/3VP04VDZhpNfy/OFhtsMq91D/57Akn2pLjP4pMD4lrM9U/9PWajqkj87+vCgEv0qTkvyBgEDvMm/g/v1gZewZN6j8prkt3t0i2P8ft4LnvItO/wWwOWzUezL+hdpfJZA7gv5AGx2H5Su0/gMUgGEIK1T/02ryry/PgvwNc6tKvbOA/eEjIDDh35r8apYzLTBjZv5ZO9IDzBs6/",
          "dtype": "f8"
         },
         "xaxis": "x2",
         "y": {
          "bdata": "CzQW3gjv1b98MTRhQazpv8BzdZwCpcS/lntOorR70D/khmG6SJ/Iv3IwYTmNTNM/XG9XkwBJ8j9WfwXd1Q/oP9CD1DoiUOk/rPfNLTL/8L/fMGI1aRDpv9OKTYUO6vQ/Br4PHZcg9b9z7FfMvrPgPzXJvADMAdM/3oIHKhMI0D+dPtc4fbrNP2mIgUGUD/O/3Du3kAdD6r/ySvdNmx7ovwxYtSseG+q/chRNAUl46j/EwjZjvKCKPwoy0PKsQfc/oWyah3cF5D8Ogm6QF9nmPy3tMXaGSd4/qoMQZuqksr9D/LEj7xjrv/pkh3HQPPi/J6Gofmxnyz+mMWnmyirGP+O1FzmbSfK/",
          "dtype": "f8"
         },
         "yaxis": "y2"
        },
        {
         "marker": {
          "color": "green",
          "opacity": 0.7
         },
         "mode": "markers",
         "name": "Gruppe B",
         "type": "scatter",
         "x": {
          "bdata": "fDCpKCrK3z8qBd4FpbLBvwh0QKh0RPk/fS1q4aZc4T/n7xYrhM7dv7417r7LnP6/eVGjZ4408L/ZmGbhPObMv8Y1sUaHSbE/FfXOPXhq8r/o3X2zbwvYP6f9qTkuQeO/RMyHS2Ls8L8ceuJZk4jzv8MwUA/PWv+//1qwA0BA9b9AOvS8vzLJP76dSKqEoec/XzGyNiCbvb/hr1BvSEXTvyemqLj2COe/TTmoU1ip5b/U/PRa+X7wPwBoGGqqN+8/VWYobMqq3r8Tbn1grMPHv/ojK11Bb7K/QqQobQsl1z+P6aQIGyHXP1EZpWTKV6K/OIpGXqJ9tz/iHOwPFc3/vzfj0Tl0pfc/MDy/bKuV4L9Lcu75Ld/pv5eS8aZq+NS/FIEdLCG10D8=",
          "dtype": "f8"
         },
         "xaxis": "x2",
         "y": {
          "bdata": "BCaNylul9r90hh9c2uvavxsCfkTRLf4/WFWJNeMOs784RscPdCabv7gI2ke4tANACDJXt73Fob/8jTe4sxntvzTEh3LYcfY/afY9PHmy77+zLI5qHB/iv9qDOHWEz/i/LYVNoFZP3j/I7ccEiMz4P8bT2eennNS/r71qQlUI6j8RWw7InrHzv1U0IzpoHc0/uPAUV0C4+b9xtRAQFaLHPxGMMWaxBOk/AdZ0NMPC5b8qPgsMs8HSPwzmpLZ8AuU/U2I0nZcw779TSQgNzC/pP+eq0BtRTuo/3ZmHtuBoz7+U+RH35nbsv7k2ZgjwvLO/auDaNiPw0L9MuFAN6MIFQH1ECyxgIvG/YkMs+9Pg3j8Yfmy1bZrMv97UHsmL7vO/TBpOp0Otwz8=",
          "dtype": "f8"
         },
         "yaxis": "y2"
        },
        {
         "marker": {
          "color": "purple",
          "opacity": 0.7
         },
         "mode": "markers",
         "name": "Gruppe C",
         "type": "scatter",
         "x": {
          "bdata": "O9twJjP4zb/z1/BG047oP3Abwa6iqN2/cPmepZ74zj8fhhbYoBzUP2InDcHEy/a/KPrKUZVr4b81BjE/bGW8P9I7PaFuOOO/oNLzQhyr0r9X9hhz7qL9PzcuH7VJUuo/BriwrAao97/ZriIKG3vdv0APKiYwpdi/Hpzg9gvN7T9TFQ+13trqv88pc7QiytO/MG48TYyz8b+w1UonNgDqP/3Ng74os/U/aoAOg3gO8D8w1znJxwj5P19fz+s89QTA04nor+7a1j86K6ADE9q4P1O8eMcj/+4/EPR2po5q978jMGt2ovPSPxk6yBDZ8XQ/",
          "dtype": "f8"
         },
         "xaxis": "x2",
         "y": {
          "bdata": "Mxz8H/jb2T+RJ1zWkFjGP+1yI3JJs/6/rRjbe37Wrj/PEfK957LyvxrkSGH7bfa/S4cph4jH4j9pi2GZDYYBQOScDXrAgrk/b1yY+Xgc4L/WI4LWV42xP5HjJV/sa+2/zcOFceuh0D/Ywx/UjMrzv3AGYxw1LNY/f8hIgffb5r/fO7FfNtr9P+BkxVBHU94/IQiShJuJ8j/tPhst+tPuP3e1ZrEAa9o/+X48mUNZ/j9CabMXb9XVP3p/jlNNtdE/fngKr9Vt678cYhNzs5PcvyiAvnGeZ+s/VQIhOgqp2D/B7dljj0jsv+ihInyIza0/",
          "dtype": "f8"
         },
         "yaxis": "y2"
        }
       ],
       "layout": {
        "annotations": [
         {
          "font": {
           "size": 16
          },
          "showarrow": false,
          "text": "Alle Datenpunkte",
          "x": 0.225,
          "xanchor": "center",
          "xref": "paper",
          "y": 1,
          "yanchor": "bottom",
          "yref": "paper"
         },
         {
          "font": {
           "size": 16
          },
          "showarrow": false,
          "text": "Nach Gruppen getrennt",
          "x": 0.775,
          "xanchor": "center",
          "xref": "paper",
          "y": 1,
          "yanchor": "bottom",
          "yref": "paper"
         }
        ],
        "height": 500,
        "template": {
         "data": {
          "bar": [
           {
            "error_x": {
             "color": "#2a3f5f"
            },
            "error_y": {
             "color": "#2a3f5f"
            },
            "marker": {
             "line": {
              "color": "#E5ECF6",
              "width": 0.5
             },
             "pattern": {
              "fillmode": "overlay",
              "size": 10,
              "solidity": 0.2
             }
            },
            "type": "bar"
           }
          ],
          "barpolar": [
           {
            "marker": {
             "line": {
              "color": "#E5ECF6",
              "width": 0.5
             },
             "pattern": {
              "fillmode": "overlay",
              "size": 10,
              "solidity": 0.2
             }
            },
            "type": "barpolar"
           }
          ],
          "carpet": [
           {
            "aaxis": {
             "endlinecolor": "#2a3f5f",
             "gridcolor": "white",
             "linecolor": "white",
             "minorgridcolor": "white",
             "startlinecolor": "#2a3f5f"
            },
            "baxis": {
             "endlinecolor": "#2a3f5f",
             "gridcolor": "white",
             "linecolor": "white",
             "minorgridcolor": "white",
             "startlinecolor": "#2a3f5f"
            },
            "type": "carpet"
           }
          ],
          "choropleth": [
           {
            "colorbar": {
             "outlinewidth": 0,
             "ticks": ""
            },
            "type": "choropleth"
           }
          ],
          "contour": [
           {
            "colorbar": {
             "outlinewidth": 0,
             "ticks": ""
            },
            "colorscale": [
             [
              0,
              "#0d0887"
             ],
             [
              0.1111111111111111,
              "#46039f"
             ],
             [
              0.2222222222222222,
              "#7201a8"
             ],
             [
              0.3333333333333333,
              "#9c179e"
             ],
             [
              0.4444444444444444,
              "#bd3786"
             ],
             [
              0.5555555555555556,
              "#d8576b"
             ],
             [
              0.6666666666666666,
              "#ed7953"
             ],
             [
              0.7777777777777778,
              "#fb9f3a"
             ],
             [
              0.8888888888888888,
              "#fdca26"
             ],
             [
              1,
              "#f0f921"
             ]
            ],
            "type": "contour"
           }
          ],
          "contourcarpet": [
           {
            "colorbar": {
             "outlinewidth": 0,
             "ticks": ""
            },
            "type": "contourcarpet"
           }
          ],
          "heatmap": [
           {
            "colorbar": {
             "outlinewidth": 0,
             "ticks": ""
            },
            "colorscale": [
             [
              0,
              "#0d0887"
             ],
             [
              0.1111111111111111,
              "#46039f"
             ],
             [
              0.2222222222222222,
              "#7201a8"
             ],
             [
              0.3333333333333333,
              "#9c179e"
             ],
             [
              0.4444444444444444,
              "#bd3786"
             ],
             [
              0.5555555555555556,
              "#d8576b"
             ],
             [
              0.6666666666666666,
              "#ed7953"
             ],
             [
              0.7777777777777778,
              "#fb9f3a"
             ],
             [
              0.8888888888888888,
              "#fdca26"
             ],
             [
              1,
              "#f0f921"
             ]
            ],
            "type": "heatmap"
           }
          ],
          "histogram": [
           {
            "marker": {
             "pattern": {
              "fillmode": "overlay",
              "size": 10,
              "solidity": 0.2
             }
            },
            "type": "histogram"
           }
          ],
          "histogram2d": [
           {
            "colorbar": {
             "outlinewidth": 0,
             "ticks": ""
            },
            "colorscale": [
             [
              0,
              "#0d0887"
             ],
             [
              0.1111111111111111,
              "#46039f"
             ],
             [
              0.2222222222222222,
              "#7201a8"
             ],
             [
              0.3333333333333333,
              "#9c179e"
             ],
             [
              0.4444444444444444,
              "#bd3786"
             ],
             [
              0.5555555555555556,
              "#d8576b"
             ],
             [
              0.6666666666666666,
              "#ed7953"
             ],
             [
              0.7777777777777778,
              "#fb9f3a"
             ],
             [
              0.8888888888888888,
              "#fdca26"
             ],
             [
              1,
              "#f0f921"
             ]
            ],
            "type": "histogram2d"
           }
          ],
          "histogram2dcontour": [
           {
            "colorbar": {
             "outlinewidth": 0,
             "ticks": ""
            },
            "colorscale": [
             [
              0,
              "#0d0887"
             ],
             [
              0.1111111111111111,
              "#46039f"
             ],
             [
              0.2222222222222222,
              "#7201a8"
             ],
             [
              0.3333333333333333,
              "#9c179e"
             ],
             [
              0.4444444444444444,
              "#bd3786"
             ],
             [
              0.5555555555555556,
              "#d8576b"
             ],
             [
              0.6666666666666666,
              "#ed7953"
             ],
             [
              0.7777777777777778,
              "#fb9f3a"
             ],
             [
              0.8888888888888888,
              "#fdca26"
             ],
             [
              1,
              "#f0f921"
             ]
            ],
            "type": "histogram2dcontour"
           }
          ],
          "mesh3d": [
           {
            "colorbar": {
             "outlinewidth": 0,
             "ticks": ""
            },
            "type": "mesh3d"
           }
          ],
          "parcoords": [
           {
            "line": {
             "colorbar": {
              "outlinewidth": 0,
              "ticks": ""
             }
            },
            "type": "parcoords"
           }
          ],
          "pie": [
           {
            "automargin": true,
            "type": "pie"
           }
          ],
          "scatter": [
           {
            "fillpattern": {
             "fillmode": "overlay",
             "size": 10,
             "solidity": 0.2
            },
            "type": "scatter"
           }
          ],
          "scatter3d": [
           {
            "line": {
             "colorbar": {
              "outlinewidth": 0,
              "ticks": ""
             }
            },
            "marker": {
             "colorbar": {
              "outlinewidth": 0,
              "ticks": ""
             }
            },
            "type": "scatter3d"
           }
          ],
          "scattercarpet": [
           {
            "marker": {
             "colorbar": {
              "outlinewidth": 0,
              "ticks": ""
             }
            },
            "type": "scattercarpet"
           }
          ],
          "scattergeo": [
           {
            "marker": {
             "colorbar": {
              "outlinewidth": 0,
              "ticks": ""
             }
            },
            "type": "scattergeo"
           }
          ],
          "scattergl": [
           {
            "marker": {
             "colorbar": {
              "outlinewidth": 0,
              "ticks": ""
             }
            },
            "type": "scattergl"
           }
          ],
          "scattermap": [
           {
            "marker": {
             "colorbar": {
              "outlinewidth": 0,
              "ticks": ""
             }
            },
            "type": "scattermap"
           }
          ],
          "scattermapbox": [
           {
            "marker": {
             "colorbar": {
              "outlinewidth": 0,
              "ticks": ""
             }
            },
            "type": "scattermapbox"
           }
          ],
          "scatterpolar": [
           {
            "marker": {
             "colorbar": {
              "outlinewidth": 0,
              "ticks": ""
             }
            },
            "type": "scatterpolar"
           }
          ],
          "scatterpolargl": [
           {
            "marker": {
             "colorbar": {
              "outlinewidth": 0,
              "ticks": ""
             }
            },
            "type": "scatterpolargl"
           }
          ],
          "scatterternary": [
           {
            "marker": {
             "colorbar": {
              "outlinewidth": 0,
              "ticks": ""
             }
            },
            "type": "scatterternary"
           }
          ],
          "surface": [
           {
            "colorbar": {
             "outlinewidth": 0,
             "ticks": ""
            },
            "colorscale": [
             [
              0,
              "#0d0887"
             ],
             [
              0.1111111111111111,
              "#46039f"
             ],
             [
              0.2222222222222222,
              "#7201a8"
             ],
             [
              0.3333333333333333,
              "#9c179e"
             ],
             [
              0.4444444444444444,
              "#bd3786"
             ],
             [
              0.5555555555555556,
              "#d8576b"
             ],
             [
              0.6666666666666666,
              "#ed7953"
             ],
             [
              0.7777777777777778,
              "#fb9f3a"
             ],
             [
              0.8888888888888888,
              "#fdca26"
             ],
             [
              1,
              "#f0f921"
             ]
            ],
            "type": "surface"
           }
          ],
          "table": [
           {
            "cells": {
             "fill": {
              "color": "#EBF0F8"
             },
             "line": {
              "color": "white"
             }
            },
            "header": {
             "fill": {
              "color": "#C8D4E3"
             },
             "line": {
              "color": "white"
             }
            },
            "type": "table"
           }
          ]
         },
         "layout": {
          "annotationdefaults": {
           "arrowcolor": "#2a3f5f",
           "arrowhead": 0,
           "arrowwidth": 1
          },
          "autotypenumbers": "strict",
          "coloraxis": {
           "colorbar": {
            "outlinewidth": 0,
            "ticks": ""
           }
          },
          "colorscale": {
           "diverging": [
            [
             0,
             "#8e0152"
            ],
            [
             0.1,
             "#c51b7d"
            ],
            [
             0.2,
             "#de77ae"
            ],
            [
             0.3,
             "#f1b6da"
            ],
            [
             0.4,
             "#fde0ef"
            ],
            [
             0.5,
             "#f7f7f7"
            ],
            [
             0.6,
             "#e6f5d0"
            ],
            [
             0.7,
             "#b8e186"
            ],
            [
             0.8,
             "#7fbc41"
            ],
            [
             0.9,
             "#4d9221"
            ],
            [
             1,
             "#276419"
            ]
           ],
           "sequential": [
            [
             0,
             "#0d0887"
            ],
            [
             0.1111111111111111,
             "#46039f"
            ],
            [
             0.2222222222222222,
             "#7201a8"
            ],
            [
             0.3333333333333333,
             "#9c179e"
            ],
            [
             0.4444444444444444,
             "#bd3786"
            ],
            [
             0.5555555555555556,
             "#d8576b"
            ],
            [
             0.6666666666666666,
             "#ed7953"
            ],
            [
             0.7777777777777778,
             "#fb9f3a"
            ],
            [
             0.8888888888888888,
             "#fdca26"
            ],
            [
             1,
             "#f0f921"
            ]
           ],
           "sequentialminus": [
            [
             0,
             "#0d0887"
            ],
            [
             0.1111111111111111,
             "#46039f"
            ],
            [
             0.2222222222222222,
             "#7201a8"
            ],
            [
             0.3333333333333333,
             "#9c179e"
            ],
            [
             0.4444444444444444,
             "#bd3786"
            ],
            [
             0.5555555555555556,
             "#d8576b"
            ],
            [
             0.6666666666666666,
             "#ed7953"
            ],
            [
             0.7777777777777778,
             "#fb9f3a"
            ],
            [
             0.8888888888888888,
             "#fdca26"
            ],
            [
             1,
             "#f0f921"
            ]
           ]
          },
          "colorway": [
           "#636efa",
           "#EF553B",
           "#00cc96",
           "#ab63fa",
           "#FFA15A",
           "#19d3f3",
           "#FF6692",
           "#B6E880",
           "#FF97FF",
           "#FECB52"
          ],
          "font": {
           "color": "#2a3f5f"
          },
          "geo": {
           "bgcolor": "white",
           "lakecolor": "white",
           "landcolor": "#E5ECF6",
           "showlakes": true,
           "showland": true,
           "subunitcolor": "white"
          },
          "hoverlabel": {
           "align": "left"
          },
          "hovermode": "closest",
          "mapbox": {
           "style": "light"
          },
          "paper_bgcolor": "white",
          "plot_bgcolor": "#E5ECF6",
          "polar": {
           "angularaxis": {
            "gridcolor": "white",
            "linecolor": "white",
            "ticks": ""
           },
           "bgcolor": "#E5ECF6",
           "radialaxis": {
            "gridcolor": "white",
            "linecolor": "white",
            "ticks": ""
           }
          },
          "scene": {
           "xaxis": {
            "backgroundcolor": "#E5ECF6",
            "gridcolor": "white",
            "gridwidth": 2,
            "linecolor": "white",
            "showbackground": true,
            "ticks": "",
            "zerolinecolor": "white"
           },
           "yaxis": {
            "backgroundcolor": "#E5ECF6",
            "gridcolor": "white",
            "gridwidth": 2,
            "linecolor": "white",
            "showbackground": true,
            "ticks": "",
            "zerolinecolor": "white"
           },
           "zaxis": {
            "backgroundcolor": "#E5ECF6",
            "gridcolor": "white",
            "gridwidth": 2,
            "linecolor": "white",
            "showbackground": true,
            "ticks": "",
            "zerolinecolor": "white"
           }
          },
          "shapedefaults": {
           "line": {
            "color": "#2a3f5f"
           }
          },
          "ternary": {
           "aaxis": {
            "gridcolor": "white",
            "linecolor": "white",
            "ticks": ""
           },
           "baxis": {
            "gridcolor": "white",
            "linecolor": "white",
            "ticks": ""
           },
           "bgcolor": "#E5ECF6",
           "caxis": {
            "gridcolor": "white",
            "linecolor": "white",
            "ticks": ""
           }
          },
          "title": {
           "x": 0.05
          },
          "xaxis": {
           "automargin": true,
           "gridcolor": "white",
           "linecolor": "white",
           "ticks": "",
           "title": {
            "standoff": 15
           },
           "zerolinecolor": "white",
           "zerolinewidth": 2
          },
          "yaxis": {
           "automargin": true,
           "gridcolor": "white",
           "linecolor": "white",
           "ticks": "",
           "title": {
            "standoff": 15
           },
           "zerolinecolor": "white",
           "zerolinewidth": 2
          }
         }
        },
        "title": {
         "text": "Subplots mit gemeinsamer Y-Achse"
        },
        "width": 900,
        "xaxis": {
         "anchor": "y",
         "domain": [
          0,
          0.45
         ]
        },
        "xaxis2": {
         "anchor": "y2",
         "domain": [
          0.55,
          1
         ]
        },
        "yaxis": {
         "anchor": "x",
         "domain": [
          0,
          1
         ]
        },
        "yaxis2": {
         "anchor": "x2",
         "domain": [
          0,
          1
         ],
         "matches": "y",
         "showticklabels": false
        }
       }
      },
      "image/png": "[encoded data removed]"
     },
     "metadata": {},
     "output_type": "display_data"
    }
   ],
   "source": [
    "import plotly.graph_objects as go\n",
    "from plotly.subplots import make_subplots\n",
    "\n",
    "import numpy as np\n",
    "\n",
    "# Daten generieren\n",
    "np.random.seed(42)\n",
    "df = pd.DataFrame({\n",
    "    'x': np.random.normal(0, 1, 100),\n",
    "    'y': np.random.normal(0, 1, 100),\n",
    "    'Gruppe': np.random.choice(['A', 'B', 'C'], 100)\n",
    "})\n",
    "\n",
    "# Subplots mit gemeinsamen Achsen erstellen\n",
    "fig = make_subplots(\n",
    "    rows=1, cols=2,\n",
    "    shared_yaxes=True,  # Gemeinsame y-Achse\n",
    "    subplot_titles=(\"Alle Datenpunkte\", \"Nach Gruppen getrennt\")\n",
    ")\n",
    "\n",
    "# Streudiagramm aller Daten\n",
    "fig.add_trace(\n",
    "    go.Scatter(\n",
    "        x=df['x'],\n",
    "        y=df['y'],\n",
    "        mode='markers',\n",
    "        marker=dict(color='blue', opacity=0.7),\n",
    "        name='Alle Daten'\n",
    "    ),\n",
    "    row=1, col=1\n",
    ")\n",
    "\n",
    "# Streudiagramm nach Gruppen getrennt\n",
    "for gruppe, farbe in zip(['A', 'B', 'C'], ['red', 'green', 'purple']):\n",
    "    daten = df[df['Gruppe'] == gruppe]\n",
    "    fig.add_trace(\n",
    "        go.Scatter(\n",
    "            x=daten['x'],\n",
    "            y=daten['y'],\n",
    "            mode='markers',\n",
    "            marker=dict(color=farbe, opacity=0.7),\n",
    "            name=f'Gruppe {gruppe}'\n",
    "        ),\n",
    "        row=1, col=2\n",
    "    )\n",
    "\n",
    "# Layout anpassen\n",
    "fig.update_layout(\n",
    "    height=500,\n",
    "    width=900,\n",
    "    title_text=\"Subplots mit gemeinsamer Y-Achse\"\n",
    ")\n",
    "\n",
    "fig.show()"
   ]
  },
  {
   "cell_type": "markdown",
   "id": "0c3ed739-c3a6-472b-953d-473ca9963e67",
   "metadata": {},
   "source": [
    "**Erklärung:**\n",
    "- Mit `shared_yaxes=True` werden die y-Achsen der Subplots synchronisiert\n",
    "- Ebenso gibt es `shared_xaxes=True` für gemeinsame x-Achsen\n",
    "- Dies ist nützlich, um Werte direkt über verschiedene Subplots hinweg vergleichen zu können\n",
    "\n",
    "### Beispiel 2: Diagramm mit sekundärer Y-Achse"
   ]
  },
  {
   "cell_type": "code",
   "execution_count": 4,
   "id": "5d37974a-cfd0-4ce2-8ac3-b1c253485ef4",
   "metadata": {},
   "outputs": [
    {
     "data": {
      "application/vnd.plotly.v1+json": {
       "config": {
        "plotlyServerURL": "https://plot.ly"
       },
       "data": [
        {
         "line": {
          "color": "red"
         },
         "name": "Temperatur",
         "type": "scatter",
         "x": {
          "bdata": "AAAAAAAAAAAxb2dIzNu5PzFvZ0jM28k/ZZNNNtlk0z8xb2dIzNvZP3+lQK1fKeA/ZZNNNtlk4z9LgVq/UqDmPzFvZ0jM2+k/F1100UUX7T9/pUCtXynwP3Icx3Ecx/E/ZZNNNtlk8z9YCtT6lQL1P0uBWr9SoPY/Pvjggw8++D8xb2dIzNv5PyTm7QyJefs/F1100UUX/T8K1PqVArX+P3+lQK1fKQBA+OCDDz74AEByHMdxHMcBQOtXCtT6lQJAZZNNNtlkA0DezpCYtzMEQFgK1PqVAgVA0UUXXXTRBUBLgVq/UqAGQMS8nSExbwdAPvjggw8+CEC3MyTm7QwJQDFvZ0jM2wlAq6qqqqqqCkAk5u0MiXkLQJ4hMW9nSAxAF1100UUXDUCRmLczJOYNQArU+pUCtQ5AhA8++OCDD0B/pUCtXykQQDtDYt7OkBBA+OCDDz74EEC1fqVArV8RQHIcx3EcxxFALrrooosuEkDrVwrU+pUSQKj1KwVq/RJAZZNNNtlkE0AiMW9nSMwTQN7OkJi3MxRAm2yyySabFEBYCtT6lQIVQBWo9SsFahVA0UUXXXTRFUCO4ziO4zgWQEuBWr9SoBZACB988MEHF0DEvJ0hMW8XQIFav1Kg1hdAPvjggw8+GED7lQK1fqUYQLczJObtDBlAdNFFF110GUAxb2dIzNsZQO4MiXk7QxpAq6qqqqqqGkBnSMzbGRIbQCTm7QyJeRtA4YMPPvjgG0CeITFvZ0gcQFq/UqDWrxxAF1100UUXHUDU+pUCtX4dQJGYtzMk5h1ATTbZZJNNHkAK1PqVArUeQMdxHMdxHB9AhA8++OCDH0BArV8pUOsfQH+lQK1fKSBAXXTRRRddIEA7Q2LezpAgQBoS83aGxCBA+OCDDz74IEDXrxSo9SshQLV+pUCtXyFAk0022WSTIUByHMdxHMchQFDrVwrU+iFALrrooosuIkANiXk7Q2IiQOtXCtT6lSJAyiabbLLJIkCo9SsFav0iQIbEvJ0hMSNAZZNNNtlkI0BDYt7OkJgjQCIxb2dIzCNAAAAAAAAAJEA=",
          "dtype": "f8"
         },
         "xaxis": "x",
         "y": {
          "bdata": "AAAAAAAANEC/8cm7EoE0QEG5B57UADVARuNFPPh9NUDDL0wBN/c1QAL8aoFUazZABk1DtCHZNkAsY54LgD83QPHuRF9knTdA5Tc2ptnxN0CPpSN2Azw4QATFq0IgezhA65R3VouuOEC83ROBvtU4QBfJJHVT8DhAGcdh0wT+OEA7/qDfrv44QCfKGd5P8jhAz+bqFwjZOEBAediGGbM4QJraHSnngDhAnn4U//NCOECuL1K14fk3QOXauv5upjdAOQ/TonVJN0BEAWZF6OM2QDRWSu3PdjZAl0q6UEkDNkDIQkzugYo1QFzlHvq0DTVAoi0+JyiONEA6Q6RVKA00QO5fgC0GjDNAGOyesBIMM0AMvOfKm44yQH276eroFDJA6E9WqzegMUDUhyKWuDExQMk9wQmMyjBAJVmQSL9rMECeNSW6SRYwQCAmRMsUli9A1ytTV4sVL0AmtL6LRqwuQMwtXiJZWy5AmFuhTpYjLkCrY2GWjwUuQIhFGVaTAS5Axdhk9KsXLkAmCdzGn0cuQK0mkajxkC5ASompQOLyLkDMMbz1cWwvQDIs34hj/C9Adm3LqJ9QMEDCOhuJq6wwQEKXWS1lETFA2Nk7t8V9MUC47DdQsvAxQEfepwv/aDJA0M+E9XHlMkCRhb5FxmQzQCpP1a+v5TNAwD8Sxt1mNEDveYZn/+Y0QFoz3i/GZDVAx04P4OneNUCoD/62K1Q2QC9FXLFZwzZA+vBHqFErN0AINYVGBIs3QHVbm8x34TdA2PacnMotOED3HPaGNW84QA8YQNINpThANe/N+MbOOEBu/2YX9Os4QJWScglJ/DhAcdauL5v/OEAYm2zf4fU4QLyNLXk23zhA4ehpJtS7OECOcCo/F4w4QNyrCVl8UDhAYEwRAp8JOEB8ScQqOLg3QDwleUMcXTdAYPLvETn5NkCk/spEk402QEGPPctDGzZAZybg93SjNUDNtyN2Xyc1QCSgUxpHqDRAMOp3lHcnNEBQbrUOQaYzQD/e/r/0JTNAbU0IfOGnMkC67HVJUC0yQDttLgeBtzFAm/uRKadHMUA=",
          "dtype": "f8"
         },
         "yaxis": "y"
        },
        {
         "line": {
          "color": "blue"
         },
         "name": "Niederschlag",
         "type": "scatter",
         "x": {
          "bdata": "AAAAAAAAAAAxb2dIzNu5PzFvZ0jM28k/ZZNNNtlk0z8xb2dIzNvZP3+lQK1fKeA/ZZNNNtlk4z9LgVq/UqDmPzFvZ0jM2+k/F1100UUX7T9/pUCtXynwP3Icx3Ecx/E/ZZNNNtlk8z9YCtT6lQL1P0uBWr9SoPY/Pvjggw8++D8xb2dIzNv5PyTm7QyJefs/F1100UUX/T8K1PqVArX+P3+lQK1fKQBA+OCDDz74AEByHMdxHMcBQOtXCtT6lQJAZZNNNtlkA0DezpCYtzMEQFgK1PqVAgVA0UUXXXTRBUBLgVq/UqAGQMS8nSExbwdAPvjggw8+CEC3MyTm7QwJQDFvZ0jM2wlAq6qqqqqqCkAk5u0MiXkLQJ4hMW9nSAxAF1100UUXDUCRmLczJOYNQArU+pUCtQ5AhA8++OCDD0B/pUCtXykQQDtDYt7OkBBA+OCDDz74EEC1fqVArV8RQHIcx3EcxxFALrrooosuEkDrVwrU+pUSQKj1KwVq/RJAZZNNNtlkE0AiMW9nSMwTQN7OkJi3MxRAm2yyySabFEBYCtT6lQIVQBWo9SsFahVA0UUXXXTRFUCO4ziO4zgWQEuBWr9SoBZACB988MEHF0DEvJ0hMW8XQIFav1Kg1hdAPvjggw8+GED7lQK1fqUYQLczJObtDBlAdNFFF110GUAxb2dIzNsZQO4MiXk7QxpAq6qqqqqqGkBnSMzbGRIbQCTm7QyJeRtA4YMPPvjgG0CeITFvZ0gcQFq/UqDWrxxAF1100UUXHUDU+pUCtX4dQJGYtzMk5h1ATTbZZJNNHkAK1PqVArUeQMdxHMdxHB9AhA8++OCDH0BArV8pUOsfQH+lQK1fKSBAXXTRRRddIEA7Q2LezpAgQBoS83aGxCBA+OCDDz74IEDXrxSo9SshQLV+pUCtXyFAk0022WSTIUByHMdxHMchQFDrVwrU+iFALrrooosuIkANiXk7Q2IiQOtXCtT6lSJAyiabbLLJIkCo9SsFav0iQIbEvJ0hMSNAZZNNNtlkI0BDYt7OkJgjQCIxb2dIzCNAAAAAAAAAJEA=",
          "dtype": "f8"
         },
         "xaxis": "x",
         "y": {
          "bdata": "AAAAAAAAHEBkEdAE5+UbQFhA/y7glxtAHWgLILcWG0AI5cPrvGMaQILQmKjEgBlA2Z+erB5wGEAqaLODkjQXQLgViK5X0RVA8tB7PQ1KFEB7TzJdsKISQGQmj+2R3xBAiFaCfJYKDkD4BoYcZDEKQCC3RtuXPQZAXroFRYI5AkByme7NPF/8P4W3SersVPQ/RvoRIyHS6D84HHX2T8HSPwCvkhsQCca/XKuITcmv478eGGbWc4Hwv/zZXXlsrPa/6p7007VI/L8gK+rE1aMAwOhKLOohzgLAvDesxJidBMBMKs7MgA0GwGCTA90ZGgfAdFGL+6bAB8BWLNJ/df8HwE5bzYDh1QfAiLK+gFdEB8CsGQZSU0wGwPxU4zdc8ATAhghDTf4zA8A2XM9CwRsBwNpr2hg5Wv2/ZP8AOtLc97/S2GWroc3xv0D54U/veOa/oIfgeN7p0L9Q1CJNpDDJP/YcPVHYo+U/+W5iFwq18j9MUbft2Lr6P5FzMF00ZwFAlVGj01JtBUDE6KN9R2UJQMwcF/W2RA1AyNLs6MKAEECy1SCF+UgSQGKA5LNY9hNAtoa45n+EFUBXLkMIYO8WQDr5ERRGMxhATCwWvuRMGUCpNqoQXTkaQOTKoupF9hpAffndSbKBG0A0IeVRNtobQE7ogwHr/htAuQumjXDvG0AirlZb76sbQDi4VJYXNRtAXGlPZR+MGkC593rAv7IZQGqjvfIvqxhADZww0R94F0CKdQy4sBwWQE/jTV9tnBRAQ6lknED7EkBMRgwpaz0RQEb3+BPxzg5AhqbRZGb8CkD4XIcGMA0HQB8IzI2SCwNAp6pRLAUE/j/ZbWPxEvb1P1QoYTKnBOw/ZIwKyx/22D8A2MG1m0C0v7jx+ziV3eC/qKCh2gxg7r+smRNMHHb1v4Q/HrqsMPu/8LJVK2IoAMDGO7BxgWQCwG4rYBbfRgTAKF23PZDKBcBm1WgfoesGwFixClcfpwfAujDelCH7B8BQzsuazOYHwHjIjnhVagfAqN86AQGHBsDKr4V7ID8FwOT3d5ULlgPA5oVPqxeQAcA=",
          "dtype": "f8"
         },
         "yaxis": "y2"
        }
       ],
       "layout": {
        "hovermode": "x unified",
        "legend": {
         "x": 0.02,
         "y": 0.98
        },
        "template": {
         "data": {
          "bar": [
           {
            "error_x": {
             "color": "#2a3f5f"
            },
            "error_y": {
             "color": "#2a3f5f"
            },
            "marker": {
             "line": {
              "color": "#E5ECF6",
              "width": 0.5
             },
             "pattern": {
              "fillmode": "overlay",
              "size": 10,
              "solidity": 0.2
             }
            },
            "type": "bar"
           }
          ],
          "barpolar": [
           {
            "marker": {
             "line": {
              "color": "#E5ECF6",
              "width": 0.5
             },
             "pattern": {
              "fillmode": "overlay",
              "size": 10,
              "solidity": 0.2
             }
            },
            "type": "barpolar"
           }
          ],
          "carpet": [
           {
            "aaxis": {
             "endlinecolor": "#2a3f5f",
             "gridcolor": "white",
             "linecolor": "white",
             "minorgridcolor": "white",
             "startlinecolor": "#2a3f5f"
            },
            "baxis": {
             "endlinecolor": "#2a3f5f",
             "gridcolor": "white",
             "linecolor": "white",
             "minorgridcolor": "white",
             "startlinecolor": "#2a3f5f"
            },
            "type": "carpet"
           }
          ],
          "choropleth": [
           {
            "colorbar": {
             "outlinewidth": 0,
             "ticks": ""
            },
            "type": "choropleth"
           }
          ],
          "contour": [
           {
            "colorbar": {
             "outlinewidth": 0,
             "ticks": ""
            },
            "colorscale": [
             [
              0,
              "#0d0887"
             ],
             [
              0.1111111111111111,
              "#46039f"
             ],
             [
              0.2222222222222222,
              "#7201a8"
             ],
             [
              0.3333333333333333,
              "#9c179e"
             ],
             [
              0.4444444444444444,
              "#bd3786"
             ],
             [
              0.5555555555555556,
              "#d8576b"
             ],
             [
              0.6666666666666666,
              "#ed7953"
             ],
             [
              0.7777777777777778,
              "#fb9f3a"
             ],
             [
              0.8888888888888888,
              "#fdca26"
             ],
             [
              1,
              "#f0f921"
             ]
            ],
            "type": "contour"
           }
          ],
          "contourcarpet": [
           {
            "colorbar": {
             "outlinewidth": 0,
             "ticks": ""
            },
            "type": "contourcarpet"
           }
          ],
          "heatmap": [
           {
            "colorbar": {
             "outlinewidth": 0,
             "ticks": ""
            },
            "colorscale": [
             [
              0,
              "#0d0887"
             ],
             [
              0.1111111111111111,
              "#46039f"
             ],
             [
              0.2222222222222222,
              "#7201a8"
             ],
             [
              0.3333333333333333,
              "#9c179e"
             ],
             [
              0.4444444444444444,
              "#bd3786"
             ],
             [
              0.5555555555555556,
              "#d8576b"
             ],
             [
              0.6666666666666666,
              "#ed7953"
             ],
             [
              0.7777777777777778,
              "#fb9f3a"
             ],
             [
              0.8888888888888888,
              "#fdca26"
             ],
             [
              1,
              "#f0f921"
             ]
            ],
            "type": "heatmap"
           }
          ],
          "histogram": [
           {
            "marker": {
             "pattern": {
              "fillmode": "overlay",
              "size": 10,
              "solidity": 0.2
             }
            },
            "type": "histogram"
           }
          ],
          "histogram2d": [
           {
            "colorbar": {
             "outlinewidth": 0,
             "ticks": ""
            },
            "colorscale": [
             [
              0,
              "#0d0887"
             ],
             [
              0.1111111111111111,
              "#46039f"
             ],
             [
              0.2222222222222222,
              "#7201a8"
             ],
             [
              0.3333333333333333,
              "#9c179e"
             ],
             [
              0.4444444444444444,
              "#bd3786"
             ],
             [
              0.5555555555555556,
              "#d8576b"
             ],
             [
              0.6666666666666666,
              "#ed7953"
             ],
             [
              0.7777777777777778,
              "#fb9f3a"
             ],
             [
              0.8888888888888888,
              "#fdca26"
             ],
             [
              1,
              "#f0f921"
             ]
            ],
            "type": "histogram2d"
           }
          ],
          "histogram2dcontour": [
           {
            "colorbar": {
             "outlinewidth": 0,
             "ticks": ""
            },
            "colorscale": [
             [
              0,
              "#0d0887"
             ],
             [
              0.1111111111111111,
              "#46039f"
             ],
             [
              0.2222222222222222,
              "#7201a8"
             ],
             [
              0.3333333333333333,
              "#9c179e"
             ],
             [
              0.4444444444444444,
              "#bd3786"
             ],
             [
              0.5555555555555556,
              "#d8576b"
             ],
             [
              0.6666666666666666,
              "#ed7953"
             ],
             [
              0.7777777777777778,
              "#fb9f3a"
             ],
             [
              0.8888888888888888,
              "#fdca26"
             ],
             [
              1,
              "#f0f921"
             ]
            ],
            "type": "histogram2dcontour"
           }
          ],
          "mesh3d": [
           {
            "colorbar": {
             "outlinewidth": 0,
             "ticks": ""
            },
            "type": "mesh3d"
           }
          ],
          "parcoords": [
           {
            "line": {
             "colorbar": {
              "outlinewidth": 0,
              "ticks": ""
             }
            },
            "type": "parcoords"
           }
          ],
          "pie": [
           {
            "automargin": true,
            "type": "pie"
           }
          ],
          "scatter": [
           {
            "fillpattern": {
             "fillmode": "overlay",
             "size": 10,
             "solidity": 0.2
            },
            "type": "scatter"
           }
          ],
          "scatter3d": [
           {
            "line": {
             "colorbar": {
              "outlinewidth": 0,
              "ticks": ""
             }
            },
            "marker": {
             "colorbar": {
              "outlinewidth": 0,
              "ticks": ""
             }
            },
            "type": "scatter3d"
           }
          ],
          "scattercarpet": [
           {
            "marker": {
             "colorbar": {
              "outlinewidth": 0,
              "ticks": ""
             }
            },
            "type": "scattercarpet"
           }
          ],
          "scattergeo": [
           {
            "marker": {
             "colorbar": {
              "outlinewidth": 0,
              "ticks": ""
             }
            },
            "type": "scattergeo"
           }
          ],
          "scattergl": [
           {
            "marker": {
             "colorbar": {
              "outlinewidth": 0,
              "ticks": ""
             }
            },
            "type": "scattergl"
           }
          ],
          "scattermap": [
           {
            "marker": {
             "colorbar": {
              "outlinewidth": 0,
              "ticks": ""
             }
            },
            "type": "scattermap"
           }
          ],
          "scattermapbox": [
           {
            "marker": {
             "colorbar": {
              "outlinewidth": 0,
              "ticks": ""
             }
            },
            "type": "scattermapbox"
           }
          ],
          "scatterpolar": [
           {
            "marker": {
             "colorbar": {
              "outlinewidth": 0,
              "ticks": ""
             }
            },
            "type": "scatterpolar"
           }
          ],
          "scatterpolargl": [
           {
            "marker": {
             "colorbar": {
              "outlinewidth": 0,
              "ticks": ""
             }
            },
            "type": "scatterpolargl"
           }
          ],
          "scatterternary": [
           {
            "marker": {
             "colorbar": {
              "outlinewidth": 0,
              "ticks": ""
             }
            },
            "type": "scatterternary"
           }
          ],
          "surface": [
           {
            "colorbar": {
             "outlinewidth": 0,
             "ticks": ""
            },
            "colorscale": [
             [
              0,
              "#0d0887"
             ],
             [
              0.1111111111111111,
              "#46039f"
             ],
             [
              0.2222222222222222,
              "#7201a8"
             ],
             [
              0.3333333333333333,
              "#9c179e"
             ],
             [
              0.4444444444444444,
              "#bd3786"
             ],
             [
              0.5555555555555556,
              "#d8576b"
             ],
             [
              0.6666666666666666,
              "#ed7953"
             ],
             [
              0.7777777777777778,
              "#fb9f3a"
             ],
             [
              0.8888888888888888,
              "#fdca26"
             ],
             [
              1,
              "#f0f921"
             ]
            ],
            "type": "surface"
           }
          ],
          "table": [
           {
            "cells": {
             "fill": {
              "color": "#EBF0F8"
             },
             "line": {
              "color": "white"
             }
            },
            "header": {
             "fill": {
              "color": "#C8D4E3"
             },
             "line": {
              "color": "white"
             }
            },
            "type": "table"
           }
          ]
         },
         "layout": {
          "annotationdefaults": {
           "arrowcolor": "#2a3f5f",
           "arrowhead": 0,
           "arrowwidth": 1
          },
          "autotypenumbers": "strict",
          "coloraxis": {
           "colorbar": {
            "outlinewidth": 0,
            "ticks": ""
           }
          },
          "colorscale": {
           "diverging": [
            [
             0,
             "#8e0152"
            ],
            [
             0.1,
             "#c51b7d"
            ],
            [
             0.2,
             "#de77ae"
            ],
            [
             0.3,
             "#f1b6da"
            ],
            [
             0.4,
             "#fde0ef"
            ],
            [
             0.5,
             "#f7f7f7"
            ],
            [
             0.6,
             "#e6f5d0"
            ],
            [
             0.7,
             "#b8e186"
            ],
            [
             0.8,
             "#7fbc41"
            ],
            [
             0.9,
             "#4d9221"
            ],
            [
             1,
             "#276419"
            ]
           ],
           "sequential": [
            [
             0,
             "#0d0887"
            ],
            [
             0.1111111111111111,
             "#46039f"
            ],
            [
             0.2222222222222222,
             "#7201a8"
            ],
            [
             0.3333333333333333,
             "#9c179e"
            ],
            [
             0.4444444444444444,
             "#bd3786"
            ],
            [
             0.5555555555555556,
             "#d8576b"
            ],
            [
             0.6666666666666666,
             "#ed7953"
            ],
            [
             0.7777777777777778,
             "#fb9f3a"
            ],
            [
             0.8888888888888888,
             "#fdca26"
            ],
            [
             1,
             "#f0f921"
            ]
           ],
           "sequentialminus": [
            [
             0,
             "#0d0887"
            ],
            [
             0.1111111111111111,
             "#46039f"
            ],
            [
             0.2222222222222222,
             "#7201a8"
            ],
            [
             0.3333333333333333,
             "#9c179e"
            ],
            [
             0.4444444444444444,
             "#bd3786"
            ],
            [
             0.5555555555555556,
             "#d8576b"
            ],
            [
             0.6666666666666666,
             "#ed7953"
            ],
            [
             0.7777777777777778,
             "#fb9f3a"
            ],
            [
             0.8888888888888888,
             "#fdca26"
            ],
            [
             1,
             "#f0f921"
            ]
           ]
          },
          "colorway": [
           "#636efa",
           "#EF553B",
           "#00cc96",
           "#ab63fa",
           "#FFA15A",
           "#19d3f3",
           "#FF6692",
           "#B6E880",
           "#FF97FF",
           "#FECB52"
          ],
          "font": {
           "color": "#2a3f5f"
          },
          "geo": {
           "bgcolor": "white",
           "lakecolor": "white",
           "landcolor": "#E5ECF6",
           "showlakes": true,
           "showland": true,
           "subunitcolor": "white"
          },
          "hoverlabel": {
           "align": "left"
          },
          "hovermode": "closest",
          "mapbox": {
           "style": "light"
          },
          "paper_bgcolor": "white",
          "plot_bgcolor": "#E5ECF6",
          "polar": {
           "angularaxis": {
            "gridcolor": "white",
            "linecolor": "white",
            "ticks": ""
           },
           "bgcolor": "#E5ECF6",
           "radialaxis": {
            "gridcolor": "white",
            "linecolor": "white",
            "ticks": ""
           }
          },
          "scene": {
           "xaxis": {
            "backgroundcolor": "#E5ECF6",
            "gridcolor": "white",
            "gridwidth": 2,
            "linecolor": "white",
            "showbackground": true,
            "ticks": "",
            "zerolinecolor": "white"
           },
           "yaxis": {
            "backgroundcolor": "#E5ECF6",
            "gridcolor": "white",
            "gridwidth": 2,
            "linecolor": "white",
            "showbackground": true,
            "ticks": "",
            "zerolinecolor": "white"
           },
           "zaxis": {
            "backgroundcolor": "#E5ECF6",
            "gridcolor": "white",
            "gridwidth": 2,
            "linecolor": "white",
            "showbackground": true,
            "ticks": "",
            "zerolinecolor": "white"
           }
          },
          "shapedefaults": {
           "line": {
            "color": "#2a3f5f"
           }
          },
          "ternary": {
           "aaxis": {
            "gridcolor": "white",
            "linecolor": "white",
            "ticks": ""
           },
           "baxis": {
            "gridcolor": "white",
            "linecolor": "white",
            "ticks": ""
           },
           "bgcolor": "#E5ECF6",
           "caxis": {
            "gridcolor": "white",
            "linecolor": "white",
            "ticks": ""
           }
          },
          "title": {
           "x": 0.05
          },
          "xaxis": {
           "automargin": true,
           "gridcolor": "white",
           "linecolor": "white",
           "ticks": "",
           "title": {
            "standoff": 15
           },
           "zerolinecolor": "white",
           "zerolinewidth": 2
          },
          "yaxis": {
           "automargin": true,
           "gridcolor": "white",
           "linecolor": "white",
           "ticks": "",
           "title": {
            "standoff": 15
           },
           "zerolinecolor": "white",
           "zerolinewidth": 2
          }
         }
        },
        "title": {
         "text": "Temperatur und Niederschlag über Zeit"
        },
        "xaxis": {
         "anchor": "y",
         "domain": [
          0,
          0.94
         ],
         "title": {
          "text": "Zeit"
         }
        },
        "yaxis": {
         "anchor": "x",
         "domain": [
          0,
          1
         ],
         "title": {
          "text": "Temperatur (°C)"
         }
        },
        "yaxis2": {
         "anchor": "x",
         "overlaying": "y",
         "side": "right",
         "title": {
          "text": "Niederschlag (mm)"
         }
        }
       }
      },
      "image/png": "[encoded data removed]"
     },
     "metadata": {},
     "output_type": "display_data"
    }
   ],
   "source": [
    "import plotly.graph_objects as go\n",
    "from plotly.subplots import make_subplots\n",
    "import numpy as np\n",
    "\n",
    "# Daten generieren\n",
    "x = np.linspace(0, 10, 100)\n",
    "temperatur = 20 + 5 * np.sin(x)  # Temperatur in °C\n",
    "niederschlag = 2 + np.cos(x) * 5  # Niederschlag in mm\n",
    "\n",
    "# Subplot mit sekundärer y-Achse erstellen\n",
    "fig = make_subplots(specs=[[{\"secondary_y\": True}]])\n",
    "\n",
    "# Temperaturkurve auf der primären Y-Achse\n",
    "fig.add_trace(\n",
    "    go.Scatter(\n",
    "        x=x,\n",
    "        y=temperatur,\n",
    "        name=\"Temperatur\",\n",
    "        line=dict(color=\"red\")\n",
    "    ),\n",
    "    secondary_y=False  # Primäre y-Achse\n",
    ")\n",
    "\n",
    "# Niederschlagskurve auf der sekundären Y-Achse\n",
    "fig.add_trace(\n",
    "    go.Scatter(\n",
    "        x=x,\n",
    "        y=niederschlag,\n",
    "        name=\"Niederschlag\",\n",
    "        line=dict(color=\"blue\")\n",
    "    ),\n",
    "    secondary_y=True  # Sekundäre y-Achse\n",
    ")\n",
    "\n",
    "# Achsen beschriften\n",
    "fig.update_xaxes(title_text=\"Zeit\")\n",
    "fig.update_yaxes(title_text=\"Temperatur (°C)\", secondary_y=False)\n",
    "fig.update_yaxes(title_text=\"Niederschlag (mm)\", secondary_y=True)\n",
    "\n",
    "# Layout anpassen\n",
    "fig.update_layout(\n",
    "    title_text=\"Temperatur und Niederschlag über Zeit\",\n",
    "    legend=dict(x=0.02, y=0.98),\n",
    "    hovermode=\"x unified\"  # Hover zeigt Daten für denselben x-Wert\n",
    ")\n",
    "\n",
    "fig.show()"
   ]
  },
  {
   "cell_type": "markdown",
   "id": "57d2d110-e70b-4b9c-a699-b80798f34dd3",
   "metadata": {},
   "source": [
    "**Erklärung:**\n",
    "- Mit `specs=[[{\"secondary_y\": True}]]` erstellst du einen Plot mit sekundärer y-Achse\n",
    "- `secondary_y=False` oder `True` bestimmt, auf welcher Achse ein Trace dargestellt wird\n",
    "- `update_yaxes` wird mit dem Parameter `secondary_y` verwendet, um beide Achsen separat zu formatieren\n",
    "- Dies ist besonders nützlich, um Daten mit unterschiedlichen Einheiten oder Größenordnungen darzustellen\n",
    "\n",
    "## 3. Facet-Plots mit Plotly Express\n",
    "\n",
    "### Was sind Facet-Plots?\n",
    "\n",
    "Facet-Plots (oder \"Small Multiples\") sind eine spezielle Form von Subplots, bei denen der gleiche Diagrammtyp für verschiedene Teilmengen der Daten wiederholt wird. Dies ist besonders nützlich, um Muster über verschiedene Kategorien hinweg zu vergleichen.\n",
    "\n",
    "### Beispiel: Facet-Plots nach Kategorien"
   ]
  },
  {
   "cell_type": "code",
   "execution_count": 5,
   "id": "41ae02b6-b83a-4938-aaab-34be4c5de130",
   "metadata": {},
   "outputs": [
    {
     "data": {
      "application/vnd.plotly.v1+json": {
       "config": {
        "plotlyServerURL": "https://plot.ly"
       },
       "data": [
        {
         "hovertemplate": "Gruppe=Gruppe 2<br>Kategorie=C<br>X-Wert=%{x}<br>Y-Wert=%{y}<br>Punktgröße=%{marker.size}<extra></extra>",
         "legendgroup": "Gruppe 2",
         "marker": {
          "color": "#636efa",
          "size": {
           "bdata": "VKrVN+BLIkAJ0/HTMf4qQGLTPmt0bidAo3wKVisLK0DNlDieADglQAww9oBNGilA9zCZIvxnJkAG/ub375QUQBwtBSACAyFA4+RQ4koVLECaXd5nEfcgQCqVoE2gRyRA/xrPehVxJkB8G+yqotcjQJJ2hwXR6SBAW+QboH6iFUCttLkh5cEaQB/QTU/SzidApi44mdmOJkCIdnHf3WosQFohzYAtQCNAAQlW/3BJGEAU4NFwh80UQFqEKj5dyhhAfMbrURB6F0DY1YSlGOsmQA1tIKVAEhhAH6jTD0cdGkDiC0GUYG0aQPFZjQp0XydAumIxZfwyH0A3r38MPIIiQL0yVxP3JiRA/mDr5l82JkAZsrEyhS8eQJtJRJ00+iBAo3OFEvBMLUBg0k2oidIoQA==",
           "dtype": "f8"
          },
          "sizemode": "area",
          "sizeref": 0.037492941832153265,
          "symbol": "circle"
         },
         "mode": "markers",
         "name": "Gruppe 2",
         "orientation": "v",
         "showlegend": true,
         "type": "scatter",
         "x": {
          "bdata": "fDCpKCrK3z9wG8Guoqjdv9mYZuE85sy/NQYxP2xlvD/o3X2zbwvYP4KDsNZupIu/RMyHS2Ls8L/DMFAPz1r/v/9asANAQPW/XzGyNiCbvb/hr1BvSEXTvwa4sKwGqPe/YsLX/vjp8D9NOahTWKnlv2qADoN4DvA/MNc5yccI+T9fX8/rPPUEwDA8v2yrleC/kAbHYflK7T8DXOrSr2zgPwQmjcpbpfa/lntOorR70D/khmG6SJ/Iv1xvV5MASfI/S4cph4jH4j+s980tMv/wv6+9akJVCOo/EVsOyJ6x87/Tik2FDur0P+BkxVBHU94/U0kIDcwv6T93tWaxAGvaP+eq0BtRTuo/8kr3TZse6L99RAssYCLxv0P8sSPvGOu/KIC+cZ5n6z9MGk6nQ63DPw==",
          "dtype": "f8"
         },
         "xaxis": "x",
         "y": {
          "bdata": "CI7n9Pzl1j+2wyAtvETiP09AcndR4P2/xvMOdlds8T8pQupOcT7xv3PHAjQxVac/Ve/g+OjZ5L/8/hAovN3HP6yz485aLeW/N78DFdso4D+NsKk8RLTrP0v5XAFqNPO/ipjttBLo5L9KYjkHLfoAQOn07+zb4fa/5DdWMxL1hD+svp/UhGjvv4YX358XzvO/wFqZqbFtw7/LqBuLJ+3jv4yjjosgh+q/KEj7XdKB4T88leW+PeP0P6OxmTokv9Q//PqLrqUY8L+wbFRy7WezPy6g5gx4bdo/etnHEggK4r9c1ed9JDHPP96rdxViedK/THEKPRmG+D8LEE+hmK3ZvxXeU/wPr8w/VbakA3+86L/mMqAKvf0AwNkhy0Dfae4/uVV5jJp73z8k+R8Udqn1Pw==",
          "dtype": "f8"
         },
         "yaxis": "y"
        },
        {
         "hovertemplate": "Gruppe=Gruppe 2<br>Kategorie=A<br>X-Wert=%{x}<br>Y-Wert=%{y}<br>Punktgröße=%{marker.size}<extra></extra>",
         "legendgroup": "Gruppe 2",
         "marker": {
          "color": "#636efa",
          "size": {
           "bdata": "CIARPLDvHkAUbcjVx+4tQOZ+9nHPGyVAo7dQLzdhKUAuoIQ3nR8mQLx6ZIUbbydAXMawtflnJED4GBakcXQZQP3XhU81kyBA2PnyKgOrJkDchh4gCrEbQNzzvNvDJB9ACFu+XlCMF0DkD6yyT9MYQKXVY/IvNyNAI2bSyg9JIUAkG73QoncVQB/BX9vJOyRAUi9+GgCnJEAjedvqf88rQPdhd22m6ChA40DpzBiiIkDSYhyKYmolQObgvhk3HyFAiDxHeljvGkDqF0LzlzUXQNmsi5F/fSRAGSJLSbBjLUB1+qiYrCwaQAQ2TfRvnyNAJ7yBP0uhJ0B3bF14xZwqQCQpqrbN+BhA",
           "dtype": "f8"
          },
          "sizemode": "area",
          "sizeref": 0.037492941832153265,
          "symbol": "circle"
         },
         "mode": "markers",
         "name": "Gruppe 2",
         "orientation": "v",
         "showlegend": false,
         "type": "scatter",
         "x": {
          "bdata": "KgXeBaWywb8IdECodET5P/PX8EbTjug/i555S94L3r9jPKFqQv7hvx+GFtigHNQ/xjWxRodJsT+1ae/SCrzKP88pc7QiytO/ikwPiWsz1T9RGaVkyleiv79YGXsGTeo/x+3gue8i0784ikZeon23P+Ic7A8Vzf+/04nor+7a1j8LNBbeCO/VvxsCfkTRLf4/7XIjckmz/r9WfwXd1Q/oP7MsjmocH+K/5JwNesCCuT8thU2gVk/eP5HjJV/sa+2/zcOFceuh0D/Ywx/UjMrzvwa+Dx2XIPW/AdZ0NMPC5b+5NmYI8Lyzv0Jpsxdv1dU/YkMs+9Pg3j8cYhNzs5PcvyehqH5sZ8s/",
          "dtype": "f8"
         },
         "xaxis": "x2",
         "y": {
          "bdata": "YVcbZPLx4T+AVJ49K3vgP4f9CTzvcOA/AhQSSUV74D/kDZbReUnoPwAthHUSUM6/kpFG7tf15T89c9v0fTMAwBa8Zm86pea/FOtNmoln3D8IXzaYUZzyP9cJVXMak90/ze88Bvo047/KiDmojN6xP75sTlz6qNi/z+EXqyww5T+JdVBH1OnnP1qJ6r5QcfQ/t0xoSPrcy7/UxicRh6jAvxIXgQBNVek/yMhgH8r44z9ziKEJT6vlv9PUlkwuNO8/EdBy2X0l3r+PSol8Wiv3v04IFLz4hPa/TRMYmPJx6z9rdxRc4jf3PytfQbtYsu4/1XP6MfzS4L9XAvYf0L/svx/z89qsH/W/",
          "dtype": "f8"
         },
         "yaxis": "y2"
        },
        {
         "hovertemplate": "Gruppe=Gruppe 2<br>Kategorie=B<br>X-Wert=%{x}<br>Y-Wert=%{y}<br>Punktgröße=%{marker.size}<extra></extra>",
         "legendgroup": "Gruppe 2",
         "marker": {
          "color": "#636efa",
          "size": {
           "bdata": "oDqDNckCI0BZH2RlTSUdQIQDHgzRXCZAfmUcatSKGECFOgNv4xQoQDk+c1hH0SZAMpAvgY7vK0Bmym5H5VknQDB6AjSO5BpAxOuOZTZFF0AF1q6wvF8cQBhf5uR2XSZAAuanGw3zKEDsDZqaC3EgQDxXL4Ax3yVAIj+fho7IKUB+9ORjoLwlQDbU5BtsGhlAk+6vgt1ZH0ARkNUrkR0mQFpkA4BlTytAjyh0yexQHkCXTp2O49UaQArQS7JnlixA+jGmkUayHUA+u2+tk4sfQEU2vgJoYBlAwJ6+rvWIFkCFGwGtmMwtQA==",
           "dtype": "f8"
          },
          "sizemode": "area",
          "sizeref": 0.037492941832153265,
          "symbol": "circle"
         },
         "mode": "markers",
         "name": "Gruppe 2",
         "orientation": "v",
         "showlegend": false,
         "type": "scatter",
         "x": {
          "bdata": "cPmepZ74zj95UaNnjjTwv/sDi4GIDu2/QQ2fH0xz9z83Lh+1SVLqP/3Ng74os/U/QqQobQsl1z+P6aQIGyHXPyBgEDvMm/g/gMUgGEIK1T8Q9Hamjmr3vxk6yBDZ8XQ/dIYfXNrr2r9yMGE5jUzTP9CD1DoiUOk/NMSHcthx9j9p9j08ebLvv29cmPl4HOC/2oM4dYTP+L/fMGI1aRDpv50+1zh9us0/f8hIgffb5r/fO7FfNtr9P2mIgUGUD/O/+X48mUNZ/j+U+RH35nbsvwoy0PKsQfc/auDaNiPw0L9MuFAN6MIFQA==",
          "dtype": "f8"
         },
         "xaxis": "x3",
         "y": {
          "bdata": "vPLQtC6H7j9Y0b7x+7rov5EtJkUyEN+/0ibqtWuEAkCV1qAozCYBQASbcH/r9vO/hYPJWbAp3L93MpKUdA/3PxIUTpdK+fa/ic8wm37T4j/XVFe+UCzmv1lCEmv3Auo/I4fvyQDt4b+kvJzzB4KVP/XYfEG61Lg/18BsJN0u6r9RMm1En4fyPw8dnApoG+Q/50/fBtYUib+AO+UYeWrqvxoYyKHdeMS/gGImO1wK8L+f7IiGG/WSvwu3nb9rp9Q/o5dJbAvKiT8QGHLzMRmZP8KLUDfAd8c/lNZ2ZreEAUCObKBdlN3pvw==",
          "dtype": "f8"
         },
         "yaxis": "y3"
        },
        {
         "hovertemplate": "Gruppe=Gruppe 1<br>Kategorie=C<br>X-Wert=%{x}<br>Y-Wert=%{y}<br>Punktgröße=%{marker.size}<extra></extra>",
         "legendgroup": "Gruppe 1",
         "marker": {
          "color": "#EF553B",
          "size": {
           "bdata": "YPHf8o3+LUAviGRWM+UsQE3zqwnLKSFA0oDrVMMJJUDOcxfpYMwlQK2xPo5M7iFAQvCa7iCILEBvM7VUF5sdQHmyrynXCBdAwrUoXZYUG0AcmXh220AcQMchdmqOkhVA3O6zMvv8KUA5d2T5uHgrQOdsVyQ6Ex9AAGPPMdFoIUBVHZf3wbAjQI6Ak8lrpCRAhjuG4OWyHUC77rIoBvgjQEtsU0T1ui1A3KQJzTN9HUBAqXtCR3sYQJSjcEoF9SFAAQtwtGhXKkBrbFZCoCIlQEwI1/ZTextAdAJH2Tx5IEByndhKrBIWQEO7ovVpuyBAn2nlm9M/G0Dy2qH566gWQNPHHmZNfSVA",
           "dtype": "f8"
          },
          "sizemode": "area",
          "sizeref": 0.037492941832153265,
          "symbol": "circle"
         },
         "mode": "markers",
         "name": "Gruppe 1",
         "orientation": "v",
         "showlegend": true,
         "type": "scatter",
         "x": {
          "bdata": "O9twJjP4zb99LWrhplzhP8gTFMTLmPa/FfXOPXhq8r9AOvS8vzLJP9muIgobe92/QA8qJjCl2L8AaBhqqjfvP1VmKGzKqt6/Ka5Ld7dItj/BbA5bNR7Mv0ty7vkt3+m/oXaXyWQO4L/02ryry/Pgv1O8eMcj/+4/IzBrdqLz0j8UgR0sIbXQP5EnXNaQWMY/OEbHD3Qmm78a5Ehh+232v8jtxwSIzPg/xtPZ56ec1L/eggcqEwjQP3AGYxw1LNY/Kj4LDLPB0j8M5qS2fALlP9w7t5AHQ+q/7T4bLfrT7j9yFE0BSXjqP8TCNmO8oIo/VQIhOgqp2D/B7dljj0jsv+ihInyIza0/",
          "dtype": "f8"
         },
         "xaxis": "x",
         "y": {
          "bdata": "Z8V5qKkC7r8EDUXjZNIOQCVqDR+09bQ/6B/Nw6d0sD8/Ct9FIkfrP1rKtASBZd6/D/uaBCBf7T/0GbtazcnoP8n/ohdqqe2/YEo4wcl6yT+GAmIFeQ+9P8VmS81zEAFAf+qdasA7/7+ESpdQxfvRP6x00MpTjd+/aRaPrYXJ7D/XdA+cy6rTP/WSCR8n7uK/ZTBOCZeU8T+vFT2KNb0AQETyF7rG0sK/ugLT65WR1L9GopTY6OXTP0v62x4Pm/c/U9kkHPx4k7+DfBkHrXjqv0RtNRWltdk/ksM92qgV5j+Mn+h5HI7ovzDryvcM6us/qKB3UPkG3r+4f4HA/2j7v8Pqcrl7Ur2/",
          "dtype": "f8"
         },
         "yaxis": "y"
        },
        {
         "hovertemplate": "Gruppe=Gruppe 1<br>Kategorie=A<br>X-Wert=%{x}<br>Y-Wert=%{y}<br>Punktgröße=%{marker.size}<extra></extra>",
         "legendgroup": "Gruppe 1",
         "marker": {
          "color": "#EF553B",
          "size": {
           "bdata": "p3Vg+0hBFkAO1C/DvRQtQDj6RLQ8ZyRAb8P6aHeIK0BgkvkP1REiQHZ1ZuFQXBlAKkkaD7wmFUClfT5cTT8rQPC9/auL/SxANMhUK2xUHkDOUA1MxJktQDZYXmM02iNA2PNMdbonGUCahXu6c0YbQEbASQCveiNAVlIDNXBxFkApcZyBdecrQGSnYlbA8iJAZKn05bGLIUB5LnJDOnUcQEpE4/0AlSdA/pBXSfy9JECDZXBtm9YdQAR/cEJydhtAzoEH4V9nH0BZPv5Mx6UtQOg/A8fNYylAKEGJ2O2XGEAS6MOP8J8lQM4V/J7bpiRAMyC2oXNyIEBQPDiijjIqQHyvStxdNClAjdMunKvpJUAwd6BwMJcsQOIx+p0KnihA",
           "dtype": "f8"
          },
          "sizemode": "area",
          "sizeref": 0.037492941832153265,
          "symbol": "circle"
         },
         "mode": "markers",
         "name": "Gruppe 1",
         "orientation": "v",
         "showlegend": false,
         "type": "scatter",
         "x": {
          "bdata": "aF4kUN255D8S5O5wQ5n7vyj6ylGVa+G/0js9oW4447+g0vNCHKvSv6f9qTkuQeO/V/YYc+6i/T+IQQCR1/3VP04VDZhpNfy/+ewJJ9qS4z8enOD2C83tP1MVD7Xe2uq/E259YKzDx7/6IytdQW+yv68KAS/SpOS/OiugAxPauD8zHPwf+NvZP1hViTXjDrO/uAjaR7i0A0AIMle3vcWhv/yNN7izGe2/aYthmQ2GAUBVNCM6aB3NP7jwFFdAuPm/cbUQEBWixz81ybwAzAHTPyEIkoSbifI/3ZmHtuBoz78MWLUrHhvqv3p/jlNNtdE/oWyah3cF5D9+eAqv1W3rvxh+bLVtmsy/DoJukBfZ5j/6ZIdx0Dz4v97UHsmL7vO/",
          "dtype": "f8"
         },
         "xaxis": "x2",
         "y": {
          "bdata": "gkdVii1U8T/YjcoNXy3Uv09gYLYhNN6/bVS/msTj5r9EgkPHQ7/lP6oSqtcpX+e/6a+YQeq0yz8qeAnyTD/8PyWMA2k469k/NywFS/qE8D+NcaTosP3ev/EbC6BERfQ/Xukigxt6rr8KHcBQWx76PyQa2nMbvMA/sl1t+b+jyr+fiTzaKgm+Pwn42OZy4cm/v1AzXEUI6j+U5qMJj9LlP9KOB7+GC+M/KpXxCVFt87/1+6EloU/qv4A6w4kQW88/2Mfk5OA44L8IbAN8PFLLv3v1uoC017u/JjzeAE0BuT/YPJc5NN/fPxOqarm3OQFA4+c8VwDf6r/UozR8OS7jv65aVpTQSui/9ew3hRpAwz9nacCn/nXiv1AS9bSnTf0/",
          "dtype": "f8"
         },
         "yaxis": "y2"
        },
        {
         "hovertemplate": "Gruppe=Gruppe 1<br>Kategorie=B<br>X-Wert=%{x}<br>Y-Wert=%{y}<br>Punktgröße=%{marker.size}<extra></extra>",
         "legendgroup": "Gruppe 1",
         "marker": {
          "color": "#EF553B",
          "size": {
           "bdata": "fLK66WBLK0BL+1WcDUIqQK2WNDXY5B1AqNhBqJcqGUDoE5QpRXIpQIkIhMXAhBxA/RRjHUrYIUDIPToh378iQJ2zRq1NrClAwvZLTgjiGUDpWR1rxi4jQCiA7HswHxlAd2IAzHsTGkC2A30al40ZQIFD0xV/ESRARBc2JMAfKkAKQv7wFvcoQLBo7sd+YRtAlQJUfNZgIUDAY6pN9BgeQDLJt5FZRChA7+Cv+QzFHkBhnVZUyYwgQDrGPzr7QiFAuxSbYHDvK0AqDj5UOzUiQFYJMS+obiVAu+eDV3huI0BiWHwfoDwiQH8zg5pNxCxAVSt00CnWKkA=",
           "dtype": "f8"
          },
          "sizemode": "area",
          "sizeref": 0.037492941832153265,
          "symbol": "circle"
         },
         "mode": "markers",
         "name": "Gruppe 1",
         "orientation": "v",
         "showlegend": false,
         "type": "scatter",
         "x": {
          "bdata": "K6oBjlRe+D9AplffvPjNv+fvFiuEzt2/vjXuvsuc/r9iJw3BxMv2vxx64lmTiPO/vp1IqoSh5z8MLqRVZe/FPyemqLj2COe/OFhtsMq91D/U/PRa+X7wPzBuPE2Ms/G/9PWajqkj87+w1UonNgDqPzfj0Tl0pfc/eEjIDDh35r+XkvGmavjUvxqljMtMGNm/lk70gPMGzr98MTRhQazpv8BzdZwCpcS/rRjbe37Wrj/PEfK957Lyv9YjgtZXjbE/EYwxZrEE6T9z7FfMvrPgP1NiNJ2XMO+/Le0xdoZJ3j+qgxBm6qSyv6YxaebKKsY/47UXOZtJ8r8=",
          "dtype": "f8"
         },
         "xaxis": "x3",
         "y": {
          "bdata": "XSlfil/c8D8mOgEJ7wr2v3SXcOBGK/I/EkkodzLY5D/J/kcor835v4FhpYsQSeQ/Cgyfc1Rc6b/yfsIPXl+9vyYkGt93aNW/C7k+p5Qs9L8CwaThVk/4v0GEOZId7gnAUVGfS+Rj8L/Pqo+bEyrQv1wBRCtTYPk/LrGPehPc4r+wL6q88C/rP8+qGHtX2dY/wsSVYusl5D8umg85J4jjP7yICjo6Z5W/DZgPjM9p6j90tiYZadvTv5cwt8xOtuy/7rT+9c+zzT/a8Ei8fv3mv0ujvpR8nuA/3jrLdFTf1T/4QcK2ywT+P1lpoZr83vI/BBomehjO8z8=",
          "dtype": "f8"
         },
         "yaxis": "y3"
        }
       ],
       "layout": {
        "annotations": [
         {
          "font": {},
          "showarrow": false,
          "text": "Kategorie=C",
          "x": 0.15999999999999998,
          "xanchor": "center",
          "xref": "paper",
          "y": 1,
          "yanchor": "bottom",
          "yref": "paper"
         },
         {
          "font": {},
          "showarrow": false,
          "text": "Kategorie=A",
          "x": 0.49999999999999994,
          "xanchor": "center",
          "xref": "paper",
          "y": 1,
          "yanchor": "bottom",
          "yref": "paper"
         },
         {
          "font": {},
          "showarrow": false,
          "text": "Kategorie=B",
          "x": 0.8399999999999999,
          "xanchor": "center",
          "xref": "paper",
          "y": 1,
          "yanchor": "bottom",
          "yref": "paper"
         }
        ],
        "height": 400,
        "legend": {
         "itemsizing": "constant",
         "title": {
          "text": "Gruppe"
         },
         "tracegroupgap": 0
        },
        "template": {
         "data": {
          "bar": [
           {
            "error_x": {
             "color": "#2a3f5f"
            },
            "error_y": {
             "color": "#2a3f5f"
            },
            "marker": {
             "line": {
              "color": "#E5ECF6",
              "width": 0.5
             },
             "pattern": {
              "fillmode": "overlay",
              "size": 10,
              "solidity": 0.2
             }
            },
            "type": "bar"
           }
          ],
          "barpolar": [
           {
            "marker": {
             "line": {
              "color": "#E5ECF6",
              "width": 0.5
             },
             "pattern": {
              "fillmode": "overlay",
              "size": 10,
              "solidity": 0.2
             }
            },
            "type": "barpolar"
           }
          ],
          "carpet": [
           {
            "aaxis": {
             "endlinecolor": "#2a3f5f",
             "gridcolor": "white",
             "linecolor": "white",
             "minorgridcolor": "white",
             "startlinecolor": "#2a3f5f"
            },
            "baxis": {
             "endlinecolor": "#2a3f5f",
             "gridcolor": "white",
             "linecolor": "white",
             "minorgridcolor": "white",
             "startlinecolor": "#2a3f5f"
            },
            "type": "carpet"
           }
          ],
          "choropleth": [
           {
            "colorbar": {
             "outlinewidth": 0,
             "ticks": ""
            },
            "type": "choropleth"
           }
          ],
          "contour": [
           {
            "colorbar": {
             "outlinewidth": 0,
             "ticks": ""
            },
            "colorscale": [
             [
              0,
              "#0d0887"
             ],
             [
              0.1111111111111111,
              "#46039f"
             ],
             [
              0.2222222222222222,
              "#7201a8"
             ],
             [
              0.3333333333333333,
              "#9c179e"
             ],
             [
              0.4444444444444444,
              "#bd3786"
             ],
             [
              0.5555555555555556,
              "#d8576b"
             ],
             [
              0.6666666666666666,
              "#ed7953"
             ],
             [
              0.7777777777777778,
              "#fb9f3a"
             ],
             [
              0.8888888888888888,
              "#fdca26"
             ],
             [
              1,
              "#f0f921"
             ]
            ],
            "type": "contour"
           }
          ],
          "contourcarpet": [
           {
            "colorbar": {
             "outlinewidth": 0,
             "ticks": ""
            },
            "type": "contourcarpet"
           }
          ],
          "heatmap": [
           {
            "colorbar": {
             "outlinewidth": 0,
             "ticks": ""
            },
            "colorscale": [
             [
              0,
              "#0d0887"
             ],
             [
              0.1111111111111111,
              "#46039f"
             ],
             [
              0.2222222222222222,
              "#7201a8"
             ],
             [
              0.3333333333333333,
              "#9c179e"
             ],
             [
              0.4444444444444444,
              "#bd3786"
             ],
             [
              0.5555555555555556,
              "#d8576b"
             ],
             [
              0.6666666666666666,
              "#ed7953"
             ],
             [
              0.7777777777777778,
              "#fb9f3a"
             ],
             [
              0.8888888888888888,
              "#fdca26"
             ],
             [
              1,
              "#f0f921"
             ]
            ],
            "type": "heatmap"
           }
          ],
          "histogram": [
           {
            "marker": {
             "pattern": {
              "fillmode": "overlay",
              "size": 10,
              "solidity": 0.2
             }
            },
            "type": "histogram"
           }
          ],
          "histogram2d": [
           {
            "colorbar": {
             "outlinewidth": 0,
             "ticks": ""
            },
            "colorscale": [
             [
              0,
              "#0d0887"
             ],
             [
              0.1111111111111111,
              "#46039f"
             ],
             [
              0.2222222222222222,
              "#7201a8"
             ],
             [
              0.3333333333333333,
              "#9c179e"
             ],
             [
              0.4444444444444444,
              "#bd3786"
             ],
             [
              0.5555555555555556,
              "#d8576b"
             ],
             [
              0.6666666666666666,
              "#ed7953"
             ],
             [
              0.7777777777777778,
              "#fb9f3a"
             ],
             [
              0.8888888888888888,
              "#fdca26"
             ],
             [
              1,
              "#f0f921"
             ]
            ],
            "type": "histogram2d"
           }
          ],
          "histogram2dcontour": [
           {
            "colorbar": {
             "outlinewidth": 0,
             "ticks": ""
            },
            "colorscale": [
             [
              0,
              "#0d0887"
             ],
             [
              0.1111111111111111,
              "#46039f"
             ],
             [
              0.2222222222222222,
              "#7201a8"
             ],
             [
              0.3333333333333333,
              "#9c179e"
             ],
             [
              0.4444444444444444,
              "#bd3786"
             ],
             [
              0.5555555555555556,
              "#d8576b"
             ],
             [
              0.6666666666666666,
              "#ed7953"
             ],
             [
              0.7777777777777778,
              "#fb9f3a"
             ],
             [
              0.8888888888888888,
              "#fdca26"
             ],
             [
              1,
              "#f0f921"
             ]
            ],
            "type": "histogram2dcontour"
           }
          ],
          "mesh3d": [
           {
            "colorbar": {
             "outlinewidth": 0,
             "ticks": ""
            },
            "type": "mesh3d"
           }
          ],
          "parcoords": [
           {
            "line": {
             "colorbar": {
              "outlinewidth": 0,
              "ticks": ""
             }
            },
            "type": "parcoords"
           }
          ],
          "pie": [
           {
            "automargin": true,
            "type": "pie"
           }
          ],
          "scatter": [
           {
            "fillpattern": {
             "fillmode": "overlay",
             "size": 10,
             "solidity": 0.2
            },
            "type": "scatter"
           }
          ],
          "scatter3d": [
           {
            "line": {
             "colorbar": {
              "outlinewidth": 0,
              "ticks": ""
             }
            },
            "marker": {
             "colorbar": {
              "outlinewidth": 0,
              "ticks": ""
             }
            },
            "type": "scatter3d"
           }
          ],
          "scattercarpet": [
           {
            "marker": {
             "colorbar": {
              "outlinewidth": 0,
              "ticks": ""
             }
            },
            "type": "scattercarpet"
           }
          ],
          "scattergeo": [
           {
            "marker": {
             "colorbar": {
              "outlinewidth": 0,
              "ticks": ""
             }
            },
            "type": "scattergeo"
           }
          ],
          "scattergl": [
           {
            "marker": {
             "colorbar": {
              "outlinewidth": 0,
              "ticks": ""
             }
            },
            "type": "scattergl"
           }
          ],
          "scattermap": [
           {
            "marker": {
             "colorbar": {
              "outlinewidth": 0,
              "ticks": ""
             }
            },
            "type": "scattermap"
           }
          ],
          "scattermapbox": [
           {
            "marker": {
             "colorbar": {
              "outlinewidth": 0,
              "ticks": ""
             }
            },
            "type": "scattermapbox"
           }
          ],
          "scatterpolar": [
           {
            "marker": {
             "colorbar": {
              "outlinewidth": 0,
              "ticks": ""
             }
            },
            "type": "scatterpolar"
           }
          ],
          "scatterpolargl": [
           {
            "marker": {
             "colorbar": {
              "outlinewidth": 0,
              "ticks": ""
             }
            },
            "type": "scatterpolargl"
           }
          ],
          "scatterternary": [
           {
            "marker": {
             "colorbar": {
              "outlinewidth": 0,
              "ticks": ""
             }
            },
            "type": "scatterternary"
           }
          ],
          "surface": [
           {
            "colorbar": {
             "outlinewidth": 0,
             "ticks": ""
            },
            "colorscale": [
             [
              0,
              "#0d0887"
             ],
             [
              0.1111111111111111,
              "#46039f"
             ],
             [
              0.2222222222222222,
              "#7201a8"
             ],
             [
              0.3333333333333333,
              "#9c179e"
             ],
             [
              0.4444444444444444,
              "#bd3786"
             ],
             [
              0.5555555555555556,
              "#d8576b"
             ],
             [
              0.6666666666666666,
              "#ed7953"
             ],
             [
              0.7777777777777778,
              "#fb9f3a"
             ],
             [
              0.8888888888888888,
              "#fdca26"
             ],
             [
              1,
              "#f0f921"
             ]
            ],
            "type": "surface"
           }
          ],
          "table": [
           {
            "cells": {
             "fill": {
              "color": "#EBF0F8"
             },
             "line": {
              "color": "white"
             }
            },
            "header": {
             "fill": {
              "color": "#C8D4E3"
             },
             "line": {
              "color": "white"
             }
            },
            "type": "table"
           }
          ]
         },
         "layout": {
          "annotationdefaults": {
           "arrowcolor": "#2a3f5f",
           "arrowhead": 0,
           "arrowwidth": 1
          },
          "autotypenumbers": "strict",
          "coloraxis": {
           "colorbar": {
            "outlinewidth": 0,
            "ticks": ""
           }
          },
          "colorscale": {
           "diverging": [
            [
             0,
             "#8e0152"
            ],
            [
             0.1,
             "#c51b7d"
            ],
            [
             0.2,
             "#de77ae"
            ],
            [
             0.3,
             "#f1b6da"
            ],
            [
             0.4,
             "#fde0ef"
            ],
            [
             0.5,
             "#f7f7f7"
            ],
            [
             0.6,
             "#e6f5d0"
            ],
            [
             0.7,
             "#b8e186"
            ],
            [
             0.8,
             "#7fbc41"
            ],
            [
             0.9,
             "#4d9221"
            ],
            [
             1,
             "#276419"
            ]
           ],
           "sequential": [
            [
             0,
             "#0d0887"
            ],
            [
             0.1111111111111111,
             "#46039f"
            ],
            [
             0.2222222222222222,
             "#7201a8"
            ],
            [
             0.3333333333333333,
             "#9c179e"
            ],
            [
             0.4444444444444444,
             "#bd3786"
            ],
            [
             0.5555555555555556,
             "#d8576b"
            ],
            [
             0.6666666666666666,
             "#ed7953"
            ],
            [
             0.7777777777777778,
             "#fb9f3a"
            ],
            [
             0.8888888888888888,
             "#fdca26"
            ],
            [
             1,
             "#f0f921"
            ]
           ],
           "sequentialminus": [
            [
             0,
             "#0d0887"
            ],
            [
             0.1111111111111111,
             "#46039f"
            ],
            [
             0.2222222222222222,
             "#7201a8"
            ],
            [
             0.3333333333333333,
             "#9c179e"
            ],
            [
             0.4444444444444444,
             "#bd3786"
            ],
            [
             0.5555555555555556,
             "#d8576b"
            ],
            [
             0.6666666666666666,
             "#ed7953"
            ],
            [
             0.7777777777777778,
             "#fb9f3a"
            ],
            [
             0.8888888888888888,
             "#fdca26"
            ],
            [
             1,
             "#f0f921"
            ]
           ]
          },
          "colorway": [
           "#636efa",
           "#EF553B",
           "#00cc96",
           "#ab63fa",
           "#FFA15A",
           "#19d3f3",
           "#FF6692",
           "#B6E880",
           "#FF97FF",
           "#FECB52"
          ],
          "font": {
           "color": "#2a3f5f"
          },
          "geo": {
           "bgcolor": "white",
           "lakecolor": "white",
           "landcolor": "#E5ECF6",
           "showlakes": true,
           "showland": true,
           "subunitcolor": "white"
          },
          "hoverlabel": {
           "align": "left"
          },
          "hovermode": "closest",
          "mapbox": {
           "style": "light"
          },
          "paper_bgcolor": "white",
          "plot_bgcolor": "#E5ECF6",
          "polar": {
           "angularaxis": {
            "gridcolor": "white",
            "linecolor": "white",
            "ticks": ""
           },
           "bgcolor": "#E5ECF6",
           "radialaxis": {
            "gridcolor": "white",
            "linecolor": "white",
            "ticks": ""
           }
          },
          "scene": {
           "xaxis": {
            "backgroundcolor": "#E5ECF6",
            "gridcolor": "white",
            "gridwidth": 2,
            "linecolor": "white",
            "showbackground": true,
            "ticks": "",
            "zerolinecolor": "white"
           },
           "yaxis": {
            "backgroundcolor": "#E5ECF6",
            "gridcolor": "white",
            "gridwidth": 2,
            "linecolor": "white",
            "showbackground": true,
            "ticks": "",
            "zerolinecolor": "white"
           },
           "zaxis": {
            "backgroundcolor": "#E5ECF6",
            "gridcolor": "white",
            "gridwidth": 2,
            "linecolor": "white",
            "showbackground": true,
            "ticks": "",
            "zerolinecolor": "white"
           }
          },
          "shapedefaults": {
           "line": {
            "color": "#2a3f5f"
           }
          },
          "ternary": {
           "aaxis": {
            "gridcolor": "white",
            "linecolor": "white",
            "ticks": ""
           },
           "baxis": {
            "gridcolor": "white",
            "linecolor": "white",
            "ticks": ""
           },
           "bgcolor": "#E5ECF6",
           "caxis": {
            "gridcolor": "white",
            "linecolor": "white",
            "ticks": ""
           }
          },
          "title": {
           "x": 0.05
          },
          "xaxis": {
           "automargin": true,
           "gridcolor": "white",
           "linecolor": "white",
           "ticks": "",
           "title": {
            "standoff": 15
           },
           "zerolinecolor": "white",
           "zerolinewidth": 2
          },
          "yaxis": {
           "automargin": true,
           "gridcolor": "white",
           "linecolor": "white",
           "ticks": "",
           "title": {
            "standoff": 15
           },
           "zerolinecolor": "white",
           "zerolinewidth": 2
          }
         }
        },
        "title": {
         "text": "Facet-Plot nach Kategorien"
        },
        "xaxis": {
         "anchor": "y",
         "domain": [
          0,
          0.31999999999999995
         ],
         "title": {
          "text": "X-Wert"
         }
        },
        "xaxis2": {
         "anchor": "y2",
         "domain": [
          0.33999999999999997,
          0.6599999999999999
         ],
         "matches": "x",
         "title": {
          "text": "X-Wert"
         }
        },
        "xaxis3": {
         "anchor": "y3",
         "domain": [
          0.6799999999999999,
          0.9999999999999999
         ],
         "matches": "x",
         "title": {
          "text": "X-Wert"
         }
        },
        "yaxis": {
         "anchor": "x",
         "domain": [
          0,
          1
         ],
         "title": {
          "text": "Y-Wert"
         }
        },
        "yaxis2": {
         "anchor": "x2",
         "domain": [
          0,
          1
         ],
         "matches": "y",
         "showticklabels": false
        },
        "yaxis3": {
         "anchor": "x3",
         "domain": [
          0,
          1
         ],
         "matches": "y",
         "showticklabels": false
        }
       }
      },
      "image/png": "[encoded data removed]"
     },
     "metadata": {},
     "output_type": "display_data"
    },
    {
     "data": {
      "application/vnd.plotly.v1+json": {
       "config": {
        "plotlyServerURL": "https://plot.ly"
       },
       "data": [
        {
         "hovertemplate": "Gruppe=Gruppe 2<br>Kategorie=C<br>X-Wert=%{x}<br>Y-Wert=%{y}<br>Punktgröße=%{marker.size}<extra></extra>",
         "legendgroup": "",
         "marker": {
          "color": "#636efa",
          "size": {
           "bdata": "VKrVN+BLIkAJ0/HTMf4qQGLTPmt0bidAo3wKVisLK0DNlDieADglQAww9oBNGilA9zCZIvxnJkAG/ub375QUQBwtBSACAyFA4+RQ4koVLECaXd5nEfcgQCqVoE2gRyRA/xrPehVxJkB8G+yqotcjQJJ2hwXR6SBAW+QboH6iFUCttLkh5cEaQB/QTU/SzidApi44mdmOJkCIdnHf3WosQFohzYAtQCNAAQlW/3BJGEAU4NFwh80UQFqEKj5dyhhAfMbrURB6F0DY1YSlGOsmQA1tIKVAEhhAH6jTD0cdGkDiC0GUYG0aQPFZjQp0XydAumIxZfwyH0A3r38MPIIiQL0yVxP3JiRA/mDr5l82JkAZsrEyhS8eQJtJRJ00+iBAo3OFEvBMLUBg0k2oidIoQA==",
           "dtype": "f8"
          },
          "sizemode": "area",
          "sizeref": 0.037492941832153265,
          "symbol": "circle"
         },
         "mode": "markers",
         "name": "",
         "orientation": "v",
         "showlegend": false,
         "type": "scatter",
         "x": {
          "bdata": "fDCpKCrK3z9wG8Guoqjdv9mYZuE85sy/NQYxP2xlvD/o3X2zbwvYP4KDsNZupIu/RMyHS2Ls8L/DMFAPz1r/v/9asANAQPW/XzGyNiCbvb/hr1BvSEXTvwa4sKwGqPe/YsLX/vjp8D9NOahTWKnlv2qADoN4DvA/MNc5yccI+T9fX8/rPPUEwDA8v2yrleC/kAbHYflK7T8DXOrSr2zgPwQmjcpbpfa/lntOorR70D/khmG6SJ/Iv1xvV5MASfI/S4cph4jH4j+s980tMv/wv6+9akJVCOo/EVsOyJ6x87/Tik2FDur0P+BkxVBHU94/U0kIDcwv6T93tWaxAGvaP+eq0BtRTuo/8kr3TZse6L99RAssYCLxv0P8sSPvGOu/KIC+cZ5n6z9MGk6nQ63DPw==",
          "dtype": "f8"
         },
         "xaxis": "x4",
         "y": {
          "bdata": "CI7n9Pzl1j+2wyAtvETiP09AcndR4P2/xvMOdlds8T8pQupOcT7xv3PHAjQxVac/Ve/g+OjZ5L/8/hAovN3HP6yz485aLeW/N78DFdso4D+NsKk8RLTrP0v5XAFqNPO/ipjttBLo5L9KYjkHLfoAQOn07+zb4fa/5DdWMxL1hD+svp/UhGjvv4YX358XzvO/wFqZqbFtw7/LqBuLJ+3jv4yjjosgh+q/KEj7XdKB4T88leW+PeP0P6OxmTokv9Q//PqLrqUY8L+wbFRy7WezPy6g5gx4bdo/etnHEggK4r9c1ed9JDHPP96rdxViedK/THEKPRmG+D8LEE+hmK3ZvxXeU/wPr8w/VbakA3+86L/mMqAKvf0AwNkhy0Dfae4/uVV5jJp73z8k+R8Udqn1Pw==",
          "dtype": "f8"
         },
         "yaxis": "y4"
        },
        {
         "hovertemplate": "Gruppe=Gruppe 2<br>Kategorie=A<br>X-Wert=%{x}<br>Y-Wert=%{y}<br>Punktgröße=%{marker.size}<extra></extra>",
         "legendgroup": "",
         "marker": {
          "color": "#636efa",
          "size": {
           "bdata": "CIARPLDvHkAUbcjVx+4tQOZ+9nHPGyVAo7dQLzdhKUAuoIQ3nR8mQLx6ZIUbbydAXMawtflnJED4GBakcXQZQP3XhU81kyBA2PnyKgOrJkDchh4gCrEbQNzzvNvDJB9ACFu+XlCMF0DkD6yyT9MYQKXVY/IvNyNAI2bSyg9JIUAkG73QoncVQB/BX9vJOyRAUi9+GgCnJEAjedvqf88rQPdhd22m6ChA40DpzBiiIkDSYhyKYmolQObgvhk3HyFAiDxHeljvGkDqF0LzlzUXQNmsi5F/fSRAGSJLSbBjLUB1+qiYrCwaQAQ2TfRvnyNAJ7yBP0uhJ0B3bF14xZwqQCQpqrbN+BhA",
           "dtype": "f8"
          },
          "sizemode": "area",
          "sizeref": 0.037492941832153265,
          "symbol": "circle"
         },
         "mode": "markers",
         "name": "",
         "orientation": "v",
         "showlegend": false,
         "type": "scatter",
         "x": {
          "bdata": "KgXeBaWywb8IdECodET5P/PX8EbTjug/i555S94L3r9jPKFqQv7hvx+GFtigHNQ/xjWxRodJsT+1ae/SCrzKP88pc7QiytO/ikwPiWsz1T9RGaVkyleiv79YGXsGTeo/x+3gue8i0784ikZeon23P+Ic7A8Vzf+/04nor+7a1j8LNBbeCO/VvxsCfkTRLf4/7XIjckmz/r9WfwXd1Q/oP7MsjmocH+K/5JwNesCCuT8thU2gVk/eP5HjJV/sa+2/zcOFceuh0D/Ywx/UjMrzvwa+Dx2XIPW/AdZ0NMPC5b+5NmYI8Lyzv0Jpsxdv1dU/YkMs+9Pg3j8cYhNzs5PcvyehqH5sZ8s/",
          "dtype": "f8"
         },
         "xaxis": "x5",
         "y": {
          "bdata": "YVcbZPLx4T+AVJ49K3vgP4f9CTzvcOA/AhQSSUV74D/kDZbReUnoPwAthHUSUM6/kpFG7tf15T89c9v0fTMAwBa8Zm86pea/FOtNmoln3D8IXzaYUZzyP9cJVXMak90/ze88Bvo047/KiDmojN6xP75sTlz6qNi/z+EXqyww5T+JdVBH1OnnP1qJ6r5QcfQ/t0xoSPrcy7/UxicRh6jAvxIXgQBNVek/yMhgH8r44z9ziKEJT6vlv9PUlkwuNO8/EdBy2X0l3r+PSol8Wiv3v04IFLz4hPa/TRMYmPJx6z9rdxRc4jf3PytfQbtYsu4/1XP6MfzS4L9XAvYf0L/svx/z89qsH/W/",
          "dtype": "f8"
         },
         "yaxis": "y5"
        },
        {
         "hovertemplate": "Gruppe=Gruppe 2<br>Kategorie=B<br>X-Wert=%{x}<br>Y-Wert=%{y}<br>Punktgröße=%{marker.size}<extra></extra>",
         "legendgroup": "",
         "marker": {
          "color": "#636efa",
          "size": {
           "bdata": "oDqDNckCI0BZH2RlTSUdQIQDHgzRXCZAfmUcatSKGECFOgNv4xQoQDk+c1hH0SZAMpAvgY7vK0Bmym5H5VknQDB6AjSO5BpAxOuOZTZFF0AF1q6wvF8cQBhf5uR2XSZAAuanGw3zKEDsDZqaC3EgQDxXL4Ax3yVAIj+fho7IKUB+9ORjoLwlQDbU5BtsGhlAk+6vgt1ZH0ARkNUrkR0mQFpkA4BlTytAjyh0yexQHkCXTp2O49UaQArQS7JnlixA+jGmkUayHUA+u2+tk4sfQEU2vgJoYBlAwJ6+rvWIFkCFGwGtmMwtQA==",
           "dtype": "f8"
          },
          "sizemode": "area",
          "sizeref": 0.037492941832153265,
          "symbol": "circle"
         },
         "mode": "markers",
         "name": "",
         "orientation": "v",
         "showlegend": false,
         "type": "scatter",
         "x": {
          "bdata": "cPmepZ74zj95UaNnjjTwv/sDi4GIDu2/QQ2fH0xz9z83Lh+1SVLqP/3Ng74os/U/QqQobQsl1z+P6aQIGyHXPyBgEDvMm/g/gMUgGEIK1T8Q9Hamjmr3vxk6yBDZ8XQ/dIYfXNrr2r9yMGE5jUzTP9CD1DoiUOk/NMSHcthx9j9p9j08ebLvv29cmPl4HOC/2oM4dYTP+L/fMGI1aRDpv50+1zh9us0/f8hIgffb5r/fO7FfNtr9P2mIgUGUD/O/+X48mUNZ/j+U+RH35nbsvwoy0PKsQfc/auDaNiPw0L9MuFAN6MIFQA==",
          "dtype": "f8"
         },
         "xaxis": "x6",
         "y": {
          "bdata": "vPLQtC6H7j9Y0b7x+7rov5EtJkUyEN+/0ibqtWuEAkCV1qAozCYBQASbcH/r9vO/hYPJWbAp3L93MpKUdA/3PxIUTpdK+fa/ic8wm37T4j/XVFe+UCzmv1lCEmv3Auo/I4fvyQDt4b+kvJzzB4KVP/XYfEG61Lg/18BsJN0u6r9RMm1En4fyPw8dnApoG+Q/50/fBtYUib+AO+UYeWrqvxoYyKHdeMS/gGImO1wK8L+f7IiGG/WSvwu3nb9rp9Q/o5dJbAvKiT8QGHLzMRmZP8KLUDfAd8c/lNZ2ZreEAUCObKBdlN3pvw==",
          "dtype": "f8"
         },
         "yaxis": "y6"
        },
        {
         "hovertemplate": "Gruppe=Gruppe 1<br>Kategorie=C<br>X-Wert=%{x}<br>Y-Wert=%{y}<br>Punktgröße=%{marker.size}<extra></extra>",
         "legendgroup": "",
         "marker": {
          "color": "#636efa",
          "size": {
           "bdata": "YPHf8o3+LUAviGRWM+UsQE3zqwnLKSFA0oDrVMMJJUDOcxfpYMwlQK2xPo5M7iFAQvCa7iCILEBvM7VUF5sdQHmyrynXCBdAwrUoXZYUG0AcmXh220AcQMchdmqOkhVA3O6zMvv8KUA5d2T5uHgrQOdsVyQ6Ex9AAGPPMdFoIUBVHZf3wbAjQI6Ak8lrpCRAhjuG4OWyHUC77rIoBvgjQEtsU0T1ui1A3KQJzTN9HUBAqXtCR3sYQJSjcEoF9SFAAQtwtGhXKkBrbFZCoCIlQEwI1/ZTextAdAJH2Tx5IEByndhKrBIWQEO7ovVpuyBAn2nlm9M/G0Dy2qH566gWQNPHHmZNfSVA",
           "dtype": "f8"
          },
          "sizemode": "area",
          "sizeref": 0.037492941832153265,
          "symbol": "circle"
         },
         "mode": "markers",
         "name": "",
         "orientation": "v",
         "showlegend": false,
         "type": "scatter",
         "x": {
          "bdata": "O9twJjP4zb99LWrhplzhP8gTFMTLmPa/FfXOPXhq8r9AOvS8vzLJP9muIgobe92/QA8qJjCl2L8AaBhqqjfvP1VmKGzKqt6/Ka5Ld7dItj/BbA5bNR7Mv0ty7vkt3+m/oXaXyWQO4L/02ryry/Pgv1O8eMcj/+4/IzBrdqLz0j8UgR0sIbXQP5EnXNaQWMY/OEbHD3Qmm78a5Ehh+232v8jtxwSIzPg/xtPZ56ec1L/eggcqEwjQP3AGYxw1LNY/Kj4LDLPB0j8M5qS2fALlP9w7t5AHQ+q/7T4bLfrT7j9yFE0BSXjqP8TCNmO8oIo/VQIhOgqp2D/B7dljj0jsv+ihInyIza0/",
          "dtype": "f8"
         },
         "xaxis": "x",
         "y": {
          "bdata": "Z8V5qKkC7r8EDUXjZNIOQCVqDR+09bQ/6B/Nw6d0sD8/Ct9FIkfrP1rKtASBZd6/D/uaBCBf7T/0GbtazcnoP8n/ohdqqe2/YEo4wcl6yT+GAmIFeQ+9P8VmS81zEAFAf+qdasA7/7+ESpdQxfvRP6x00MpTjd+/aRaPrYXJ7D/XdA+cy6rTP/WSCR8n7uK/ZTBOCZeU8T+vFT2KNb0AQETyF7rG0sK/ugLT65WR1L9GopTY6OXTP0v62x4Pm/c/U9kkHPx4k7+DfBkHrXjqv0RtNRWltdk/ksM92qgV5j+Mn+h5HI7ovzDryvcM6us/qKB3UPkG3r+4f4HA/2j7v8Pqcrl7Ur2/",
          "dtype": "f8"
         },
         "yaxis": "y"
        },
        {
         "hovertemplate": "Gruppe=Gruppe 1<br>Kategorie=A<br>X-Wert=%{x}<br>Y-Wert=%{y}<br>Punktgröße=%{marker.size}<extra></extra>",
         "legendgroup": "",
         "marker": {
          "color": "#636efa",
          "size": {
           "bdata": "p3Vg+0hBFkAO1C/DvRQtQDj6RLQ8ZyRAb8P6aHeIK0BgkvkP1REiQHZ1ZuFQXBlAKkkaD7wmFUClfT5cTT8rQPC9/auL/SxANMhUK2xUHkDOUA1MxJktQDZYXmM02iNA2PNMdbonGUCahXu6c0YbQEbASQCveiNAVlIDNXBxFkApcZyBdecrQGSnYlbA8iJAZKn05bGLIUB5LnJDOnUcQEpE4/0AlSdA/pBXSfy9JECDZXBtm9YdQAR/cEJydhtAzoEH4V9nH0BZPv5Mx6UtQOg/A8fNYylAKEGJ2O2XGEAS6MOP8J8lQM4V/J7bpiRAMyC2oXNyIEBQPDiijjIqQHyvStxdNClAjdMunKvpJUAwd6BwMJcsQOIx+p0KnihA",
           "dtype": "f8"
          },
          "sizemode": "area",
          "sizeref": 0.037492941832153265,
          "symbol": "circle"
         },
         "mode": "markers",
         "name": "",
         "orientation": "v",
         "showlegend": false,
         "type": "scatter",
         "x": {
          "bdata": "aF4kUN255D8S5O5wQ5n7vyj6ylGVa+G/0js9oW4447+g0vNCHKvSv6f9qTkuQeO/V/YYc+6i/T+IQQCR1/3VP04VDZhpNfy/+ewJJ9qS4z8enOD2C83tP1MVD7Xe2uq/E259YKzDx7/6IytdQW+yv68KAS/SpOS/OiugAxPauD8zHPwf+NvZP1hViTXjDrO/uAjaR7i0A0AIMle3vcWhv/yNN7izGe2/aYthmQ2GAUBVNCM6aB3NP7jwFFdAuPm/cbUQEBWixz81ybwAzAHTPyEIkoSbifI/3ZmHtuBoz78MWLUrHhvqv3p/jlNNtdE/oWyah3cF5D9+eAqv1W3rvxh+bLVtmsy/DoJukBfZ5j/6ZIdx0Dz4v97UHsmL7vO/",
          "dtype": "f8"
         },
         "xaxis": "x2",
         "y": {
          "bdata": "gkdVii1U8T/YjcoNXy3Uv09gYLYhNN6/bVS/msTj5r9EgkPHQ7/lP6oSqtcpX+e/6a+YQeq0yz8qeAnyTD/8PyWMA2k469k/NywFS/qE8D+NcaTosP3ev/EbC6BERfQ/Xukigxt6rr8KHcBQWx76PyQa2nMbvMA/sl1t+b+jyr+fiTzaKgm+Pwn42OZy4cm/v1AzXEUI6j+U5qMJj9LlP9KOB7+GC+M/KpXxCVFt87/1+6EloU/qv4A6w4kQW88/2Mfk5OA44L8IbAN8PFLLv3v1uoC017u/JjzeAE0BuT/YPJc5NN/fPxOqarm3OQFA4+c8VwDf6r/UozR8OS7jv65aVpTQSui/9ew3hRpAwz9nacCn/nXiv1AS9bSnTf0/",
          "dtype": "f8"
         },
         "yaxis": "y2"
        },
        {
         "hovertemplate": "Gruppe=Gruppe 1<br>Kategorie=B<br>X-Wert=%{x}<br>Y-Wert=%{y}<br>Punktgröße=%{marker.size}<extra></extra>",
         "legendgroup": "",
         "marker": {
          "color": "#636efa",
          "size": {
           "bdata": "fLK66WBLK0BL+1WcDUIqQK2WNDXY5B1AqNhBqJcqGUDoE5QpRXIpQIkIhMXAhBxA/RRjHUrYIUDIPToh378iQJ2zRq1NrClAwvZLTgjiGUDpWR1rxi4jQCiA7HswHxlAd2IAzHsTGkC2A30al40ZQIFD0xV/ESRARBc2JMAfKkAKQv7wFvcoQLBo7sd+YRtAlQJUfNZgIUDAY6pN9BgeQDLJt5FZRChA7+Cv+QzFHkBhnVZUyYwgQDrGPzr7QiFAuxSbYHDvK0AqDj5UOzUiQFYJMS+obiVAu+eDV3huI0BiWHwfoDwiQH8zg5pNxCxAVSt00CnWKkA=",
           "dtype": "f8"
          },
          "sizemode": "area",
          "sizeref": 0.037492941832153265,
          "symbol": "circle"
         },
         "mode": "markers",
         "name": "",
         "orientation": "v",
         "showlegend": false,
         "type": "scatter",
         "x": {
          "bdata": "K6oBjlRe+D9AplffvPjNv+fvFiuEzt2/vjXuvsuc/r9iJw3BxMv2vxx64lmTiPO/vp1IqoSh5z8MLqRVZe/FPyemqLj2COe/OFhtsMq91D/U/PRa+X7wPzBuPE2Ms/G/9PWajqkj87+w1UonNgDqPzfj0Tl0pfc/eEjIDDh35r+XkvGmavjUvxqljMtMGNm/lk70gPMGzr98MTRhQazpv8BzdZwCpcS/rRjbe37Wrj/PEfK957Lyv9YjgtZXjbE/EYwxZrEE6T9z7FfMvrPgP1NiNJ2XMO+/Le0xdoZJ3j+qgxBm6qSyv6YxaebKKsY/47UXOZtJ8r8=",
          "dtype": "f8"
         },
         "xaxis": "x3",
         "y": {
          "bdata": "XSlfil/c8D8mOgEJ7wr2v3SXcOBGK/I/EkkodzLY5D/J/kcor835v4FhpYsQSeQ/Cgyfc1Rc6b/yfsIPXl+9vyYkGt93aNW/C7k+p5Qs9L8CwaThVk/4v0GEOZId7gnAUVGfS+Rj8L/Pqo+bEyrQv1wBRCtTYPk/LrGPehPc4r+wL6q88C/rP8+qGHtX2dY/wsSVYusl5D8umg85J4jjP7yICjo6Z5W/DZgPjM9p6j90tiYZadvTv5cwt8xOtuy/7rT+9c+zzT/a8Ei8fv3mv0ujvpR8nuA/3jrLdFTf1T/4QcK2ywT+P1lpoZr83vI/BBomehjO8z8=",
          "dtype": "f8"
         },
         "yaxis": "y3"
        }
       ],
       "layout": {
        "annotations": [
         {
          "font": {},
          "showarrow": false,
          "text": "Kategorie=C",
          "x": 0.15666666666666665,
          "xanchor": "center",
          "xref": "paper",
          "y": 1,
          "yanchor": "bottom",
          "yref": "paper"
         },
         {
          "font": {},
          "showarrow": false,
          "text": "Kategorie=A",
          "x": 0.49,
          "xanchor": "center",
          "xref": "paper",
          "y": 1,
          "yanchor": "bottom",
          "yref": "paper"
         },
         {
          "font": {},
          "showarrow": false,
          "text": "Kategorie=B",
          "x": 0.8233333333333333,
          "xanchor": "center",
          "xref": "paper",
          "y": 1,
          "yanchor": "bottom",
          "yref": "paper"
         },
         {
          "font": {},
          "showarrow": false,
          "text": "Gruppe=Gruppe 1",
          "textangle": 90,
          "x": 0.98,
          "xanchor": "left",
          "xref": "paper",
          "y": 0.2425,
          "yanchor": "middle",
          "yref": "paper"
         },
         {
          "font": {},
          "showarrow": false,
          "text": "Gruppe=Gruppe 2",
          "textangle": 90,
          "x": 0.98,
          "xanchor": "left",
          "xref": "paper",
          "y": 0.7575000000000001,
          "yanchor": "middle",
          "yref": "paper"
         }
        ],
        "height": 600,
        "legend": {
         "itemsizing": "constant",
         "tracegroupgap": 0
        },
        "template": {
         "data": {
          "bar": [
           {
            "error_x": {
             "color": "#2a3f5f"
            },
            "error_y": {
             "color": "#2a3f5f"
            },
            "marker": {
             "line": {
              "color": "#E5ECF6",
              "width": 0.5
             },
             "pattern": {
              "fillmode": "overlay",
              "size": 10,
              "solidity": 0.2
             }
            },
            "type": "bar"
           }
          ],
          "barpolar": [
           {
            "marker": {
             "line": {
              "color": "#E5ECF6",
              "width": 0.5
             },
             "pattern": {
              "fillmode": "overlay",
              "size": 10,
              "solidity": 0.2
             }
            },
            "type": "barpolar"
           }
          ],
          "carpet": [
           {
            "aaxis": {
             "endlinecolor": "#2a3f5f",
             "gridcolor": "white",
             "linecolor": "white",
             "minorgridcolor": "white",
             "startlinecolor": "#2a3f5f"
            },
            "baxis": {
             "endlinecolor": "#2a3f5f",
             "gridcolor": "white",
             "linecolor": "white",
             "minorgridcolor": "white",
             "startlinecolor": "#2a3f5f"
            },
            "type": "carpet"
           }
          ],
          "choropleth": [
           {
            "colorbar": {
             "outlinewidth": 0,
             "ticks": ""
            },
            "type": "choropleth"
           }
          ],
          "contour": [
           {
            "colorbar": {
             "outlinewidth": 0,
             "ticks": ""
            },
            "colorscale": [
             [
              0,
              "#0d0887"
             ],
             [
              0.1111111111111111,
              "#46039f"
             ],
             [
              0.2222222222222222,
              "#7201a8"
             ],
             [
              0.3333333333333333,
              "#9c179e"
             ],
             [
              0.4444444444444444,
              "#bd3786"
             ],
             [
              0.5555555555555556,
              "#d8576b"
             ],
             [
              0.6666666666666666,
              "#ed7953"
             ],
             [
              0.7777777777777778,
              "#fb9f3a"
             ],
             [
              0.8888888888888888,
              "#fdca26"
             ],
             [
              1,
              "#f0f921"
             ]
            ],
            "type": "contour"
           }
          ],
          "contourcarpet": [
           {
            "colorbar": {
             "outlinewidth": 0,
             "ticks": ""
            },
            "type": "contourcarpet"
           }
          ],
          "heatmap": [
           {
            "colorbar": {
             "outlinewidth": 0,
             "ticks": ""
            },
            "colorscale": [
             [
              0,
              "#0d0887"
             ],
             [
              0.1111111111111111,
              "#46039f"
             ],
             [
              0.2222222222222222,
              "#7201a8"
             ],
             [
              0.3333333333333333,
              "#9c179e"
             ],
             [
              0.4444444444444444,
              "#bd3786"
             ],
             [
              0.5555555555555556,
              "#d8576b"
             ],
             [
              0.6666666666666666,
              "#ed7953"
             ],
             [
              0.7777777777777778,
              "#fb9f3a"
             ],
             [
              0.8888888888888888,
              "#fdca26"
             ],
             [
              1,
              "#f0f921"
             ]
            ],
            "type": "heatmap"
           }
          ],
          "histogram": [
           {
            "marker": {
             "pattern": {
              "fillmode": "overlay",
              "size": 10,
              "solidity": 0.2
             }
            },
            "type": "histogram"
           }
          ],
          "histogram2d": [
           {
            "colorbar": {
             "outlinewidth": 0,
             "ticks": ""
            },
            "colorscale": [
             [
              0,
              "#0d0887"
             ],
             [
              0.1111111111111111,
              "#46039f"
             ],
             [
              0.2222222222222222,
              "#7201a8"
             ],
             [
              0.3333333333333333,
              "#9c179e"
             ],
             [
              0.4444444444444444,
              "#bd3786"
             ],
             [
              0.5555555555555556,
              "#d8576b"
             ],
             [
              0.6666666666666666,
              "#ed7953"
             ],
             [
              0.7777777777777778,
              "#fb9f3a"
             ],
             [
              0.8888888888888888,
              "#fdca26"
             ],
             [
              1,
              "#f0f921"
             ]
            ],
            "type": "histogram2d"
           }
          ],
          "histogram2dcontour": [
           {
            "colorbar": {
             "outlinewidth": 0,
             "ticks": ""
            },
            "colorscale": [
             [
              0,
              "#0d0887"
             ],
             [
              0.1111111111111111,
              "#46039f"
             ],
             [
              0.2222222222222222,
              "#7201a8"
             ],
             [
              0.3333333333333333,
              "#9c179e"
             ],
             [
              0.4444444444444444,
              "#bd3786"
             ],
             [
              0.5555555555555556,
              "#d8576b"
             ],
             [
              0.6666666666666666,
              "#ed7953"
             ],
             [
              0.7777777777777778,
              "#fb9f3a"
             ],
             [
              0.8888888888888888,
              "#fdca26"
             ],
             [
              1,
              "#f0f921"
             ]
            ],
            "type": "histogram2dcontour"
           }
          ],
          "mesh3d": [
           {
            "colorbar": {
             "outlinewidth": 0,
             "ticks": ""
            },
            "type": "mesh3d"
           }
          ],
          "parcoords": [
           {
            "line": {
             "colorbar": {
              "outlinewidth": 0,
              "ticks": ""
             }
            },
            "type": "parcoords"
           }
          ],
          "pie": [
           {
            "automargin": true,
            "type": "pie"
           }
          ],
          "scatter": [
           {
            "fillpattern": {
             "fillmode": "overlay",
             "size": 10,
             "solidity": 0.2
            },
            "type": "scatter"
           }
          ],
          "scatter3d": [
           {
            "line": {
             "colorbar": {
              "outlinewidth": 0,
              "ticks": ""
             }
            },
            "marker": {
             "colorbar": {
              "outlinewidth": 0,
              "ticks": ""
             }
            },
            "type": "scatter3d"
           }
          ],
          "scattercarpet": [
           {
            "marker": {
             "colorbar": {
              "outlinewidth": 0,
              "ticks": ""
             }
            },
            "type": "scattercarpet"
           }
          ],
          "scattergeo": [
           {
            "marker": {
             "colorbar": {
              "outlinewidth": 0,
              "ticks": ""
             }
            },
            "type": "scattergeo"
           }
          ],
          "scattergl": [
           {
            "marker": {
             "colorbar": {
              "outlinewidth": 0,
              "ticks": ""
             }
            },
            "type": "scattergl"
           }
          ],
          "scattermap": [
           {
            "marker": {
             "colorbar": {
              "outlinewidth": 0,
              "ticks": ""
             }
            },
            "type": "scattermap"
           }
          ],
          "scattermapbox": [
           {
            "marker": {
             "colorbar": {
              "outlinewidth": 0,
              "ticks": ""
             }
            },
            "type": "scattermapbox"
           }
          ],
          "scatterpolar": [
           {
            "marker": {
             "colorbar": {
              "outlinewidth": 0,
              "ticks": ""
             }
            },
            "type": "scatterpolar"
           }
          ],
          "scatterpolargl": [
           {
            "marker": {
             "colorbar": {
              "outlinewidth": 0,
              "ticks": ""
             }
            },
            "type": "scatterpolargl"
           }
          ],
          "scatterternary": [
           {
            "marker": {
             "colorbar": {
              "outlinewidth": 0,
              "ticks": ""
             }
            },
            "type": "scatterternary"
           }
          ],
          "surface": [
           {
            "colorbar": {
             "outlinewidth": 0,
             "ticks": ""
            },
            "colorscale": [
             [
              0,
              "#0d0887"
             ],
             [
              0.1111111111111111,
              "#46039f"
             ],
             [
              0.2222222222222222,
              "#7201a8"
             ],
             [
              0.3333333333333333,
              "#9c179e"
             ],
             [
              0.4444444444444444,
              "#bd3786"
             ],
             [
              0.5555555555555556,
              "#d8576b"
             ],
             [
              0.6666666666666666,
              "#ed7953"
             ],
             [
              0.7777777777777778,
              "#fb9f3a"
             ],
             [
              0.8888888888888888,
              "#fdca26"
             ],
             [
              1,
              "#f0f921"
             ]
            ],
            "type": "surface"
           }
          ],
          "table": [
           {
            "cells": {
             "fill": {
              "color": "#EBF0F8"
             },
             "line": {
              "color": "white"
             }
            },
            "header": {
             "fill": {
              "color": "#C8D4E3"
             },
             "line": {
              "color": "white"
             }
            },
            "type": "table"
           }
          ]
         },
         "layout": {
          "annotationdefaults": {
           "arrowcolor": "#2a3f5f",
           "arrowhead": 0,
           "arrowwidth": 1
          },
          "autotypenumbers": "strict",
          "coloraxis": {
           "colorbar": {
            "outlinewidth": 0,
            "ticks": ""
           }
          },
          "colorscale": {
           "diverging": [
            [
             0,
             "#8e0152"
            ],
            [
             0.1,
             "#c51b7d"
            ],
            [
             0.2,
             "#de77ae"
            ],
            [
             0.3,
             "#f1b6da"
            ],
            [
             0.4,
             "#fde0ef"
            ],
            [
             0.5,
             "#f7f7f7"
            ],
            [
             0.6,
             "#e6f5d0"
            ],
            [
             0.7,
             "#b8e186"
            ],
            [
             0.8,
             "#7fbc41"
            ],
            [
             0.9,
             "#4d9221"
            ],
            [
             1,
             "#276419"
            ]
           ],
           "sequential": [
            [
             0,
             "#0d0887"
            ],
            [
             0.1111111111111111,
             "#46039f"
            ],
            [
             0.2222222222222222,
             "#7201a8"
            ],
            [
             0.3333333333333333,
             "#9c179e"
            ],
            [
             0.4444444444444444,
             "#bd3786"
            ],
            [
             0.5555555555555556,
             "#d8576b"
            ],
            [
             0.6666666666666666,
             "#ed7953"
            ],
            [
             0.7777777777777778,
             "#fb9f3a"
            ],
            [
             0.8888888888888888,
             "#fdca26"
            ],
            [
             1,
             "#f0f921"
            ]
           ],
           "sequentialminus": [
            [
             0,
             "#0d0887"
            ],
            [
             0.1111111111111111,
             "#46039f"
            ],
            [
             0.2222222222222222,
             "#7201a8"
            ],
            [
             0.3333333333333333,
             "#9c179e"
            ],
            [
             0.4444444444444444,
             "#bd3786"
            ],
            [
             0.5555555555555556,
             "#d8576b"
            ],
            [
             0.6666666666666666,
             "#ed7953"
            ],
            [
             0.7777777777777778,
             "#fb9f3a"
            ],
            [
             0.8888888888888888,
             "#fdca26"
            ],
            [
             1,
             "#f0f921"
            ]
           ]
          },
          "colorway": [
           "#636efa",
           "#EF553B",
           "#00cc96",
           "#ab63fa",
           "#FFA15A",
           "#19d3f3",
           "#FF6692",
           "#B6E880",
           "#FF97FF",
           "#FECB52"
          ],
          "font": {
           "color": "#2a3f5f"
          },
          "geo": {
           "bgcolor": "white",
           "lakecolor": "white",
           "landcolor": "#E5ECF6",
           "showlakes": true,
           "showland": true,
           "subunitcolor": "white"
          },
          "hoverlabel": {
           "align": "left"
          },
          "hovermode": "closest",
          "mapbox": {
           "style": "light"
          },
          "paper_bgcolor": "white",
          "plot_bgcolor": "#E5ECF6",
          "polar": {
           "angularaxis": {
            "gridcolor": "white",
            "linecolor": "white",
            "ticks": ""
           },
           "bgcolor": "#E5ECF6",
           "radialaxis": {
            "gridcolor": "white",
            "linecolor": "white",
            "ticks": ""
           }
          },
          "scene": {
           "xaxis": {
            "backgroundcolor": "#E5ECF6",
            "gridcolor": "white",
            "gridwidth": 2,
            "linecolor": "white",
            "showbackground": true,
            "ticks": "",
            "zerolinecolor": "white"
           },
           "yaxis": {
            "backgroundcolor": "#E5ECF6",
            "gridcolor": "white",
            "gridwidth": 2,
            "linecolor": "white",
            "showbackground": true,
            "ticks": "",
            "zerolinecolor": "white"
           },
           "zaxis": {
            "backgroundcolor": "#E5ECF6",
            "gridcolor": "white",
            "gridwidth": 2,
            "linecolor": "white",
            "showbackground": true,
            "ticks": "",
            "zerolinecolor": "white"
           }
          },
          "shapedefaults": {
           "line": {
            "color": "#2a3f5f"
           }
          },
          "ternary": {
           "aaxis": {
            "gridcolor": "white",
            "linecolor": "white",
            "ticks": ""
           },
           "baxis": {
            "gridcolor": "white",
            "linecolor": "white",
            "ticks": ""
           },
           "bgcolor": "#E5ECF6",
           "caxis": {
            "gridcolor": "white",
            "linecolor": "white",
            "ticks": ""
           }
          },
          "title": {
           "x": 0.05
          },
          "xaxis": {
           "automargin": true,
           "gridcolor": "white",
           "linecolor": "white",
           "ticks": "",
           "title": {
            "standoff": 15
           },
           "zerolinecolor": "white",
           "zerolinewidth": 2
          },
          "yaxis": {
           "automargin": true,
           "gridcolor": "white",
           "linecolor": "white",
           "ticks": "",
           "title": {
            "standoff": 15
           },
           "zerolinecolor": "white",
           "zerolinewidth": 2
          }
         }
        },
        "title": {
         "text": "Facet-Grid nach Kategorien und Gruppen"
        },
        "xaxis": {
         "anchor": "y",
         "domain": [
          0,
          0.3133333333333333
         ],
         "title": {
          "text": "X-Wert"
         }
        },
        "xaxis2": {
         "anchor": "y2",
         "domain": [
          0.3333333333333333,
          0.6466666666666666
         ],
         "matches": "x",
         "title": {
          "text": "X-Wert"
         }
        },
        "xaxis3": {
         "anchor": "y3",
         "domain": [
          0.6666666666666666,
          0.98
         ],
         "matches": "x",
         "title": {
          "text": "X-Wert"
         }
        },
        "xaxis4": {
         "anchor": "y4",
         "domain": [
          0,
          0.3133333333333333
         ],
         "matches": "x",
         "showticklabels": false
        },
        "xaxis5": {
         "anchor": "y5",
         "domain": [
          0.3333333333333333,
          0.6466666666666666
         ],
         "matches": "x",
         "showticklabels": false
        },
        "xaxis6": {
         "anchor": "y6",
         "domain": [
          0.6666666666666666,
          0.98
         ],
         "matches": "x",
         "showticklabels": false
        },
        "yaxis": {
         "anchor": "x",
         "domain": [
          0,
          0.485
         ],
         "title": {
          "text": "Y-Wert"
         }
        },
        "yaxis2": {
         "anchor": "x2",
         "domain": [
          0,
          0.485
         ],
         "matches": "y",
         "showticklabels": false
        },
        "yaxis3": {
         "anchor": "x3",
         "domain": [
          0,
          0.485
         ],
         "matches": "y",
         "showticklabels": false
        },
        "yaxis4": {
         "anchor": "x4",
         "domain": [
          0.515,
          1
         ],
         "matches": "y",
         "title": {
          "text": "Y-Wert"
         }
        },
        "yaxis5": {
         "anchor": "x5",
         "domain": [
          0.515,
          1
         ],
         "matches": "y",
         "showticklabels": false
        },
        "yaxis6": {
         "anchor": "x6",
         "domain": [
          0.515,
          1
         ],
         "matches": "y",
         "showticklabels": false
        }
       }
      },
      "image/png": "[encoded data removed]"
     },
     "metadata": {},
     "output_type": "display_data"
    }
   ],
   "source": [
    "import plotly.express as px\n",
    "import pandas as pd\n",
    "import numpy as np\n",
    "\n",
    "# Daten generieren\n",
    "np.random.seed(42)\n",
    "n = 200\n",
    "kategorien = ['A', 'B', 'C']\n",
    "gruppen = ['Gruppe 1', 'Gruppe 2']\n",
    "\n",
    "df = pd.DataFrame({\n",
    "    'x': np.random.normal(0, 1, n),\n",
    "    'y': np.random.normal(0, 1, n),\n",
    "    'Größe': np.random.uniform(5, 15, n),\n",
    "    'Kategorie': np.random.choice(kategorien, n),\n",
    "    'Gruppe': np.random.choice(gruppen, n)\n",
    "})\n",
    "\n",
    "# Facet-Plot nach Kategorien\n",
    "fig = px.scatter(\n",
    "    df, \n",
    "    x='x', \n",
    "    y='y',\n",
    "    size='Größe',\n",
    "    color='Gruppe',\n",
    "    facet_col='Kategorie',  # Spalten nach Kategorie aufteilen\n",
    "    title='Facet-Plot nach Kategorien',\n",
    "    labels={'x': 'X-Wert', 'y': 'Y-Wert', 'Größe': 'Punktgröße'},\n",
    "    height=400\n",
    ")\n",
    "\n",
    "fig.show()\n",
    "\n",
    "# Facet-Grid (Zeilen und Spalten)\n",
    "fig = px.scatter(\n",
    "    df, \n",
    "    x='x', \n",
    "    y='y',\n",
    "    size='Größe',\n",
    "    facet_col='Kategorie',  # Spalten nach Kategorie aufteilen\n",
    "    facet_row='Gruppe',     # Zeilen nach Gruppe aufteilen\n",
    "    title='Facet-Grid nach Kategorien und Gruppen',\n",
    "    labels={'x': 'X-Wert', 'y': 'Y-Wert', 'Größe': 'Punktgröße'},\n",
    "    height=600\n",
    ")\n",
    "\n",
    "fig.show()"
   ]
  },
  {
   "cell_type": "markdown",
   "id": "330da496-087e-40a5-b7e7-4c0908eadc2f",
   "metadata": {},
   "source": [
    "**Erklärung:**\n",
    "- Mit `facet_col` teilst du die Visualisierung in Spalten basierend auf einer kategorialen Variable auf\n",
    "- Mit `facet_row` teilst du die Visualisierung in Zeilen auf\n",
    "- Die Kombination beider Parameter erzeugt ein Raster von Plots für alle Kombinationen\n",
    "- Dies ermöglicht einen schnellen visuellen Vergleich über verschiedene Kategorien hinweg\n",
    "\n",
    "#### Augaben:\n",
    "\n",
    "> (a)Erstelle ein Dashboard mit vier verschiedenen Visualisierungen eines simulierten Wetterberichts:\n",
    ">- Ein Liniendiagramm der Temperaturen über 7 Tage\n",
    ">- Ein Balkendiagramm der täglichen Niederschlagsmenge\n",
    ">- Ein Kreisdiagramm der Wetterbedingungen (sonnig, bewölkt, regnerisch)\n",
    ">- Ein Streudiagramm von Temperatur vs. Luftfeuchtigkeit\n",
    ">\n",
    ">Organisiere diese Visualisierungen in einem 2x2-Grid und passe die Größen so an, dass das Liniendiagramm etwas größer ist als die anderen."
   ]
  },
  {
   "cell_type": "code",
   "execution_count": null,
   "id": "ed7c48d5-003f-4e2d-a298-4280b108d815",
   "metadata": {},
   "outputs": [],
   "source": [
    "# Deine Lösung:\n",
    "\n",
    "\n"
   ]
  },
  {
   "cell_type": "markdown",
   "id": "a416084f-f359-419b-ae44-125966702c49",
   "metadata": {
    "jp-MarkdownHeadingCollapsed": true
   },
   "source": [
    "#### Lösung:"
   ]
  },
  {
   "cell_type": "code",
   "execution_count": null,
   "id": "37c32f68-72ca-4793-b72f-57332b28e7be",
   "metadata": {},
   "outputs": [],
   "source": [
    "import plotly.graph_objects as go\n",
    "from plotly.subplots import make_subplots\n",
    "import numpy as np\n",
    "import pandas as pd\n",
    "\n",
    "# Wetterdaten für eine Woche simulieren\n",
    "np.random.seed(42)\n",
    "tage = ['Montag', 'Dienstag', 'Mittwoch', 'Donnerstag', 'Freitag', 'Samstag', 'Sonntag']\n",
    "temperatur = np.random.normal(20, 3, 7)  # Temperaturen um 20°C\n",
    "niederschlag = np.random.exponential(2, 7)  # Niederschlag mit Exponentialverteilung\n",
    "luftfeuchtigkeit = np.random.normal(60, 10, 7)  # Luftfeuchtigkeit um 60%\n",
    "bedingungen = np.random.choice(['Sonnig', 'Bewölkt', 'Regnerisch'], 7, p=[0.5, 0.3, 0.2])\n",
    "\n",
    "# Zählen der Wetterbedingungen für das Kreisdiagramm\n",
    "bedingungen_count = pd.Series(bedingungen).value_counts()\n",
    "\n",
    "# Subplot-Grid erstellen mit angepassten Größen\n",
    "fig = make_subplots(\n",
    "    rows=2, cols=2,\n",
    "    specs=[\n",
    "        [{\"colspan\": 2}, None],  # Erste Zeile: Ein Plot über die gesamte Breite\n",
    "        [{\"type\": \"xy\"}, {\"type\": \"domain\"}]  # Zweite Zeile: Standard XY-Plot und Domain-Plot (für Pie)\n",
    "    ],\n",
    "    subplot_titles=(\"Temperaturverlauf\", \"Niederschlag\", \"Temperatur vs. Luftfeuchtigkeit\")\n",
    ")\n",
    "\n",
    "# 1. Liniendiagramm der Temperaturen (größer, über gesamte Breite)\n",
    "fig.add_trace(\n",
    "    go.Scatter(\n",
    "        x=tage,\n",
    "        y=temperatur,\n",
    "        mode='lines+markers',\n",
    "        name=\"Temperatur\",\n",
    "        line=dict(color=\"red\", width=2),\n",
    "        marker=dict(size=8)\n",
    "    ),\n",
    "    row=1, col=1  # Erste Zeile, erste Spalte (colspan=2)\n",
    ")\n",
    "\n",
    "# 2. Balkendiagramm des Niederschlags\n",
    "fig.add_trace(\n",
    "    go.Bar(\n",
    "        x=tage,\n",
    "        y=niederschlag,\n",
    "        name=\"Niederschlag\",\n",
    "        marker_color=\"blue\"\n",
    "    ),\n",
    "    row=2, col=1  # Zweite Zeile, erste Spalte\n",
    ")\n",
    "\n",
    "# 3. Streudiagramm: Temperatur vs. Luftfeuchtigkeit\n",
    "fig.add_trace(\n",
    "    go.Scatter(\n",
    "        x=temperatur,\n",
    "        y=luftfeuchtigkeit,\n",
    "        mode='markers',\n",
    "        marker=dict(\n",
    "            size=12,\n",
    "            color=temperatur,\n",
    "            colorscale='Viridis',\n",
    "            showscale=True,\n",
    "            colorbar=dict(title=\"Temp. (°C)\")\n",
    "        ),\n",
    "        text=tage,\n",
    "        name=\"Temp. vs. Luftfeuchte\"\n",
    "    ),\n",
    "    row=2, col=1  # Zweite Zeile, erste Spalte\n",
    ")\n",
    "\n",
    "# 4. Kreisdiagramm der Wetterbedingungen\n",
    "fig.add_trace(\n",
    "    go.Pie(\n",
    "        labels=bedingungen_count.index,\n",
    "        values=bedingungen_count.values,\n",
    "        hole=0.3,\n",
    "        name=\"Wetterbedingungen\"\n",
    "    ),\n",
    "    row=2, col=2  # Zweite Zeile, zweite Spalte\n",
    ")\n",
    "\n",
    "# Layout anpassen\n",
    "fig.update_layout(\n",
    "    title_text=\"Wetterbericht Dashboard\",\n",
    "    height=800,\n",
    "    showlegend=False\n",
    ")\n",
    "\n",
    "# Achsenbeschriftungen anpassen\n",
    "fig.update_yaxes(title_text=\"Temperatur (°C)\", row=1, col=1)\n",
    "fig.update_yaxes(title_text=\"Niederschlag (mm)\", row=2, col=1)\n",
    "fig.update_xaxes(title_text=\"Temperatur (°C)\", row=2, col=1)\n",
    "fig.update_yaxes(title_text=\"Luftfeuchtigkeit (%)\", row=2, col=1)\n",
    "\n",
    "# Kreisdiagramm-Titel hinzufügen (da subplot_titles nicht für alle funktioniert)\n",
    "fig.add_annotation(\n",
    "    x=0.85, y=0.15,\n",
    "    xref=\"paper\", yref=\"paper\",\n",
    "    text=\"Wetterbedingungen\",\n",
    "    showarrow=False,\n",
    "    font=dict(size=14)\n",
    ")\n",
    "\n",
    "fig.show()"
   ]
  },
  {
   "cell_type": "markdown",
   "id": "be38c90e-d172-4387-9902-3b600ddbd047",
   "metadata": {},
   "source": [
    "**Erklärung der Lösung:**\n",
    "- Wir erstellen ein angepasstes Subplot-Grid mit einer großen Visualisierung oben und zwei kleineren unten\n",
    "- Das Temperatur-Liniendiagramm nimmt die gesamte obere Zeile ein durch `colspan=2`\n",
    "- Für das Kreisdiagramm verwenden wir den Typ `domain`\n",
    "- Jede Visualisierung hat angepasste Achsenbeschriftungen und Farben\n",
    "- Wir fügen eine zusätzliche Annotation für den Kreisdiagramm-Titel hinzu"
   ]
  },
  {
   "cell_type": "markdown",
   "id": "146614b8-8e33-4cfd-a065-80d77939d323",
   "metadata": {},
   "source": [
    "## Zusammenfassung\n",
    "\n",
    "In diesem Kapitel hast du gelernt, wie du multiple Visualisierungen in Plotly erstellen kannst. Die wichtigsten Punkte waren:\n",
    "\n",
    "- Mit `make_subplots` kannst du flexible Raster von Plots erstellen\n",
    "- Die `specs`-Parameter ermöglichen komplexe Layouts mit verschiedenen Größen und Typen\n",
    "- Gemeinsame Achsen helfen beim direkten Vergleich von Daten\n",
    "- Sekundärachsen sind nützlich für Daten mit unterschiedlichen Maßeinheiten\n",
    "- Facet-Plots in Plotly Express ermöglichen eine schnelle Aufteilung nach Kategorien\n",
    "\n",
    "Diese Techniken sind besonders wertvoll für die Erstellung von Dashboards und für die vergleichende Analyse verschiedener Datensätze oder Aspekte deiner Daten."
   ]
  }
 ],
 "metadata": {
  "kernelspec": {
   "display_name": "Python 3 (ipykernel)",
   "language": "python",
   "name": "python3"
  },
  "language_info": {
   "codemirror_mode": {
    "name": "ipython",
    "version": 3
   },
   "file_extension": ".py",
   "mimetype": "text/x-python",
   "name": "python",
   "nbconvert_exporter": "python",
   "pygments_lexer": "ipython3",
   "version": "3.11.0"
  }
 },
 "nbformat": 4,
 "nbformat_minor": 5
}
