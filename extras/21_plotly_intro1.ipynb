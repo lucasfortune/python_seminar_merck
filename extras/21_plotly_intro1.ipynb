{
 "cells": [
  {
   "cell_type": "markdown",
   "id": "b731f3a4-0ae2-41bf-9459-22b6b70098c2",
   "metadata": {},
   "source": [
    "# Python Datenvisualisierung 2\n",
    "## Plotly 1\n",
    "***\n",
    "In diesem Notebook wird behandelt:\n",
    "- Einführung in Plotly\n",
    "- Liniendiagramme\n",
    "- Streudiagramme\n",
    "- Balkendiagramme\n",
    "- Kreisdiagramme\n",
    "***"
   ]
  },
  {
   "cell_type": "markdown",
   "id": "7bf7f652-a9ac-4257-80df-0d00ec7ea0cf",
   "metadata": {},
   "source": [
    "## Einführung in die Datenvisualisierung mit Plotly\n",
    "\n",
    "### Was ist Plotly?\n",
    "\n",
    "#### Überblick über Plotly und Plotly Express\n",
    "\n",
    "**Plotly** ist eine Open-Source-Bibliothek für interaktive Datenvisualisierung, die in mehreren Programmiersprachen verfügbar ist, einschließlich Python, R, JavaScript und Julia. In dieser Schulung konzentrieren wir uns auf die Python-Implementierung.\n",
    "\n",
    "Plotly wurde 2013 entwickelt und basiert auf der JavaScript-Bibliothek D3.js und der Webvisualisierungsbibliothek WebGL. Dies ermöglicht es Plotly, leistungsstarke, interaktive Visualisierungen zu erstellen, die nativ in Webbrowsern laufen.\n",
    "\n",
    "In der Python-Umgebung bietet Plotly zwei hauptsächliche Programmierschnittstellen (APIs):\n",
    "\n",
    "1. **Plotly Graph Objects**: Diese API bietet maximale Anpassungsmöglichkeiten, erfordert jedoch mehr Code und ist für Anfänger komplexer.\n",
    "\n",
    "2. **Plotly Express**: Diese vereinfachte API wurde 2019 eingeführt und ist viel benutzerfreundlicher. Sie ermöglicht die Erstellung komplexer Visualisierungen mit nur wenigen Codezeilen.\n",
    "\n",
    "**Plotly Express** (häufig als `px` importiert) ist der empfohlene Einstiegspunkt für die meisten Nutzer und wird der Hauptfokus unseres Seminars sein. Diese hochrangige API bietet eine einfache, konsistente Syntax für die Erstellung einer Vielzahl von Diagrammtypen, während sie gleichzeitig leistungsstarke Anpassungsoptionen beibehält.\n",
    "\n",
    "\n",
    "#### Vergleich mit Matplotlib\n",
    "\n",
    "Matplotlib ist seit langem die Standard-Bibliothek für Datenvisualisierung in Python, aber Plotly bietet einige bedeutende Unterschiede und Vorteile:\n",
    "\n",
    "| Aspekt | Matplotlib | Plotly |\n",
    "|--------|------------|--------|\n",
    "| **Interaktivität** | Primär statisch; begrenzte Interaktivität möglich | Von Grund auf interaktiv; Zoomen, Schwenken, Hover-Informationen |\n",
    "| **Ausgabeformat** | Primär für statische Bilder (PNG, PDF) optimiert | Erzeugt interaktive HTML/JavaScript-Visualisierungen |\n",
    "| **Syntax** | Prozedurale, zustandsbasierte API (MATLAB-ähnlich) | Deklarative, objektorientierte API |\n",
    "| **Dashboards** | Erfordert zusätzliche Bibliotheken (z.B., Streamlit) | Nahtlose Integration mit Dash für Webanwendungen |\n",
    "| **3D-Visualisierung** | Begrenzte 3D-Unterstützung über mplot3d | Umfassende native 3D-Unterstützung mit interaktiver Rotation |\n",
    "| **Performance** | Schneller für einfache statische Grafiken | Kann bei sehr großen Datensätzen ressourcenintensiver sein |\n",
    "| **Lernkurve** | Steiler, aber umfangreich dokumentiert | Intuitiver für Anfänger, besonders mit Plotly Express |\n",
    "| **Integration** | Tiefe Integration mit NumPy/SciPy/Pandas | Bessere Integration mit Webframeworks |\n",
    "\n",
    "**Wann sollte man Matplotlib verwenden?**\n",
    "- Für wissenschaftliche Publikationen, die statische, hochqualitative Grafiken erfordern\n",
    "- Wenn Speichereffizienz und Geschwindigkeit kritisch sind\n",
    "- Bei vollständiger Kontrolle über jeden Aspekt des Layouts\n",
    "- Für bestehende Codebasis, die bereits auf Matplotlib basiert\n",
    "\n",
    "**Wann sollte man Plotly verwenden?**\n",
    "- Für interaktive Dashboards und Web-Anwendungen\n",
    "- Wenn Endbenutzer mit den Daten interagieren sollen\n",
    "- Für komplexe Visualisierungen, die von Zoom- und Hover-Funktionen profitieren\n",
    "- Wenn Sie komplexe 3D-Visualisierungen erstellen möchten\n",
    "- Für Präsentationen, bei denen die Erkundung von Daten von Vorteil ist"
   ]
  },
  {
   "cell_type": "markdown",
   "id": "f6fe45f6-9858-44f6-ac5d-d32b1318af27",
   "metadata": {},
   "source": [
    "## 1 Grundlegende Architektur von Plotly\n",
    "\n",
    "Plotly verwendet ein hierarchisches, objektorientiertes System zum Erstellen von Visualisierungen. Die Hauptkomponenten sind:\n",
    "\n",
    "1. **Figure**: Das Hauptobjekt, das die gesamte Visualisierung darstellt. Eine Figure enthält alle Daten, Layouts und Konfigurationsinformationen.\n",
    "\n",
    "2. **Traces**: Einzelne Datenreihen oder Visualisierungselemente innerhalb einer Figure. Beispiele für Traces sind:\n",
    "   - Scatter (für Streudiagramme und Liniendiagramme)\n",
    "   - Bar (für Balkendiagramme)\n",
    "   - Histogram\n",
    "   - Box (für Box-Plots)\n",
    "   - Heatmap\n",
    "   - Pie (für Kreisdiagramme)\n",
    "   \n",
    "   Jeder Trace hat seinen eigenen Typ und spezifische Eigenschaften.\n",
    "\n",
    "3. **Layout**: Steuert das Erscheinungsbild der Visualisierung, einschließlich:\n",
    "   - Titel\n",
    "   - Achsen (Beschriftungen, Bereiche, Tickmarks)\n",
    "   - Legenden\n",
    "   - Anmerkungen\n",
    "   - Farben und Themes\n",
    "   - Größe und Ränder\n",
    "\n",
    "4. **Frames**: (Optional) Für Animationen verwendet, wobei jeder Frame einen Zustand der Visualisierung darstellt.\n",
    "\n",
    "5. **Config**: (Optional) Steuert das Verhalten der Benutzeroberfläche, wie z.B. die angezeigten Buttons in der Modusleiste.\n",
    "\n",
    "Diese Komponenten werden in einem JSON-ähnlichen Format gespeichert, was die Speicherung, Übertragung und Wiederverwendung von Plotly-Visualisierungen erleichtert.\n",
    "\n",
    "**Einfaches Beispiel der Architekturen:**\n",
    "\n",
    "Bei Verwendung von **Plotly Express** wird diese Architektur für Sie verwaltet:\n",
    "\n",
    "```python\n",
    "import plotly.express as px\n",
    "import pandas as pd\n",
    "import numpy as np\n",
    "\n",
    "# Erstellen einfacher Daten\n",
    "x = np.linspace(0, 10, 100)\n",
    "y = np.sin(x)\n",
    "df = pd.DataFrame({'x': x, 'y': y})\n",
    "\n",
    "# Einfaches Liniendiagramm erstellen\n",
    "fig = px.line(df, x='x', y='y', title='Einfache Sinuswelle')\n",
    "fig.show()\n",
    "```\n",
    "\n",
    "Bei Verwendung von **Plotly Graph Objects** ist die Architektur expliziter:\n",
    "\n",
    "```python\n",
    "import plotly.graph_objects as go\n",
    "\n",
    "# Erstellen einfacher Daten\n",
    "x = np.linspace(0, 10, 100)\n",
    "y = np.sin(x)\n",
    "\n",
    "# Figure erstellen und Trace hinzufügen\n",
    "fig = go.Figure()\n",
    "fig.add_trace(\n",
    "    go.Scatter(x=x, y=y, mode='lines', name='Sinus')\n",
    ")\n",
    "\n",
    "# Layout anpassen\n",
    "fig.update_layout(\n",
    "    title='Einfache Sinuswelle',\n",
    "    xaxis_title='X-Achse',\n",
    "    yaxis_title='Y-Achse'\n",
    ")\n",
    "\n",
    "fig.show()\n",
    "```\n",
    "\n",
    "Beide Methoden erzeugen eine ähnliche Visualisierung, aber die Graph Objects-API bietet mehr explizite Kontrolle auf Kosten von mehr Code.\n",
    "\n",
    "**Ein Beispiel:**"
   ]
  },
  {
   "cell_type": "code",
   "execution_count": 1,
   "id": "40d4259a-bd49-4a83-bb18-0c21097c06c1",
   "metadata": {},
   "outputs": [
    {
     "data": {
      "application/vnd.plotly.v1+json": {
       "config": {
        "plotlyServerURL": "https://plot.ly"
       },
       "data": [
        {
         "hovertemplate": "x=%{x}<br>y=%{y}<extra></extra>",
         "legendgroup": "",
         "line": {
          "color": "#636efa",
          "dash": "solid"
         },
         "marker": {
          "symbol": "circle"
         },
         "mode": "lines",
         "name": "",
         "orientation": "v",
         "showlegend": false,
         "type": "scatter",
         "x": {
          "bdata": "AAAAAAAAAAAxb2dIzNu5PzFvZ0jM28k/ZZNNNtlk0z8xb2dIzNvZP3+lQK1fKeA/ZZNNNtlk4z9LgVq/UqDmPzFvZ0jM2+k/F1100UUX7T9/pUCtXynwP3Icx3Ecx/E/ZZNNNtlk8z9YCtT6lQL1P0uBWr9SoPY/Pvjggw8++D8xb2dIzNv5PyTm7QyJefs/F1100UUX/T8K1PqVArX+P3+lQK1fKQBA+OCDDz74AEByHMdxHMcBQOtXCtT6lQJAZZNNNtlkA0DezpCYtzMEQFgK1PqVAgVA0UUXXXTRBUBLgVq/UqAGQMS8nSExbwdAPvjggw8+CEC3MyTm7QwJQDFvZ0jM2wlAq6qqqqqqCkAk5u0MiXkLQJ4hMW9nSAxAF1100UUXDUCRmLczJOYNQArU+pUCtQ5AhA8++OCDD0B/pUCtXykQQDtDYt7OkBBA+OCDDz74EEC1fqVArV8RQHIcx3EcxxFALrrooosuEkDrVwrU+pUSQKj1KwVq/RJAZZNNNtlkE0AiMW9nSMwTQN7OkJi3MxRAm2yyySabFEBYCtT6lQIVQBWo9SsFahVA0UUXXXTRFUCO4ziO4zgWQEuBWr9SoBZACB988MEHF0DEvJ0hMW8XQIFav1Kg1hdAPvjggw8+GED7lQK1fqUYQLczJObtDBlAdNFFF110GUAxb2dIzNsZQO4MiXk7QxpAq6qqqqqqGkBnSMzbGRIbQCTm7QyJeRtA4YMPPvjgG0CeITFvZ0gcQFq/UqDWrxxAF1100UUXHUDU+pUCtX4dQJGYtzMk5h1ATTbZZJNNHkAK1PqVArUeQMdxHMdxHB9AhA8++OCDH0BArV8pUOsfQH+lQK1fKSBAXXTRRRddIEA7Q2LezpAgQBoS83aGxCBA+OCDDz74IEDXrxSo9SshQLV+pUCtXyFAk0022WSTIUByHMdxHMchQFDrVwrU+iFALrrooosuIkANiXk7Q2IiQOtXCtT6lSJAyiabbLLJIkCo9SsFav0iQIbEvJ0hMSNAZZNNNtlkI0BDYt7OkJgjQCIxb2dIzCNAAAAAAAAAJEA=",
          "dtype": "f8"
         },
         "xaxis": "x",
         "y": {
          "bdata": "AAAAAAAAAABWWTD1i9C5P1FTX5rcrsk/gsOxNjYZ0z9VYwJ3JinZPxcA895s994/joZ7TnE64j/qrfXjmcnkP2ssuWGCIuc/Iswnjgo/6T+RI+TArxnrP1BTS0Sbrew/3oUw9q727T8Xi+UGkPHuP/kGhbqvm+8/OPqkFVLz7z8TWwZkkvfvP5TacY1lqO8/kSusMpoG7z8wOzaS1hPuPz2qWDqU0uw/jV22kxlG6z8pMUFVcXLpP4gS3/dfXOc/1MdGRVcJ5T/m1IwiaH/iP8q16nZlit8/8e22b6rD2T9j8JxQsrnTPwFWfWl/+Mo/+7miP25uvD8ew57TVQ2FP7c2U+b2Mbe/NJcb8IdkyL+cMtDaNXjSv4gGHUH0jdi/BM5I1Z1j3r8dASM//PThv5J0Xo5MieS/fMX9lQTo5r9AD0Xy9Arpv5gfWUKK7Oq/hEBctduH7L9UjGrat9jtv9nTBZKv2+6/Gw5iBB+O778QwS6FNO7vv7NU4lL1+u+/vLAjJUC0778fSaaDzRrvv6PqleQtMO6/ehV7l8X27L+nYD+HxnHrv2I/nOMnpem/D922x5uV57/CVOv4gkjlv1eewt3ew+K/ZCe00UEO4L8DKjT9e13av93iNNGlWdS/wgS4cmdBzL8fFrKmiwu/v2He8+4MDZW/u4zZNsGStD+7ZD9aihnHP7P36Je11tE/W/DDABjy1z9jyIBZ/M7dP8e6gdUKr+E/qWzMAXFI5D//7Lop6KzmP7yvSOox1ug/Al+5UKq+6j+T7POSVmHsP14AZw7yue0/UWGMa/nE7j/0lfnIs3/vP+x2ENY56O8/b1zFynr97z+a4IMvP7/vP+dX8G0pLu8/1DgMKbRL7j8lnQ9hLhrtP0+yCm21nOs/N08I2izX6T+2POhENM7nPxy7bUkbh+U/z6j/pdMH4z+wXUa44VbgP6UpR/aW9to/VbjOZAz51D8WLl/Qi4nNP2bQXAjp08A//1m7LN2Snz/o7+kO/fKxv37G6czszcW/VIdizLk00b98w03tlVXXvzzw4HCMOd2/Uk/z9Z5o4b8=",
          "dtype": "f8"
         },
         "yaxis": "y"
        }
       ],
       "layout": {
        "legend": {
         "tracegroupgap": 0
        },
        "template": {
         "data": {
          "bar": [
           {
            "error_x": {
             "color": "#2a3f5f"
            },
            "error_y": {
             "color": "#2a3f5f"
            },
            "marker": {
             "line": {
              "color": "#E5ECF6",
              "width": 0.5
             },
             "pattern": {
              "fillmode": "overlay",
              "size": 10,
              "solidity": 0.2
             }
            },
            "type": "bar"
           }
          ],
          "barpolar": [
           {
            "marker": {
             "line": {
              "color": "#E5ECF6",
              "width": 0.5
             },
             "pattern": {
              "fillmode": "overlay",
              "size": 10,
              "solidity": 0.2
             }
            },
            "type": "barpolar"
           }
          ],
          "carpet": [
           {
            "aaxis": {
             "endlinecolor": "#2a3f5f",
             "gridcolor": "white",
             "linecolor": "white",
             "minorgridcolor": "white",
             "startlinecolor": "#2a3f5f"
            },
            "baxis": {
             "endlinecolor": "#2a3f5f",
             "gridcolor": "white",
             "linecolor": "white",
             "minorgridcolor": "white",
             "startlinecolor": "#2a3f5f"
            },
            "type": "carpet"
           }
          ],
          "choropleth": [
           {
            "colorbar": {
             "outlinewidth": 0,
             "ticks": ""
            },
            "type": "choropleth"
           }
          ],
          "contour": [
           {
            "colorbar": {
             "outlinewidth": 0,
             "ticks": ""
            },
            "colorscale": [
             [
              0,
              "#0d0887"
             ],
             [
              0.1111111111111111,
              "#46039f"
             ],
             [
              0.2222222222222222,
              "#7201a8"
             ],
             [
              0.3333333333333333,
              "#9c179e"
             ],
             [
              0.4444444444444444,
              "#bd3786"
             ],
             [
              0.5555555555555556,
              "#d8576b"
             ],
             [
              0.6666666666666666,
              "#ed7953"
             ],
             [
              0.7777777777777778,
              "#fb9f3a"
             ],
             [
              0.8888888888888888,
              "#fdca26"
             ],
             [
              1,
              "#f0f921"
             ]
            ],
            "type": "contour"
           }
          ],
          "contourcarpet": [
           {
            "colorbar": {
             "outlinewidth": 0,
             "ticks": ""
            },
            "type": "contourcarpet"
           }
          ],
          "heatmap": [
           {
            "colorbar": {
             "outlinewidth": 0,
             "ticks": ""
            },
            "colorscale": [
             [
              0,
              "#0d0887"
             ],
             [
              0.1111111111111111,
              "#46039f"
             ],
             [
              0.2222222222222222,
              "#7201a8"
             ],
             [
              0.3333333333333333,
              "#9c179e"
             ],
             [
              0.4444444444444444,
              "#bd3786"
             ],
             [
              0.5555555555555556,
              "#d8576b"
             ],
             [
              0.6666666666666666,
              "#ed7953"
             ],
             [
              0.7777777777777778,
              "#fb9f3a"
             ],
             [
              0.8888888888888888,
              "#fdca26"
             ],
             [
              1,
              "#f0f921"
             ]
            ],
            "type": "heatmap"
           }
          ],
          "histogram": [
           {
            "marker": {
             "pattern": {
              "fillmode": "overlay",
              "size": 10,
              "solidity": 0.2
             }
            },
            "type": "histogram"
           }
          ],
          "histogram2d": [
           {
            "colorbar": {
             "outlinewidth": 0,
             "ticks": ""
            },
            "colorscale": [
             [
              0,
              "#0d0887"
             ],
             [
              0.1111111111111111,
              "#46039f"
             ],
             [
              0.2222222222222222,
              "#7201a8"
             ],
             [
              0.3333333333333333,
              "#9c179e"
             ],
             [
              0.4444444444444444,
              "#bd3786"
             ],
             [
              0.5555555555555556,
              "#d8576b"
             ],
             [
              0.6666666666666666,
              "#ed7953"
             ],
             [
              0.7777777777777778,
              "#fb9f3a"
             ],
             [
              0.8888888888888888,
              "#fdca26"
             ],
             [
              1,
              "#f0f921"
             ]
            ],
            "type": "histogram2d"
           }
          ],
          "histogram2dcontour": [
           {
            "colorbar": {
             "outlinewidth": 0,
             "ticks": ""
            },
            "colorscale": [
             [
              0,
              "#0d0887"
             ],
             [
              0.1111111111111111,
              "#46039f"
             ],
             [
              0.2222222222222222,
              "#7201a8"
             ],
             [
              0.3333333333333333,
              "#9c179e"
             ],
             [
              0.4444444444444444,
              "#bd3786"
             ],
             [
              0.5555555555555556,
              "#d8576b"
             ],
             [
              0.6666666666666666,
              "#ed7953"
             ],
             [
              0.7777777777777778,
              "#fb9f3a"
             ],
             [
              0.8888888888888888,
              "#fdca26"
             ],
             [
              1,
              "#f0f921"
             ]
            ],
            "type": "histogram2dcontour"
           }
          ],
          "mesh3d": [
           {
            "colorbar": {
             "outlinewidth": 0,
             "ticks": ""
            },
            "type": "mesh3d"
           }
          ],
          "parcoords": [
           {
            "line": {
             "colorbar": {
              "outlinewidth": 0,
              "ticks": ""
             }
            },
            "type": "parcoords"
           }
          ],
          "pie": [
           {
            "automargin": true,
            "type": "pie"
           }
          ],
          "scatter": [
           {
            "fillpattern": {
             "fillmode": "overlay",
             "size": 10,
             "solidity": 0.2
            },
            "type": "scatter"
           }
          ],
          "scatter3d": [
           {
            "line": {
             "colorbar": {
              "outlinewidth": 0,
              "ticks": ""
             }
            },
            "marker": {
             "colorbar": {
              "outlinewidth": 0,
              "ticks": ""
             }
            },
            "type": "scatter3d"
           }
          ],
          "scattercarpet": [
           {
            "marker": {
             "colorbar": {
              "outlinewidth": 0,
              "ticks": ""
             }
            },
            "type": "scattercarpet"
           }
          ],
          "scattergeo": [
           {
            "marker": {
             "colorbar": {
              "outlinewidth": 0,
              "ticks": ""
             }
            },
            "type": "scattergeo"
           }
          ],
          "scattergl": [
           {
            "marker": {
             "colorbar": {
              "outlinewidth": 0,
              "ticks": ""
             }
            },
            "type": "scattergl"
           }
          ],
          "scattermap": [
           {
            "marker": {
             "colorbar": {
              "outlinewidth": 0,
              "ticks": ""
             }
            },
            "type": "scattermap"
           }
          ],
          "scattermapbox": [
           {
            "marker": {
             "colorbar": {
              "outlinewidth": 0,
              "ticks": ""
             }
            },
            "type": "scattermapbox"
           }
          ],
          "scatterpolar": [
           {
            "marker": {
             "colorbar": {
              "outlinewidth": 0,
              "ticks": ""
             }
            },
            "type": "scatterpolar"
           }
          ],
          "scatterpolargl": [
           {
            "marker": {
             "colorbar": {
              "outlinewidth": 0,
              "ticks": ""
             }
            },
            "type": "scatterpolargl"
           }
          ],
          "scatterternary": [
           {
            "marker": {
             "colorbar": {
              "outlinewidth": 0,
              "ticks": ""
             }
            },
            "type": "scatterternary"
           }
          ],
          "surface": [
           {
            "colorbar": {
             "outlinewidth": 0,
             "ticks": ""
            },
            "colorscale": [
             [
              0,
              "#0d0887"
             ],
             [
              0.1111111111111111,
              "#46039f"
             ],
             [
              0.2222222222222222,
              "#7201a8"
             ],
             [
              0.3333333333333333,
              "#9c179e"
             ],
             [
              0.4444444444444444,
              "#bd3786"
             ],
             [
              0.5555555555555556,
              "#d8576b"
             ],
             [
              0.6666666666666666,
              "#ed7953"
             ],
             [
              0.7777777777777778,
              "#fb9f3a"
             ],
             [
              0.8888888888888888,
              "#fdca26"
             ],
             [
              1,
              "#f0f921"
             ]
            ],
            "type": "surface"
           }
          ],
          "table": [
           {
            "cells": {
             "fill": {
              "color": "#EBF0F8"
             },
             "line": {
              "color": "white"
             }
            },
            "header": {
             "fill": {
              "color": "#C8D4E3"
             },
             "line": {
              "color": "white"
             }
            },
            "type": "table"
           }
          ]
         },
         "layout": {
          "annotationdefaults": {
           "arrowcolor": "#2a3f5f",
           "arrowhead": 0,
           "arrowwidth": 1
          },
          "autotypenumbers": "strict",
          "coloraxis": {
           "colorbar": {
            "outlinewidth": 0,
            "ticks": ""
           }
          },
          "colorscale": {
           "diverging": [
            [
             0,
             "#8e0152"
            ],
            [
             0.1,
             "#c51b7d"
            ],
            [
             0.2,
             "#de77ae"
            ],
            [
             0.3,
             "#f1b6da"
            ],
            [
             0.4,
             "#fde0ef"
            ],
            [
             0.5,
             "#f7f7f7"
            ],
            [
             0.6,
             "#e6f5d0"
            ],
            [
             0.7,
             "#b8e186"
            ],
            [
             0.8,
             "#7fbc41"
            ],
            [
             0.9,
             "#4d9221"
            ],
            [
             1,
             "#276419"
            ]
           ],
           "sequential": [
            [
             0,
             "#0d0887"
            ],
            [
             0.1111111111111111,
             "#46039f"
            ],
            [
             0.2222222222222222,
             "#7201a8"
            ],
            [
             0.3333333333333333,
             "#9c179e"
            ],
            [
             0.4444444444444444,
             "#bd3786"
            ],
            [
             0.5555555555555556,
             "#d8576b"
            ],
            [
             0.6666666666666666,
             "#ed7953"
            ],
            [
             0.7777777777777778,
             "#fb9f3a"
            ],
            [
             0.8888888888888888,
             "#fdca26"
            ],
            [
             1,
             "#f0f921"
            ]
           ],
           "sequentialminus": [
            [
             0,
             "#0d0887"
            ],
            [
             0.1111111111111111,
             "#46039f"
            ],
            [
             0.2222222222222222,
             "#7201a8"
            ],
            [
             0.3333333333333333,
             "#9c179e"
            ],
            [
             0.4444444444444444,
             "#bd3786"
            ],
            [
             0.5555555555555556,
             "#d8576b"
            ],
            [
             0.6666666666666666,
             "#ed7953"
            ],
            [
             0.7777777777777778,
             "#fb9f3a"
            ],
            [
             0.8888888888888888,
             "#fdca26"
            ],
            [
             1,
             "#f0f921"
            ]
           ]
          },
          "colorway": [
           "#636efa",
           "#EF553B",
           "#00cc96",
           "#ab63fa",
           "#FFA15A",
           "#19d3f3",
           "#FF6692",
           "#B6E880",
           "#FF97FF",
           "#FECB52"
          ],
          "font": {
           "color": "#2a3f5f"
          },
          "geo": {
           "bgcolor": "white",
           "lakecolor": "white",
           "landcolor": "#E5ECF6",
           "showlakes": true,
           "showland": true,
           "subunitcolor": "white"
          },
          "hoverlabel": {
           "align": "left"
          },
          "hovermode": "closest",
          "mapbox": {
           "style": "light"
          },
          "paper_bgcolor": "white",
          "plot_bgcolor": "#E5ECF6",
          "polar": {
           "angularaxis": {
            "gridcolor": "white",
            "linecolor": "white",
            "ticks": ""
           },
           "bgcolor": "#E5ECF6",
           "radialaxis": {
            "gridcolor": "white",
            "linecolor": "white",
            "ticks": ""
           }
          },
          "scene": {
           "xaxis": {
            "backgroundcolor": "#E5ECF6",
            "gridcolor": "white",
            "gridwidth": 2,
            "linecolor": "white",
            "showbackground": true,
            "ticks": "",
            "zerolinecolor": "white"
           },
           "yaxis": {
            "backgroundcolor": "#E5ECF6",
            "gridcolor": "white",
            "gridwidth": 2,
            "linecolor": "white",
            "showbackground": true,
            "ticks": "",
            "zerolinecolor": "white"
           },
           "zaxis": {
            "backgroundcolor": "#E5ECF6",
            "gridcolor": "white",
            "gridwidth": 2,
            "linecolor": "white",
            "showbackground": true,
            "ticks": "",
            "zerolinecolor": "white"
           }
          },
          "shapedefaults": {
           "line": {
            "color": "#2a3f5f"
           }
          },
          "ternary": {
           "aaxis": {
            "gridcolor": "white",
            "linecolor": "white",
            "ticks": ""
           },
           "baxis": {
            "gridcolor": "white",
            "linecolor": "white",
            "ticks": ""
           },
           "bgcolor": "#E5ECF6",
           "caxis": {
            "gridcolor": "white",
            "linecolor": "white",
            "ticks": ""
           }
          },
          "title": {
           "x": 0.05
          },
          "xaxis": {
           "automargin": true,
           "gridcolor": "white",
           "linecolor": "white",
           "ticks": "",
           "title": {
            "standoff": 15
           },
           "zerolinecolor": "white",
           "zerolinewidth": 2
          },
          "yaxis": {
           "automargin": true,
           "gridcolor": "white",
           "linecolor": "white",
           "ticks": "",
           "title": {
            "standoff": 15
           },
           "zerolinecolor": "white",
           "zerolinewidth": 2
          }
         }
        },
        "title": {
         "text": "Einfache Sinuswelle"
        },
        "xaxis": {
         "anchor": "y",
         "domain": [
          0,
          1
         ],
         "title": {
          "text": "x"
         }
        },
        "yaxis": {
         "anchor": "x",
         "domain": [
          0,
          1
         ],
         "title": {
          "text": "y"
         }
        }
       }
      },
      "image/png": "[encoded data removed]"
     },
     "metadata": {},
     "output_type": "display_data"
    }
   ],
   "source": [
    "import plotly.express as px\n",
    "import pandas as pd\n",
    "import numpy as np\n",
    "\n",
    "# Einfache Daten erstellen\n",
    "x = np.linspace(0, 10, 100)  # 100 Punkte von 0 bis 10\n",
    "y = np.sin(x)                # Sinusfunktion dieser Punkte\n",
    "df = pd.DataFrame({'x': x, 'y': y})  # In DataFrame umwandeln\n",
    "\n",
    "# Einfaches Liniendiagramm erstellen\n",
    "fig = px.line(df, x='x', y='y', title='Einfache Sinuswelle')\n",
    "\n",
    "# Zeige die Figur an\n",
    "fig.show()"
   ]
  },
  {
   "cell_type": "markdown",
   "id": "477c5e39-cc7d-4a14-84d5-a6938690ff36",
   "metadata": {},
   "source": [
    "**Erklärung des Codes:**\n",
    "\n",
    "1. Wir importieren die notwendigen Bibliotheken:\n",
    "   - `plotly.express` als `px`: Die hochrangige API von Plotly\n",
    "   - `pandas` für das Datenmanagement\n",
    "   - `numpy` für numerische Operationen\n",
    "\n",
    "2. Wir erstellen einfache Daten:\n",
    "   - Ein Array `x` mit 100 gleichmäßig verteilten Punkten von 0 bis 10\n",
    "   - Ein Array `y` als Sinus von `x`\n",
    "   - Diese werden in einem pandas DataFrame zusammengefasst, was die Arbeit mit Plotly Express erleichtert\n",
    "\n",
    "3. Wir erstellen eine Visualisierung mit `px.line()`:\n",
    "   - Der erste Parameter ist unser DataFrame\n",
    "   - `x='x'` und `y='y'` geben an, welche Spalten für die x- und y-Achsen verwendet werden sollen\n",
    "   - `title='Einfache Sinuswelle'` setzt den Titel des Diagramms\n",
    "\n",
    "4. Wir zeigen die Figur mit `fig.show()` an\n",
    "\n",
    "**Was passiert im Hintergrund:**\n",
    "\n",
    "Plotly erzeugt eine interaktive Visualisierung. Diese Visualisierung ist tatsächlich ein eingebettetes HTML/JavaScript-Element, das auf dem Plotly.js-Framework basiert.\n",
    "\n",
    "Die Visualisierung bietet automatisch mehrere interaktive Funktionen:\n",
    "- Zoomen durch Klicken und Ziehen\n",
    "- Schwenken durch Klicken und Ziehen in gezoomtem Zustand\n",
    "- Hover-Informationen, die die genauen x- und y-Werte anzeigen\n",
    "- Eine Werkzeugleiste oben rechts mit verschiedenen Optionen wie:\n",
    "  - Zoom zurücksetzen\n",
    "  - Herunterladen als PNG\n",
    "  - Umschalten zwischen verschiedenen Interaktionsmodi\n",
    "\n",
    "Dies ist ein grundlegendes Beispiel, aber die gleiche allgemeine Struktur wird für komplexere Visualisierungen verwendet."
   ]
  },
  {
   "cell_type": "markdown",
   "id": "19e5af05-8c4c-429f-a8be-e0bcf940c02b",
   "metadata": {},
   "source": [
    "### Matplotlib im Vergleich:"
   ]
  },
  {
   "cell_type": "code",
   "execution_count": 4,
   "id": "5222d943-6a6d-45b2-b58d-e37d0d86b420",
   "metadata": {},
   "outputs": [
    {
     "data": {
      "image/png": "[encoded data removed]",
      "text/plain": [
       "<Figure size 1400x200 with 1 Axes>"
      ]
     },
     "metadata": {},
     "output_type": "display_data"
    }
   ],
   "source": [
    "import matplotlib.pyplot as plt\n",
    "import numpy as np\n",
    "\n",
    "# Einfache Daten erstellen\n",
    "x = np.linspace(0, 10, 100)  # 100 Punkte von 0 bis 10\n",
    "y = np.sin(x)                # Sinusfunktion dieser Punkte\n",
    "\n",
    "# Einfaches Liniendiagramm erstellen\n",
    "plt.figure(figsize=(14, 2))\n",
    "plt.plot(x, y)\n",
    "plt.title('Einfache Sinuswelle')\n",
    "plt.xlabel('x')\n",
    "plt.ylabel('y')\n",
    "plt.grid(True)\n",
    "plt.show()"
   ]
  },
  {
   "cell_type": "markdown",
   "id": "20e780e4-b291-4c59-bd53-0cd98d266b48",
   "metadata": {},
   "source": [
    "## 2 Liniendiagramme (Line Plots)\n",
    "\n",
    "### Wie funktionieren Liniendiagramme in Plotly Express?\n",
    "\n",
    "Die Hauptfunktion für Liniendiagramme in Plotly Express ist `px.line()`. Diese Funktion verbindet Datenpunkte mit Linien und kann sowohl mit Pandas-DataFrames als auch mit einfachen Listen oder Arrays verwendet werden.\n",
    "\n",
    "**Wichtige Parameter:**\n",
    "\n",
    "- `data_frame`: Der DataFrame, der die zu plottenden Daten enthält\n",
    "- `x`: Die Spalte für die x-Achse\n",
    "- `y`: Die Spalte(n) für die y-Achse. Kann ein einzelner Spaltenname oder eine Liste von Spaltennamen sein\n",
    "- `color`: (Optional) Spalte zur Farbkodierung der Linien\n",
    "- `line_dash`: (Optional) Spalte zur Bestimmung des Linienstils (durchgezogen, gestrichelt, etc.)\n",
    "- `markers`: (Optional) Boolean, um Marker an den Datenpunkten anzuzeigen\n",
    "- `title`: (Optional) Titel des Diagramms\n",
    "- `labels`: (Optional) Dictionary, um Achsenbeschriftungen anzupassen\n",
    "- `template`: (Optional) Vordefiniertes Design-Template\n",
    "- `line_shape`: Form der Verbindungslinien ('linear', 'spline', 'hv', 'vh', 'hvh', 'vhv')\n",
    "\n",
    "### Beispiel 1: Einfaches Liniendiagramm"
   ]
  },
  {
   "cell_type": "code",
   "execution_count": null,
   "id": "dabd1306-3cd3-4205-b8e4-0df5a49f36b0",
   "metadata": {},
   "outputs": [],
   "source": [
    "import plotly.express as px\n",
    "import pandas as pd\n",
    "import numpy as np\n",
    "\n",
    "# Einfache Daten erstellen\n",
    "x = np.linspace(0, 10, 100)\n",
    "y = np.sin(x)\n",
    "df = pd.DataFrame({'x': x, 'y': y})\n",
    "\n",
    "# Liniendiagramm erstellen\n",
    "fig = px.line(df, x='x', y='y', title='Sinuswellenfunktion')\n",
    "\n",
    "# Diagramm anzeigen\n",
    "fig.show()"
   ]
  },
  {
   "cell_type": "markdown",
   "id": "90b530e4-1f06-4be6-baa1-21ddede057b6",
   "metadata": {},
   "source": [
    "**Erklärung:**\n",
    "- Wir erstellen einen DataFrame mit x-Werten von 0 bis 10 und entsprechenden Sinuswerten\n",
    "- Mit `px.line()` erzeugen wir ein einfaches Liniendiagramm\n",
    "- Die resultierende Visualisierung zeigt eine Sinuswelle\n",
    "\n",
    "### Beispiel 2: Mehrere Linien in einem Diagramm"
   ]
  },
  {
   "cell_type": "code",
   "execution_count": null,
   "id": "474fcea6-fe97-490d-9ccb-c3928476f33b",
   "metadata": {},
   "outputs": [],
   "source": [
    "# Mehrere Funktionen in einem Diagramm\n",
    "x = np.linspace(0, 2*np.pi, 100)\n",
    "df = pd.DataFrame({\n",
    "    'x': x,\n",
    "    'Sinus': np.sin(x),\n",
    "    'Kosinus': np.cos(x),\n",
    "    'Sinus(2x)': np.sin(2*x)\n",
    "})\n",
    "\n",
    "# Mehrere Linien in einem Diagramm\n",
    "fig = px.line(\n",
    "    df, x='x', \n",
    "    y=['Sinus', 'Kosinus', 'Sinus(2x)'], \n",
    "    title='Trigonometrische Funktionen',\n",
    "    labels={'x': 'X-Werte (Radian)', 'value': 'Y-Werte'},\n",
    "    line_dash_sequence=['solid', 'dash', 'dot']  # Linienstile\n",
    ")\n",
    "\n",
    "# Layout anpassen\n",
    "fig.update_layout(\n",
    "    legend_title_text='Funktion',\n",
    "    xaxis_title='X-Werte (Radian)',\n",
    "    yaxis_title='Y-Werte'\n",
    ")\n",
    "\n",
    "fig.show()"
   ]
  },
  {
   "cell_type": "markdown",
   "id": "35a1d2b0-6127-490a-b6fa-e6e09e76b22c",
   "metadata": {},
   "source": [
    "**Erklärung:**\n",
    "- Wir erstellen einen DataFrame mit mehreren Y-Spalten für verschiedene trigonometrische Funktionen\n",
    "- Wir übergeben eine Liste von Spaltennamen an den `y`-Parameter\n",
    "- Wir verwenden `line_dash_sequence`, um verschiedene Linienstile zuzuweisen\n",
    "- Wir passen das Layout mit `update_layout()` an\n",
    "\n",
    "### Beispiel 3: Anpassen der Linienform"
   ]
  },
  {
   "cell_type": "code",
   "execution_count": 5,
   "id": "62e56a19-bf52-43e1-9e02-bff4c7e8592a",
   "metadata": {},
   "outputs": [
    {
     "data": {
      "application/vnd.plotly.v1+json": {
       "config": {
        "plotlyServerURL": "https://plot.ly"
       },
       "data": [
        {
         "line": {
          "shape": "linear"
         },
         "mode": "lines+markers",
         "type": "scatter",
         "x": {
          "bdata": "AAECAwQF",
          "dtype": "i1"
         },
         "xaxis": "x",
         "y": {
          "bdata": "AAEECRAZ",
          "dtype": "i1"
         },
         "yaxis": "y"
        },
        {
         "line": {
          "shape": "spline"
         },
         "mode": "lines+markers",
         "type": "scatter",
         "x": {
          "bdata": "AAECAwQF",
          "dtype": "i1"
         },
         "xaxis": "x2",
         "y": {
          "bdata": "AAEECRAZ",
          "dtype": "i1"
         },
         "yaxis": "y2"
        },
        {
         "line": {
          "shape": "hv"
         },
         "mode": "lines+markers",
         "type": "scatter",
         "x": {
          "bdata": "AAECAwQF",
          "dtype": "i1"
         },
         "xaxis": "x3",
         "y": {
          "bdata": "AAEECRAZ",
          "dtype": "i1"
         },
         "yaxis": "y3"
        },
        {
         "line": {
          "shape": "vh"
         },
         "mode": "lines+markers",
         "type": "scatter",
         "x": {
          "bdata": "AAECAwQF",
          "dtype": "i1"
         },
         "xaxis": "x4",
         "y": {
          "bdata": "AAEECRAZ",
          "dtype": "i1"
         },
         "yaxis": "y4"
        },
        {
         "line": {
          "shape": "hvh"
         },
         "mode": "lines+markers",
         "type": "scatter",
         "x": {
          "bdata": "AAECAwQF",
          "dtype": "i1"
         },
         "xaxis": "x5",
         "y": {
          "bdata": "AAEECRAZ",
          "dtype": "i1"
         },
         "yaxis": "y5"
        },
        {
         "line": {
          "shape": "vhv"
         },
         "mode": "lines+markers",
         "type": "scatter",
         "x": {
          "bdata": "AAECAwQF",
          "dtype": "i1"
         },
         "xaxis": "x6",
         "y": {
          "bdata": "AAEECRAZ",
          "dtype": "i1"
         },
         "yaxis": "y6"
        }
       ],
       "layout": {
        "annotations": [
         {
          "font": {
           "size": 16
          },
          "showarrow": false,
          "text": "line_shape=\"linear\"",
          "x": 0.14444444444444446,
          "xanchor": "center",
          "xref": "paper",
          "y": 1,
          "yanchor": "bottom",
          "yref": "paper"
         },
         {
          "font": {
           "size": 16
          },
          "showarrow": false,
          "text": "line_shape=\"spline\"",
          "x": 0.5,
          "xanchor": "center",
          "xref": "paper",
          "y": 1,
          "yanchor": "bottom",
          "yref": "paper"
         },
         {
          "font": {
           "size": 16
          },
          "showarrow": false,
          "text": "line_shape=\"hv\"",
          "x": 0.8555555555555556,
          "xanchor": "center",
          "xref": "paper",
          "y": 1,
          "yanchor": "bottom",
          "yref": "paper"
         },
         {
          "font": {
           "size": 16
          },
          "showarrow": false,
          "text": "line_shape=\"vh\"",
          "x": 0.14444444444444446,
          "xanchor": "center",
          "xref": "paper",
          "y": 0.375,
          "yanchor": "bottom",
          "yref": "paper"
         },
         {
          "font": {
           "size": 16
          },
          "showarrow": false,
          "text": "line_shape=\"hvh\"",
          "x": 0.5,
          "xanchor": "center",
          "xref": "paper",
          "y": 0.375,
          "yanchor": "bottom",
          "yref": "paper"
         },
         {
          "font": {
           "size": 16
          },
          "showarrow": false,
          "text": "line_shape=\"vhv\"",
          "x": 0.8555555555555556,
          "xanchor": "center",
          "xref": "paper",
          "y": 0.375,
          "yanchor": "bottom",
          "yref": "paper"
         }
        ],
        "height": 500,
        "showlegend": false,
        "template": {
         "data": {
          "bar": [
           {
            "error_x": {
             "color": "#2a3f5f"
            },
            "error_y": {
             "color": "#2a3f5f"
            },
            "marker": {
             "line": {
              "color": "#E5ECF6",
              "width": 0.5
             },
             "pattern": {
              "fillmode": "overlay",
              "size": 10,
              "solidity": 0.2
             }
            },
            "type": "bar"
           }
          ],
          "barpolar": [
           {
            "marker": {
             "line": {
              "color": "#E5ECF6",
              "width": 0.5
             },
             "pattern": {
              "fillmode": "overlay",
              "size": 10,
              "solidity": 0.2
             }
            },
            "type": "barpolar"
           }
          ],
          "carpet": [
           {
            "aaxis": {
             "endlinecolor": "#2a3f5f",
             "gridcolor": "white",
             "linecolor": "white",
             "minorgridcolor": "white",
             "startlinecolor": "#2a3f5f"
            },
            "baxis": {
             "endlinecolor": "#2a3f5f",
             "gridcolor": "white",
             "linecolor": "white",
             "minorgridcolor": "white",
             "startlinecolor": "#2a3f5f"
            },
            "type": "carpet"
           }
          ],
          "choropleth": [
           {
            "colorbar": {
             "outlinewidth": 0,
             "ticks": ""
            },
            "type": "choropleth"
           }
          ],
          "contour": [
           {
            "colorbar": {
             "outlinewidth": 0,
             "ticks": ""
            },
            "colorscale": [
             [
              0,
              "#0d0887"
             ],
             [
              0.1111111111111111,
              "#46039f"
             ],
             [
              0.2222222222222222,
              "#7201a8"
             ],
             [
              0.3333333333333333,
              "#9c179e"
             ],
             [
              0.4444444444444444,
              "#bd3786"
             ],
             [
              0.5555555555555556,
              "#d8576b"
             ],
             [
              0.6666666666666666,
              "#ed7953"
             ],
             [
              0.7777777777777778,
              "#fb9f3a"
             ],
             [
              0.8888888888888888,
              "#fdca26"
             ],
             [
              1,
              "#f0f921"
             ]
            ],
            "type": "contour"
           }
          ],
          "contourcarpet": [
           {
            "colorbar": {
             "outlinewidth": 0,
             "ticks": ""
            },
            "type": "contourcarpet"
           }
          ],
          "heatmap": [
           {
            "colorbar": {
             "outlinewidth": 0,
             "ticks": ""
            },
            "colorscale": [
             [
              0,
              "#0d0887"
             ],
             [
              0.1111111111111111,
              "#46039f"
             ],
             [
              0.2222222222222222,
              "#7201a8"
             ],
             [
              0.3333333333333333,
              "#9c179e"
             ],
             [
              0.4444444444444444,
              "#bd3786"
             ],
             [
              0.5555555555555556,
              "#d8576b"
             ],
             [
              0.6666666666666666,
              "#ed7953"
             ],
             [
              0.7777777777777778,
              "#fb9f3a"
             ],
             [
              0.8888888888888888,
              "#fdca26"
             ],
             [
              1,
              "#f0f921"
             ]
            ],
            "type": "heatmap"
           }
          ],
          "histogram": [
           {
            "marker": {
             "pattern": {
              "fillmode": "overlay",
              "size": 10,
              "solidity": 0.2
             }
            },
            "type": "histogram"
           }
          ],
          "histogram2d": [
           {
            "colorbar": {
             "outlinewidth": 0,
             "ticks": ""
            },
            "colorscale": [
             [
              0,
              "#0d0887"
             ],
             [
              0.1111111111111111,
              "#46039f"
             ],
             [
              0.2222222222222222,
              "#7201a8"
             ],
             [
              0.3333333333333333,
              "#9c179e"
             ],
             [
              0.4444444444444444,
              "#bd3786"
             ],
             [
              0.5555555555555556,
              "#d8576b"
             ],
             [
              0.6666666666666666,
              "#ed7953"
             ],
             [
              0.7777777777777778,
              "#fb9f3a"
             ],
             [
              0.8888888888888888,
              "#fdca26"
             ],
             [
              1,
              "#f0f921"
             ]
            ],
            "type": "histogram2d"
           }
          ],
          "histogram2dcontour": [
           {
            "colorbar": {
             "outlinewidth": 0,
             "ticks": ""
            },
            "colorscale": [
             [
              0,
              "#0d0887"
             ],
             [
              0.1111111111111111,
              "#46039f"
             ],
             [
              0.2222222222222222,
              "#7201a8"
             ],
             [
              0.3333333333333333,
              "#9c179e"
             ],
             [
              0.4444444444444444,
              "#bd3786"
             ],
             [
              0.5555555555555556,
              "#d8576b"
             ],
             [
              0.6666666666666666,
              "#ed7953"
             ],
             [
              0.7777777777777778,
              "#fb9f3a"
             ],
             [
              0.8888888888888888,
              "#fdca26"
             ],
             [
              1,
              "#f0f921"
             ]
            ],
            "type": "histogram2dcontour"
           }
          ],
          "mesh3d": [
           {
            "colorbar": {
             "outlinewidth": 0,
             "ticks": ""
            },
            "type": "mesh3d"
           }
          ],
          "parcoords": [
           {
            "line": {
             "colorbar": {
              "outlinewidth": 0,
              "ticks": ""
             }
            },
            "type": "parcoords"
           }
          ],
          "pie": [
           {
            "automargin": true,
            "type": "pie"
           }
          ],
          "scatter": [
           {
            "fillpattern": {
             "fillmode": "overlay",
             "size": 10,
             "solidity": 0.2
            },
            "type": "scatter"
           }
          ],
          "scatter3d": [
           {
            "line": {
             "colorbar": {
              "outlinewidth": 0,
              "ticks": ""
             }
            },
            "marker": {
             "colorbar": {
              "outlinewidth": 0,
              "ticks": ""
             }
            },
            "type": "scatter3d"
           }
          ],
          "scattercarpet": [
           {
            "marker": {
             "colorbar": {
              "outlinewidth": 0,
              "ticks": ""
             }
            },
            "type": "scattercarpet"
           }
          ],
          "scattergeo": [
           {
            "marker": {
             "colorbar": {
              "outlinewidth": 0,
              "ticks": ""
             }
            },
            "type": "scattergeo"
           }
          ],
          "scattergl": [
           {
            "marker": {
             "colorbar": {
              "outlinewidth": 0,
              "ticks": ""
             }
            },
            "type": "scattergl"
           }
          ],
          "scattermap": [
           {
            "marker": {
             "colorbar": {
              "outlinewidth": 0,
              "ticks": ""
             }
            },
            "type": "scattermap"
           }
          ],
          "scattermapbox": [
           {
            "marker": {
             "colorbar": {
              "outlinewidth": 0,
              "ticks": ""
             }
            },
            "type": "scattermapbox"
           }
          ],
          "scatterpolar": [
           {
            "marker": {
             "colorbar": {
              "outlinewidth": 0,
              "ticks": ""
             }
            },
            "type": "scatterpolar"
           }
          ],
          "scatterpolargl": [
           {
            "marker": {
             "colorbar": {
              "outlinewidth": 0,
              "ticks": ""
             }
            },
            "type": "scatterpolargl"
           }
          ],
          "scatterternary": [
           {
            "marker": {
             "colorbar": {
              "outlinewidth": 0,
              "ticks": ""
             }
            },
            "type": "scatterternary"
           }
          ],
          "surface": [
           {
            "colorbar": {
             "outlinewidth": 0,
             "ticks": ""
            },
            "colorscale": [
             [
              0,
              "#0d0887"
             ],
             [
              0.1111111111111111,
              "#46039f"
             ],
             [
              0.2222222222222222,
              "#7201a8"
             ],
             [
              0.3333333333333333,
              "#9c179e"
             ],
             [
              0.4444444444444444,
              "#bd3786"
             ],
             [
              0.5555555555555556,
              "#d8576b"
             ],
             [
              0.6666666666666666,
              "#ed7953"
             ],
             [
              0.7777777777777778,
              "#fb9f3a"
             ],
             [
              0.8888888888888888,
              "#fdca26"
             ],
             [
              1,
              "#f0f921"
             ]
            ],
            "type": "surface"
           }
          ],
          "table": [
           {
            "cells": {
             "fill": {
              "color": "#EBF0F8"
             },
             "line": {
              "color": "white"
             }
            },
            "header": {
             "fill": {
              "color": "#C8D4E3"
             },
             "line": {
              "color": "white"
             }
            },
            "type": "table"
           }
          ]
         },
         "layout": {
          "annotationdefaults": {
           "arrowcolor": "#2a3f5f",
           "arrowhead": 0,
           "arrowwidth": 1
          },
          "autotypenumbers": "strict",
          "coloraxis": {
           "colorbar": {
            "outlinewidth": 0,
            "ticks": ""
           }
          },
          "colorscale": {
           "diverging": [
            [
             0,
             "#8e0152"
            ],
            [
             0.1,
             "#c51b7d"
            ],
            [
             0.2,
             "#de77ae"
            ],
            [
             0.3,
             "#f1b6da"
            ],
            [
             0.4,
             "#fde0ef"
            ],
            [
             0.5,
             "#f7f7f7"
            ],
            [
             0.6,
             "#e6f5d0"
            ],
            [
             0.7,
             "#b8e186"
            ],
            [
             0.8,
             "#7fbc41"
            ],
            [
             0.9,
             "#4d9221"
            ],
            [
             1,
             "#276419"
            ]
           ],
           "sequential": [
            [
             0,
             "#0d0887"
            ],
            [
             0.1111111111111111,
             "#46039f"
            ],
            [
             0.2222222222222222,
             "#7201a8"
            ],
            [
             0.3333333333333333,
             "#9c179e"
            ],
            [
             0.4444444444444444,
             "#bd3786"
            ],
            [
             0.5555555555555556,
             "#d8576b"
            ],
            [
             0.6666666666666666,
             "#ed7953"
            ],
            [
             0.7777777777777778,
             "#fb9f3a"
            ],
            [
             0.8888888888888888,
             "#fdca26"
            ],
            [
             1,
             "#f0f921"
            ]
           ],
           "sequentialminus": [
            [
             0,
             "#0d0887"
            ],
            [
             0.1111111111111111,
             "#46039f"
            ],
            [
             0.2222222222222222,
             "#7201a8"
            ],
            [
             0.3333333333333333,
             "#9c179e"
            ],
            [
             0.4444444444444444,
             "#bd3786"
            ],
            [
             0.5555555555555556,
             "#d8576b"
            ],
            [
             0.6666666666666666,
             "#ed7953"
            ],
            [
             0.7777777777777778,
             "#fb9f3a"
            ],
            [
             0.8888888888888888,
             "#fdca26"
            ],
            [
             1,
             "#f0f921"
            ]
           ]
          },
          "colorway": [
           "#636efa",
           "#EF553B",
           "#00cc96",
           "#ab63fa",
           "#FFA15A",
           "#19d3f3",
           "#FF6692",
           "#B6E880",
           "#FF97FF",
           "#FECB52"
          ],
          "font": {
           "color": "#2a3f5f"
          },
          "geo": {
           "bgcolor": "white",
           "lakecolor": "white",
           "landcolor": "#E5ECF6",
           "showlakes": true,
           "showland": true,
           "subunitcolor": "white"
          },
          "hoverlabel": {
           "align": "left"
          },
          "hovermode": "closest",
          "mapbox": {
           "style": "light"
          },
          "paper_bgcolor": "white",
          "plot_bgcolor": "#E5ECF6",
          "polar": {
           "angularaxis": {
            "gridcolor": "white",
            "linecolor": "white",
            "ticks": ""
           },
           "bgcolor": "#E5ECF6",
           "radialaxis": {
            "gridcolor": "white",
            "linecolor": "white",
            "ticks": ""
           }
          },
          "scene": {
           "xaxis": {
            "backgroundcolor": "#E5ECF6",
            "gridcolor": "white",
            "gridwidth": 2,
            "linecolor": "white",
            "showbackground": true,
            "ticks": "",
            "zerolinecolor": "white"
           },
           "yaxis": {
            "backgroundcolor": "#E5ECF6",
            "gridcolor": "white",
            "gridwidth": 2,
            "linecolor": "white",
            "showbackground": true,
            "ticks": "",
            "zerolinecolor": "white"
           },
           "zaxis": {
            "backgroundcolor": "#E5ECF6",
            "gridcolor": "white",
            "gridwidth": 2,
            "linecolor": "white",
            "showbackground": true,
            "ticks": "",
            "zerolinecolor": "white"
           }
          },
          "shapedefaults": {
           "line": {
            "color": "#2a3f5f"
           }
          },
          "ternary": {
           "aaxis": {
            "gridcolor": "white",
            "linecolor": "white",
            "ticks": ""
           },
           "baxis": {
            "gridcolor": "white",
            "linecolor": "white",
            "ticks": ""
           },
           "bgcolor": "#E5ECF6",
           "caxis": {
            "gridcolor": "white",
            "linecolor": "white",
            "ticks": ""
           }
          },
          "title": {
           "x": 0.05
          },
          "xaxis": {
           "automargin": true,
           "gridcolor": "white",
           "linecolor": "white",
           "ticks": "",
           "title": {
            "standoff": 15
           },
           "zerolinecolor": "white",
           "zerolinewidth": 2
          },
          "yaxis": {
           "automargin": true,
           "gridcolor": "white",
           "linecolor": "white",
           "ticks": "",
           "title": {
            "standoff": 15
           },
           "zerolinecolor": "white",
           "zerolinewidth": 2
          }
         }
        },
        "title": {
         "text": "Verschiedene Linienformen in Plotly"
        },
        "width": 900,
        "xaxis": {
         "anchor": "y",
         "domain": [
          0,
          0.2888888888888889
         ]
        },
        "xaxis2": {
         "anchor": "y2",
         "domain": [
          0.35555555555555557,
          0.6444444444444445
         ]
        },
        "xaxis3": {
         "anchor": "y3",
         "domain": [
          0.7111111111111111,
          1
         ]
        },
        "xaxis4": {
         "anchor": "y4",
         "domain": [
          0,
          0.2888888888888889
         ]
        },
        "xaxis5": {
         "anchor": "y5",
         "domain": [
          0.35555555555555557,
          0.6444444444444445
         ]
        },
        "xaxis6": {
         "anchor": "y6",
         "domain": [
          0.7111111111111111,
          1
         ]
        },
        "yaxis": {
         "anchor": "x",
         "domain": [
          0.625,
          1
         ]
        },
        "yaxis2": {
         "anchor": "x2",
         "domain": [
          0.625,
          1
         ]
        },
        "yaxis3": {
         "anchor": "x3",
         "domain": [
          0.625,
          1
         ]
        },
        "yaxis4": {
         "anchor": "x4",
         "domain": [
          0,
          0.375
         ]
        },
        "yaxis5": {
         "anchor": "x5",
         "domain": [
          0,
          0.375
         ]
        },
        "yaxis6": {
         "anchor": "x6",
         "domain": [
          0,
          0.375
         ]
        }
       }
      },
      "image/png": "[encoded data removed]"
     },
     "metadata": {},
     "output_type": "display_data"
    }
   ],
   "source": [
    "# Daten für Demonstration verschiedener Linienformen\n",
    "x = [0, 1, 2, 3, 4, 5]\n",
    "y = [0, 1, 4, 9, 16, 25]\n",
    "df = pd.DataFrame({'x': x, 'y': y})\n",
    "\n",
    "# Subplot-Funktion verwenden, um verschiedene Linienformen zu vergleichen\n",
    "from plotly.subplots import make_subplots\n",
    "import plotly.graph_objects as go\n",
    "\n",
    "# Verschiedene Linienformen\n",
    "line_shapes = ['linear', 'spline', 'hv', 'vh', 'hvh', 'vhv']\n",
    "\n",
    "# 2x3 Subplots erstellen\n",
    "fig = make_subplots(\n",
    "    rows=2, cols=3, \n",
    "    subplot_titles=[f'line_shape=\"{shape}\"' for shape in line_shapes]\n",
    ")\n",
    "\n",
    "# Für jede Linienform einen Subplot erstellen\n",
    "for i, shape in enumerate(line_shapes):\n",
    "    row = i // 3 + 1\n",
    "    col = i % 3 + 1\n",
    "    \n",
    "    fig.add_trace(\n",
    "        go.Scatter(\n",
    "            x=df['x'], \n",
    "            y=df['y'], \n",
    "            mode='lines+markers', \n",
    "            line=dict(shape=shape)\n",
    "        ),\n",
    "        row=row, col=col\n",
    "    )\n",
    "\n",
    "# Layout anpassen\n",
    "fig.update_layout(\n",
    "    height=500, \n",
    "    width=900, \n",
    "    title_text=\"Verschiedene Linienformen in Plotly\",\n",
    "    showlegend=False\n",
    ")\n",
    "\n",
    "fig.show()"
   ]
  },
  {
   "cell_type": "markdown",
   "id": "504d4bf1-4def-4c31-9bbe-1f9948381adb",
   "metadata": {},
   "source": [
    "**Erklärung:**\n",
    "- Wir demonstrieren die verschiedenen Linienformen, die mit dem Parameter `line_shape` möglich sind\n",
    "- Dafür verwenden wir eine Kombination aus Plotly Express und der niedrigeren Graph Objects-API\n",
    "- Die Formen umfassen:\n",
    "  - `linear`: Gerade Linien von Punkt zu Punkt\n",
    "  - `spline`: Glatte Kurven\n",
    "  - `hv`: Horizontal dann vertikal\n",
    "  - `vh`: Vertikal dann horizontal\n",
    "  - `hvh`: Horizontal-vertikal-horizontal\n",
    "  - `vhv`: Vertikal-horizontal-vertikal\n",
    "\n",
    "#### 2.1 Aufgaben: \n",
    "\n",
    "> (a) Erstelle ein Liniendiagramm für die  Funktion: f(x) = x² - 2x + 3 für x von -5 bis 5 (mit 100 Punkten)\n",
    "> - Füge einen aussagekräftigen Titel und Achsenbeschriftungen hinzu"
   ]
  },
  {
   "cell_type": "code",
   "execution_count": null,
   "id": "f7242547-8aa6-4da7-b66a-bf07f46dfc72",
   "metadata": {},
   "outputs": [],
   "source": [
    "# Deine Lösung:\n",
    "\n",
    "\n",
    "\n"
   ]
  },
  {
   "cell_type": "markdown",
   "id": "e5d7481d-6a77-48bd-9b5f-e46aed8dede0",
   "metadata": {
    "jp-MarkdownHeadingCollapsed": true
   },
   "source": [
    "#### Lösung:"
   ]
  },
  {
   "cell_type": "code",
   "execution_count": null,
   "id": "4a3f190b-781e-488b-a798-02dab1527140",
   "metadata": {},
   "outputs": [],
   "source": [
    "# Daten generieren\n",
    "x = np.linspace(-5, 5, 100)\n",
    "y = x**2 - 2*x + 3\n",
    "\n",
    "# DataFrame erstellen\n",
    "df = pd.DataFrame({'x': x, 'y': y})\n",
    "\n",
    "# Liniendiagramm erstellen\n",
    "fig = px.line(\n",
    "    df, \n",
    "    x='x', \n",
    "    y='y', \n",
    "    title='Quadratische Funktion: f(x) = x² - 2x + 3',\n",
    "    labels={'x': 'x-Werte', 'y': 'f(x)'}\n",
    ")\n",
    "\n",
    "# Layout anpassen\n",
    "fig.update_layout(\n",
    "    xaxis_title='x-Werte',\n",
    "    yaxis_title='f(x) = x² - 2x + 3'\n",
    ")\n",
    "\n",
    "fig.show()"
   ]
  },
  {
   "cell_type": "markdown",
   "id": "4985d25b-d5c7-4571-8c93-c2c53e6c6c49",
   "metadata": {},
   "source": [
    "## 3 Streudiagramme (Scatter Plots)\n",
    "\n",
    "### Wie funktionieren Streudiagramme in Plotly Express?\n",
    "\n",
    "Die Hauptfunktion für Streudiagramme ist `px.scatter()`, die einzelne Datenpunkte platziert, ohne sie durch Linien zu verbinden (es sei denn, dies wird explizit angefordert).\n",
    "\n",
    "**Wichtige Parameter:**\n",
    "\n",
    "- `data_frame`: Der DataFrame mit den zu plottenden Daten\n",
    "- `x`, `y`: Spalten für x- und y-Achsen\n",
    "- `color`: (Optional) Spalte für die Farbkodierung der Punkte\n",
    "- `size`: (Optional) Spalte zur Steuerung der Markergröße\n",
    "- `symbol`: (Optional) Spalte zur Steuerung der Markersymbole\n",
    "- `hover_name`, `hover_data`: (Optional) Zusätzliche Informationen bei Hover\n",
    "- `trendline`: (Optional) Fügt eine Trendlinie hinzu ('ols', 'lowess')\n",
    "- `marginal_x`, `marginal_y`: (Optional) Fügt Randverteilungen hinzu\n",
    "- `facet_row`, `facet_col`: (Optional) Erstellt Teildiagramme (Facets)\n",
    "\n",
    "### Beispiel 1: Einfaches Streudiagramm"
   ]
  },
  {
   "cell_type": "code",
   "execution_count": null,
   "id": "b83d4afe-d26c-4159-9752-9fbd2353ecbe",
   "metadata": {},
   "outputs": [],
   "source": [
    "import plotly.express as px\n",
    "import numpy as np\n",
    "import pandas as pd\n",
    "\n",
    "# Zufallsdaten generieren\n",
    "np.random.seed(42)  # Für Reproduzierbarkeit\n",
    "n = 100\n",
    "x = np.random.normal(0, 1, n)\n",
    "y = x + np.random.normal(0, 0.5, n)  # y korreliert mit x plus Rauschen\n",
    "df = pd.DataFrame({'x': x, 'y': y})\n",
    "\n",
    "# Einfaches Streudiagramm\n",
    "fig = px.scatter(df, x='x', y='y', title='Korrelation mit Rauschen')\n",
    "\n",
    "fig.show()"
   ]
  },
  {
   "cell_type": "markdown",
   "id": "beb69da3-327c-4e9a-afa2-38e7db60751a",
   "metadata": {},
   "source": [
    "**Erklärung:**\n",
    "- Wir erstellen einen DataFrame mit zufällig generierten Daten, wobei y teilweise von x abhängt\n",
    "- Mit `px.scatter()` erzeugen wir ein Streudiagramm, das die Beziehung zwischen x und y zeigt\n",
    "- Die Visualisierung zeigt einen positiven linearen Zusammenhang mit Streuung\n",
    "\n",
    "### Beispiel 2: Farbkodierung und Größe der Marker"
   ]
  },
  {
   "cell_type": "code",
   "execution_count": null,
   "id": "1b819921-76e9-446c-8d2f-a644531bac26",
   "metadata": {},
   "outputs": [],
   "source": [
    "# Erweiterte Streudiagramme mit mehr Dimensionen\n",
    "np.random.seed(42)\n",
    "n = 100\n",
    "x = np.random.normal(0, 1, n)\n",
    "y = x + np.random.normal(0, 0.5, n)\n",
    "group = np.random.choice(['Gruppe A', 'Gruppe B', 'Gruppe C'], n)\n",
    "size = np.abs(x * y) * 15 + 5  # Größe basierend auf x und y\n",
    "\n",
    "df = pd.DataFrame({\n",
    "    'x': x, \n",
    "    'y': y, \n",
    "    'Gruppe': group,\n",
    "    'Größe': size\n",
    "})\n",
    "\n",
    "# Streudiagramm mit Farben und Größen\n",
    "fig = px.scatter(\n",
    "    df, \n",
    "    x='x', \n",
    "    y='y', \n",
    "    color='Gruppe',  # Farbkodierung nach Gruppe\n",
    "    size='Größe',    # Größe der Marker\n",
    "    title='Multidimensionales Streudiagramm',\n",
    "    labels={'x': 'X-Variable', 'y': 'Y-Variable', 'Größe': 'Punktgröße'},\n",
    "    hover_data=['x', 'y', 'Größe']  # Daten, die beim Hovern angezeigt werden\n",
    ")\n",
    "\n",
    "fig.show()"
   ]
  },
  {
   "cell_type": "markdown",
   "id": "e6b1580a-121c-453f-bfe4-d1d14ebdb29d",
   "metadata": {},
   "source": [
    "**Erklärung:**\n",
    "- Wir erweitern unseren DataFrame um kategoriale (Gruppe) und kontinuierliche (Größe) Variablen\n",
    "- Mit `color='Gruppe'` werden die Punkte nach Gruppen eingefärbt\n",
    "- Mit `size='Größe'` wird die Markergröße entsprechend der Größen-Spalte angepasst\n",
    "- `hover_data` spezifiziert zusätzliche Informationen, die beim Überfahren mit der Maus angezeigt werden\n",
    "\n",
    "### Beispiel 3: Streudiagramm mit Trendlinie und Randverteilungen"
   ]
  },
  {
   "cell_type": "code",
   "execution_count": 6,
   "id": "af82f371-939b-4b9e-928d-086cf56248b7",
   "metadata": {},
   "outputs": [
    {
     "data": {
      "application/vnd.plotly.v1+json": {
       "config": {
        "plotlyServerURL": "https://plot.ly"
       },
       "data": [
        {
         "hovertemplate": "x=%{x}<br>y=%{y}<extra></extra>",
         "legendgroup": "",
         "marker": {
          "color": "#636efa",
          "symbol": "circle"
         },
         "mode": "markers",
         "name": "",
         "orientation": "v",
         "showlegend": false,
         "type": "scatter",
         "x": {
          "bdata": "fDCpKCrK3z8qBd4FpbLBv2heJFDdueQ/K6oBjlRe+D9AplffvPjNvzvbcCYz+M2/CHRAqHRE+T/z1/BG047oP4ueeUveC96/fS1q4aZc4T9wG8Guoqjdv+fvFiuEzt2/cPmepZ74zj++Ne6+y5z+vxLk7nBDmfu/YzyhakL+4b95UaNnjjTwvx+GFtigHNQ/+wOLgYgO7b/IExTEy5j2v0ENnx9Mc/c/2Zhm4TzmzL/GNbFGh0mxP2InDcHEy/a/KPrKUZVr4b81BjE/bGW8PxX1zj14avK/6N19s28L2D/SOz2hbjjjv6DS80Icq9K/p/2pOS5B479X9hhz7qL9P4KDsNZupIu/RMyHS2Ls8L83Lh+1SVLqPxx64lmTiPO/tWnv0gq8yj/DMFAPz1r/v/9asANAQPW/QDr0vL8yyT++nUiqhKHnPwwupFVl78U/XzGyNiCbvb/hr1BvSEXTvwa4sKwGqPe/J6aouPYI57/ZriIKG3vdv2LC1/746fA/iEEAkdf91T9OFQ2YaTX8vzhYbbDKvdQ/QA8qJjCl2L9NOahTWKnlv/nsCSfakuM/1Pz0Wvl+8D8enOD2C83tP1MVD7Xe2uq/zylztCLK07+KTA+JazPVPwBoGGqqN+8/VWYobMqq3r8Tbn1grMPHvzBuPE2Ms/G/9PWajqkj87+w1UonNgDqP/3Ng74os/U/+iMrXUFvsr9qgA6DeA7wP0KkKG0LJdc/rwoBL9Kk5L+P6aQIGyHXPyBgEDvMm/g/URmlZMpXor8w1znJxwj5P19fz+s89QTAv1gZewZN6j8prkt3t0i2P8ft4LnvItO/OIpGXqJ9tz/iHOwPFc3/v8FsDls1Hsy/04nor+7a1j8349E5dKX3PzA8v2yrleC/S3Lu+S3f6b+hdpfJZA7gv5AGx2H5Su0/gMUgGEIK1T/02ryry/PgvwNc6tKvbOA/OiugAxPauD9TvHjHI//uP3hIyAw4d+a/l5Lxpmr41L8apYzLTBjZvxD0dqaOave/IzBrdqLz0j8UgR0sIbXQPxk6yBDZ8XQ/lk70gPMGzr8=",
          "dtype": "f8"
         },
         "xaxis": "x",
         "y": {
          "bdata": "8BQ4vJxJ0j9kyO0zkijfv+eXYTT8+/E//CPbYcwoBUCYgTrD/pDhvyLNchY3CtG/R/qvfPRnEEBsmlZUXPT5P6b/5SLx7Om/0uK9xy/E8D8uR3IQ9i3+vwANVvsdO+6/fVWuRgNz4D9iMQGbb8IEwEnwwbY9XgzAqizqhmEp77/d/xHjGVgAwABFR6KRm6Y/TUzfNwjq87/dY3MI0ZYDwLud+WZQnQpAahPPTPj/7L+mETREOsTqP2hgX5lDZwzAqjABYGZz6b8wrEchuxL1P+KzVmXHYAbAHY9t/ML33T/rzmydWGzyv9gAwL9Yueq/lD9GdPCo/7/m/nLSI+kNQMh7g6RV3OG/4ucFw9kO/r9TtVWdTvfyP1T9YLHiqvq/YI3T2Bm6mj8A5+bGTFIQwEkDY1s1/wHAxPdQpvtgzL8D0eotW3P5P9mhHzDB4e8/iL5gMoSP8L8zmU7NBVHgv8lbmPXnnQbAI0McX8rH8L9YOSHv06L4v8GlJ2+mQ/c/wjcs97ZX7j+7SAHYTAULwPA473rPv+g/pE0R3yIa47/NbsUgCRr7v+Ngl/qBbvU/t7C1ixSrAUD+aY4WDhb4P8fubAqH2+e/LqGDwKFq2L8IIW48uh6xP8LQ4MskPAJAv0thHYsh978AtK3I+sGWP1DYL9hKIvq/cN2xgApsBsC20khZmtoAQFQ5msnYWQdA6hg7bbAW0T8ooF1pyaQHQAaxV1bvN+M/bN1+Anms+r+K2TcaT8vRPx61mXVoWAVArjTYaEI2vL/EDbW6HmYKQGPrMoGSZxTA7k62XYx1AEA/ZGVavR3HPwwRveP0esA/OKeunfw1qj+8wEMJoesEwEAA6KZ7McC/KJvGsAdI0j8YEs8u3FwDQIhns9ohc+m/LDpF1dSo+787rPfKPbDkvxuiRhgVigBARb2/cfPf4z8FWql0B7r3vximmmgeOdE/ELeZewPNnb8uLvSxhewCQGa+3UTBwPS/ujMIOHtz9L/lfr9u81Lmv+vj1AL+3wXACuX4EWs9wz9eRAehySrjP3pfQ4I6I6Q/l+7IfIqm8L8=",
          "dtype": "f8"
         },
         "yaxis": "y"
        },
        {
         "bingroup": "x",
         "hovertemplate": "x=%{x}<br>count=%{y}<extra></extra>",
         "legendgroup": "",
         "marker": {
          "color": "#636efa"
         },
         "name": "",
         "opacity": 0.5,
         "showlegend": false,
         "type": "histogram",
         "x": {
          "bdata": "fDCpKCrK3z8qBd4FpbLBv2heJFDdueQ/K6oBjlRe+D9AplffvPjNvzvbcCYz+M2/CHRAqHRE+T/z1/BG047oP4ueeUveC96/fS1q4aZc4T9wG8Guoqjdv+fvFiuEzt2/cPmepZ74zj++Ne6+y5z+vxLk7nBDmfu/YzyhakL+4b95UaNnjjTwvx+GFtigHNQ/+wOLgYgO7b/IExTEy5j2v0ENnx9Mc/c/2Zhm4TzmzL/GNbFGh0mxP2InDcHEy/a/KPrKUZVr4b81BjE/bGW8PxX1zj14avK/6N19s28L2D/SOz2hbjjjv6DS80Icq9K/p/2pOS5B479X9hhz7qL9P4KDsNZupIu/RMyHS2Ls8L83Lh+1SVLqPxx64lmTiPO/tWnv0gq8yj/DMFAPz1r/v/9asANAQPW/QDr0vL8yyT++nUiqhKHnPwwupFVl78U/XzGyNiCbvb/hr1BvSEXTvwa4sKwGqPe/J6aouPYI57/ZriIKG3vdv2LC1/746fA/iEEAkdf91T9OFQ2YaTX8vzhYbbDKvdQ/QA8qJjCl2L9NOahTWKnlv/nsCSfakuM/1Pz0Wvl+8D8enOD2C83tP1MVD7Xe2uq/zylztCLK07+KTA+JazPVPwBoGGqqN+8/VWYobMqq3r8Tbn1grMPHvzBuPE2Ms/G/9PWajqkj87+w1UonNgDqP/3Ng74os/U/+iMrXUFvsr9qgA6DeA7wP0KkKG0LJdc/rwoBL9Kk5L+P6aQIGyHXPyBgEDvMm/g/URmlZMpXor8w1znJxwj5P19fz+s89QTAv1gZewZN6j8prkt3t0i2P8ft4LnvItO/OIpGXqJ9tz/iHOwPFc3/v8FsDls1Hsy/04nor+7a1j8349E5dKX3PzA8v2yrleC/S3Lu+S3f6b+hdpfJZA7gv5AGx2H5Su0/gMUgGEIK1T/02ryry/PgvwNc6tKvbOA/OiugAxPauD9TvHjHI//uP3hIyAw4d+a/l5Lxpmr41L8apYzLTBjZvxD0dqaOave/IzBrdqLz0j8UgR0sIbXQPxk6yBDZ8XQ/lk70gPMGzr8=",
          "dtype": "f8"
         },
         "xaxis": "x3",
         "yaxis": "y3"
        },
        {
         "hovertemplate": "y=%{y}<extra></extra>",
         "legendgroup": "",
         "marker": {
          "color": "#636efa",
          "symbol": "circle"
         },
         "name": "",
         "notched": true,
         "showlegend": false,
         "type": "box",
         "xaxis": "x2",
         "y": {
          "bdata": "8BQ4vJxJ0j9kyO0zkijfv+eXYTT8+/E//CPbYcwoBUCYgTrD/pDhvyLNchY3CtG/R/qvfPRnEEBsmlZUXPT5P6b/5SLx7Om/0uK9xy/E8D8uR3IQ9i3+vwANVvsdO+6/fVWuRgNz4D9iMQGbb8IEwEnwwbY9XgzAqizqhmEp77/d/xHjGVgAwABFR6KRm6Y/TUzfNwjq87/dY3MI0ZYDwLud+WZQnQpAahPPTPj/7L+mETREOsTqP2hgX5lDZwzAqjABYGZz6b8wrEchuxL1P+KzVmXHYAbAHY9t/ML33T/rzmydWGzyv9gAwL9Yueq/lD9GdPCo/7/m/nLSI+kNQMh7g6RV3OG/4ucFw9kO/r9TtVWdTvfyP1T9YLHiqvq/YI3T2Bm6mj8A5+bGTFIQwEkDY1s1/wHAxPdQpvtgzL8D0eotW3P5P9mhHzDB4e8/iL5gMoSP8L8zmU7NBVHgv8lbmPXnnQbAI0McX8rH8L9YOSHv06L4v8GlJ2+mQ/c/wjcs97ZX7j+7SAHYTAULwPA473rPv+g/pE0R3yIa47/NbsUgCRr7v+Ngl/qBbvU/t7C1ixSrAUD+aY4WDhb4P8fubAqH2+e/LqGDwKFq2L8IIW48uh6xP8LQ4MskPAJAv0thHYsh978AtK3I+sGWP1DYL9hKIvq/cN2xgApsBsC20khZmtoAQFQ5msnYWQdA6hg7bbAW0T8ooF1pyaQHQAaxV1bvN+M/bN1+Anms+r+K2TcaT8vRPx61mXVoWAVArjTYaEI2vL/EDbW6HmYKQGPrMoGSZxTA7k62XYx1AEA/ZGVavR3HPwwRveP0esA/OKeunfw1qj+8wEMJoesEwEAA6KZ7McC/KJvGsAdI0j8YEs8u3FwDQIhns9ohc+m/LDpF1dSo+787rPfKPbDkvxuiRhgVigBARb2/cfPf4z8FWql0B7r3vximmmgeOdE/ELeZewPNnb8uLvSxhewCQGa+3UTBwPS/ujMIOHtz9L/lfr9u81Lmv+vj1AL+3wXACuX4EWs9wz9eRAehySrjP3pfQ4I6I6Q/l+7IfIqm8L8=",
          "dtype": "f8"
         },
         "yaxis": "y2"
        },
        {
         "hovertemplate": "<b>OLS trendline</b><br>y = 1.92837 * x + 0.00371391<br>R<sup>2</sup>=0.932179<br><br>x=%{x}<br>y=%{y} <b>(trend)</b><extra></extra>",
         "legendgroup": "",
         "marker": {
          "color": "#636efa",
          "symbol": "circle"
         },
         "mode": "lines",
         "name": "",
         "showlegend": false,
         "type": "scatter",
         "x": {
          "bdata": "X1/P6zz1BMDiHOwPFc3/v8MwUA/PWv+/vjXuvsuc/r9OFQ2YaTX8vxLk7nBDmfu/BriwrAao978Q9Hamjmr3v2InDcHEy/a/yBMUxMuY9r//WrADQED1vxx64lmTiPO/9PWajqkj878V9c49eGryvzBuPE2Ms/G/RMyHS2Ls8L95UaNnjjTwv/sDi4GIDu2/UxUPtd7a6r9Lcu75Ld/pvyemqLj2COe/eEjIDDh35r9NOahTWKnlv68KAS/SpOS/p/2pOS5B47/SOz2hbjjjv2M8oWpC/uG/KPrKUZVr4b/02ryry/PgvzA8v2yrleC/oXaXyWQO4L9VZihsyqrev4ueeUveC96/5+8WK4TO3b9wG8Guoqjdv9muIgobe92/GqWMy0wY2b9ADyomMKXYv5eS8aZq+NS/zylztCLK07/hr1BvSEXTv8ft4LnvItO/oNLzQhyr0r+WTvSA8wbOv0CmV9+8+M2/O9twJjP4zb/ZmGbhPObMv8FsDls1Hsy/E259YKzDx78qBd4FpbLBv18xsjYgm72/+iMrXUFvsr9RGaVkyleiv4KDsNZupIu/GTrIENnxdD/GNbFGh0mxPymuS3e3SLY/OIpGXqJ9tz86K6ADE9q4PzUGMT9sZbw/DC6kVWXvxT9AOvS8vzLJP7Vp79IKvMo/cPmepZ74zj8UgR0sIbXQPyMwa3ai89I/H4YW2KAc1D84WG2wyr3UP4DFIBhCCtU/ikwPiWsz1T+IQQCR1/3VP9OJ6K/u2tY/j+mkCBsh1z9CpChtCyXXP+jdfbNvC9g/fDCpKCrK3z8DXOrSr2zgP30tauGmXOE/+ewJJ9qS4z9oXiRQ3bnkP76dSKqEoec/89fwRtOO6D+w1UonNgDqP79YGXsGTeo/Ny4ftUlS6j+QBsdh+UrtPx6c4PYLze0/U7x4xyP/7j8AaBhqqjfvP2qADoN4DvA/1Pz0Wvl+8D9iwtf++OnwP/3Ng74os/U/QQ2fH0xz9z8349E5dKX3PyuqAY5UXvg/IGAQO8yb+D8w1znJxwj5Pwh0QKh0RPk/V/YYc+6i/T8=",
          "dtype": "f8"
         },
         "xaxis": "x",
         "y": {
          "bdata": "rQpWYUgxFMBc8Wi66KEOwISJ5m+6Mw7Aki+2P4V8DcDzOM02LSsLwIn6CLWelArA9KVeF4fHBsDV5jmkQowGwDpasJco8wXAVL7R8QLCBcB3/9clznUEwMzKG5/gzQLAl0TkC5RsAsCyDW2pBLoBwBhH3dSlCQHAaYk72p1JAMCbQPXBvjD/vzvQdU3q9Pu/ahpSbXDV+b99XP9Ow+L4v1Y+TlWOJva/OS7D6gea9b8h2oW9h9P0vwhoVjNW2PO/mrK66m6B8r/eBPGH/3jyv0RzDMwTSvG/uFGKfqe88L/iajQdKEnwv9zGR7fN3O+/ST0T/PDX7r9AH6UhMnPtvxxDsBP32ey/TK9EdM+e7L+B/OxGSXrsv4NllRJjTuy/RyaLOcsT6L/jozX6zaTnv4nKhue5GeS/LteFaEX24r/fJSExLXbiv5akRmMPVeK/A+kQi4bh4b+k3HG5zLbcvx/UeGgYqdy/L3dFnpOo3L8j9loobaDbv/x3EJiP39q/81b7LvGs1r8QeGW1iNPQv4qMAb38Ecy/qnHwfYpMwb/seH0UOLywv9SdDj9q2Za/1a0zafrMiz/QuX2UuiTBP97J/ZUa9sU/dtiuMPUfxz9aeKIt62/IP9wpamzF2ss/pTO3GSJj1T8UqIeakYjYP4VU18vGA9o/nrNgt4IZ3j/CwechXzrgPzvn4hhNZOI/xSUtgaiC4z+TZa+6DB7kP+4GGg7HZ+Q/TbbxGneP5D81GBg9o1LlPwxdU03PJ+Y/KAezRHhr5j+S4M6LRG/mP7c+9HtoTec/7Ls4YSDF7j+4OgVNn8rvP+NW7piuzPA/196Kr5ru8j8IYbMJDQv0PyWJXzsS2PY/16OUGuG89z/ivSVHCSH5Pwq0Y1cZa/k/hMJrUSxw+T93niysnU38Px18nLAHy/w/8qaDGiny/T+mBbl7qSj+P2oAqvy5Bf8/gPLNtaze/z86sa37gFYAQFoTD6nP8wRAEJ+mTeajBkDrOeiLQtQGQEFJSdiDhgdARIN09cfBB0CJcLVP3CoIQE30YA1mZAhAO655JdGaDEA=",
          "dtype": "f8"
         },
         "yaxis": "y"
        }
       ],
       "layout": {
        "annotations": [
         {
          "font": {
           "size": 14
          },
          "showarrow": false,
          "text": "y = 1.93x + 0.00<br>R² = 0.932",
          "x": 0.5,
          "xref": "paper",
          "y": 0.95,
          "yref": "paper"
         }
        ],
        "barmode": "overlay",
        "legend": {
         "tracegroupgap": 0
        },
        "template": {
         "data": {
          "bar": [
           {
            "error_x": {
             "color": "#2a3f5f"
            },
            "error_y": {
             "color": "#2a3f5f"
            },
            "marker": {
             "line": {
              "color": "#E5ECF6",
              "width": 0.5
             },
             "pattern": {
              "fillmode": "overlay",
              "size": 10,
              "solidity": 0.2
             }
            },
            "type": "bar"
           }
          ],
          "barpolar": [
           {
            "marker": {
             "line": {
              "color": "#E5ECF6",
              "width": 0.5
             },
             "pattern": {
              "fillmode": "overlay",
              "size": 10,
              "solidity": 0.2
             }
            },
            "type": "barpolar"
           }
          ],
          "carpet": [
           {
            "aaxis": {
             "endlinecolor": "#2a3f5f",
             "gridcolor": "white",
             "linecolor": "white",
             "minorgridcolor": "white",
             "startlinecolor": "#2a3f5f"
            },
            "baxis": {
             "endlinecolor": "#2a3f5f",
             "gridcolor": "white",
             "linecolor": "white",
             "minorgridcolor": "white",
             "startlinecolor": "#2a3f5f"
            },
            "type": "carpet"
           }
          ],
          "choropleth": [
           {
            "colorbar": {
             "outlinewidth": 0,
             "ticks": ""
            },
            "type": "choropleth"
           }
          ],
          "contour": [
           {
            "colorbar": {
             "outlinewidth": 0,
             "ticks": ""
            },
            "colorscale": [
             [
              0,
              "#0d0887"
             ],
             [
              0.1111111111111111,
              "#46039f"
             ],
             [
              0.2222222222222222,
              "#7201a8"
             ],
             [
              0.3333333333333333,
              "#9c179e"
             ],
             [
              0.4444444444444444,
              "#bd3786"
             ],
             [
              0.5555555555555556,
              "#d8576b"
             ],
             [
              0.6666666666666666,
              "#ed7953"
             ],
             [
              0.7777777777777778,
              "#fb9f3a"
             ],
             [
              0.8888888888888888,
              "#fdca26"
             ],
             [
              1,
              "#f0f921"
             ]
            ],
            "type": "contour"
           }
          ],
          "contourcarpet": [
           {
            "colorbar": {
             "outlinewidth": 0,
             "ticks": ""
            },
            "type": "contourcarpet"
           }
          ],
          "heatmap": [
           {
            "colorbar": {
             "outlinewidth": 0,
             "ticks": ""
            },
            "colorscale": [
             [
              0,
              "#0d0887"
             ],
             [
              0.1111111111111111,
              "#46039f"
             ],
             [
              0.2222222222222222,
              "#7201a8"
             ],
             [
              0.3333333333333333,
              "#9c179e"
             ],
             [
              0.4444444444444444,
              "#bd3786"
             ],
             [
              0.5555555555555556,
              "#d8576b"
             ],
             [
              0.6666666666666666,
              "#ed7953"
             ],
             [
              0.7777777777777778,
              "#fb9f3a"
             ],
             [
              0.8888888888888888,
              "#fdca26"
             ],
             [
              1,
              "#f0f921"
             ]
            ],
            "type": "heatmap"
           }
          ],
          "histogram": [
           {
            "marker": {
             "pattern": {
              "fillmode": "overlay",
              "size": 10,
              "solidity": 0.2
             }
            },
            "type": "histogram"
           }
          ],
          "histogram2d": [
           {
            "colorbar": {
             "outlinewidth": 0,
             "ticks": ""
            },
            "colorscale": [
             [
              0,
              "#0d0887"
             ],
             [
              0.1111111111111111,
              "#46039f"
             ],
             [
              0.2222222222222222,
              "#7201a8"
             ],
             [
              0.3333333333333333,
              "#9c179e"
             ],
             [
              0.4444444444444444,
              "#bd3786"
             ],
             [
              0.5555555555555556,
              "#d8576b"
             ],
             [
              0.6666666666666666,
              "#ed7953"
             ],
             [
              0.7777777777777778,
              "#fb9f3a"
             ],
             [
              0.8888888888888888,
              "#fdca26"
             ],
             [
              1,
              "#f0f921"
             ]
            ],
            "type": "histogram2d"
           }
          ],
          "histogram2dcontour": [
           {
            "colorbar": {
             "outlinewidth": 0,
             "ticks": ""
            },
            "colorscale": [
             [
              0,
              "#0d0887"
             ],
             [
              0.1111111111111111,
              "#46039f"
             ],
             [
              0.2222222222222222,
              "#7201a8"
             ],
             [
              0.3333333333333333,
              "#9c179e"
             ],
             [
              0.4444444444444444,
              "#bd3786"
             ],
             [
              0.5555555555555556,
              "#d8576b"
             ],
             [
              0.6666666666666666,
              "#ed7953"
             ],
             [
              0.7777777777777778,
              "#fb9f3a"
             ],
             [
              0.8888888888888888,
              "#fdca26"
             ],
             [
              1,
              "#f0f921"
             ]
            ],
            "type": "histogram2dcontour"
           }
          ],
          "mesh3d": [
           {
            "colorbar": {
             "outlinewidth": 0,
             "ticks": ""
            },
            "type": "mesh3d"
           }
          ],
          "parcoords": [
           {
            "line": {
             "colorbar": {
              "outlinewidth": 0,
              "ticks": ""
             }
            },
            "type": "parcoords"
           }
          ],
          "pie": [
           {
            "automargin": true,
            "type": "pie"
           }
          ],
          "scatter": [
           {
            "fillpattern": {
             "fillmode": "overlay",
             "size": 10,
             "solidity": 0.2
            },
            "type": "scatter"
           }
          ],
          "scatter3d": [
           {
            "line": {
             "colorbar": {
              "outlinewidth": 0,
              "ticks": ""
             }
            },
            "marker": {
             "colorbar": {
              "outlinewidth": 0,
              "ticks": ""
             }
            },
            "type": "scatter3d"
           }
          ],
          "scattercarpet": [
           {
            "marker": {
             "colorbar": {
              "outlinewidth": 0,
              "ticks": ""
             }
            },
            "type": "scattercarpet"
           }
          ],
          "scattergeo": [
           {
            "marker": {
             "colorbar": {
              "outlinewidth": 0,
              "ticks": ""
             }
            },
            "type": "scattergeo"
           }
          ],
          "scattergl": [
           {
            "marker": {
             "colorbar": {
              "outlinewidth": 0,
              "ticks": ""
             }
            },
            "type": "scattergl"
           }
          ],
          "scattermap": [
           {
            "marker": {
             "colorbar": {
              "outlinewidth": 0,
              "ticks": ""
             }
            },
            "type": "scattermap"
           }
          ],
          "scattermapbox": [
           {
            "marker": {
             "colorbar": {
              "outlinewidth": 0,
              "ticks": ""
             }
            },
            "type": "scattermapbox"
           }
          ],
          "scatterpolar": [
           {
            "marker": {
             "colorbar": {
              "outlinewidth": 0,
              "ticks": ""
             }
            },
            "type": "scatterpolar"
           }
          ],
          "scatterpolargl": [
           {
            "marker": {
             "colorbar": {
              "outlinewidth": 0,
              "ticks": ""
             }
            },
            "type": "scatterpolargl"
           }
          ],
          "scatterternary": [
           {
            "marker": {
             "colorbar": {
              "outlinewidth": 0,
              "ticks": ""
             }
            },
            "type": "scatterternary"
           }
          ],
          "surface": [
           {
            "colorbar": {
             "outlinewidth": 0,
             "ticks": ""
            },
            "colorscale": [
             [
              0,
              "#0d0887"
             ],
             [
              0.1111111111111111,
              "#46039f"
             ],
             [
              0.2222222222222222,
              "#7201a8"
             ],
             [
              0.3333333333333333,
              "#9c179e"
             ],
             [
              0.4444444444444444,
              "#bd3786"
             ],
             [
              0.5555555555555556,
              "#d8576b"
             ],
             [
              0.6666666666666666,
              "#ed7953"
             ],
             [
              0.7777777777777778,
              "#fb9f3a"
             ],
             [
              0.8888888888888888,
              "#fdca26"
             ],
             [
              1,
              "#f0f921"
             ]
            ],
            "type": "surface"
           }
          ],
          "table": [
           {
            "cells": {
             "fill": {
              "color": "#EBF0F8"
             },
             "line": {
              "color": "white"
             }
            },
            "header": {
             "fill": {
              "color": "#C8D4E3"
             },
             "line": {
              "color": "white"
             }
            },
            "type": "table"
           }
          ]
         },
         "layout": {
          "annotationdefaults": {
           "arrowcolor": "#2a3f5f",
           "arrowhead": 0,
           "arrowwidth": 1
          },
          "autotypenumbers": "strict",
          "coloraxis": {
           "colorbar": {
            "outlinewidth": 0,
            "ticks": ""
           }
          },
          "colorscale": {
           "diverging": [
            [
             0,
             "#8e0152"
            ],
            [
             0.1,
             "#c51b7d"
            ],
            [
             0.2,
             "#de77ae"
            ],
            [
             0.3,
             "#f1b6da"
            ],
            [
             0.4,
             "#fde0ef"
            ],
            [
             0.5,
             "#f7f7f7"
            ],
            [
             0.6,
             "#e6f5d0"
            ],
            [
             0.7,
             "#b8e186"
            ],
            [
             0.8,
             "#7fbc41"
            ],
            [
             0.9,
             "#4d9221"
            ],
            [
             1,
             "#276419"
            ]
           ],
           "sequential": [
            [
             0,
             "#0d0887"
            ],
            [
             0.1111111111111111,
             "#46039f"
            ],
            [
             0.2222222222222222,
             "#7201a8"
            ],
            [
             0.3333333333333333,
             "#9c179e"
            ],
            [
             0.4444444444444444,
             "#bd3786"
            ],
            [
             0.5555555555555556,
             "#d8576b"
            ],
            [
             0.6666666666666666,
             "#ed7953"
            ],
            [
             0.7777777777777778,
             "#fb9f3a"
            ],
            [
             0.8888888888888888,
             "#fdca26"
            ],
            [
             1,
             "#f0f921"
            ]
           ],
           "sequentialminus": [
            [
             0,
             "#0d0887"
            ],
            [
             0.1111111111111111,
             "#46039f"
            ],
            [
             0.2222222222222222,
             "#7201a8"
            ],
            [
             0.3333333333333333,
             "#9c179e"
            ],
            [
             0.4444444444444444,
             "#bd3786"
            ],
            [
             0.5555555555555556,
             "#d8576b"
            ],
            [
             0.6666666666666666,
             "#ed7953"
            ],
            [
             0.7777777777777778,
             "#fb9f3a"
            ],
            [
             0.8888888888888888,
             "#fdca26"
            ],
            [
             1,
             "#f0f921"
            ]
           ]
          },
          "colorway": [
           "#636efa",
           "#EF553B",
           "#00cc96",
           "#ab63fa",
           "#FFA15A",
           "#19d3f3",
           "#FF6692",
           "#B6E880",
           "#FF97FF",
           "#FECB52"
          ],
          "font": {
           "color": "#2a3f5f"
          },
          "geo": {
           "bgcolor": "white",
           "lakecolor": "white",
           "landcolor": "#E5ECF6",
           "showlakes": true,
           "showland": true,
           "subunitcolor": "white"
          },
          "hoverlabel": {
           "align": "left"
          },
          "hovermode": "closest",
          "mapbox": {
           "style": "light"
          },
          "paper_bgcolor": "white",
          "plot_bgcolor": "#E5ECF6",
          "polar": {
           "angularaxis": {
            "gridcolor": "white",
            "linecolor": "white",
            "ticks": ""
           },
           "bgcolor": "#E5ECF6",
           "radialaxis": {
            "gridcolor": "white",
            "linecolor": "white",
            "ticks": ""
           }
          },
          "scene": {
           "xaxis": {
            "backgroundcolor": "#E5ECF6",
            "gridcolor": "white",
            "gridwidth": 2,
            "linecolor": "white",
            "showbackground": true,
            "ticks": "",
            "zerolinecolor": "white"
           },
           "yaxis": {
            "backgroundcolor": "#E5ECF6",
            "gridcolor": "white",
            "gridwidth": 2,
            "linecolor": "white",
            "showbackground": true,
            "ticks": "",
            "zerolinecolor": "white"
           },
           "zaxis": {
            "backgroundcolor": "#E5ECF6",
            "gridcolor": "white",
            "gridwidth": 2,
            "linecolor": "white",
            "showbackground": true,
            "ticks": "",
            "zerolinecolor": "white"
           }
          },
          "shapedefaults": {
           "line": {
            "color": "#2a3f5f"
           }
          },
          "ternary": {
           "aaxis": {
            "gridcolor": "white",
            "linecolor": "white",
            "ticks": ""
           },
           "baxis": {
            "gridcolor": "white",
            "linecolor": "white",
            "ticks": ""
           },
           "bgcolor": "#E5ECF6",
           "caxis": {
            "gridcolor": "white",
            "linecolor": "white",
            "ticks": ""
           }
          },
          "title": {
           "x": 0.05
          },
          "xaxis": {
           "automargin": true,
           "gridcolor": "white",
           "linecolor": "white",
           "ticks": "",
           "title": {
            "standoff": 15
           },
           "zerolinecolor": "white",
           "zerolinewidth": 2
          },
          "yaxis": {
           "automargin": true,
           "gridcolor": "white",
           "linecolor": "white",
           "ticks": "",
           "title": {
            "standoff": 15
           },
           "zerolinecolor": "white",
           "zerolinewidth": 2
          }
         }
        },
        "title": {
         "text": "Streudiagramm mit Trendlinie und Randverteilungen"
        },
        "xaxis": {
         "anchor": "y",
         "domain": [
          0,
          0.8358
         ],
         "title": {
          "text": "x"
         }
        },
        "xaxis2": {
         "anchor": "y2",
         "domain": [
          0.8408,
          1
         ],
         "matches": "x2",
         "showgrid": false,
         "showline": false,
         "showticklabels": false,
         "ticks": ""
        },
        "xaxis3": {
         "anchor": "y3",
         "domain": [
          0,
          0.8358
         ],
         "matches": "x",
         "showgrid": true,
         "showticklabels": false
        },
        "xaxis4": {
         "anchor": "y4",
         "domain": [
          0.8408,
          1
         ],
         "matches": "x2",
         "showgrid": false,
         "showline": false,
         "showticklabels": false,
         "ticks": ""
        },
        "yaxis": {
         "anchor": "x",
         "domain": [
          0,
          0.7326
         ],
         "title": {
          "text": "y"
         }
        },
        "yaxis2": {
         "anchor": "x2",
         "domain": [
          0,
          0.7326
         ],
         "matches": "y",
         "showgrid": true,
         "showticklabels": false
        },
        "yaxis3": {
         "anchor": "x3",
         "domain": [
          0.7426,
          1
         ],
         "matches": "y3",
         "showgrid": true,
         "showline": false,
         "showticklabels": false,
         "ticks": ""
        },
        "yaxis4": {
         "anchor": "x4",
         "domain": [
          0.7426,
          1
         ],
         "matches": "y3",
         "showgrid": true,
         "showline": false,
         "showticklabels": false,
         "ticks": ""
        }
       }
      },
      "image/png": "[encoded data removed]"
     },
     "metadata": {},
     "output_type": "display_data"
    }
   ],
   "source": [
    "# Streudiagramm mit Trendlinie und Randverteilungen\n",
    "np.random.seed(42)\n",
    "n = 100\n",
    "x = np.random.normal(0, 1, n)\n",
    "y = 2*x + np.random.normal(0, 0.5, n)  # Linearer Zusammenhang mit Steigung 2\n",
    "df = pd.DataFrame({'x': x, 'y': y})\n",
    "\n",
    "# Erweitertes Streudiagramm\n",
    "fig = px.scatter(\n",
    "    df, \n",
    "    x='x', \n",
    "    y='y', \n",
    "    trendline='ols',      # Ordinary Least Squares Regression\n",
    "    marginal_x='histogram',  # Histogramm für x-Achse\n",
    "    marginal_y='box',        # Box-Plot für y-Achse\n",
    "    title='Streudiagramm mit Trendlinie und Randverteilungen'\n",
    ")\n",
    "\n",
    "# Trendliniengleichung anzeigen\n",
    "import statsmodels.api as sm\n",
    "X = sm.add_constant(df['x'])\n",
    "model = sm.OLS(df['y'], X).fit()\n",
    "intercept, slope = model.params\n",
    "r_squared = model.rsquared\n",
    "\n",
    "fig.add_annotation(\n",
    "    x=0.5, y=0.95,\n",
    "    text=f'y = {slope:.2f}x + {intercept:.2f}<br>R² = {r_squared:.3f}',\n",
    "    showarrow=False,\n",
    "    xref='paper', yref='paper',\n",
    "    font=dict(size=14)\n",
    ")\n",
    "\n",
    "fig.show()"
   ]
  },
  {
   "cell_type": "markdown",
   "id": "f79fe46d-4933-4db1-8b91-514176e493c9",
   "metadata": {},
   "source": [
    "**Erklärung:**\n",
    "- Wir generieren Daten mit einem klaren linearen Zusammenhang\n",
    "- Mit `trendline='ols'` fügen wir eine lineare Regressionslinie hinzu\n",
    "- `marginal_x='histogram'` und `marginal_y='box'` fügen Randverteilungen hinzu\n",
    "- Wir berechnen und zeigen die Regressionsgleichung und das Bestimmtheitsmaß (R²) an\n",
    "\n",
    "#### 3.1 Aufgabe:\n",
    "\n",
    "> (a) Erstelle ein Streudiagramm mit den folgenden Eigenschaften:\n",
    ">- Generiere 200 zufällige Punkte mit x-Werten zwischen 0 und 10\n",
    ">- y-Werte sollen durch die Funktion y = sin(x) + `np.random.normal(0,0.3, 200)` erzeugt werden\n",
    ">- Färbe die Punkte basierend auf dem x-Wert ein (Farbverlauf)\n",
    ">- Füge eine Trendlinie hinzu"
   ]
  },
  {
   "cell_type": "code",
   "execution_count": null,
   "id": "8d3c86b9-c803-4c2f-9050-fd71d7292416",
   "metadata": {},
   "outputs": [],
   "source": [
    "# Deine Lösung:\n",
    "\n",
    "\n",
    "\n"
   ]
  },
  {
   "cell_type": "markdown",
   "id": "cccc04b4-9bce-4ea8-ab5b-90894cf9aa75",
   "metadata": {
    "jp-MarkdownHeadingCollapsed": true
   },
   "source": [
    "#### Lösung:"
   ]
  },
  {
   "cell_type": "code",
   "execution_count": null,
   "id": "19bab86d-9b5d-49d2-8639-24b8d19d304c",
   "metadata": {},
   "outputs": [],
   "source": [
    "# Daten generieren\n",
    "np.random.seed(42)  # Für reproduzierbare Ergebnisse\n",
    "n = 200\n",
    "x = np.random.uniform(0, 10, n)\n",
    "y = np.sin(x) + np.random.normal(0, 0.3, n)\n",
    "\n",
    "# DataFrame erstellen\n",
    "df = pd.DataFrame({'x': x, 'y': y})\n",
    "\n",
    "# Streudiagramm erstellen\n",
    "fig = px.scatter(\n",
    "    df, \n",
    "    x='x', \n",
    "    y='y',\n",
    "    color=x,  # Färbung basierend auf x-Werten\n",
    "    color_continuous_scale='Viridis',  # Farbverlauf\n",
    "    trendline='ols',  # Lineare Trendlinie (Ordinary Least Squares)\n",
    "    title='Sinusfunktion mit Rauschen',\n",
    "    labels={'x': 'x-Werte', 'y': 'sin(x) + Rauschen', 'color': 'x-Wert'}\n",
    ")\n",
    "\n",
    "fig.show()"
   ]
  },
  {
   "cell_type": "markdown",
   "id": "3c94cdef-3406-4fe0-9fae-a5028246a83a",
   "metadata": {},
   "source": [
    "## 4 Balkendiagramme (Bar Charts)\n",
    "\n",
    "### Wie funktionieren Balkendiagramme in Plotly Express?\n",
    "\n",
    "Die Hauptfunktion für Balkendiagramme ist `px.bar()`, die kategoriale Daten als vertikale Balken darstellt. Für horizontale Balken gibt es `px.bar()` mit dem Parameter `orientation='h'` oder direkt `px.barh()`.\n",
    "\n",
    "**Wichtige Parameter:**\n",
    "\n",
    "- `data_frame`: Der DataFrame mit den zu plottenden Daten\n",
    "- `x`, `y`: Spalten für Kategorien und Werte (bei vertikalen Balken)\n",
    "- `color`: (Optional) Spalte für die Farbkodierung der Balken\n",
    "- `barmode`: Art der Balkenanordnung ('group', 'stack', 'overlay', 'relative')\n",
    "- `text`: (Optional) Spalte für Text auf den Balken\n",
    "- `orientation`: Orientierung der Balken ('v' für vertikal, 'h' für horizontal)\n",
    "- `pattern_shape`: (Optional) Muster für die Balken\n",
    "- `log_y`, `log_x`: (Optional) Logarithmische Achsen\n",
    "- `error_y`, `error_x`: (Optional) Fehlerbalken\n",
    "\n",
    "### Beispiel 1: Einfaches Balkendiagramm"
   ]
  },
  {
   "cell_type": "code",
   "execution_count": null,
   "id": "12f432f2-29d4-42b1-b68f-a95bd1fc13e7",
   "metadata": {},
   "outputs": [],
   "source": [
    "# Einfache Daten\n",
    "kategorien = ['Kategorie A', 'Kategorie B', 'Kategorie C', 'Kategorie D']\n",
    "werte = [25, 40, 30, 50]\n",
    "df = pd.DataFrame({'Kategorie': kategorien, 'Wert': werte})\n",
    "\n",
    "# Einfaches Balkendiagramm\n",
    "fig = px.bar(\n",
    "    df, \n",
    "    x='Kategorie', \n",
    "    y='Wert', \n",
    "    title='Einfaches Balkendiagramm',\n",
    "    color='Kategorie',  # Farbkodierung nach Kategorie\n",
    "    text='Wert'         # Werte auf den Balken anzeigen\n",
    ")\n",
    "\n",
    "# Werte über den Balken positionieren\n",
    "fig.update_traces(textposition='outside')\n",
    "\n",
    "fig.show()"
   ]
  },
  {
   "cell_type": "markdown",
   "id": "372c1d6c-a2c1-49e5-a5b5-f088946ab017",
   "metadata": {},
   "source": [
    "**Erklärung:**\n",
    "- Wir erstellen einen einfachen DataFrame mit Kategorien und Werten\n",
    "- Mit `px.bar()` erzeugen wir ein Balkendiagramm\n",
    "- `text='Wert'` und `textposition='outside'` zeigen die Werte über den Balken an\n",
    "- `color='Kategorie'` färbt jeden Balken entsprechend seiner Kategorie ein\n",
    "\n",
    "### Beispiel 2: Gruppierte und gestapelte Balkendiagramme"
   ]
  },
  {
   "cell_type": "code",
   "execution_count": null,
   "id": "ff7a7fda-b9da-4d1a-8111-1d2bbf6079ce",
   "metadata": {},
   "outputs": [],
   "source": [
    "# Daten für gruppierte und gestapelte Balkendiagramme\n",
    "df = pd.DataFrame({\n",
    "    'Kategorie': ['A', 'A', 'A', 'B', 'B', 'B', 'C', 'C', 'C'],\n",
    "    'Gruppe': ['Gruppe 1', 'Gruppe 2', 'Gruppe 3', 'Gruppe 1', 'Gruppe 2', 'Gruppe 3', 'Gruppe 1', 'Gruppe 2', 'Gruppe 3'],\n",
    "    'Wert': [10, 15, 7, 12, 18, 5, 8, 11, 9]\n",
    "})\n",
    "\n",
    "# Gruppiertes Balkendiagramm\n",
    "fig1 = px.bar(\n",
    "    df, \n",
    "    x='Kategorie', \n",
    "    y='Wert', \n",
    "    color='Gruppe', \n",
    "    barmode='group',  # Gruppierte Balken\n",
    "    title='Gruppiertes Balkendiagramm'\n",
    ")\n",
    "\n",
    "# Gestapeltes Balkendiagramm\n",
    "fig2 = px.bar(\n",
    "    df, \n",
    "    x='Kategorie', \n",
    "    y='Wert', \n",
    "    color='Gruppe', \n",
    "    barmode='stack',  # Gestapelte Balken\n",
    "    title='Gestapeltes Balkendiagramm'\n",
    ")\n",
    "\n",
    "# Beide Diagramme anzeigen\n",
    "fig1.show()\n",
    "fig2.show()"
   ]
  },
  {
   "cell_type": "markdown",
   "id": "d105ea99-0b99-4e2d-a262-0f6e5bc3d935",
   "metadata": {},
   "source": [
    "**Erklärung:**\n",
    "- Wir erstellen einen DataFrame mit Kategorien, Gruppen und Werten\n",
    "- Mit `barmode='group'` werden die Balken gruppiert nebeneinander angezeigt\n",
    "- Mit `barmode='stack'` werden die Balken gestapelt übereinander angezeigt\n",
    "- `color='Gruppe'` färbt die Balken nach Gruppen ein\n",
    "\n",
    "### Beispiel 3: Horizontales Balkendiagramm"
   ]
  },
  {
   "cell_type": "code",
   "execution_count": null,
   "id": "6dfe3dc7-ca62-451d-9ff6-03611ed3c84d",
   "metadata": {},
   "outputs": [],
   "source": [
    "# Daten für horizontales Balkendiagramm\n",
    "länder = ['Deutschland', 'Frankreich', 'Italien', 'Spanien', 'Großbritannien']\n",
    "werte = [82.8, 66.9, 60.5, 46.7, 66.0]\n",
    "df = pd.DataFrame({'Land': länder, 'Bevölkerung (Mio.)': werte})\n",
    "\n",
    "# Sortieren nach Werten\n",
    "df = df.sort_values('Bevölkerung (Mio.)')\n",
    "\n",
    "# Horizontales Balkendiagramm\n",
    "fig = px.bar(\n",
    "    df, \n",
    "    y='Land',           # Beachten Sie: y ist jetzt die Kategorie\n",
    "    x='Bevölkerung (Mio.)', \n",
    "    orientation='h',    # Horizontale Ausrichtung\n",
    "    title='Bevölkerung ausgewählter europäischer Länder',\n",
    "    text='Bevölkerung (Mio.)'  # Werte auf den Balken anzeigen\n",
    ")\n",
    "\n",
    "# Werte innerhalb der Balken positionieren\n",
    "fig.update_traces(textposition='inside')\n",
    "\n",
    "fig.show()"
   ]
  },
  {
   "cell_type": "markdown",
   "id": "45b8f556-4b2e-4673-bd5f-6a98d9cfe8a4",
   "metadata": {},
   "source": [
    "**Erklärung:**\n",
    "- Wir erstellen einen DataFrame mit Ländern und Bevölkerungszahlen\n",
    "- Wir sortieren die Daten für eine bessere Visualisierung\n",
    "- Mit `orientation='h'` und dem Tausch von x und y erzeugen wir ein horizontales Balkendiagramm\n",
    "- `textposition='inside'` positioniert die Werte innerhalb der Balken\n",
    "\n",
    "#### 4.1 Aufgaben:\n",
    "\n",
    "> (a) Erstelle ein Balkendiagramm mit folgenden Eigenschaften:\n",
    ">- Zeige die monatlichen Durchschnittstemperaturen einer Stadt über ein Jahr hinweg\n",
    ">- Erstelle dafür einen DataFrame mit den Spalten: `'Monate', 'Temperatur'`& `'Jahreszeit'`\n",
    ">- Färbe die Balken entsprechend der Jahreszeit ein\n",
    ">- Füge einen aussagekräftigen Titel und Achsenbeschriftungen hinzu"
   ]
  },
  {
   "cell_type": "code",
   "execution_count": null,
   "id": "2f90d090-a17e-4cc2-b1a5-0554d9914315",
   "metadata": {},
   "outputs": [],
   "source": [
    "# Deine Lösung:\n",
    "\n",
    "\n",
    "\n"
   ]
  },
  {
   "cell_type": "code",
   "execution_count": null,
   "id": "1a3ba602-4aa5-495b-a41a-695aea24bb97",
   "metadata": {},
   "outputs": [],
   "source": [
    "# Daten erstellen\n",
    "monate = ['Jan', 'Feb', 'Mar', 'Apr', 'Mai', 'Jun', 'Jul', 'Aug', 'Sep', 'Okt', 'Nov', 'Dez']\n",
    "temperaturen = [2, 3, 8, 13, 18, 21, 23, 22, 18, 13, 7, 3]  # Beispieltemperaturen\n",
    "\n",
    "# Jahreszeiten bestimmen\n",
    "jahreszeiten = ['Winter', 'Winter', 'Frühling', 'Frühling', 'Frühling', \n",
    "                'Sommer', 'Sommer', 'Sommer', 'Herbst', 'Herbst', 'Herbst', 'Winter']\n",
    "\n",
    "# Farbzuordnung für Jahreszeiten\n",
    "farben = {'Winter': 'lightblue', 'Frühling': 'lightgreen', \n",
    "          'Sommer': 'gold', 'Herbst': 'orange'}\n",
    "\n",
    "# DataFrame erstellen\n",
    "df = pd.DataFrame({\n",
    "    'Monat': monate,\n",
    "    'Temperatur': temperaturen,\n",
    "    'Jahreszeit': jahreszeiten\n",
    "})\n",
    "\n",
    "# Balkendiagramm erstellen\n",
    "fig = px.bar(\n",
    "    df, \n",
    "    x='Monat', \n",
    "    y='Temperatur',\n",
    "    color='Jahreszeit',\n",
    "    color_discrete_map=farben,  # Benutzerdefinierte Farben für Jahreszeiten\n",
    "    title='Monatliche Durchschnittstemperaturen in Berlin',\n",
    "    labels={'Monat': 'Monat', 'Temperatur': 'Temperatur (°C)', 'Jahreszeit': 'Jahreszeit'}\n",
    ")\n",
    "\n",
    "# Werte über den Balken anzeigen\n",
    "fig.update_traces(texttemplate='%{y}°C', textposition='outside')\n",
    "\n",
    "fig.show()"
   ]
  },
  {
   "cell_type": "markdown",
   "id": "95ad0ade-3ff2-4bf9-ac1c-9a2259e53543",
   "metadata": {},
   "source": [
    "## 5 Kreis- und Ringdiagramme (Pie and Donut Charts)\n",
    "\n",
    "### Wie funktionieren Kreis- und Ringdiagramme in Plotly Express?\n",
    "\n",
    "Die Hauptfunktion für Kreisdiagramme ist `px.pie()`, die kategoriale Daten als Kreissegmente darstellt. Ein Ringdiagramm ist ein Kreisdiagramm mit zusätzlichen Parametern für ein Loch in der Mitte.\n",
    "\n",
    "**Wichtige Parameter:**\n",
    "\n",
    "- `data_frame`: Der DataFrame mit den zu plottenden Daten\n",
    "- `values`: Spalte mit den numerischen Werten für die Segmentgröße\n",
    "- `names`: Spalte mit den Kategorienamen\n",
    "- `color`: (Optional) Spalte für die Farbkodierung (falls abweichend von `names`)\n",
    "- `hole`: Größe des Lochs in der Mitte (0 bis 1, 0 = Kreisdiagramm, > 0 = Ringdiagramm)\n",
    "- `color_discrete_map`: (Optional) Benutzerdefinierte Farbzuordnung\n",
    "- `title`: (Optional) Titel des Diagramms\n",
    "- `labels`: (Optional) Dictionary, um Beschriftungen anzupassen\n",
    "\n",
    "### Beispiel 1: Einfaches Kreisdiagramm"
   ]
  },
  {
   "cell_type": "code",
   "execution_count": null,
   "id": "b0f911ec-9e7d-4f95-ba8c-533c4d3402d6",
   "metadata": {},
   "outputs": [],
   "source": [
    "# Einfache Daten\n",
    "kategorien = ['Komponente A', 'Komponente B', 'Komponente C', 'Komponente D']\n",
    "werte = [25, 40, 20, 15]\n",
    "df = pd.DataFrame({'Komponente': kategorien, 'Prozentsatz': werte})\n",
    "\n",
    "# Einfaches Kreisdiagramm\n",
    "fig = px.pie(\n",
    "    df, \n",
    "    values='Prozentsatz', \n",
    "    names='Komponente', \n",
    "    title='Aufschlüsselung der Systemkomponenten'\n",
    ")\n",
    "\n",
    "fig.show()"
   ]
  },
  {
   "cell_type": "markdown",
   "id": "a667960f-3e0c-496e-83d8-da8b5c011edb",
   "metadata": {},
   "source": [
    "**Erklärung:**\n",
    "- Wir erstellen einen einfachen DataFrame mit Komponenten und deren Prozentsätzen\n",
    "- Mit `px.pie()` erzeugen wir ein Kreisdiagramm\n",
    "- `values='Prozentsatz'` bestimmt die Größe der Segmente\n",
    "- `names='Komponente'` bestimmt die Beschriftungen der Segmente\n",
    "\n",
    "### Beispiel 2: Ringdiagramm mit Anpassungen"
   ]
  },
  {
   "cell_type": "code",
   "execution_count": null,
   "id": "244c1b2c-4e24-4e34-89b8-ebbf1cd69383",
   "metadata": {},
   "outputs": [],
   "source": [
    "# Ringdiagramm erstellen\n",
    "fig = px.pie(\n",
    "    df, \n",
    "    values='Prozentsatz', \n",
    "    names='Komponente', \n",
    "    title='Ringdiagramm der Systemkomponenten',\n",
    "    hole=0.4,  # Loch in der Mitte für Ringdiagramm\n",
    "    color_discrete_sequence=px.colors.qualitative.Pastel  # Farbpalette\n",
    ")\n",
    "\n",
    "# Informationen in der Mitte des Rings anzeigen\n",
    "fig.update_layout(\n",
    "    annotations=[dict(\n",
    "        text='Gesamt:<br>100%',\n",
    "        x=0.5, y=0.5,\n",
    "        font_size=20,\n",
    "        showarrow=False\n",
    "    )]\n",
    ")\n",
    "\n",
    "# Segmentbeschriftungen anpassen\n",
    "fig.update_traces(\n",
    "    textposition='inside',\n",
    "    textinfo='percent+label',\n",
    "    insidetextorientation='radial'\n",
    ")\n",
    "\n",
    "fig.show()"
   ]
  },
  {
   "cell_type": "markdown",
   "id": "2be59267-37a2-4bd2-ae8b-4caea474921c",
   "metadata": {},
   "source": [
    "**Erklärung:**\n",
    "- Wir verwenden denselben DataFrame wie im vorherigen Beispiel\n",
    "- Mit `hole=0.4` wandeln wir das Kreisdiagramm in ein Ringdiagramm um\n",
    "- `color_discrete_sequence` ändert die Farbpalette\n",
    "- Mit `update_layout()` fügen wir Text in der Mitte des Rings hinzu\n",
    "- Mit `update_traces()` passen wir die Segmentbeschriftungen an\n",
    "\n",
    "### Beispiel 3: Verschachteltes Kreisdiagramm (Sunburst)"
   ]
  },
  {
   "cell_type": "code",
   "execution_count": null,
   "id": "1a4e7bca-1ce2-4b95-b976-d9c97adeaef6",
   "metadata": {},
   "outputs": [],
   "source": [
    "# Daten für ein verschachteltes Kreisdiagramm\n",
    "df = pd.DataFrame({\n",
    "    'Kategorie': ['Elektronik', 'Elektronik', 'Elektronik', 'Kleidung', 'Kleidung', 'Lebensmittel', 'Lebensmittel', 'Lebensmittel'],\n",
    "    'Unterkategorie': ['Smartphones', 'Laptops', 'Zubehör', 'Oberbekleidung', 'Schuhe', 'Obst', 'Gemüse', 'Backwaren'],\n",
    "    'Umsatz': [500, 600, 200, 350, 250, 150, 130, 90]\n",
    "})\n",
    "\n",
    "# Verschachteltes Kreisdiagramm (Sunburst)\n",
    "fig = px.sunburst(\n",
    "    df, \n",
    "    path=['Kategorie', 'Unterkategorie'],  # Hierarchieebenen\n",
    "    values='Umsatz',\n",
    "    title='Umsatzverteilung nach Kategorien und Unterkategorien'\n",
    ")\n",
    "\n",
    "fig.show()"
   ]
  },
  {
   "cell_type": "markdown",
   "id": "cf0aaccf-1599-4f83-b77b-f4e282efbab1",
   "metadata": {},
   "source": [
    "**Erklärung:**\n",
    "- Wir erstellen einen DataFrame mit hierarchischen Daten (Kategorien und Unterkategorien)\n",
    "- Mit `px.sunburst()` erzeugen wir ein verschachteltes Kreisdiagramm (Sunburst)\n",
    "- `path=['Kategorie', 'Unterkategorie']` definiert die Hierarchieebenen\n",
    "- `values='Umsatz'` bestimmt die Größe der Segmente\n",
    "\n",
    "#### 5.1 Aufgaben:\n",
    "\n",
    "> (a) Erstelle ein Ringdiagramm mit folgenden Eigenschaften:\n",
    ">- Zeigen Sie die Marktanteile der Hersteller `['Hersteller A', 'Hersteller B', 'Hersteller C', 'Hersteller D', 'Andere']` in einem bestimmten Marktsegment. (`DataFrame` erstellen mit den Spalten: `'Hersteller', 'Marktanteile'`)\n",
    ">- Füge ein Loch in der Mitte hinzu und platziere den Titel des Diagramms darin"
   ]
  },
  {
   "cell_type": "code",
   "execution_count": null,
   "id": "d6f269ce-aefd-4346-b112-219f1ed96f0a",
   "metadata": {},
   "outputs": [],
   "source": [
    "# Deine Lösung:\n",
    "\n",
    "\n",
    "\n"
   ]
  },
  {
   "cell_type": "markdown",
   "id": "cae0ed90-9c78-40df-8f87-89ae3c005723",
   "metadata": {
    "jp-MarkdownHeadingCollapsed": true
   },
   "source": [
    "#### Lösung:"
   ]
  },
  {
   "cell_type": "code",
   "execution_count": null,
   "id": "7d97cf3a-8e09-465c-b147-f073d4c155f1",
   "metadata": {},
   "outputs": [],
   "source": [
    "# Daten erstellen\n",
    "hersteller = ['Hersteller A', 'Hersteller B', 'Hersteller C', 'Hersteller D', 'Andere']\n",
    "marktanteile = [28, 22, 17, 13, 20]\n",
    "\n",
    "# DataFrame erstellen\n",
    "df = pd.DataFrame({\n",
    "    'Hersteller': hersteller,\n",
    "    'Marktanteil': marktanteile\n",
    "})\n",
    "\n",
    "# Ringdiagramm erstellen\n",
    "fig = px.pie(\n",
    "    df,\n",
    "    values='Marktanteil',\n",
    "    names='Hersteller',\n",
    "    hole=0.5,  # Loch in der Mitte für Ringdiagramm\n",
    "    title='Marktanteile nach Hersteller',\n",
    "    color_discrete_sequence=px.colors.qualitative.Pastel\n",
    ")\n",
    "\n",
    "# Titel in der Mitte des Rings anzeigen\n",
    "fig.update_layout(\n",
    "    annotations=[dict(\n",
    "        text='Marktanteile<br>nach Hersteller',\n",
    "        x=0.5, y=0.5,\n",
    "        font_size=16,\n",
    "        showarrow=False\n",
    "    )]\n",
    ")\n",
    "\n",
    "# Segmentbeschriftungen anpassen\n",
    "fig.update_traces(\n",
    "    textinfo='percent+label',\n",
    "    textposition='outside'\n",
    ")\n",
    "\n",
    "fig.show()"
   ]
  },
  {
   "cell_type": "markdown",
   "id": "0a134557-8aae-4568-bcf2-3a48d132e29a",
   "metadata": {},
   "source": [
    "## 6 Bonus: Exportieren und Teilen von interaktiven HTML\n"
   ]
  },
  {
   "cell_type": "code",
   "execution_count": null,
   "id": "653ba1d2-507e-4802-9b68-3a2fdb8e2e74",
   "metadata": {},
   "outputs": [],
   "source": [
    "# Daten generieren\n",
    "np.random.seed(42)\n",
    "n = 200\n",
    "x = np.random.normal(0, 1, n)\n",
    "y = x + np.random.normal(0, 0.5, n)\n",
    "colors = np.random.choice(['red', 'blue', 'green'], n)\n",
    "sizes = np.random.uniform(5, 15, n)\n",
    "\n",
    "# Figur und Subplots erstellen\n",
    "fig = make_subplots(rows=1, cols=2, \n",
    "                   subplot_titles=('Scatter Plot', 'Histogram'),\n",
    "                   column_widths=[0.7, 0.3])\n",
    "\n",
    "# Scatter Plot\n",
    "fig.add_trace(\n",
    "    go.Scatter(x=x, y=y, mode='markers', \n",
    "               marker=dict(color=colors, size=sizes),\n",
    "               name='Data Points'),\n",
    "    row=1, col=1\n",
    ")\n",
    "\n",
    "# Histogram\n",
    "fig.add_trace(\n",
    "    go.Histogram(x=y, name='Distribution'),\n",
    "    row=1, col=2\n",
    ")\n",
    "\n",
    "# Update Layout\n",
    "fig.update_layout(title_text=\"Interactive Dashboard Example\", \n",
    "                  height=500, width=900)\n",
    "\n",
    "# Exportieren als interaktive HTML\n",
    "fig.write_html(\"interactive_dashboard.html\")\n",
    "\n",
    "print(\"Interactives Dashboard als HTML exportiert!\")\n"
   ]
  },
  {
   "cell_type": "markdown",
   "id": "e9cfba94-0af0-4968-96be-6b2ecc138f5d",
   "metadata": {},
   "source": [
    "# Fazit: Einführung in Plotly und grundlegende Diagrammtype\n",
    "\n",
    "\n",
    "In diesem Notebook haben wir die Grundlagen der Datenvisualisierung mit Plotly Express kennengelernt. Die Bibliothek bietet eine moderne, interaktive Alternative zu Matplotlib mit einer benutzerfreundlichen API. Wir haben die Architektur von Plotly erkundet, die auf Figure-, Trace- und Layout-Objekten basiert, und gesehen, wie diese durch JSON-ähnliche Strukturen repräsentiert werden.\n",
    "\n",
    "Die vier grundlegenden Diagrammtypen – Liniendiagramme, Streudiagramme, Balkendiagramme sowie Kreis- und Ringdiagramme – wurden ausführlich mit ihren Anwendungsfällen und Parametern behandelt. Jeder Diagrammtyp bietet spezifische Anpassungsoptionen, die wir durch praktische Beispiele erkundet haben.\n",
    "\n",
    "Ein wesentlicher Vorteil von Plotly gegenüber Matplotlib ist die native Interaktivität. Wir haben gesehen, wie die Visualisierungen automatisch Funktionen wie Zoomen, Schwenken und Hover-Informationen bereitstellen. Diese Eigenschaften machen Plotly besonders wertvoll für explorative Datenanalyse und interaktive Dashboards. Die Syntax von Plotly Express ermöglicht es uns, mit wenigen Codezeilen komplexe, ansprechende Visualisierungen zu erstellen, die in Webbrowsern nativ funktionieren und über HTML geteilt werden können.\n",
    "\n"
   ]
  }
 ],
 "metadata": {
  "kernelspec": {
   "display_name": "Python 3 (ipykernel)",
   "language": "python",
   "name": "python3"
  },
  "language_info": {
   "codemirror_mode": {
    "name": "ipython",
    "version": 3
   },
   "file_extension": ".py",
   "mimetype": "text/x-python",
   "name": "python",
   "nbconvert_exporter": "python",
   "pygments_lexer": "ipython3",
   "version": "3.11.0"
  }
 },
 "nbformat": 4,
 "nbformat_minor": 5
}
