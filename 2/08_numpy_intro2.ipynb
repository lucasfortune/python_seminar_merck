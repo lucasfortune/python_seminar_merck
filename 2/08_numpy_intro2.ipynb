{
 "cells": [
  {
   "cell_type": "markdown",
   "id": "a521d182-8148-4765-8516-22469886dbc2",
   "metadata": {},
   "source": [
    "# Python Basics 8\n",
    "## Numpy\n",
    "***\n",
    "This notebook covers:\n",
    "- Iteration over Arrays\n",
    "- Reshaping and Concatenating Arrays\n",
    "***"
   ]
  },
  {
   "cell_type": "markdown",
   "id": "3c4bcf5d-6a77-43e4-b98a-fbe1d401cb00",
   "metadata": {},
   "source": [
    "Run the following cell to import numpy under the alias np."
   ]
  },
  {
   "cell_type": "code",
   "execution_count": 33,
   "id": "f2ab5646-5d72-4a36-a194-48734eeef61c",
   "metadata": {},
   "outputs": [],
   "source": [
    "import numpy as np"
   ]
  },
  {
   "cell_type": "markdown",
   "id": "a5ad6aaa-0327-493f-b074-7f5aab85a857",
   "metadata": {},
   "source": [
    "## 1. Conditional Indexing of a `numpy` Array\n",
    " In the previous lesson, we saw how to index an array through **slicing** along multiple dimensions: <br>\n",
    " <img src=\"../imgs/indexation_array_slicing2_en.png\" style = \"height:300px\"> <br>\n",
    " A more advanced technique is indexing the elements of an array using a **condition**. This allows you easy access to and modification of elements that meet a certain condition: <br>\n",
    " ```python\n",
    " # Creating an array of shape 3x3\n",
    " X = np.array ([[-1, 0, 30],\n",
    "                [-2, 3, -5],\n",
    "                [5, -5, 10]])\n",
    "\n",
    " # We assign the value 0 to all negative elements\n",
    " X[X < 0] = 0\n",
    "\n",
    " # Display of the modified matrix\n",
    " print(X)\n",
    "\n",
    " >>> [[0, 0, 30],\n",
    " >>>  [0, 3, 0 ],\n",
    " >>>  [5, 0, 10]]\n",
    " ```\n",
    " Additionally, it is possible to index an array using a condition that is **evaluated on another array**: <br>\n",
    " ```python\n",
    " # Creating 2 arrays with 8 elements each\n",
    " X = np.array([3, -7, -10, 3, 6, 5, 2, 9])\n",
    "\n",
    " y = np.array([0, 1, 1, 1, 0, 1, 0, 0])\n",
    "\n",
    " # We assign the value -1 to the elements of X for which the\n",
    " # value of y at the corresponding index equals 1\n",
    " X[y == 1] = -1\n",
    "\n",
    " # Display of X\n",
    " print(X)\n",
    " >>> [3, -1, -1, -1, 6, -1, 2, 9]\n",
    "\n",
    " # Display of the elements of X for which the value of y at the corresponding index is 0\n",
    " print(X[y == 0])\n",
    " >>> [3, 6, 2, 9]\n",
    " ```\n",
    "\n",
    "#### 1.1 Exercises:\n",
    "\n",
    "We have access to data from an American supermarket preparing for [Black Friday](https://en.wikipedia.org/wiki/Black_Friday_(shopping)), a day when American businesses often offer huge discounts. <br>\n",
    "The data is distributed across 3 arrays: <br>\n",
    "* `items`: The names of the discounted items. <br>\n",
    "* `quantities`: The available stock for each discounted item. <br>\n",
    "* `discounts`: The discount for each item. Items can have a discount of 25, 50, 75, or 90 percent. <br>\n",
    "\n",
    "\n",
    "> (a) Run the following cell to instantiate the arrays with the supermarket data. <br>"
   ]
  },
  {
   "cell_type": "code",
   "execution_count": 34,
   "id": "b84f4a51-9020-4665-b12a-19836ee46877",
   "metadata": {},
   "outputs": [],
   "source": [
    "items = np.array([\"grid paper\", \"plate\", \"rubber band\", \"key chain\", \"bread\", \"speakers\", \"chocolate\",\n",
    "                  \"fridge\", \"bowl\", \"shirt\", \"truck\", \"canvas\", \"monitor\", \"piano\", \"sailboat\", \"clamp\",\n",
    "                  \"spring\", \"picture frame\", \"knife\", \"hanger\", \"pool stick\", \"buckel\", \"vase\", \"wagon\",\n",
    "                  \"balloon\", \"thread\", \"couch\", \"drawer\", \"packing peanuts\", \"bottle\", \"needle\",\n",
    "                  \"rusty nail\", \"blanket\", \"lamp\", \"box\", \"cookie jar\", \"washing machine\", \"paint brush\",\n",
    "                  \"puddle\", \"sketch pad\", \"sandal\", \"doll\", \"floor\", \"sidewalk\", \"sand paper\", \"stockings\",\n",
    "                  \"bag\", \"perfume\", \"magnet\", \"fake flowers\", \"street lights\", \"carrots\", \"purse\", \"thermostat\",\n",
    "                  \"candle\", \"mouse pad\", \"remote\", \"clothes\", \"rubber duck\", \"hair brush\", \"computer\", \"toe ring\",\n",
    "                  \"scotch tape\", \"nail file\", \"window\", \"table\", \"model car\", \"toothbrush\", \"shoes\", \"leg warmers\",\n",
    "                  \"cat\", \"pillow\", \"rug\", \"hair tie\", \"phone\", \"tooth picks\", \"brocolli\", \"newspaper\", \"towel\",\n",
    "                  \"watch\", \"lotion\", \"apple\", \"pants\", \"air freshener\", \"pen\", \"lace\", \"car\", \"headphones\",\n",
    "                  \"charger\", \"toilet\", \"candy wrapper\", \"soy sauce packet\", \"sticky note\", \"shoe lace\",\n",
    "                  \"zipper\", \"soda can\", \"bed\", \"cell phone\", \"lip gloss\", \"thermometer\"])\n",
    "\n",
    "quantities = np.array([310, 455, 295, 613, 812, 907, 564, 904, 829, 167, 517, 272, 416,\n",
    "                       14, 251, 476, 757, 343, 472,  71, 160, 996, 182, 721, 565, 582,\n",
    "                       279,  66, 297, 800, 914,  69, 498, 885, 114, 876, 635, 295, 146,\n",
    "                       601, 941, 100, 370, 467, 423, 101, 504, 298, 757, 291, 163, 970,\n",
    "                       921, 953, 458, 381, 692, 393, 749, 285, 454, 174,  37, 289, 863,\n",
    "                       885, 331, 585, 678, 834, 349, 732, 149, 486, 993, 869, 967, 537,\n",
    "                       220,  15, 457, 483, 387, 180, 579, 155, 134, 163, 314, 334, 429,\n",
    "                       154,  18, 426, 363, 146, 454, 902, 145,  95])\n",
    "\n",
    "discounts = np.array([25, 25, 50, 25, 50, 50, 50, 25, 50, 50, 25, 25, 25, 25, 50, 75, 25,\n",
    "                      50, 50, 50, 25, 25, 25, 25, 75, 50, 25, 25, 25, 25, 90, 50, 25, 25,\n",
    "                      25, 50, 50, 25, 25, 75, 75, 50, 25, 25, 50, 25, 90, 90, 50, 90, 25,\n",
    "                      25, 25, 25, 25, 25, 25, 50, 25, 25, 75, 50, 50, 25, 50, 25, 25, 50,\n",
    "                      25, 75, 25, 25, 50, 25, 25, 50, 75, 25, 25, 90, 25, 75, 25, 25, 25,\n",
    "                      25, 25, 25, 50, 50, 75, 25, 50, 25, 25, 50, 25, 25, 25, 75])"
   ]
  },
  {
   "cell_type": "markdown",
   "id": "7fb4c88d-a8ef-486c-817d-49063609d5f5",
   "metadata": {},
   "source": [
    "> (b) Display the names and quantities of items that receive a 90% discount using conditional indexing on the `items` and `quantities` arrays. <br>"
   ]
  },
  {
   "cell_type": "code",
   "execution_count": 35,
   "id": "eeb81bf9-9e3f-444b-8984-de73d1696204",
   "metadata": {},
   "outputs": [],
   "source": [
    "# Your Solution:\n",
    "\n",
    "\n",
    "\n",
    "\n"
   ]
  },
  {
   "cell_type": "markdown",
   "id": "ab9be1a1-be15-4d37-9cfd-1867fab6bf97",
   "metadata": {
    "jp-MarkdownHeadingCollapsed": true
   },
   "source": [
    "#### Solution:"
   ]
  },
  {
   "cell_type": "code",
   "execution_count": 36,
   "id": "fff247fd-1eab-48d7-88dd-4b521d4f15f1",
   "metadata": {},
   "outputs": [
    {
     "name": "stdout",
     "output_type": "stream",
     "text": [
      "['needle' 'bag' 'perfume' 'fake flowers' 'watch']\n",
      "[914 504 298 291  15]\n"
     ]
    }
   ],
   "source": [
    "# Printing article names with 90% discount\n",
    "print(items[discounts == 90])\n",
    "\n",
    "# Printing number of articles with 90% discount\n",
    "print(quantities[discounts == 90])"
   ]
  },
  {
   "cell_type": "markdown",
   "id": "d8b8e48f-d25f-43fa-a29d-142893925243",
   "metadata": {},
   "source": [
    "#### \n",
    "> (c) You want to buy a new phone (`\"cell phone\"`) and speakers (`\"speakers\"`). Find out what discount is granted for these items using conditional indexing on `discounts`. <br>"
   ]
  },
  {
   "cell_type": "code",
   "execution_count": 37,
   "id": "9c3733fc-6b4f-4040-9c2d-696bdf4b9889",
   "metadata": {},
   "outputs": [],
   "source": [
    "# Your Solution:\n",
    "\n",
    "\n",
    "\n"
   ]
  },
  {
   "cell_type": "markdown",
   "id": "367e5cb4-0510-4632-9da7-1241c661307a",
   "metadata": {
    "jp-MarkdownHeadingCollapsed": true
   },
   "source": [
    "#### Solution:"
   ]
  },
  {
   "cell_type": "code",
   "execution_count": 38,
   "id": "08bfac23-4e8b-4e90-accc-6acaa67f8dcc",
   "metadata": {},
   "outputs": [
    {
     "name": "stdout",
     "output_type": "stream",
     "text": [
      "Cellphones are at a 25 percent discount.\n",
      "Speakers are at a 50 percent discount.\n"
     ]
    }
   ],
   "source": [
    "discount_cellphone = discounts[items == 'cell phone']\n",
    "print(\"Cellphones are at a\", discount_cellphone[0], \"percent discount.\")\n",
    "\n",
    "\n",
    "discount_speaker = discounts[items == 'speakers']\n",
    "print(\"Speakers are at a\", discount_speaker[0], \"percent discount.\")"
   ]
  },
  {
   "cell_type": "markdown",
   "id": "2db0c7bc-a80e-4d40-b057-a3a5eb248efb",
   "metadata": {},
   "source": [
    "#### \n",
    "> (d) The supermarket manager wants to identify items with a **quantity of 50 or less** and their corresponding discounts. Show the names and corresponding discounts of these items. <br>\n",
    ">\n",
    "> (e) Which item is expected to sell out quickly? <br>"
   ]
  },
  {
   "cell_type": "code",
   "execution_count": 39,
   "id": "f3e4016c-9c2a-4197-82ec-f03abc11dc8e",
   "metadata": {},
   "outputs": [],
   "source": [
    "# Your Solution:\n",
    "\n",
    "\n",
    "\n"
   ]
  },
  {
   "cell_type": "markdown",
   "id": "a483cfac-c200-47e5-8821-3bcc0735dc03",
   "metadata": {
    "jp-MarkdownHeadingCollapsed": true
   },
   "source": [
    "#### Solution:"
   ]
  },
  {
   "cell_type": "code",
   "execution_count": 40,
   "id": "7761b6f5-21fc-4349-842e-b852d3fd35e3",
   "metadata": {},
   "outputs": [
    {
     "name": "stdout",
     "output_type": "stream",
     "text": [
      "Articles ['piano' 'scotch tape' 'watch' 'sticky note']\n",
      "Discount [25 50 90 50]\n",
      "\n",
      "\n",
      "Watches may be sold out quickly as they are at a 90% discount\n"
     ]
    }
   ],
   "source": [
    "print(\"Articles\", items[quantities <= 50])\n",
    "print(\"Discount\", discounts[quantities <= 50])\n",
    "\n",
    "print(\"\\n\")\n",
    "print(\"Watches may be sold out quickly as they are at a 90% discount\")\n"
   ]
  },
  {
   "cell_type": "markdown",
   "id": "43385209-eeea-44f3-9318-49c255eef48b",
   "metadata": {},
   "source": [
    "## 2. Iteration over the Elements of an Array\n",
    " A screen pixel can simulate a color by overlaying 3 channels that correspond to the colors red, green, and blue. By varying the intensities of these channels, it is possible to cover a large part of the color spectrum visible to the human eye. <br>\n",
    "  <img src=\"../imgs/rgb_channels_en.png\" style = \"height:350px\"> <br>\n",
    " For this reason, a **color image** with a size of 32x32 pixels is often represented by an array of shape 32x32x3, where the 3rd dimension corresponds to the brightness intensity of each channel for each pixel of the image: <br>\n",
    " <img src=\"../imgs/rgb_array_en.png\" style = \"height:350px\"> <br>\n",
    "\n",
    "#### 2.1 Exercises:\n",
    "> (a) Run the following cell to import the image that corresponds to the drawing in the previous examples. <br>"
   ]
  },
  {
   "cell_type": "code",
   "execution_count": 41,
   "id": "4ccb599f-bc14-461b-bc64-5c1f5e945aaa",
   "metadata": {},
   "outputs": [
    {
     "data": {
      "image/png": "[encoded data removed]",
      "text/plain": [
       "<Figure size 640x480 with 1 Axes>"
      ]
     },
     "metadata": {},
     "output_type": "display_data"
    }
   ],
   "source": [
    "from skimage import io\n",
    "import matplotlib.pyplot as plt\n",
    "\n",
    "\n",
    "img = io.imread(\"../imgs/mushroom32x32.png\")\n",
    "\n",
    "\n",
    "plt.imshow(img, cmap='gray')\n",
    "plt.show()"
   ]
  },
  {
   "cell_type": "markdown",
   "id": "3bcced61",
   "metadata": {},
   "source": [
    "> (b) The image is saved in the array `img`. Display the **shape** of the created array."
   ]
  },
  {
   "cell_type": "code",
   "execution_count": 42,
   "id": "f6ed7210",
   "metadata": {},
   "outputs": [],
   "source": [
    "# Your Solution:\n",
    "\n",
    "\n",
    "\n"
   ]
  },
  {
   "cell_type": "markdown",
   "id": "3dfe53ae",
   "metadata": {
    "jp-MarkdownHeadingCollapsed": true
   },
   "source": [
    "#### Solution:"
   ]
  },
  {
   "cell_type": "code",
   "execution_count": 43,
   "id": "08abce49",
   "metadata": {},
   "outputs": [
    {
     "name": "stdout",
     "output_type": "stream",
     "text": [
      "(32, 32, 3)\n"
     ]
    }
   ],
   "source": [
    "# Display the shape of the array:\n",
    "print(img.shape)"
   ]
  },
  {
   "cell_type": "markdown",
   "id": "b46ef0d8",
   "metadata": {},
   "source": [
    "#### \n",
    "To convert a color image to a **grayscale image**, you must calculate **for each pixel of the image** the **brightness average across the 3 channels**. <br>\n",
    " We need to iterate over each pixel of the image. With `numpy` arrays with multiple dimensions, the iterations must be done **dimension by dimension**: <br>\n",
    " ```python\n",
    " # Creating an array of dimensions 32x32x3 (rows x columns x channels)\n",
    " X = np.zeros(shape = (32, 32, 3))\n",
    "\n",
    " # Iteration over the first dimension of the array (the rows)\n",
    " for row in X:\n",
    "     # Iteration over the second dimension of the array (the pixels of the rows)\n",
    "     for pixel in row:\n",
    "         # Iteration over the third dimension of the array (the channels of the pixel)\n",
    "         for channel in pixel:\n",
    "             ...\n",
    "             ...\n",
    " ```\n",
    " A pixel of an image is an array with 3 elements that correspond to the brightness intensities of the (RGB) channels. We can calculate the average of these three elements to get the brightness intensity of the pixel in grayscale. <br>\n",
    "\n",
    "> (c) Define a function called **`rgb_to_gray`** that takes an array `X` as a parameter. In this function you must: <br>\n",
    ">\n",
    "> * Create an array filled with zeros called **`X_gray`** with the **same number of rows and columns as `X`** but **with a single channel**. This array will contain the light intensities of the pixels in grayscale. <br>\n",
    "> \n",
    "> * **Iterate over the pixels** of the image and store the **average of the intensities** of the pixel channels in `X_gray` at the corresponding index. You can use the **`enumerate`** generator in your `for` loops to get the pixel indices. <br>\n",
    ">\n",
    "> You can test your function on `img` to check if it works, but be careful not to overwrite the original. Note: Use `X = X.astype(np.float32)` to ensure that your matrix uses floating point numbers.<br>"
   ]
  },
  {
   "cell_type": "code",
   "execution_count": 44,
   "id": "ea495bde",
   "metadata": {},
   "outputs": [],
   "source": [
    "# Your Solution\n"
   ]
  },
  {
   "cell_type": "markdown",
   "id": "fe40cc06",
   "metadata": {
    "jp-MarkdownHeadingCollapsed": true
   },
   "source": [
    "#### Solution:"
   ]
  },
  {
   "cell_type": "code",
   "execution_count": 45,
   "id": "8eb5e5f4",
   "metadata": {},
   "outputs": [],
   "source": [
    "def rgb_to_gray(X):\n",
    "    n_rows, n_columns, n_channels = X.shape\n",
    "    \n",
    "    X_float = X.astype(np.float32)\n",
    "    # Create an array filled with 0 of the same number of rows and columns as X\n",
    "    # But only one channell\n",
    "    X_gray = np.zeros(shape = (n_rows, n_columns, 1))\n",
    "    \n",
    "    # For each row of the image:\n",
    "    for i, row in enumerate(X_float):\n",
    "        # For each pixel of the row\n",
    "        for j, pixel in enumerate(row):\n",
    "            # We calculate the average of the channel\n",
    "            average = 0\n",
    "            for channel in pixel:\n",
    "                average += channel\n",
    "            average /= 3\n",
    "            \n",
    "            # Save the result in X-gray\n",
    "            X_gray[i, j] = average\n",
    "            \n",
    "    return X_gray\n",
    "\n",
    "# Test\n",
    "grayscale_image = rgb_to_gray(img)"
   ]
  },
  {
   "cell_type": "markdown",
   "id": "ee2a602f",
   "metadata": {},
   "source": [
    "#### \n",
    "> (d) Run the following cell to show the result of `rgb_zu_grau`. <br>"
   ]
  },
  {
   "cell_type": "code",
   "execution_count": 46,
   "id": "dec61fc3",
   "metadata": {},
   "outputs": [
    {
     "data": {
      "image/png": "[encoded data removed]",
      "text/plain": [
       "<Figure size 640x480 with 2 Axes>"
      ]
     },
     "metadata": {},
     "output_type": "display_data"
    }
   ],
   "source": [
    "img = io.imread(\"../imgs/mushroom32x32.png\")\n",
    "\n",
    "# Displaying the color image\n",
    "plt.subplot(1, 2, 1)\n",
    "_ = plt.imshow(img)\n",
    "_ = plt.axis(\"off\")\n",
    "\n",
    "# Displaying the gray scale image\n",
    "plt.subplot(1, 2, 2)\n",
    "_ = plt.imshow(rgb_to_gray(img)[..., 0], cmap = 'gray')\n",
    "_ = plt.axis(\"off\")"
   ]
  },
  {
   "cell_type": "markdown",
   "id": "f7d999fa-09fd-4de3-9cb4-22fba70f9221",
   "metadata": {},
   "source": [
    "## 3. Reshaping an Array\n",
    " The **shape** of an array refers to its dimensions. Changing the size and configuration of an array is called **reshaping**. <br>\n",
    " There are cases where an array may not have the appropriate dimensions for **visualization** or **processing with machine learning algorithms**, which often need to work with **vectors** instead of matrices. <br>\n",
    " In such cases, the **`reshape`** method of an array comes into play, which allows rebuilding the array data with different dimensions. The argument of the `reshape` method determines the desired shape we want to achieve: <br>\n",
    " ```python\n",
    " # Creating an array from a list of 10 elements\n",
    " X = np.array([i for i in range(1, 11)]) # 1, 2, ..., 10\n",
    "\n",
    " # Display the dimensions of X\n",
    " print(X.shape)\n",
    " >>> (10,)\n",
    "\n",
    " # Display X\n",
    " print(X)\n",
    " >>> [1, 2, 3, 4, 5, 6, 7, 8, 9, 10]\n",
    "\n",
    " # Reshape the array into a matrix with 2 rows and 5 columns\n",
    " X_reshaped = X.reshape((2, 5))\n",
    "\n",
    " # Display the new array\n",
    " print(X_reshaped)\n",
    " >>> [[1, 2, 3, 4, 5],\n",
    " >>>  [6, 7, 8, 9, 10]]\n",
    " ```\n",
    " Reshaping an array into any **shape** is possible as long as **both shapes contain the same number of elements**. In the previous example, the array `X` contains 10 elements, which corresponds to the desired shape (2 x 5 = 10). <br>\n",
    " Next, we will briefly look at the **`digits`** dataset from the **`scikit-learn`** module, a Python library frequently used for creating machine learning models. <br>\n",
    " The **`digits`** dataset consists of **1797** images representing handwritten digits from 0 to 9. The main goal of this dataset is to develop a machine learning algorithm that can recognize handwritten numbers. <br>\n",
    " These images in the dataset have a resolution of **8x8 pixels in grayscale**. <br>\n",
    "\n",
    "#### 3.1 Exercises:\n",
    "> (a) Run the following cell to load the **digits** dataset from the scikit-learn module. <br>"
   ]
  },
  {
   "cell_type": "code",
   "execution_count": 47,
   "id": "0741ab5c",
   "metadata": {},
   "outputs": [],
   "source": [
    "# The load_digits function is used to load the 'digits' dataset into an array\n",
    "from sklearn.datasets import load_digits\n",
    "\n",
    "# It returns a dictionary containing data and information about the dataset\n",
    "digits = load_digits()\n",
    "\n",
    "# The data of the images are in the \"data\" key\n",
    "X = digits['data']\n"
   ]
  },
  {
   "cell_type": "markdown",
   "id": "3cd13d56-6aa6-4f2b-ba61-44ffa7358956",
   "metadata": {},
   "source": [
    " All images were loaded in the Array `X`.<br>\n",
    ">\n",
    "> (b) Display the dimensions of `X` using the `shape` attribute.<br>\n"
   ]
  },
  {
   "cell_type": "code",
   "execution_count": 48,
   "id": "5514de88",
   "metadata": {},
   "outputs": [],
   "source": [
    "# Your Solution:\n"
   ]
  },
  {
   "cell_type": "markdown",
   "id": "6360b2e3-8034-430c-a436-bb19dbc92038",
   "metadata": {
    "jp-MarkdownHeadingCollapsed": true
   },
   "source": [
    "#### Solution:"
   ]
  },
  {
   "cell_type": "code",
   "execution_count": 49,
   "id": "7e2d9fca-b8f2-4434-a37d-ad92809e86bc",
   "metadata": {},
   "outputs": [
    {
     "name": "stdout",
     "output_type": "stream",
     "text": [
      "(1797, 64)\n"
     ]
    }
   ],
   "source": [
    "print(X.shape)"
   ]
  },
  {
   "cell_type": "markdown",
   "id": "b4770974-e382-42ca-b79c-660c14b98923",
   "metadata": {},
   "source": [
    "#### \n",
    " The array `X` containing the images has the dimension **1797x64**, which does not match the actual image dimensions. <br>\n",
    " To ensure compatibility with scikit-learn algorithms that cannot process matrix data, the original **1797 images of dimension 8x8 were converted into vectors of size 8x8 = 64**. <br>\n",
    " The 1797 vectors were **vertically stacked** to form a **matrix** that results in `X`. This allows having **the entire dataset** in a single matrix. Each row of `X` therefore corresponds to an image that was converted into a vector. <br>\n",
    " If we want to visualize these images, we need to reshape the 64-element vectors back into matrices with dimensions 8x8. This is because image display functions can only process matrices and not vectors. <br>\n",
    " To display the images in `X`, we will reshape `X` to get an array with dimensions **1797x8x8**. <br>\n",
    ">\n",
    "> (c) Store the reshaped array `X` with the shape `(1797, 8, 8)` in an array called **`X_reshaped`**. <br>\n",
    ">\n",
    "> (d) Store the image at index `1100` of `X_reshaped` in an array called **`img`**. <br>"
   ]
  },
  {
   "cell_type": "code",
   "execution_count": 50,
   "id": "fc0bac2e-0d4f-4178-8091-4200ca3a4b7d",
   "metadata": {},
   "outputs": [],
   "source": [
    "# Your Solution:\n",
    "\n",
    "\n",
    "\n"
   ]
  },
  {
   "cell_type": "markdown",
   "id": "0e9c3a91-e3e5-4b04-860e-ee94bdbce09f",
   "metadata": {
    "jp-MarkdownHeadingCollapsed": true
   },
   "source": [
    "#### Solution:"
   ]
  },
  {
   "cell_type": "code",
   "execution_count": 51,
   "id": "22e302a3-d6c1-43a9-a4cc-b64a60b5b4c6",
   "metadata": {},
   "outputs": [],
   "source": [
    "X_reshaped = X.reshape((1797, 8, 8))\n",
    "\n",
    "img = X_reshaped[1100]"
   ]
  },
  {
   "cell_type": "markdown",
   "id": "a32201dc-8eee-4631-8395-fb577e4819cf",
   "metadata": {},
   "source": [
    "#### \n",
    "> (e) Run the next cell to display `img`. Can you recognize the number shown? <br>"
   ]
  },
  {
   "cell_type": "code",
   "execution_count": 52,
   "id": "b7b7f3a9-0c53-483a-9361-f31fc6cd7bd7",
   "metadata": {},
   "outputs": [
    {
     "data": {
      "text/plain": [
       "<matplotlib.image.AxesImage at 0x31a5e6bd0>"
      ]
     },
     "execution_count": 52,
     "metadata": {},
     "output_type": "execute_result"
    },
    {
     "data": {
      "image/png": "[encoded data removed]",
      "text/plain": [
       "<Figure size 640x480 with 1 Axes>"
      ]
     },
     "metadata": {},
     "output_type": "display_data"
    }
   ],
   "source": [
    "import matplotlib.pyplot as plt\n",
    "\n",
    "plt.imshow(img, cmap = 'gray')\n"
   ]
  },
  {
   "cell_type": "markdown",
   "id": "260bd490-b0d5-43af-a6b3-aa40107fa9b9",
   "metadata": {},
   "source": [
    "## 4. Concatenation of Arrays\n",
    " Sometimes it is necessary to combine multiple arrays to create a dataset. For this we can use the `np.concatenate` function: <br>\n",
    " ```python\n",
    " # Creating two arrays with 3 rows and 2 columns\n",
    " # The first is filled with 1\n",
    " X_1 = np.ones(shape = (2, 3))\n",
    " print(X_1)\n",
    "\n",
    " >>> [[1. 1. 1.]\n",
    " >>>  [1. 1. 1.]]\n",
    "\n",
    " # The second is filled with 0\n",
    " X_2 = np.zeros(shape = (2, 3))\n",
    " print(X_2)\n",
    "\n",
    " >>> [[0. 0. 0.]\n",
    " >>>  [0. 0. 0.]]\n",
    "\n",
    " # Concatenation of the two arrays on the row axis\n",
    " X_3 = np.concatenate([X_1, X_2], axis = 0)\n",
    " print(X_3)\n",
    "\n",
    " >>> [[1. 1. 1.]\n",
    " >>>  [1. 1. 1.]\n",
    " >>>  [0. 0. 0.]\n",
    " >>>  [0. 0. 0.]]\n",
    "\n",
    " # Concatenation of the two arrays on the column axis\n",
    " X_4 = np.concatenate([X_1, X_2], axis = 1)\n",
    " print(X_4)\n",
    "\n",
    " >>> [[1. 1. 1. 0. 0. 0.]\n",
    " >>>  [1. 1. 1. 0. 0. 0.]]\n",
    " ```\n",
    " * The arrays to be concatenated must be passed as a **list** or **tuple**. <br>\n",
    " * The **`axis`** argument determines **the dimension along which** the arrays should be concatenated. The arrays must have the **same length** along this dimension. <br>\n",
    " <img src=\"../imgs/concatenate_arrays.png\" style = \"height:350px\"> <br>\n",
    " The **`axis`** argument is frequently used in `numpy` functions. For a 2-dimensional array, an operation along **`axis` 0** corresponds to an operation along the **row axis** (first dimension), while an operation along **`axis` 1** refers to the **column axis** (second dimension). <br>\n",
    "\n",
    "#### 4.1 Exercises:\n",
    "> (a) Store in an array named `img1` the image located at index `560` of `X_reshaped`. <br>\n",
    ">\n",
    "> (b) Store in an array named `img2` the image located at index `561` of `X_reshaped`. <br>\n",
    ">\n",
    "> (c) Concatenate in an array named `img3` the arrays `img1` and `img2` **vertically**, i.e., along the row axis. <br>"
   ]
  },
  {
   "cell_type": "code",
   "execution_count": 53,
   "id": "562e15d4-0782-413e-81b3-0616787fe729",
   "metadata": {},
   "outputs": [],
   "source": [
    "# Your Solution:\n",
    "\n",
    "\n",
    "\n"
   ]
  },
  {
   "cell_type": "markdown",
   "id": "224d6396-404f-4d9a-81f9-1cb7b47dedf4",
   "metadata": {
    "jp-MarkdownHeadingCollapsed": true
   },
   "source": [
    "#### Solution:"
   ]
  },
  {
   "cell_type": "code",
   "execution_count": 54,
   "id": "5e622344-7419-4ca1-a11d-1dc6ecb83c81",
   "metadata": {},
   "outputs": [],
   "source": [
    "# Save the images\n",
    "img1 = X_reshaped[560]\n",
    "img2 = X_reshaped[561]\n",
    "\n",
    "# Vertical concatenation of the images\n",
    "img3 = np.concatenate([img1, img2], axis = 0)"
   ]
  },
  {
   "cell_type": "markdown",
   "id": "34caf9c7-cc83-403d-9426-aea962a4a979",
   "metadata": {},
   "source": [
    "#### \n",
    "> (d) Run the next cell to display the result of the concatenation. <br>"
   ]
  },
  {
   "cell_type": "code",
   "execution_count": 55,
   "id": "dd3a284a-f5ee-4618-99f9-5b188aab4dff",
   "metadata": {},
   "outputs": [
    {
     "data": {
      "image/png": "[encoded data removed]",
      "text/plain": [
       "<Figure size 1000x1600 with 3 Axes>"
      ]
     },
     "metadata": {},
     "output_type": "display_data"
    }
   ],
   "source": [
    "## First image\n",
    "plt.subplot(1, 3, 1)\n",
    "plt.imshow(img1, cmap = 'gray')\n",
    "plt.axis(\"off\")\n",
    "plt.title(\"Image 1\")\n",
    "\n",
    "# Second image\n",
    "plt.subplot(1, 3, 2)\n",
    "plt.imshow(img2, cmap = 'gray')\n",
    "plt.axis(\"off\")\n",
    "plt.title(\"Image 2\")\n",
    "\n",
    "# Concatenation\n",
    "plt.subplot(1, 3, 3)\n",
    "plt.imshow(img3, cmap = 'gray')\n",
    "plt.axis(\"off\")\n",
    "plt.title(\"Vertical Concatenation\")\n",
    "\n",
    "# Resizing\n",
    "fig = plt.gcf()\n",
    "fig.set_size_inches((10,16))\n"
   ]
  },
  {
   "cell_type": "code",
   "execution_count": null,
   "id": "05a6a544-b088-4f58-be2f-674e9af74207",
   "metadata": {},
   "outputs": [],
   "source": []
  },
  {
   "cell_type": "code",
   "execution_count": null,
   "id": "737979a4-0366-4244-9a42-46ef00228c2a",
   "metadata": {},
   "outputs": [],
   "source": []
  }
 ],
 "metadata": {
  "kernelspec": {
   "display_name": "Python 3 (ipykernel)",
   "language": "python",
   "name": "python3"
  },
  "language_info": {
   "codemirror_mode": {
    "name": "ipython",
    "version": 3
   },
   "file_extension": ".py",
   "mimetype": "text/x-python",
   "name": "python",
   "nbconvert_exporter": "python",
   "pygments_lexer": "ipython3",
   "version": "3.11.13"
  }
 },
 "nbformat": 4,
 "nbformat_minor": 5
}
