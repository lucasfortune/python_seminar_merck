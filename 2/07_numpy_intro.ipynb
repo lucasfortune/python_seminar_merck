{
 "cells": [
  {
   "cell_type": "markdown",
   "id": "588ce8d5-352e-4b51-911c-e121b7ed4057",
   "metadata": {},
   "source": [
    "# Python Basics 7\n",
    "## Numpy - Introduction\n",
    "***\n",
    "This notebook covers:\n",
    "- the array class\n",
    "- Creating, Indexing and Editing\n",
    "***"
   ]
  },
  {
   "cell_type": "markdown",
   "id": "30a4d7e7-66a8-423c-9609-fed05056898f",
   "metadata": {},
   "source": [
    "Run the following cell to import numpy under the alias np."
   ]
  },
  {
   "cell_type": "code",
   "execution_count": null,
   "id": "b1a64c05-3895-4312-857f-1c2987d3836c",
   "metadata": {},
   "outputs": [],
   "source": [
    "import numpy as np"
   ]
  },
  {
   "cell_type": "markdown",
   "id": "976b32a6-8e1a-439d-861e-a192027e5cd7",
   "metadata": {},
   "source": [
    "## Introduction\n",
    "\n",
    "`numpy` (for *Numerical Python*) is an advanced programming library for processing large multidimensional arrays and higher-order mathematical routines (linear algebra, statistics, complex mathematical functions, etc.). <br>\n",
    "\n",
    "The object class we will mainly work with is the **`array`** class from `numpy`. <br>\n",
    "\n",
    "These arrays correspond to N-dimensional matrices that can contain various data such as tabular data, time series, or images. <br>\n",
    "\n",
    "The advantage of the `numpy` module lies in its ability to execute array operations very efficiently. This means that both the required **code length** and the **computation time** for these operations are significantly minimized compared to conventional `Python` syntax.\n",
    "\n",
    "## 1 Creating a `numpy` Array\n",
    "\n",
    "Unlike usual classes, a `numpy` array can be created with many different constructors. <br>\n",
    "\n",
    "The argument of these constructors is usually a **`tuple`** that contains the desired matrix dimensions. This tuple is called the **Shape** of an array:\n",
    "\n",
    "```python\n",
    "# Import of the numpy module under the alias 'np'\n",
    "import numpy as np\n",
    "\n",
    "# Creating a 5x10 matrix filled with zeros\n",
    "X = np.zeros(shape = (5, 10))\n",
    "\n",
    "# Creating a 3-dimensional 3x10x10 matrix filled with ones\n",
    "X = np.ones(shape = (3, 10, 10))\n",
    "```\n",
    "\n",
    "It is also possible to create an array from a **list** with the `np.array` constructor:\n",
    "\n",
    "```python\n",
    "# Creating an array from a list through List Comprehension\n",
    "X = np.array([2*i for i in range(10)]) # 0, 2, 4, 6, ..., 18\n",
    "\n",
    "# Creating an array from a list of lists\n",
    "X = np.array([[1, 3, 3],\n",
    "              [3, 3, 1],\n",
    "              [1, 2, 0]])\n",
    "```\n",
    "\n",
    "These three constructors are just examples. We will learn about more constructors later.\n",
    "\n",
    "## 2 Indexing a `numpy` Array\n",
    "\n",
    "Unlike lists, a `numpy` array is multidimensional. Indexing must be done by entering the desired index **in each dimension**:\n",
    "\n",
    "```python\n",
    "# Creating a 10x10 matrix filled with ones\n",
    "X = np.ones(shape = (10, 10))\n",
    "\n",
    "# Displaying the element at index (4, 3)\n",
    "print(X[4, 3])\n",
    "\n",
    "# Assigning the value -1 to the element with index (1, 5)\n",
    "X[1, 5] = -1\n",
    "```\n",
    "\n",
    "As with all other indexable Python objects, the index of an axis starts at 0. <br>\n",
    "\n",
    "<img src=\"../imgs/indexation_array_en.png\" style = 'height:350px'> <br>\n",
    "\n",
    "As with lists, it is possible to index an array using **slicing**. <br>\n",
    "\n",
    "<img src=\"../imgs/indexation_array_slicing_en.png\" style = 'height:350px'>\n",
    "\n",
    "It is possible to slice in **each dimension** of an array. In the following example, we will extract a **subarray** from `X` using slicing. <br>\n",
    "\n",
    "<img src=\"../imgs/indexation_array_slicing2_en.png\" style = 'height:350px'>\n",
    "\n",
    "The previous examples show the indexing of a 2-dimensional array, but this type of indexing can be generalized to N-dimensional arrays. It is also possible to use **negative indexing** as with lists.\n",
    "\n",
    "#### 2.1 Exercises:\n",
    "> (a) Create and display the following diagonal block matrix using constructors and array slicing:\n",
    "> \n",
    ">$$\n",
    "\\begin{pmatrix}\n",
    "1 & 1 & 1 & 0 & 0 & 0 \\\\\n",
    "1 & 1 & 1 & 0 & 0 & 0 \\\\\n",
    "1 & 1 & 1 & 0 & 0 & 0 \\\\\n",
    "0 & 0 & 0 & -1 & -1 & -1 \\\\\n",
    "0 & 0 & 0 & -1 & -1 & -1 \\\\\n",
    "0 & 0 & 0 & -1 & -1 & -1 \\\\\n",
    "\\end{pmatrix}\n",
    "$$"
   ]
  },
  {
   "cell_type": "code",
   "execution_count": null,
   "id": "fa08c025-ec57-4793-9d9a-68b316db207a",
   "metadata": {},
   "outputs": [],
   "source": [
    "# Your Solution:\n",
    "\n",
    "\n",
    "\n"
   ]
  },
  {
   "cell_type": "markdown",
   "id": "c2f7471f-bdaa-4d88-8da3-78606a30c86e",
   "metadata": {},
   "source": [
    "#### Solution:"
   ]
  },
  {
   "cell_type": "code",
   "execution_count": null,
   "id": "c0b1671c-0570-474e-ac4a-13eca21c5235",
   "metadata": {},
   "outputs": [
    {
     "name": "stdout",
     "output_type": "stream",
     "text": [
      "[[ 1  1  1  0  0  0]\n",
      " [ 1  1  1  0  0  0]\n",
      " [ 1  1  1  0  0  0]\n",
      " [ 0  0  0 -1 -1 -1]\n",
      " [ 0  0  0 -1 -1 -1]\n",
      " [ 0  0  0 -1 -1 -1]]\n",
      "<class 'numpy.ndarray'>\n"
     ]
    }
   ],
   "source": [
    "# Creating a 6x6 matrix filled with 0\n",
    "X = np.zeros((6, 6), dtype='int')\n",
    "\n",
    "# Assigning values of 1 for the upper left quarter\n",
    "X[:3, :3] = 1\n",
    "\n",
    "# Assigning values of -1 for the lower right quarter\n",
    "X[3:, 3:] = -1\n",
    "\n",
    "# Displaying the matrix\n",
    "print(X)\n",
    "print(type(X))"
   ]
  },
  {
   "cell_type": "markdown",
   "id": "348db0c0-fedf-4506-9f88-5ed67ab33832",
   "metadata": {},
   "source": [
    "#### \n",
    "> (b) Create and display the following matrix using arrays and slicing:\n",
    ">  \n",
    ">$$\n",
    "\\begin{pmatrix}\n",
    "0 & 1 & 2 & 3 & 4 & 5 \\\\\n",
    "0 & 1 & 2 & 3 & 4 & 5 \\\\\n",
    "0 & 1 & 2 & 3 & 4 & 5 \\\\\n",
    "0 & 1 & 2 & 3 & 4 & 5 \\\\\n",
    "0 & 1 & 2 & 3 & 4 & 5 \\\\\n",
    "0 & 1 & 2 & 3 & 4 & 5 \\\\\n",
    "\\end{pmatrix}\n",
    "$$ <br>\n",
    "> You can either replace every row of a zero-matrix with `np.array([0, 1, 2, 3, 4, 5])` or assign every column its index."
   ]
  },
  {
   "cell_type": "code",
   "execution_count": null,
   "id": "7151508d-0fcb-4fa1-a2a2-b776efe801db",
   "metadata": {},
   "outputs": [],
   "source": [
    "# Your Solution:\n",
    "\n",
    "\n",
    "\n"
   ]
  },
  {
   "cell_type": "markdown",
   "id": "83076860-1603-414b-a12f-ab2b73a2a001",
   "metadata": {
    "jp-MarkdownHeadingCollapsed": true
   },
   "source": [
    "#### Solution:"
   ]
  },
  {
   "cell_type": "code",
   "execution_count": null,
   "id": "292556ce-f527-4d1d-99a5-ee814751878d",
   "metadata": {},
   "outputs": [],
   "source": [
    "# First Solution:\n",
    "X = np.zeros(shape = (6, 6))\n",
    "x1 = X.astype(float)\n",
    "\n",
    "# We replace each row with: 'np.array([0, 1, 2, 3, 4, 5])' \n",
    "for i in range (6):\n",
    "    x1[i ,:] = np.array ([0, 1, 2, 3, 4, 5])\n",
    "\n",
    "# Display:\n",
    "print(\"First solution\")\n",
    "print(x1)\n",
    "print(\"\\n\")\n",
    "\n",
    "# Second Solution:\n",
    "Y = np.zeros(shape = (6, 6))\n",
    "\n",
    "# Assign each column of x its index\n",
    "for i in range(6):\n",
    "    Y[:, i] = i\n",
    "    \n",
    "# Display\n",
    "print(\"Second solution\")\n",
    "print(Y)\n"
   ]
  },
  {
   "cell_type": "markdown",
   "id": "53fa2c5e-7521-47b0-a721-f558cf9261d0",
   "metadata": {},
   "source": [
    "## 3 Operations on Numpy Arrays\n",
    "\n",
    "Most of the time you will process `numpy` arrays with real data. <br>\n",
    "\n",
    "The value of the `numpy` module lies in its optimized **code** that enables fast calculations on large matrices. <br>\n",
    "\n",
    "The `numpy` module contains basic mathematical functions such as:\n",
    "\n",
    "| Function                    | Numpy Function              |\n",
    "|:---------------------------:|:---------------------------:|\n",
    "| $e^x$                       | `np.exp(x)`                 |\n",
    "| $\\mathrm{log}(x)$           | `np.log(x)`                 |\n",
    "| $\\mathrm{sin}(x)$           | `np.sin(x)`                 |\n",
    "| $\\mathrm{cos}(x)$           | `np.cos(x)`                 |\n",
    "| Round to **`n`** decimal places| `np.round(x, decimals = n)` |\n",
    "\n",
    "The complete list of mathematical operations for `numpy` can be found [here](https://numpy.org/doc/stable/reference/routines.math.html). <br>\n",
    "\n",
    "These functions can be applied to all `numpy` arrays, regardless of their dimensions:\n",
    "\n",
    "```python\n",
    "X = np.array([i/100 for i in range(100)]) # 0, 0.01, 0.02, 0.03, ..., 0.98, 0.99\n",
    "\n",
    "# Calculate the exponential function of x for x = 0, 0.01, 0.02, 0.03, ..., 0.98, 0.99\n",
    "exp_X = np.exp(X)\n",
    "```\n",
    "\n",
    "In the next cell we will create the array:\n",
    "\n",
    "$$\n",
    "X =\n",
    "\\begin{pmatrix}\n",
    "0.01 & 0.02 & ... & 0.98 & 0.99\n",
    "\\end{pmatrix}\n",
    "$$\n",
    "\n",
    "#### 3.1 Exercises:\n",
    "> (a) Define a function `f` that takes an array `X` and calculates the following function **in a single line of code**: <br>\n",
    ">\n",
    "> $ f(x) = \\mathrm{exp}(\\mathrm{sin}(x) + \\mathrm{cos}(x)) $ <br>\n",
    ">\n",
    "> (b) Display the **first 10** elements of the result **rounded to 2 decimal places** of the function `f` applied to the array `X`."
   ]
  },
  {
   "cell_type": "code",
   "execution_count": null,
   "id": "f782bb79-3500-48a8-abf4-780260449574",
   "metadata": {},
   "outputs": [],
   "source": [
    "# Your Solution:\n",
    "\n",
    "\n",
    "\n"
   ]
  },
  {
   "cell_type": "markdown",
   "id": "ce7c01ea-e7b8-4221-ad82-ca4dd549cba3",
   "metadata": {},
   "source": [
    "#### Solution:"
   ]
  },
  {
   "cell_type": "code",
   "execution_count": null,
   "id": "6fc4fb6b-8f57-4f7e-acad-b7c97ec779ec",
   "metadata": {},
   "outputs": [
    {
     "name": "stdout",
     "output_type": "stream",
     "text": [
      "[2.72 2.75 2.77 2.8  2.83 2.85 2.88 2.91 2.94 2.96]\n"
     ]
    }
   ],
   "source": [
    "X = np.array([i/100 for i in range(100)])\n",
    "\n",
    "# Define function f\n",
    "def f(X):\n",
    "    return np.exp(np.sin(X) + np.cos(X))\n",
    "\n",
    "# Calculate f(X)\n",
    "result = f(X)\n",
    "\n",
    "# We round the result to two decimals\n",
    "rounded = np.round(result, decimals=2)\n",
    "\n",
    "# and display the first 10 results:\n",
    "print(rounded[: 10])"
   ]
  },
  {
   "cell_type": "markdown",
   "id": "8493e82f-9650-40a6-b777-c1cfb744e4b1",
   "metadata": {},
   "source": [
    "#### \n",
    "> (c) Define a function named `f_python` that applies the function from (a) to each element of X using a `for` loop. <br>\n",
    "> \n",
    "> The dimensions of an array `X` can be retrieved with the **`shape`** attribute of `X`, which is a **tuple**: `shape = X.shape`. <br>\n",
    ">\n",
    "> For an array with **one** dimension, the number of contained elements corresponds to the **first** element of its shape: `n = X.shape[0]`. <br>"
   ]
  },
  {
   "cell_type": "code",
   "execution_count": null,
   "id": "e3d11c35-a053-4fde-a82f-feb272e24bd8",
   "metadata": {},
   "outputs": [],
   "source": [
    "# Your Solution:\n",
    "\n",
    "\n",
    "\n"
   ]
  },
  {
   "cell_type": "markdown",
   "id": "a1fe7fa0-a18f-41b7-b1db-c3fd128931f9",
   "metadata": {
    "jp-MarkdownHeadingCollapsed": true
   },
   "source": [
    "#### Solution:"
   ]
  },
  {
   "cell_type": "code",
   "execution_count": 30,
   "id": "23a3440f-2c17-4ce1-8978-dc18cb88b04c",
   "metadata": {},
   "outputs": [],
   "source": [
    "def f_python(X):\n",
    "    n = X.shape[0]\n",
    "    for i in range(n):\n",
    "        X[i] = np.exp(np.sin(X[i]) + np.cos(X[i]))\n",
    "    return X"
   ]
  },
  {
   "cell_type": "markdown",
   "id": "b634d07d-87c5-4c03-b021-68f0ff27598f",
   "metadata": {},
   "source": [
    "#### \n",
    "> We will now compare the execution times of these two functions when applied to a very large array (10 million values). <br>\n",
    ">\n",
    "> We measure these execution times with the `time` module. To measure the execution time of a function, simply take the **difference** between **the start time of execution** and **the end time**. <br>\n",
    ">\n",
    "> (d) Run the next cell to compare the execution times. <br>\n",
    "(Spoiler: Takes a while!)"
   ]
  },
  {
   "cell_type": "code",
   "execution_count": null,
   "id": "764e503c-5bb2-49c0-b07d-3f815c465ee3",
   "metadata": {},
   "outputs": [],
   "source": [
    "from time import time\n",
    "\n",
    "# We create an array with 1000000 values\n",
    "X = np.array([i/1e7 for i in range(int(1e7))])\n",
    "\n",
    "time_start = time()\n",
    "f(X)\n",
    "time_end = time()\n",
    "\n",
    "runtime = time_end - time_start\n",
    "\n",
    "print (f\"The calculation with numpy takes {runtime} seconds\")\n",
    "\n",
    "time_start = time()\n",
    "f_python(X)\n",
    "time_end = time()\n",
    "\n",
    "runtime = time_end - time_start\n",
    "\n",
    "print (f\"The calculation with a loop takes {runtime} seconds\")"
   ]
  },
  {
   "cell_type": "markdown",
   "id": "50faa10b-61ec-4e2a-802c-664983fabb75",
   "metadata": {},
   "source": [
    "As you can see, the calculation with a ```loop``` takes much longer compared to the calculation with ```numpy```. <br>\n",
    "This is particularly advantageous when working with large datasets or statistical calculations, as we will see in upcoming tasks."
   ]
  }
 ],
 "metadata": {
  "kernelspec": {
   "display_name": "Python 3 (ipykernel)",
   "language": "python",
   "name": "python3"
  },
  "language_info": {
   "codemirror_mode": {
    "name": "ipython",
    "version": 3
   },
   "file_extension": ".py",
   "mimetype": "text/x-python",
   "name": "python",
   "nbconvert_exporter": "python",
   "pygments_lexer": "ipython3",
   "version": "3.11.0"
  }
 },
 "nbformat": 4,
 "nbformat_minor": 5
}
