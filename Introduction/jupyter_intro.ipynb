{
 "cells": [
  {
   "cell_type": "markdown",
   "id": "c50f40d3-9e76-4ab1-924d-7064889ccbb7",
   "metadata": {},
   "source": [
    "# EDV-Coaching - Python\n",
    "## Introduction to Jupyter Notebook\n",
    "***\n",
    "This notebook covers:\n",
    "- What is Jupyter Notebook?\n",
    "- Basic Navigation\n",
    "- Cell Types and Modes\n",
    "- Useful Keyboard Shortcuts\n",
    "- Best Practices\n",
    "***\n",
    "## 1 What is Jupyter Notebook?\n",
    "Jupyter Notebook is a web-based interactive development environment that allows combining code, text, equations and visualizations in a single document. <br>\n",
    "The name \"Jupyter\" is an allusion to the three core programming languages: **Ju**lia, **Py**thon and **R**. <br>\n",
    "## 2 Navigation and Basic Functions\n",
    "A Jupyter Notebook consists of a series of cells. There are two main modes: <br>\n",
    "1. **Command Mode** (blue border):\n",
    "   - Activation by `Esc`\n",
    "   - For navigating between cells\n",
    "   - For cell operations (copy, paste, delete) <br>\n",
    "2. **Edit Mode** (green border):\n",
    "   - Activation by `Enter`\n",
    "   - For editing cell contents <br>\n",
    "## 3 Cell Types\n",
    "In Jupyter there are different cell types: <br>\n",
    "### 3.1 Code Cells\n",
    "Code cells contain executable Python code: <br>"
   ]
  },
  {
   "cell_type": "code",
   "execution_count": 1,
   "id": "0d75f529-4663-4761-b6f4-7e8a2dbade7f",
   "metadata": {},
   "outputs": [
    {
     "name": "stdout",
     "output_type": "stream",
     "text": [
      "Hello World!\n",
      "The sum is: 15\n"
     ]
    }
   ],
   "source": [
    "# This is a code cell\n",
    "print(\"Hello World!\")\n",
    "x = 5\n",
    "y = 10\n",
    "print(f\"The sum is: {x + y}\")"
   ]
  },
  {
   "cell_type": "markdown",
   "id": "b5f76381-924c-4e1d-854a-364ae9fa7a7f",
   "metadata": {
    "jp-MarkdownHeadingCollapsed": true
   },
   "source": [
    "### 3.2 Markdown Cells\n",
    "Markdown cells contain formatted text: <br>\n",
    "- **Bold text** with `**Text**`\n",
    "- *Italic text* with `*Text*`\n",
    "- `Code` with backticks\n",
    "- Mathematical formulas with LaTeX: $E = mc^2$\n",
    "- Lists with `-` or `1.`\n",
    "- Links with `[Text](URL)` <br>\n",
    "- \n",
    "## 4 Important Keyboard Shortcuts\n",
    "\n",
    "| Keyboard Shortcut | Function |\n",
    "|:-----------------|:----------|\n",
    "| `Shift + Enter`  | Execute cell and jump to next one |\n",
    "| `Ctrl + Enter`   | Execute cell and stay in cell |\n",
    "| `Alt + Enter`    | Execute cell and insert new cell |\n",
    "| `Esc + M`        | Convert cell to Markdown |\n",
    "| `Esc + Y`        | Convert cell to Code |\n",
    "| `Esc + A`        | Insert new cell above |\n",
    "| `Esc + B`        | Insert new cell below |\n",
    "| `Esc + DD`       | Delete cell |\n",
    "| `Esc + Z`        | Undo last deletion |\n",
    "\n",
    "## 5 Best Practices\n",
    "1. **Structuring**:\n",
    "   - Use clear headings\n",
    "   - Divide code into logical sections\n",
    "   - Document important steps <br>\n",
    "2. **Code Execution**:\n",
    "   - Execute cells in the correct order\n",
    "   - Use \"Kernel → Restart & Run All\" for testing\n",
    "   - Save regularly (`Ctrl + S`) <br>\n",
    "3. **Documentation**:\n",
    "   - Comment complex code\n",
    "   - Use Markdown for explanations\n",
    "   - Add examples <br>"
   ]
  },
  {
   "cell_type": "markdown",
   "id": "a2882a8d-203c-43b5-a23f-e477594fdd32",
   "metadata": {},
   "source": [
    "## Conclusion:\n",
    "Jupyter Notebook is a powerful tool for:\n",
    "- Interactive data analysis\n",
    "- Documentation of code\n",
    "- Presentation of results\n",
    "- Teaching and learning\n",
    "- Scientific work <br>\n",
    "In the next notebooks we will use these functions to explore Python and its scientific libraries. <br>\n",
    "---"
   ]
  },
  {
   "cell_type": "markdown",
   "id": "d356a014-425d-4221-8fde-1742a1533802",
   "metadata": {},
   "source": [
    "# For the next few days:\n",
    "\n",
    "The entire course material is available in the form of Jupyter Notebooks. As a rule, each section will be structured as follows: "
   ]
  },
  {
   "cell_type": "markdown",
   "id": "7136b563-5428-4ed8-84d9-c1b6f9daf710",
   "metadata": {},
   "source": [
    "## 1. Topic\n",
    "Explanation <br>\n",
    "Examples <br>\n",
    "#### 1.1 Exercises:\n",
    "> (a) Exercise 1 <br>\n",
    "> (b) Exercise 2 <br>\n",
    "> (c) Exercise 3 <br>"
   ]
  },
  {
   "cell_type": "code",
   "execution_count": null,
   "id": "5ac8d610-add1-4b73-8b8a-67fb5df74031",
   "metadata": {},
   "outputs": [],
   "source": [
    "# Your Solution:\n",
    "\n",
    "\n",
    "\n"
   ]
  },
  {
   "cell_type": "markdown",
   "id": "7a59208d-3cd8-4300-a7d4-813cec09a8bd",
   "metadata": {
    "jp-MarkdownHeadingCollapsed": true
   },
   "source": [
    "#### Solution:"
   ]
  },
  {
   "cell_type": "markdown",
   "id": "50970010-1dc7-4322-acf5-a8fca7baa459",
   "metadata": {},
   "source": [
    "Here you will find the solution code and possibly further explanations. <br>\n",
    "The solution should ideally already be collapsed when opening the notebook. If that is not the case, do me the favor and collapse it without looking at it too closely :)"
   ]
  },
  {
   "cell_type": "markdown",
   "id": "1cd60818-6e9e-4008-997c-3d4bc36fdf3d",
   "metadata": {},
   "source": [
    "# 2. Topic\n",
    "\n",
    "Explanation\n",
    "Example\n",
    "\n",
    "2.1 Exercises:\n",
    "> (a) Exercise 1 <br>\n",
    "> (b) Exercise 2 <br>\n",
    "> (c) Ecercise 3 <br>\n",
    "\n",
    "And so on..."
   ]
  },
  {
   "cell_type": "code",
   "execution_count": null,
   "id": "1425f126-ed20-45a7-9914-de5c848e1d5b",
   "metadata": {},
   "outputs": [],
   "source": []
  }
 ],
 "metadata": {
  "kernelspec": {
   "display_name": "Python 3 (ipykernel)",
   "language": "python",
   "name": "python3"
  },
  "language_info": {
   "codemirror_mode": {
    "name": "ipython",
    "version": 3
   },
   "file_extension": ".py",
   "mimetype": "text/x-python",
   "name": "python",
   "nbconvert_exporter": "python",
   "pygments_lexer": "ipython3",
   "version": "3.11.13"
  }
 },
 "nbformat": 4,
 "nbformat_minor": 5
}
