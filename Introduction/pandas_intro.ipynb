{
 "cells": [
  {
   "cell_type": "markdown",
   "id": "39cd4823-2994-4a65-ba0c-0c192d638943",
   "metadata": {},
   "source": [
    "# EDV-Coaching - Python\n",
    "## Introduction to Pandas\n",
    "***\n",
    "This notebook covers:\n",
    "- Creating DataFrame and Series\n",
    "- Loading and saving data\n",
    "- Data selection and filtering\n",
    "- Basic data analysis\n",
    "- Data transformation\n",
    "- Grouping and aggregation\n",
    "***\n",
    "# What is Pandas?\n",
    "\n",
    "Pandas is a powerful library for data manipulation and analysis. The name derives from \"Panel Data\", and the library is specifically optimized for working with structured data. <br>\n",
    "\n",
    "Important features of Pandas are: <br>\n",
    "- DataFrame object for intuitive handling of tabular data <br>\n",
    "- Efficient data input and output in various formats (CSV, Excel, SQL, etc.) <br>\n",
    "- Powerful tools for data cleaning and transformation <br>\n",
    "- Flexible grouping and aggregation of data <br>\n",
    "- Integrated tools for time series analysis <br>\n",
    "\n",
    "Pandas has become the standard in data analysis because it effectively bridges the gap between raw data and statistical analysis. <br>\n",
    "\n",
    "## 1 Creating DataFrame and Series\n",
    "\n",
    "Pandas has two main data structures: Series (1D) and DataFrame (2D): <br>"
   ]
  },
  {
   "cell_type": "code",
   "execution_count": null,
   "id": "cc29a631-af44-48f8-acca-e0721d1d3cb1",
   "metadata": {},
   "outputs": [
    {
     "name": "stdout",
     "output_type": "stream",
     "text": [
      "Series:\n",
      "0    1.0\n",
      "1    3.0\n",
      "2    5.0\n",
      "3    NaN\n",
      "4    6.0\n",
      "5    8.0\n",
      "dtype: float64\n",
      "\n",
      "DataFrame:\n",
      "    Name  Alter    Stadt  Gehalt\n",
      "0   Anna     25   Berlin   45000\n",
      "1    Ben     30  Hamburg   55000\n",
      "2  Clara     22  München   35000\n",
      "3  David     35   Berlin   65000\n"
     ]
    }
   ],
   "source": [
    "import pandas as pd\n",
    "import numpy as np\n",
    "\n",
    "# Create Series\n",
    "s = pd.Series([1, 3, 5, np.nan, 6, 8])\n",
    "\n",
    "# Create DataFrame from dictionary\n",
    "data = {\n",
    "    'Name': ['Anna', 'Ben', 'Clara', 'David'],\n",
    "    'Alter': [25, 30, 22, 35],\n",
    "    'Stadt': ['Berlin', 'Hamburg', 'Munich', 'Berlin'],\n",
    "    'Gehalt': [45000, 55000, 35000, 65000]\n",
    "}\n",
    "df = pd.DataFrame(data)\n",
    "\n",
    "print(\"Series:\")\n",
    "print(s)\n",
    "print(\"\\nDataFrame:\")\n",
    "print(df)"
   ]
  },
  {
   "cell_type": "markdown",
   "id": "5318c084-9af4-4ba3-99cd-ed52c039c620",
   "metadata": {},
   "source": [
    "## 2 Load and save data\n",
    "\n",
    "Pandas can read and write various data formats: <br>"
   ]
  },
  {
   "cell_type": "code",
   "execution_count": null,
   "id": "e5272ffd-9f3d-40ad-bb1a-55a939877463",
   "metadata": {},
   "outputs": [
    {
     "name": "stdout",
     "output_type": "stream",
     "text": [
      "Geladene CSV-Daten:\n",
      "    Name  Alter    Stadt  Gehalt\n",
      "0   Anna     25   Berlin   45000\n",
      "1    Ben     30  Hamburg   55000\n",
      "2  Clara     22  München   35000\n",
      "3  David     35   Berlin   65000\n"
     ]
    }
   ],
   "source": [
    "# Create and read csv file\n",
    "df.to_csv('/content/beispiel.csv', index=False)\n",
    "df_csv = pd.read_csv('/content/beispiel.csv')\n",
    "\n",
    "# Create and read Excel file\n",
    "#df.to_excel('beispiel.xlsx', index=False)\n",
    "#df_excel = pd.read_excel('beispiel.xlsx')\n",
    "\n",
    "# JSON Format\n",
    "#df.to_json('beispiel.json')\n",
    "#df_json = pd.read_json('beispiel.json')\n",
    "\n",
    "print(\"Loaded csv data:\")\n",
    "print(df_csv)"
   ]
  },
  {
   "cell_type": "markdown",
   "id": "e9acb004-4cd8-4d2a-81e1-3e74887a5a1d",
   "metadata": {},
   "source": [
    "## 3 Selecting and filtering data\n",
    "\n",
    "There are various ways to select data: <br>"
   ]
  },
  {
   "cell_type": "code",
   "execution_count": null,
   "id": "07d6d093-dde7-430b-8b63-b1aca64b2fcf",
   "metadata": {},
   "outputs": [
    {
     "name": "stdout",
     "output_type": "stream",
     "text": [
      "Mitarbeiter aus Berlin:\n",
      "    Name  Alter   Stadt  Gehalt\n",
      "0   Anna     25  Berlin   45000\n",
      "3  David     35  Berlin   65000\n"
     ]
    }
   ],
   "source": [
    "# Select columns\n",
    "names = df['Name']\n",
    "info = df[['Name', 'Stadt']]\n",
    "\n",
    "# Select rows by position\n",
    "first_row = df.iloc[0]\n",
    "block = df.iloc[0:2, 1:3]\n",
    "\n",
    "# Select rows by condition\n",
    "berliner = df[df['Stadt'] == 'Berlin']\n",
    "good_pay = df[df['Gehalt'] > 50000]\n",
    "\n",
    "# Combined conditions\n",
    "young_berlin = df[(df['Stadt'] == 'Berlin') & (df['Alter'] < 30)]\n",
    "\n",
    "print(\"Employees from Berlin:\")\n",
    "print(berliner)"
   ]
  },
  {
   "cell_type": "markdown",
   "id": "91cf6ee7-1fa6-4682-9fa2-c7f5723423f3",
   "metadata": {},
   "source": [
    "## 4 Grundlegende Datenanalyse\n",
    "\n",
    "Pandas bietet viele Funktionen für beschreibende Statistik: <br>"
   ]
  },
  {
   "cell_type": "code",
   "execution_count": null,
   "id": "1371965b-80e7-4d11-bf76-4736a586c9e3",
   "metadata": {},
   "outputs": [],
   "source": [
    "# Statistical summary\n",
    "summary = df.describe()\n",
    "\n",
    "# Single statistical measures\n",
    "average = df['Gehalt'].mean()\n",
    "median = df['Gehalt'].median()\n",
    "maximum = df['Gehalt'].max()\n",
    "\n",
    "# Value counts\n",
    "stadt_counts = df['Stadt'].value_counts()\n",
    "\n",
    "# Correlations\n",
    "correlations = df.corr()\n",
    "\n",
    "print(\"Statistical summary :\")\n",
    "print(summary)\n",
    "print(\"\\nStädte-Verteilung:\")\n",
    "print(stadt_counts)"
   ]
  },
  {
   "cell_type": "markdown",
   "id": "ba03f301-5f05-44ed-99c0-00f10dac3090",
   "metadata": {},
   "source": [
    "## 5 Datentransformation\n",
    "\n",
    "Daten aufbereiten und transformieren: <br>"
   ]
  },
  {
   "cell_type": "code",
   "execution_count": null,
   "id": "c762f654-f726-4bd1-852c-04c121364775",
   "metadata": {},
   "outputs": [],
   "source": [
    "# Add new column\n",
    "df['Bonus'] = df['Gehalt'] * 0.1\n",
    "df['Gesamtgehalt'] = df['Gehalt'] + df['Bonus']\n",
    "\n",
    "# Change data type\n",
    "df['Alter'] = df['Alter'].astype(float)\n",
    "\n",
    "# Replace values\n",
    "df['Stadt'] = df['Stadt'].replace('Berlin', 'BER')\n",
    "\n",
    "# Categorical data\n",
    "df['Stadt_Kategorie'] = pd.Categorical(df['Stadt'])\n",
    "\n",
    "print(\"Transformed data:\")\n",
    "print(df)"
   ]
  },
  {
   "cell_type": "markdown",
   "id": "1742c6cd-f026-41d5-acfa-68fe784ed7e4",
   "metadata": {},
   "source": [
    "## 6 Gruppierung und Aggregation\n",
    "\n",
    "Daten gruppieren und zusammenfassen: <br>"
   ]
  },
  {
   "cell_type": "code",
   "execution_count": null,
   "id": "07e3ebd2-76d0-4def-8a8f-450f65bb3c80",
   "metadata": {},
   "outputs": [
    {
     "name": "stdout",
     "output_type": "stream",
     "text": [
      "Statistik nach Städten:\n",
      "          Gehalt               Alter\n",
      "            mean    min    max  mean\n",
      "Stadt                               \n",
      "Berlin   55000.0  45000  65000  30.0\n",
      "Hamburg  55000.0  55000  55000  30.0\n",
      "München  35000.0  35000  35000  22.0\n"
     ]
    }
   ],
   "source": [
    "# Group by Stadt\n",
    "nach_stadt = df.groupby('Stadt')\n",
    "\n",
    "# Various aggregations\n",
    "stadt_statistics = nach_stadt.agg({\n",
    "    'Gehalt': ['mean', 'min', 'max'],\n",
    "    'Alter': 'mean'\n",
    "})\n",
    "\n",
    "# Grouping by multiple columns\n",
    "multi_group = df.groupby(['Stadt', 'Alter'])['Gehalt'].mean()\n",
    "\n",
    "print(\"Statistics per city:\")\n",
    "print(stadt_statistics)\n"
   ]
  },
  {
   "cell_type": "markdown",
   "id": "1070f377-453f-4b5e-84d0-67f89fa285a1",
   "metadata": {},
   "source": [
    "## 7 Missing values\n",
    "\n",
    "Dealing with missing values (NaN): <br>"
   ]
  },
  {
   "cell_type": "code",
   "execution_count": null,
   "id": "93519ffd-2b1e-4504-8ed9-d43191f5ef76",
   "metadata": {},
   "outputs": [
    {
     "name": "stdout",
     "output_type": "stream",
     "text": [
      "Anzahl fehlender Werte pro Spalte:\n",
      "Name      0\n",
      "Alter     0\n",
      "Stadt     0\n",
      "Gehalt    1\n",
      "dtype: int64\n"
     ]
    }
   ],
   "source": [
    "# Adding missing values\n",
    "df.loc[1, 'Gehalt'] = np.nan\n",
    "\n",
    "# Recognizing missing values\n",
    "missing = df.isna()\n",
    "missing_sum = df.isna().sum()\n",
    "\n",
    "# Dealing with missing values\n",
    "df_clean = df.dropna()           # Remove rows with NA\n",
    "df_filled = df.fillna(0)         # Fill NAs with 0\n",
    "df_mean = df.fillna(df['Gehalt'].mean())   # Fill NAs with mean value\n",
    "\n",
    "print(\"Number of missing values per column:\")\n",
    "print(missing_sum)"
   ]
  },
  {
   "cell_type": "markdown",
   "id": "59eaf8d6-90d9-4702-a083-f880737387cf",
   "metadata": {},
   "source": [
    "## 8 Time series\n",
    "\n",
    "Pandas has special functions for time series: <br>"
   ]
  },
  {
   "cell_type": "code",
   "execution_count": null,
   "id": "407ef574-5989-4473-84f1-496995e2b056",
   "metadata": {},
   "outputs": [
    {
     "name": "stdout",
     "output_type": "stream",
     "text": [
      "Zeitreihe:\n",
      "2024-01-01   -0.258858\n",
      "2024-01-02   -0.577659\n",
      "2024-01-03    1.182864\n",
      "2024-01-04    0.252935\n",
      "2024-01-05   -1.542787\n",
      "2024-01-06    0.822953\n",
      "Freq: D, dtype: float64\n",
      "\n",
      "Gleitender Durchschnitt:\n",
      "2024-01-01         NaN\n",
      "2024-01-02         NaN\n",
      "2024-01-03    0.115449\n",
      "2024-01-04    0.286047\n",
      "2024-01-05   -0.035663\n",
      "2024-01-06   -0.155633\n",
      "Freq: D, dtype: float64\n"
     ]
    },
    {
     "name": "stderr",
     "output_type": "stream",
     "text": [
      "/var/folders/9x/t526dchn0v15vnm8m6q_8ct40000gn/T/ipykernel_95661/1478258530.py:6: FutureWarning: 'M' is deprecated and will be removed in a future version, please use 'ME' instead.\n",
      "  monatlich = ts.resample('M').mean()\n"
     ]
    }
   ],
   "source": [
    "# Create time series index\n",
    "dates = pd.date_range('20240101', periods=6)\n",
    "ts = pd.Series(np.random.randn(6), index=dates)\n",
    "\n",
    "# Time series operations\n",
    "monthly = ts.resample('M').mean()\n",
    "rolling = ts.rolling(window=3).mean()\n",
    "shift = ts.shift(1)\n",
    "\n",
    "print(\"Time series:\")\n",
    "print(ts)\n",
    "print(\"\\nRolling mean:\")\n",
    "print(rolling)"
   ]
  },
  {
   "cell_type": "markdown",
   "id": "fcff5ac7-7069-4a13-bb71-5c1579fe3a39",
   "metadata": {},
   "source": [
    "## Conclusion:\n",
    "\n",
    "Pandas offers: <br>\n",
    "- Flexible data structures for tabular data <br>\n",
    "- Extensive import/export capabilities <br>\n",
    "- Powerful data analysis tools <br>\n",
    "- Efficient data transformation and cleaning <br>\n",
    "- Advanced grouping and aggregation functions <br>\n",
    "\n",
    "These features make Pandas the standard tool for data analysis in Python. <br>"
   ]
  }
 ],
 "metadata": {
  "kernelspec": {
   "display_name": "Python 3 (ipykernel)",
   "language": "python",
   "name": "python3"
  },
  "language_info": {
   "codemirror_mode": {
    "name": "ipython",
    "version": 3
   },
   "file_extension": ".py",
   "mimetype": "text/x-python",
   "name": "python",
   "nbconvert_exporter": "python",
   "pygments_lexer": "ipython3",
   "version": "3.11.0"
  }
 },
 "nbformat": 4,
 "nbformat_minor": 5
}
