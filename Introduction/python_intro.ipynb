{
 "cells": [
  {
   "cell_type": "markdown",
   "id": "24f53f5e-92b2-49ec-ba83-d5eb19878b5d",
   "metadata": {},
   "source": [
    "# EDV-Coaching - Python\n",
    "## Introduction to Python\n",
    "***\n",
    "This notebook covers:\n",
    "- Basic Data Types\n",
    "- Control Structures\n",
    "- Functions\n",
    "- Lists and Dictionaries\n",
    "- List Comprehension\n",
    "***\n",
    "\n",
    "## 1 Basic Data Types\n",
    "\n",
    "Python has various built-in data types: <br>"
   ]
  },
  {
   "cell_type": "code",
   "execution_count": null,
   "id": "013dfa89-cdfd-4b79-bb05-4c4c5d2de73b",
   "metadata": {},
   "outputs": [],
   "source": [
    "# Numbers\n",
    "integer = 42                # Integer or simply int\n",
    "\n",
    "decimal_number = 3.14       # Floating Point Number or simply float\n",
    "\n",
    "# Text\n",
    "text = \"Hello World\"        # String\n",
    "\n",
    "multiline = \"\"\"String\n",
    "            across\n",
    "            multiple\n",
    "            lines\"\"\"        # Multi-line string\n",
    "\n",
    "# Boolean\n",
    "true = True\n",
    "false = False\n",
    "\n",
    "# Output of data types\n",
    "print(f\"Type of integer: {type(integer)}\")\n",
    "print(f\"Type of text: {type(text)}\")\n",
    "print(f\"Type of true: {type(true)}\")"
   ]
  },
  {
   "cell_type": "markdown",
   "id": "01804e58-4e57-433e-a492-32177e30bbf2",
   "metadata": {},
   "source": [
    "## 2 Control Structures\n",
    "\n",
    "Python uses indentation for code blocks: <br>"
   ]
  },
  {
   "cell_type": "code",
   "execution_count": null,
   "id": "c5d59d61-4074-4762-9add-ba0ab0db8ab8",
   "metadata": {},
   "outputs": [],
   "source": [
    "# If-Else Statement\n",
    "x = 42\n",
    "\n",
    "if x > 50:\n",
    "    print(\"x is larger than 50\")\n",
    "elif x > 40:\n",
    "    print(\"x is less than 40\")\n",
    "else:\n",
    "    print(\"x is less than or equal to 40\")"
   ]
  },
  {
   "cell_type": "code",
   "execution_count": null,
   "id": "cc45254b-fabd-418d-8c15-7942c594410d",
   "metadata": {},
   "outputs": [],
   "source": [
    "# For loop\n",
    "for i in range(3):\n",
    "    print(f\"Iteration {i}\")"
   ]
  },
  {
   "cell_type": "code",
   "execution_count": null,
   "id": "944a2c17-f2d6-4ef4-a88e-f0ef1fcc7366",
   "metadata": {},
   "outputs": [],
   "source": [
    "# While loop\n",
    "counter = 0\n",
    "while counter < 3:\n",
    "    print(f\"Counter: {counter}\")\n",
    "    counter += 1"
   ]
  },
  {
   "cell_type": "markdown",
   "id": "20d1a45a-8beb-467e-9b46-837c6aec3f02",
   "metadata": {},
   "source": [
    "## 3 Functions\n",
    "\n",
    "Functions are defined using the keyword `def`. <br>"
   ]
  },
  {
   "cell_type": "code",
   "execution_count": null,
   "id": "52094fdd-8e47-4865-97fb-0c1905947ade",
   "metadata": {},
   "outputs": [],
   "source": [
    "# Simple function\n",
    "def square_root(x):\n",
    "    return x * x\n",
    "\n",
    "# Function with multiple parameters and a default value\n",
    "def greet(name, greeting=\"Hello\"):\n",
    "    return f\"{greeting}, {name}!\"\n",
    "\n",
    "# Lambda function (anonymous function)\n",
    "cube = lambda x: x**3\n",
    "\n",
    "# Beispiele\n",
    "print(square_root(4))           # 16\n",
    "print(greet(\"Python\"))      # Hello, Python!\n",
    "print(greet(\"World\", \"Hi\"))  # Hi, World!\n",
    "print(cube(3))             # 27"
   ]
  },
  {
   "cell_type": "markdown",
   "id": "474b312c-996a-4fa7-a850-c06f7207219e",
   "metadata": {},
   "source": [
    "## 4 Lists and Dictionaries\n",
    "\n",
    "List and Dictionaries are important data structures in Python: <br>"
   ]
  },
  {
   "cell_type": "code",
   "execution_count": null,
   "id": "296b117b-a58d-4e3f-8975-a28f769b6e9f",
   "metadata": {},
   "outputs": [],
   "source": [
    "# Lists\n",
    "numbers = [1, 2, 3, 4, 5]\n",
    "mixed = [1, \"two\", 3.0, [4, 5]]\n",
    "\n",
    "# List operations\n",
    "numbers.append(6)       # Add at the end\n",
    "first = numbers[0]      # First element\n",
    "last = numbers[-1]      # Last element\n",
    "part = numbers[1:4]     # Slicing (elements 1 to 3)\n",
    "\n",
    "# Dictionaries\n",
    "person = {\n",
    "    \"name\": \"Max\",\n",
    "    \"age\": 30,\n",
    "    \"city\": \"Berlin\"\n",
    "}\n",
    "\n",
    "# Dictionary operations\n",
    "print(person[\"name\"])   # Access value\n",
    "person[\"job\"] = \"Developer\"  # New entry\n",
    "all_keys = person.keys()  # All keys"
   ]
  },
  {
   "cell_type": "markdown",
   "id": "83bcb336-da15-416b-97bc-ed413fb8043a",
   "metadata": {},
   "source": [
    "## 5 List Comprehension\n",
    "\n",
    "A List Comprehension is an elegant method to create lists: <br>"
   ]
  },
  {
   "cell_type": "code",
   "execution_count": null,
   "id": "b5dc1e76-ffbc-4149-a97d-1b0dd56e5882",
   "metadata": {},
   "outputs": [],
   "source": [
    "# Traditional loop\n",
    "squares = []\n",
    "for i in range(5):\n",
    "    squares.append(i**2)"
   ]
  },
  {
   "cell_type": "code",
   "execution_count": null,
   "id": "6ed08585-66ca-4afd-9519-b341dbf54f5e",
   "metadata": {},
   "outputs": [],
   "source": [
    "# Same operation with list comprehension\n",
    "squares = [i**2 for i in range(5)]"
   ]
  },
  {
   "cell_type": "code",
   "execution_count": null,
   "id": "7f00a152-27b5-4493-86e2-9e65d174b649",
   "metadata": {},
   "outputs": [],
   "source": [
    "# With condition (if-statement)\n",
    "even = [i for i in range(10) if i % 2 == 0]"
   ]
  },
  {
   "cell_type": "code",
   "execution_count": null,
   "id": "53ffc59d-ba3e-4b35-a87a-1c6a085bc030",
   "metadata": {},
   "outputs": [],
   "source": [
    "# Nested List Comprehension\n",
    "matrix = [[i+j for j in range(3)] for i in range(3)]"
   ]
  },
  {
   "cell_type": "markdown",
   "id": "b11565af-9f3e-40de-abcf-b10d35519778",
   "metadata": {},
   "source": [
    "## 6 String formatting\n",
    "\n",
    "Python offers multiple options for string formatting: <br>"
   ]
  },
  {
   "cell_type": "code",
   "execution_count": null,
   "id": "fca6a635-bed4-40ef-83a9-8b2ed569d377",
   "metadata": {},
   "outputs": [],
   "source": [
    "name = \"Python\"\n",
    "version = 3.9\n",
    "\n",
    "# f-Strings (modern)\n",
    "print(f\"{name} Version {version}\")\n",
    "\n",
    "# format() method\n",
    "print(\"{} Version {}\".format(name, version))\n",
    "\n",
    "# %-formatting (alt)\n",
    "print(\"%s Version %.1f\" % (name, version))"
   ]
  },
  {
   "cell_type": "markdown",
   "id": "10b8db54-ed3a-4309-9181-59e027b70876",
   "metadata": {},
   "source": [
    "## 7 Exception Handling\n",
    "\n",
    "Handling errors and exceptions in Python: <br>"
   ]
  },
  {
   "cell_type": "code",
   "execution_count": null,
   "id": "49f90ee3-9f3d-4cd2-969b-85bc7ed6df42",
   "metadata": {},
   "outputs": [],
   "source": [
    "# Try-Except Block\n",
    "try:\n",
    "    x = int(\"not_numerical\")\n",
    "except ValueError as e:\n",
    "    print(e)\n",
    "finally:\n",
    "    print(\"Will always run\")\n",
    "\n",
    "# Multiple Exception types\n",
    "def divide(a, b):\n",
    "    try:\n",
    "        return a / b\n",
    "    except ZeroDivisionError:\n",
    "        return \"Dividing by Zero!\"\n",
    "    except TypeError:\n",
    "        return \"Invalid Types!\""
   ]
  },
  {
   "cell_type": "markdown",
   "id": "5143ade9-01f2-4cfa-838b-8d94339e39e5",
   "metadata": {},
   "source": [
    "## Conclusion:\n",
    "\n",
    "Python offers: <br>\n",
    "- Clear, readable syntax <br>\n",
    "- Versatile data types and structures <br>\n",
    "- Flexible function definitions <br>\n",
    "- Efficient list operations <br>\n",
    "- Extensive standard library <br>\n",
    "\n",
    "In the next notebooks, we will build on these fundamentals and explore scientific libraries. <br>"
   ]
  }
 ],
 "metadata": {
  "kernelspec": {
   "display_name": "Python 3 (ipykernel)",
   "language": "python",
   "name": "python3"
  },
  "language_info": {
   "codemirror_mode": {
    "name": "ipython",
    "version": 3
   },
   "file_extension": ".py",
   "mimetype": "text/x-python",
   "name": "python",
   "nbconvert_exporter": "python",
   "pygments_lexer": "ipython3",
   "version": "3.11.13"
  }
 },
 "nbformat": 4,
 "nbformat_minor": 5
}
