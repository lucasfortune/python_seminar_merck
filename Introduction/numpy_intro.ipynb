{
 "cells": [
  {
   "cell_type": "markdown",
   "id": "085e5d13-c00e-4a86-90c3-6d11b3a56c51",
   "metadata": {},
   "source": [
    "# EDV-Coaching - Python\n",
    "## Introduction to NumPy\n",
    "***\n",
    "This notebook covers:\n",
    "- Creating and manipulating arrays\n",
    "- Array operations and broadcasting\n",
    "- Indexing and slicing\n",
    "- Mathematical functions\n",
    "- Linear algebra basics\n",
    "***\n",
    "# What is NumPy?\n",
    "\n",
    "NumPy (Numerical Python) is the foundation for scientific computing in Python. It introduces a powerful N-dimensional array object and provides tools for integrating C/C++ code. <br>\n",
    "\n",
    "Important features of NumPy are: <br>\n",
    "- Efficient storage and processing of large datasets <br>\n",
    "- Extensive mathematical functions for arrays <br>\n",
    "- Tools for linear algebra and random numbers <br>\n",
    "- Optimized performance through vectorized operations <br>\n",
    "- Foundation for many other scientific Python libraries <br>\n",
    "\n",
    "NumPy is essential for scientific calculations because it combines the speed of C with the user-friendliness of Python. <br>\n",
    "\n",
    "## 1 Creating NumPy Arrays\n",
    "\n",
    "NumPy's main data structure is the multidimensional array: <br>"
   ]
  },
  {
   "cell_type": "code",
   "execution_count": null,
   "id": "b53ea471-37d7-44d8-a0aa-0ddd8f2d12a3",
   "metadata": {},
   "outputs": [
    {
     "name": "stdout",
     "output_type": "stream",
     "text": [
      "2D Array:\n",
      "[[1 2 3]\n",
      " [4 5 6]]\n",
      "\n",
      "Einheitsmatrix:\n",
      "[[1. 0. 0.]\n",
      " [0. 1. 0.]\n",
      " [0. 0. 1.]]\n"
     ]
    }
   ],
   "source": [
    "import numpy as np\n",
    "\n",
    "# Create arrays from lists\n",
    "arr1d = np.array([1, 2, 3, 4, 5])\n",
    "arr2d = np.array([[1, 2, 3], [4, 5, 6]])\n",
    "\n",
    "# Create special arrays\n",
    "zero = np.zeros((3, 4))       # Array with zeroes\n",
    "ones = np.ones((2, 3))        # Array with ones\n",
    "identity = np.eye(3)           # 3x3 Identity matrix\n",
    "a_range = np.arange(0, 10, 2)   # Array [0, 2, 4, 6, 8]\n",
    "linear = np.linspace(0, 1, 5)   # 5 evenly distributed points\n",
    "\n",
    "print(\"2D Array:\")\n",
    "print(arr2d)\n",
    "print(\"\\Identity matrix:\")\n",
    "print(identität)"
   ]
  },
  {
   "cell_type": "markdown",
   "id": "a22b338d-63e0-4726-939b-6e3dd1314053",
   "metadata": {},
   "source": [
    "## 2 Array Operations and Broadcasting\n",
    "\n",
    "Numpy allows for efficient elementwise operations: <br>"
   ]
  },
  {
   "cell_type": "code",
   "execution_count": null,
   "id": "acddbf89-842c-4175-982d-eda0c060745a",
   "metadata": {},
   "outputs": [
    {
     "name": "stdout",
     "output_type": "stream",
     "text": [
      "Matrix + Vektor:\n",
      "[[11 22 33]\n",
      " [14 25 36]]\n"
     ]
    }
   ],
   "source": [
    "# Foundational Operations\n",
    "a = np.array([1, 2, 3])\n",
    "b = np.array([4, 5, 6])\n",
    "\n",
    "summation = a + b\n",
    "product = a * b\n",
    "square = a ** 2\n",
    "\n",
    "# Broadcasting (Arrays of different dimensions)\n",
    "matrix = np.array([[1, 2, 3],\n",
    "                  [4, 5, 6]])\n",
    "vector = np.array([10, 20, 30])\n",
    "\n",
    "# Broadcasting adds the vector to each row of the matrix\n",
    "result = matrix + vector\n",
    "\n",
    "print(\"Matrix + Vector:\")\n",
    "print(result)"
   ]
  },
  {
   "cell_type": "markdown",
   "id": "9d4639c1-77c0-4ec9-80fa-f363ef0c17f2",
   "metadata": {},
   "source": [
    "## 3 Indexing and Slicing\n",
    "\n",
    "Numpy offers advanced options for indexing and slicing: <br>"
   ]
  },
  {
   "cell_type": "code",
   "execution_count": null,
   "id": "be5895da-18e7-474e-aab2-0a43c6cbcb55",
   "metadata": {},
   "outputs": [
    {
     "name": "stdout",
     "output_type": "stream",
     "text": [
      "Original Array:\n",
      "[[ 1  2  3  4]\n",
      " [ 5  6  7  8]\n",
      " [ 9 10 11 12]]\n",
      "\n",
      "Gefilterter Block:\n",
      "[[2 3]\n",
      " [6 7]]\n"
     ]
    }
   ],
   "source": [
    "# Create an array\n",
    "arr = np.array([[1, 2, 3, 4],\n",
    "                [5, 6, 7, 8],\n",
    "                [9, 10, 11, 12]])\n",
    "\n",
    "# Single elements\n",
    "element = arr[1, 2]     # Row 1, Column 2\n",
    "\n",
    "# Slicing\n",
    "row = arr[1, :]       # Entire second row\n",
    "column = arr[:, 1]      # Entire second column\n",
    "block = arr[0:2, 1:3]   # 2x2 Block from center\n",
    "\n",
    "# Conditional Indexing\n",
    "mask = arr > 6\n",
    "filtered = arr[mask]  #  All elements larger than 6\n",
    "\n",
    "print(\"Original Array:\")\n",
    "print(arr)\n",
    "print(\"\\nFiltered Block:\")\n",
    "print(block)"
   ]
  },
  {
   "cell_type": "markdown",
   "id": "008782f7-9314-4482-8558-a93fce3a6d62",
   "metadata": {},
   "source": [
    "## 4 Mathematical Functions\n",
    "\n",
    "Numpy contains many mathematical functions: <br>"
   ]
  },
  {
   "cell_type": "code",
   "execution_count": null,
   "id": "250632e3-35ff-4290-8e84-598e88b2b27b",
   "metadata": {},
   "outputs": [
    {
     "name": "stdout",
     "output_type": "stream",
     "text": [
      "Mittelwert: 3.0\n",
      "Standardabweichung: 1.4142135623730951\n"
     ]
    }
   ],
   "source": [
    "# Array for Demonstrations\n",
    "x = np.linspace(0, 2*np.pi, 5)\n",
    "\n",
    "# Trigonometrical Functions\n",
    "sine = np.sin(x)\n",
    "cosine = np.cos(x)\n",
    "\n",
    "# Exponential and Logarithmic\n",
    "exp = np.exp(x)\n",
    "log = np.log(exp)    # Natural Logarithm\n",
    "\n",
    "# Statistics\n",
    "numbers = np.array([1, 2, 3, 4, 5])\n",
    "mean_value = np.mean(numbers)\n",
    "median = np.median(numbers)\n",
    "std_dev = np.std(numbers)\n",
    "\n",
    "print(f\"Mean: {mean_value}\")\n",
    "print(f\"Standard deviation: {std_dev}\")"
   ]
  },
  {
   "cell_type": "markdown",
   "id": "14aa2eab-8aeb-430d-9540-82ab3d672a72",
   "metadata": {},
   "source": [
    "## 5 Linear Algebra\n",
    "\n",
    "Numpy offers foundational functions for linear algebra: <br>"
   ]
  },
  {
   "cell_type": "code",
   "execution_count": null,
   "id": "98542563-5484-40ae-8a0b-9c9e413a4ab8",
   "metadata": {},
   "outputs": [
    {
     "name": "stdout",
     "output_type": "stream",
     "text": [
      "Matrix A:\n",
      "[[1 2]\n",
      " [3 4]]\n",
      "\n",
      "Inverse von A:\n",
      "[[-2.   1. ]\n",
      " [ 1.5 -0.5]]\n",
      "\n",
      "Eigenwerte von A:\n",
      "[-0.37228132  5.37228132]\n"
     ]
    }
   ],
   "source": [
    "# Create matrices\n",
    "A = np.array([[1, 2], [3, 4]])\n",
    "B = np.array([[5, 6], [7, 8]])\n",
    "\n",
    "# Matrix operations\n",
    "product = np.dot(A, B)      # Matrix multiplication\n",
    "determinant = np.linalg.det(A)\n",
    "inverse = np.linalg.inv(A)\n",
    "eigenvalues = np.linalg.eigvals(A)\n",
    "\n",
    "print(\"Matrix A:\")\n",
    "print(A)\n",
    "print(\"\\nInverse of A:\")\n",
    "print(inverse)\n",
    "print(\"\\nEigenvalues of A:\")\n",
    "print(eigenwerte)"
   ]
  },
  {
   "cell_type": "markdown",
   "id": "792f2ad3-efa6-47dd-96d0-5782f8ff5577",
   "metadata": {},
   "source": [
    "## 6 Array Manipulation\n",
    "\n",
    "Numpy offers various options for array manipulation: <br>"
   ]
  },
  {
   "cell_type": "code",
   "execution_count": null,
   "id": "9f43c7fd-5dd5-4b23-82a5-f571564bc9b8",
   "metadata": {},
   "outputs": [
    {
     "name": "stdout",
     "output_type": "stream",
     "text": [
      "Umgeformte Matrix:\n",
      "[[ 0  1  2  3]\n",
      " [ 4  5  6  7]\n",
      " [ 8  9 10 11]]\n",
      "\n",
      "Vertikal gestapelt:\n",
      "[[1 2 3]\n",
      " [4 5 6]]\n"
     ]
    }
   ],
   "source": [
    "# Create array\n",
    "arr = np.arange(12)\n",
    "\n",
    "# Reshape\n",
    "matrix = arr.reshape(3, 4)  # 3x4 Matrix\n",
    "transposed = matrix.T     # transposed\n",
    "\n",
    "# Connect arrays\n",
    "a = np.array([1, 2, 3])\n",
    "b = np.array([4, 5, 6])\n",
    "\n",
    "vertical = np.vstack((a, b))    # Stack vertically\n",
    "horizontal = np.hstack((a, b))  # Stack horizotally\n",
    "\n",
    "print(\"Reshaped Matrix:\")\n",
    "print(matrix)\n",
    "print(\"\\nVertically stacked:\")\n",
    "print(vertical)"
   ]
  },
  {
   "cell_type": "markdown",
   "id": "9a5f7549-48ec-4d3f-a1b5-817eb512c41c",
   "metadata": {},
   "source": [
    "## 7 Random numbers\n",
    "\n",
    "Numpy has a module for random numbers: <br>"
   ]
  },
  {
   "cell_type": "code",
   "execution_count": null,
   "id": "9a3f25f6-a53a-4a8f-a83c-2da4d60cddb3",
   "metadata": {},
   "outputs": [],
   "source": [
    "# Uniform distribution\n",
    "random_uniform = np.random.rand(3, 3)\n",
    "\n",
    "# Normal distribution\n",
    "random_normal = np.random.randn(3, 3)\n",
    "\n",
    "# Random integers\n",
    "random_int = np.random.randint(0, 10, size=(3, 3))\n",
    "\n",
    "print(\"Matrix, normal distribution:\")\n",
    "print(random_normal)"
   ]
  },
  {
   "cell_type": "markdown",
   "id": "b342eb06-7c85-4612-9bbd-8b64729d39d8",
   "metadata": {},
   "source": [
    "## Conclusion:\n",
    "\n",
    "NumPy offers: <br>\n",
    "- Efficient array operations <br>\n",
    "- Extensive mathematical functions <br>\n",
    "- Advanced indexing capabilities <br>\n",
    "- Basic linear algebra <br>\n",
    "- Simple array manipulation <br>\n",
    "\n",
    "These features form the foundation for scientific computing in Python. <br>"
   ]
  }
 ],
 "metadata": {
  "kernelspec": {
   "display_name": "Python 3 (ipykernel)",
   "language": "python",
   "name": "python3"
  },
  "language_info": {
   "codemirror_mode": {
    "name": "ipython",
    "version": 3
   },
   "file_extension": ".py",
   "mimetype": "text/x-python",
   "name": "python",
   "nbconvert_exporter": "python",
   "pygments_lexer": "ipython3",
   "version": "3.11.0"
  }
 },
 "nbformat": 4,
 "nbformat_minor": 5
}
